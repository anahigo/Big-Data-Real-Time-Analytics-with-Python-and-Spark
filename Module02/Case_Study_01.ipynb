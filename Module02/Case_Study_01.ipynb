{
 "cells": [
  {
   "cell_type": "markdown",
   "metadata": {
    "id": "mtRLg4-dHAq5"
   },
   "source": [
    "# Big Data Real-Time Analytics with Python and Spark"
   ]
  },
  {
   "cell_type": "markdown",
   "metadata": {
    "id": "Zt4dzSb7HB8B"
   },
   "source": [
    "## Data Manipulation in Python with Numpy"
   ]
  },
  {
   "cell_type": "markdown",
   "metadata": {},
   "source": [
    "### Estudo de Caso 1"
   ]
  },
  {
   "cell_type": "markdown",
   "metadata": {
    "id": "iMduvvUHwhMO"
   },
   "source": [
    "For this Case Study we will work with real data publicly available at the link below:\n",
    "\n",
    "https://www.openintro.org/data/index.php?data=loans_full_schema\n",
    "\n",
    "In addition, we will use a dataset with the dollar exchange rate in relation to the Euro. We extracted a small sample of data from the website:\n",
    "\n",
    "https://finance.yahoo.com. \n"
   ]
  },
  {
   "cell_type": "code",
   "execution_count": 480,
   "metadata": {},
   "outputs": [
    {
     "name": "stdout",
     "output_type": "stream",
     "text": [
      "Python Language Version Used in This Jupyter Notebook: 3.11.5\n"
     ]
    }
   ],
   "source": [
    "from platform import python_version\n",
    "print('Python Language Version Used in This Jupyter Notebook:', python_version())"
   ]
  },
  {
   "cell_type": "code",
   "execution_count": 481,
   "metadata": {},
   "outputs": [],
   "source": [
    "import numpy as np\n",
    "import warnings\n",
    "warnings.filterwarnings('ignore')"
   ]
  },
  {
   "cell_type": "code",
   "execution_count": 482,
   "metadata": {
    "executionInfo": {
     "elapsed": 5,
     "status": "ok",
     "timestamp": 1706662555250,
     "user": {
      "displayName": "Ana Higo",
      "userId": "15754586142925589414"
     },
     "user_tz": 180
    },
    "id": "fhwli2yTYm5o"
   },
   "outputs": [],
   "source": [
    "np.set_printoptions(suppress = True, linewidth = 200, precision = 2)"
   ]
  },
  {
   "cell_type": "markdown",
   "metadata": {
    "id": "1OKLBhL2Y8Zx"
   },
   "source": [
    "### Loading the Dataset"
   ]
  },
  {
   "cell_type": "code",
   "execution_count": 483,
   "metadata": {
    "executionInfo": {
     "elapsed": 795,
     "status": "ok",
     "timestamp": 1706662556040,
     "user": {
      "displayName": "Ana Higo",
      "userId": "15754586142925589414"
     },
     "user_tz": 180
    },
    "id": "JXcAR5OUY7Iu"
   },
   "outputs": [],
   "source": [
    "data = np.genfromtxt(\"dataset/dataset1.csv\",\n",
    "                      delimiter = ';',\n",
    "                      skip_header = 1,\n",
    "                      autostrip = True,\n",
    "                      encoding = 'cp1252')"
   ]
  },
  {
   "cell_type": "code",
   "execution_count": 484,
   "metadata": {
    "colab": {
     "base_uri": "https://localhost:8080/"
    },
    "executionInfo": {
     "elapsed": 26,
     "status": "ok",
     "timestamp": 1706662556525,
     "user": {
      "displayName": "Ana Higo",
      "userId": "15754586142925589414"
     },
     "user_tz": 180
    },
    "id": "Bme-utKbZpuZ",
    "outputId": "936bb5eb-8838-49c3-f2ba-ae022d4d111d"
   },
   "outputs": [
    {
     "data": {
      "text/plain": [
       "numpy.ndarray"
      ]
     },
     "execution_count": 484,
     "metadata": {},
     "output_type": "execute_result"
    }
   ],
   "source": [
    "type(data)"
   ]
  },
  {
   "cell_type": "code",
   "execution_count": 485,
   "metadata": {
    "colab": {
     "base_uri": "https://localhost:8080/"
    },
    "executionInfo": {
     "elapsed": 22,
     "status": "ok",
     "timestamp": 1706662556526,
     "user": {
      "displayName": "Ana Higo",
      "userId": "15754586142925589414"
     },
     "user_tz": 180
    },
    "id": "2m_z_pRHZsng",
    "outputId": "56d4a376-40a5-4952-944d-016c2d04db89"
   },
   "outputs": [
    {
     "data": {
      "text/plain": [
       "(10000, 14)"
      ]
     },
     "execution_count": 485,
     "metadata": {},
     "output_type": "execute_result"
    }
   ],
   "source": [
    "data.shape"
   ]
  },
  {
   "cell_type": "code",
   "execution_count": 486,
   "metadata": {
    "colab": {
     "base_uri": "https://localhost:8080/"
    },
    "executionInfo": {
     "elapsed": 19,
     "status": "ok",
     "timestamp": 1706662556526,
     "user": {
      "displayName": "Ana Higo",
      "userId": "15754586142925589414"
     },
     "user_tz": 180
    },
    "id": "fPt968ynZ2B3",
    "outputId": "665aa071-a6c9-4d1a-c8d7-95a180fb7dfc",
    "scrolled": true
   },
   "outputs": [
    {
     "data": {
      "text/plain": [
       "array([[48010226.  ,         nan,    35000.  , ...,         nan,         nan,     9452.96],\n",
       "       [57693261.  ,         nan,    30000.  , ...,         nan,         nan,     4679.7 ],\n",
       "       [59432726.  ,         nan,    15000.  , ...,         nan,         nan,     1969.83],\n",
       "       ...,\n",
       "       [50415990.  ,         nan,    10000.  , ...,         nan,         nan,     2185.64],\n",
       "       [46154151.  ,         nan,         nan, ...,         nan,         nan,     3199.4 ],\n",
       "       [66055249.  ,         nan,    10000.  , ...,         nan,         nan,      301.9 ]])"
      ]
     },
     "execution_count": 486,
     "metadata": {},
     "output_type": "execute_result"
    }
   ],
   "source": [
    "data.view()"
   ]
  },
  {
   "cell_type": "markdown",
   "metadata": {
    "id": "vK1eUHjHZ1j0"
   },
   "source": [
    "#### Checking for Missing Values"
   ]
  },
  {
   "cell_type": "code",
   "execution_count": 487,
   "metadata": {
    "colab": {
     "base_uri": "https://localhost:8080/"
    },
    "executionInfo": {
     "elapsed": 17,
     "status": "ok",
     "timestamp": 1706662556526,
     "user": {
      "displayName": "Ana Higo",
      "userId": "15754586142925589414"
     },
     "user_tz": 180
    },
    "id": "4_w_04dJaKBq",
    "outputId": "1c9297ca-08a7-47b8-858b-2fdaf1935784"
   },
   "outputs": [
    {
     "data": {
      "text/plain": [
       "88005"
      ]
     },
     "execution_count": 487,
     "metadata": {},
     "output_type": "execute_result"
    }
   ],
   "source": [
    "np.isnan(data).sum()"
   ]
  },
  {
   "cell_type": "code",
   "execution_count": 488,
   "metadata": {
    "colab": {
     "base_uri": "https://localhost:8080/"
    },
    "executionInfo": {
     "elapsed": 15,
     "status": "ok",
     "timestamp": 1706662556526,
     "user": {
      "displayName": "Ana Higo",
      "userId": "15754586142925589414"
     },
     "user_tz": 180
    },
    "id": "gVhDx49_aVqj",
    "outputId": "7590350e-afdf-48f0-af38-a8c1a78c96ca"
   },
   "outputs": [
    {
     "name": "stdout",
     "output_type": "stream",
     "text": [
      "68616520.0\n"
     ]
    }
   ],
   "source": [
    "wild_value = np.nanmax(data) + 1\n",
    "print(wild_value)"
   ]
  },
  {
   "cell_type": "code",
   "execution_count": 489,
   "metadata": {
    "colab": {
     "base_uri": "https://localhost:8080/"
    },
    "executionInfo": {
     "elapsed": 13,
     "status": "ok",
     "timestamp": 1706662556526,
     "user": {
      "displayName": "Ana Higo",
      "userId": "15754586142925589414"
     },
     "user_tz": 180
    },
    "id": "8rOpAA1kap22",
    "outputId": "5a82d316-c392-45fa-b20d-5fb8f467a428"
   },
   "outputs": [
    {
     "name": "stdout",
     "output_type": "stream",
     "text": [
      "[54015809.19         nan    15273.46         nan    15311.04         nan       16.62      440.92         nan         nan         nan         nan         nan     3143.85]\n"
     ]
    }
   ],
   "source": [
    "average_ignoring_nan = np.nanmean(data, axis = 0)\n",
    "print(average_ignoring_nan)"
   ]
  },
  {
   "cell_type": "code",
   "execution_count": 490,
   "metadata": {
    "colab": {
     "base_uri": "https://localhost:8080/"
    },
    "executionInfo": {
     "elapsed": 11,
     "status": "ok",
     "timestamp": 1706662556526,
     "user": {
      "displayName": "Ana Higo",
      "userId": "15754586142925589414"
     },
     "user_tz": 180
    },
    "id": "n0dcOzRWa6F0",
    "outputId": "70be157c-2228-4a99-be24-60f654203a82"
   },
   "outputs": [
    {
     "data": {
      "text/plain": [
       "array([ 1,  3,  5,  8,  9, 10, 11, 12], dtype=int64)"
      ]
     },
     "execution_count": 490,
     "metadata": {},
     "output_type": "execute_result"
    }
   ],
   "source": [
    "strings_columns = np.argwhere(np.isnan(average_ignoring_nan)).squeeze()\n",
    "strings_columns"
   ]
  },
  {
   "cell_type": "code",
   "execution_count": 491,
   "metadata": {
    "colab": {
     "base_uri": "https://localhost:8080/"
    },
    "executionInfo": {
     "elapsed": 10,
     "status": "ok",
     "timestamp": 1706662556527,
     "user": {
      "displayName": "Ana Higo",
      "userId": "15754586142925589414"
     },
     "user_tz": 180
    },
    "id": "gEmD-LWPbH6A",
    "outputId": "3a504ff5-b5bc-40ee-f5ab-ca0c0f751cf5"
   },
   "outputs": [
    {
     "data": {
      "text/plain": [
       "array([ 0,  2,  4,  6,  7, 13], dtype=int64)"
      ]
     },
     "execution_count": 491,
     "metadata": {},
     "output_type": "execute_result"
    }
   ],
   "source": [
    "numeric_columns = np.argwhere(np.isnan(average_ignoring_nan) == False).squeeze()\n",
    "numeric_columns"
   ]
  },
  {
   "cell_type": "code",
   "execution_count": 492,
   "metadata": {
    "colab": {
     "base_uri": "https://localhost:8080/"
    },
    "executionInfo": {
     "elapsed": 8,
     "status": "ok",
     "timestamp": 1706662556527,
     "user": {
      "displayName": "Ana Higo",
      "userId": "15754586142925589414"
     },
     "user_tz": 180
    },
    "id": "bIVOUJr1bQqe",
    "outputId": "910b2d6c-560c-4cfe-9241-7771b650bf65"
   },
   "outputs": [
    {
     "data": {
      "text/plain": [
       "array([['May-15', 'Current', '36 months', ..., 'Verified', 'https://www.lendingclub.com/browse/loanDetail.action?loan_id=48010226', 'CA'],\n",
       "       ['', 'Current', '36 months', ..., 'Source Verified', 'https://www.lendingclub.com/browse/loanDetail.action?loan_id=57693261', 'NY'],\n",
       "       ['Sep-15', 'Current', '36 months', ..., 'Verified', 'https://www.lendingclub.com/browse/loanDetail.action?loan_id=59432726', 'PA'],\n",
       "       ...,\n",
       "       ['Jun-15', 'Current', '36 months', ..., 'Source Verified', 'https://www.lendingclub.com/browse/loanDetail.action?loan_id=50415990', 'CA'],\n",
       "       ['Apr-15', 'Current', '36 months', ..., 'Source Verified', 'https://www.lendingclub.com/browse/loanDetail.action?loan_id=46154151', 'OH'],\n",
       "       ['Dec-15', 'Current', '36 months', ..., '', 'https://www.lendingclub.com/browse/loanDetail.action?loan_id=66055249', 'IL']], dtype='<U69')"
      ]
     },
     "execution_count": 492,
     "metadata": {},
     "output_type": "execute_result"
    }
   ],
   "source": [
    "arr_strings = np.genfromtxt(\"dataset/dataset1.csv\",\n",
    "                            delimiter = ';',\n",
    "                            skip_header = 1,\n",
    "                            autostrip = True,\n",
    "                            usecols = strings_columns,\n",
    "                            dtype = str,\n",
    "                            encoding = 'cp1252')\n",
    "arr_strings"
   ]
  },
  {
   "cell_type": "code",
   "execution_count": 493,
   "metadata": {
    "colab": {
     "base_uri": "https://localhost:8080/"
    },
    "executionInfo": {
     "elapsed": 291,
     "status": "ok",
     "timestamp": 1706662556812,
     "user": {
      "displayName": "Ana Higo",
      "userId": "15754586142925589414"
     },
     "user_tz": 180
    },
    "id": "GXL4T2m1bsiB",
    "outputId": "6f7e2ca9-bd3f-4280-e1d1-f6a6377a0245"
   },
   "outputs": [
    {
     "data": {
      "text/plain": [
       "array([[48010226.  ,    35000.  ,    35000.  ,       13.33,     1184.86,     9452.96],\n",
       "       [57693261.  ,    30000.  ,    30000.  , 68616520.  ,      938.57,     4679.7 ],\n",
       "       [59432726.  ,    15000.  ,    15000.  , 68616520.  ,      494.86,     1969.83],\n",
       "       ...,\n",
       "       [50415990.  ,    10000.  ,    10000.  , 68616520.  , 68616520.  ,     2185.64],\n",
       "       [46154151.  , 68616520.  ,    10000.  ,       16.55,      354.3 ,     3199.4 ],\n",
       "       [66055249.  ,    10000.  ,    10000.  , 68616520.  ,      309.97,      301.9 ]])"
      ]
     },
     "execution_count": 493,
     "metadata": {},
     "output_type": "execute_result"
    }
   ],
   "source": [
    "arr_numeric = np.genfromtxt(\"dataset/dataset1.csv\",\n",
    "                            delimiter = ';',\n",
    "                            autostrip = True,\n",
    "                            skip_header = 1,\n",
    "                            usecols = numeric_columns,\n",
    "                            filling_values = wild_value,\n",
    "                            encoding = 'cp1252')\n",
    "arr_numeric"
   ]
  },
  {
   "cell_type": "code",
   "execution_count": 494,
   "metadata": {
    "colab": {
     "base_uri": "https://localhost:8080/"
    },
    "executionInfo": {
     "elapsed": 6,
     "status": "ok",
     "timestamp": 1706662556813,
     "user": {
      "displayName": "Ana Higo",
      "userId": "15754586142925589414"
     },
     "user_tz": 180
    },
    "id": "fcbpSZhoBjk-",
    "outputId": "fefd23f4-0e11-4be4-f338-168f97751e05"
   },
   "outputs": [
    {
     "data": {
      "text/plain": [
       "array(['id', 'issue_d', 'loan_amnt', 'loan_status', 'funded_amnt', 'term', 'int_rate', 'installment', 'grade', 'sub_grade', 'verification_status', 'url', 'addr_state', 'total_pymnt'], dtype='<U19')"
      ]
     },
     "execution_count": 494,
     "metadata": {},
     "output_type": "execute_result"
    }
   ],
   "source": [
    "arr_names_columns = np.genfromtxt(\"dataset/dataset1.csv\",\n",
    "                                  delimiter = ';',\n",
    "                                  autostrip = True,\n",
    "                                  skip_footer = data.shape[0],\n",
    "                                  dtype = str,\n",
    "                                  encoding = 'cp1252')\n",
    "arr_names_columns"
   ]
  },
  {
   "cell_type": "code",
   "execution_count": 495,
   "metadata": {
    "executionInfo": {
     "elapsed": 3,
     "status": "ok",
     "timestamp": 1706662556813,
     "user": {
      "displayName": "Ana Higo",
      "userId": "15754586142925589414"
     },
     "user_tz": 180
    },
    "id": "9cmbWQ_qCHgA"
   },
   "outputs": [],
   "source": [
    "header_strings, header_numeric = arr_names_columns[strings_columns], arr_names_columns[numeric_columns]"
   ]
  },
  {
   "cell_type": "code",
   "execution_count": 496,
   "metadata": {
    "colab": {
     "base_uri": "https://localhost:8080/"
    },
    "executionInfo": {
     "elapsed": 11,
     "status": "ok",
     "timestamp": 1706662557329,
     "user": {
      "displayName": "Ana Higo",
      "userId": "15754586142925589414"
     },
     "user_tz": 180
    },
    "id": "2LpXxyH9CXFF",
    "outputId": "8fd7ebff-5ef3-43da-924e-4d89b3ac895e"
   },
   "outputs": [
    {
     "data": {
      "text/plain": [
       "array(['issue_d', 'loan_status', 'term', 'grade', 'sub_grade', 'verification_status', 'url', 'addr_state'], dtype='<U19')"
      ]
     },
     "execution_count": 496,
     "metadata": {},
     "output_type": "execute_result"
    }
   ],
   "source": [
    "header_strings"
   ]
  },
  {
   "cell_type": "code",
   "execution_count": 497,
   "metadata": {
    "colab": {
     "base_uri": "https://localhost:8080/"
    },
    "executionInfo": {
     "elapsed": 9,
     "status": "ok",
     "timestamp": 1706662557329,
     "user": {
      "displayName": "Ana Higo",
      "userId": "15754586142925589414"
     },
     "user_tz": 180
    },
    "id": "UaW46pjVCW41",
    "outputId": "dc9ecbdf-9193-4353-c402-638917142f3e"
   },
   "outputs": [
    {
     "data": {
      "text/plain": [
       "array(['id', 'loan_amnt', 'funded_amnt', 'int_rate', 'installment', 'total_pymnt'], dtype='<U19')"
      ]
     },
     "execution_count": 497,
     "metadata": {},
     "output_type": "execute_result"
    }
   ],
   "source": [
    "header_numeric"
   ]
  },
  {
   "cell_type": "markdown",
   "metadata": {
    "id": "_q89FnAaCgh5"
   },
   "source": [
    "### Checkpoint function\n",
    "\n",
    "**Checkpoint 1**"
   ]
  },
  {
   "cell_type": "code",
   "execution_count": 498,
   "metadata": {
    "executionInfo": {
     "elapsed": 8,
     "status": "ok",
     "timestamp": 1706662557330,
     "user": {
      "displayName": "Ana Higo",
      "userId": "15754586142925589414"
     },
     "user_tz": 180
    },
    "id": "YiMku00QClXZ"
   },
   "outputs": [],
   "source": [
    "def checkpoint(file_name, checkpoint_header, checkpoint_data):\n",
    "    np.savez(file_name, header = checkpoint_header, data = checkpoint_data)\n",
    "    checkpoint_variable = np.load(file_name + \".npz\")\n",
    "    return(checkpoint_variable)"
   ]
  },
  {
   "cell_type": "code",
   "execution_count": 499,
   "metadata": {
    "executionInfo": {
     "elapsed": 7,
     "status": "ok",
     "timestamp": 1706662557330,
     "user": {
      "displayName": "Ana Higo",
      "userId": "15754586142925589414"
     },
     "user_tz": 180
    },
    "id": "w9-wxHkyCrrv"
   },
   "outputs": [],
   "source": [
    "initial_checkpoint = checkpoint(\"dataset/generated_data/initial_checkpoint\", header_strings, arr_strings)"
   ]
  },
  {
   "cell_type": "code",
   "execution_count": 500,
   "metadata": {
    "colab": {
     "base_uri": "https://localhost:8080/"
    },
    "executionInfo": {
     "elapsed": 7,
     "status": "ok",
     "timestamp": 1706662557330,
     "user": {
      "displayName": "Ana Higo",
      "userId": "15754586142925589414"
     },
     "user_tz": 180
    },
    "id": "8LIspLxHC3rn",
    "outputId": "09d6fe82-9b60-4704-d858-e88fce633549"
   },
   "outputs": [
    {
     "data": {
      "text/plain": [
       "array([['May-15', 'Current', '36 months', ..., 'Verified', 'https://www.lendingclub.com/browse/loanDetail.action?loan_id=48010226', 'CA'],\n",
       "       ['', 'Current', '36 months', ..., 'Source Verified', 'https://www.lendingclub.com/browse/loanDetail.action?loan_id=57693261', 'NY'],\n",
       "       ['Sep-15', 'Current', '36 months', ..., 'Verified', 'https://www.lendingclub.com/browse/loanDetail.action?loan_id=59432726', 'PA'],\n",
       "       ...,\n",
       "       ['Jun-15', 'Current', '36 months', ..., 'Source Verified', 'https://www.lendingclub.com/browse/loanDetail.action?loan_id=50415990', 'CA'],\n",
       "       ['Apr-15', 'Current', '36 months', ..., 'Source Verified', 'https://www.lendingclub.com/browse/loanDetail.action?loan_id=46154151', 'OH'],\n",
       "       ['Dec-15', 'Current', '36 months', ..., '', 'https://www.lendingclub.com/browse/loanDetail.action?loan_id=66055249', 'IL']], dtype='<U69')"
      ]
     },
     "execution_count": 500,
     "metadata": {},
     "output_type": "execute_result"
    }
   ],
   "source": [
    "initial_checkpoint['data']"
   ]
  },
  {
   "cell_type": "code",
   "execution_count": 501,
   "metadata": {
    "colab": {
     "base_uri": "https://localhost:8080/"
    },
    "executionInfo": {
     "elapsed": 477,
     "status": "ok",
     "timestamp": 1706662557803,
     "user": {
      "displayName": "Ana Higo",
      "userId": "15754586142925589414"
     },
     "user_tz": 180
    },
    "id": "hhWTI6WUC85K",
    "outputId": "4726c844-5cb6-4cc3-b6fa-495840526442"
   },
   "outputs": [
    {
     "data": {
      "text/plain": [
       "True"
      ]
     },
     "execution_count": 501,
     "metadata": {},
     "output_type": "execute_result"
    }
   ],
   "source": [
    "np.array_equal(initial_checkpoint['data'], arr_strings)"
   ]
  },
  {
   "cell_type": "markdown",
   "metadata": {
    "id": "jTKUyhxoEIQo"
   },
   "source": [
    "### Manipulating String Columns"
   ]
  },
  {
   "cell_type": "code",
   "execution_count": 502,
   "metadata": {
    "colab": {
     "base_uri": "https://localhost:8080/"
    },
    "executionInfo": {
     "elapsed": 18,
     "status": "ok",
     "timestamp": 1706662557803,
     "user": {
      "displayName": "Ana Higo",
      "userId": "15754586142925589414"
     },
     "user_tz": 180
    },
    "id": "2UI2Y50yEJ3g",
    "outputId": "84f4150c-a1fc-48b5-f94f-cf9d6b574c77"
   },
   "outputs": [
    {
     "data": {
      "text/plain": [
       "array(['issue_d', 'loan_status', 'term', 'grade', 'sub_grade', 'verification_status', 'url', 'addr_state'], dtype='<U19')"
      ]
     },
     "execution_count": 502,
     "metadata": {},
     "output_type": "execute_result"
    }
   ],
   "source": [
    "header_strings"
   ]
  },
  {
   "cell_type": "markdown",
   "metadata": {
    "id": "6I55cu7iVOFa"
   },
   "source": [
    "#### Pre-Processing the issue_d Variable with Label Encoding"
   ]
  },
  {
   "cell_type": "code",
   "execution_count": 503,
   "metadata": {
    "colab": {
     "base_uri": "https://localhost:8080/"
    },
    "executionInfo": {
     "elapsed": 15,
     "status": "ok",
     "timestamp": 1706662557803,
     "user": {
      "displayName": "Ana Higo",
      "userId": "15754586142925589414"
     },
     "user_tz": 180
    },
    "id": "vLCYvxWVEN-d",
    "outputId": "77490b52-81fd-4149-e6f4-96dd51249954"
   },
   "outputs": [
    {
     "data": {
      "text/plain": [
       "array(['issue_date', 'loan_status', 'term', 'grade', 'sub_grade', 'verification_status', 'url', 'addr_state'], dtype='<U19')"
      ]
     },
     "execution_count": 503,
     "metadata": {},
     "output_type": "execute_result"
    }
   ],
   "source": [
    "header_strings[0] = \"issue_date\"\n",
    "header_strings"
   ]
  },
  {
   "cell_type": "code",
   "execution_count": 504,
   "metadata": {
    "colab": {
     "base_uri": "https://localhost:8080/"
    },
    "executionInfo": {
     "elapsed": 12,
     "status": "ok",
     "timestamp": 1706662557804,
     "user": {
      "displayName": "Ana Higo",
      "userId": "15754586142925589414"
     },
     "user_tz": 180
    },
    "id": "_tB5KV4iER4t",
    "outputId": "affe8357-bb5d-4835-f666-30cb13f87011"
   },
   "outputs": [
    {
     "data": {
      "text/plain": [
       "array([['May-15', 'Current', '36 months', ..., 'Verified', 'https://www.lendingclub.com/browse/loanDetail.action?loan_id=48010226', 'CA'],\n",
       "       ['', 'Current', '36 months', ..., 'Source Verified', 'https://www.lendingclub.com/browse/loanDetail.action?loan_id=57693261', 'NY'],\n",
       "       ['Sep-15', 'Current', '36 months', ..., 'Verified', 'https://www.lendingclub.com/browse/loanDetail.action?loan_id=59432726', 'PA'],\n",
       "       ...,\n",
       "       ['Jun-15', 'Current', '36 months', ..., 'Source Verified', 'https://www.lendingclub.com/browse/loanDetail.action?loan_id=50415990', 'CA'],\n",
       "       ['Apr-15', 'Current', '36 months', ..., 'Source Verified', 'https://www.lendingclub.com/browse/loanDetail.action?loan_id=46154151', 'OH'],\n",
       "       ['Dec-15', 'Current', '36 months', ..., '', 'https://www.lendingclub.com/browse/loanDetail.action?loan_id=66055249', 'IL']], dtype='<U69')"
      ]
     },
     "execution_count": 504,
     "metadata": {},
     "output_type": "execute_result"
    }
   ],
   "source": [
    "arr_strings"
   ]
  },
  {
   "cell_type": "code",
   "execution_count": 505,
   "metadata": {
    "colab": {
     "base_uri": "https://localhost:8080/"
    },
    "executionInfo": {
     "elapsed": 9,
     "status": "ok",
     "timestamp": 1706662557804,
     "user": {
      "displayName": "Ana Higo",
      "userId": "15754586142925589414"
     },
     "user_tz": 180
    },
    "id": "_Eap8ROgVRKI",
    "outputId": "6d6fc52f-43a4-4871-f2f2-68d2fe644cba"
   },
   "outputs": [
    {
     "data": {
      "text/plain": [
       "array(['', 'Apr-15', 'Aug-15', 'Dec-15', 'Feb-15', 'Jan-15', 'Jul-15', 'Jun-15', 'Mar-15', 'May-15', 'Nov-15', 'Oct-15', 'Sep-15'], dtype='<U69')"
      ]
     },
     "execution_count": 505,
     "metadata": {},
     "output_type": "execute_result"
    }
   ],
   "source": [
    "np.unique(arr_strings[:,0])"
   ]
  },
  {
   "cell_type": "code",
   "execution_count": 506,
   "metadata": {
    "executionInfo": {
     "elapsed": 5,
     "status": "ok",
     "timestamp": 1706662557804,
     "user": {
      "displayName": "Ana Higo",
      "userId": "15754586142925589414"
     },
     "user_tz": 180
    },
    "id": "ua73P0R7Va5H"
   },
   "outputs": [],
   "source": [
    "arr_strings[:,0] = np.chararray.strip(arr_strings[:,0], \"-15\")"
   ]
  },
  {
   "cell_type": "code",
   "execution_count": 507,
   "metadata": {
    "colab": {
     "base_uri": "https://localhost:8080/"
    },
    "executionInfo": {
     "elapsed": 452,
     "status": "ok",
     "timestamp": 1706662558252,
     "user": {
      "displayName": "Ana Higo",
      "userId": "15754586142925589414"
     },
     "user_tz": 180
    },
    "id": "4Dj4aTvYVeZx",
    "outputId": "85834ab3-4cdc-4306-f481-758fb0f38319"
   },
   "outputs": [
    {
     "data": {
      "text/plain": [
       "array(['', 'Apr', 'Aug', 'Dec', 'Feb', 'Jan', 'Jul', 'Jun', 'Mar', 'May', 'Nov', 'Oct', 'Sep'], dtype='<U69')"
      ]
     },
     "execution_count": 507,
     "metadata": {},
     "output_type": "execute_result"
    }
   ],
   "source": [
    "np.unique(arr_strings[:,0])"
   ]
  },
  {
   "cell_type": "code",
   "execution_count": 508,
   "metadata": {
    "executionInfo": {
     "elapsed": 35,
     "status": "ok",
     "timestamp": 1706662558252,
     "user": {
      "displayName": "Ana Higo",
      "userId": "15754586142925589414"
     },
     "user_tz": 180
    },
    "id": "p5kylylQVkn_"
   },
   "outputs": [],
   "source": [
    "months = np.array(['', 'Jan', 'Feb', 'Mar', 'Apr', 'May', 'Jun', 'Jul', 'Aug', 'Sep', 'Oct', 'Nov', 'Dec'])"
   ]
  },
  {
   "cell_type": "code",
   "execution_count": 509,
   "metadata": {
    "executionInfo": {
     "elapsed": 35,
     "status": "ok",
     "timestamp": 1706662558253,
     "user": {
      "displayName": "Ana Higo",
      "userId": "15754586142925589414"
     },
     "user_tz": 180
    },
    "id": "jaLuq-bLV1vX"
   },
   "outputs": [],
   "source": [
    "for i in range(13):\n",
    "        arr_strings[:,0] = np.where(arr_strings[:,0] == months[i], i, arr_strings[:,0])"
   ]
  },
  {
   "cell_type": "code",
   "execution_count": 510,
   "metadata": {
    "colab": {
     "base_uri": "https://localhost:8080/"
    },
    "executionInfo": {
     "elapsed": 35,
     "status": "ok",
     "timestamp": 1706662558253,
     "user": {
      "displayName": "Ana Higo",
      "userId": "15754586142925589414"
     },
     "user_tz": 180
    },
    "id": "KvArTDLkV6nw",
    "outputId": "1112c59b-9e7a-4df6-db52-4ff0975e39ae"
   },
   "outputs": [
    {
     "data": {
      "text/plain": [
       "array(['0', '1', '10', '11', '12', '2', '3', '4', '5', '6', '7', '8', '9'], dtype='<U69')"
      ]
     },
     "execution_count": 510,
     "metadata": {},
     "output_type": "execute_result"
    }
   ],
   "source": [
    "np.unique(arr_strings[:,0])"
   ]
  },
  {
   "cell_type": "markdown",
   "metadata": {
    "id": "_bQltAEvV1JU"
   },
   "source": [
    "#### Pre-Processing the loan_status Variable with Binarization"
   ]
  },
  {
   "cell_type": "code",
   "execution_count": 511,
   "metadata": {
    "colab": {
     "base_uri": "https://localhost:8080/"
    },
    "executionInfo": {
     "elapsed": 30,
     "status": "ok",
     "timestamp": 1706662558253,
     "user": {
      "displayName": "Ana Higo",
      "userId": "15754586142925589414"
     },
     "user_tz": 180
    },
    "id": "SKJUz1usWdyh",
    "outputId": "ff62d4b9-c586-456c-c4ff-7fc5db744ea4"
   },
   "outputs": [
    {
     "data": {
      "text/plain": [
       "array(['issue_date', 'loan_status', 'term', 'grade', 'sub_grade', 'verification_status', 'url', 'addr_state'], dtype='<U19')"
      ]
     },
     "execution_count": 511,
     "metadata": {},
     "output_type": "execute_result"
    }
   ],
   "source": [
    "header_strings"
   ]
  },
  {
   "cell_type": "code",
   "execution_count": 512,
   "metadata": {
    "colab": {
     "base_uri": "https://localhost:8080/"
    },
    "executionInfo": {
     "elapsed": 27,
     "status": "ok",
     "timestamp": 1706662558253,
     "user": {
      "displayName": "Ana Higo",
      "userId": "15754586142925589414"
     },
     "user_tz": 180
    },
    "id": "MbJasFcsWg8_",
    "outputId": "46043693-b4a4-4521-e2d8-2ea434aa7e0f"
   },
   "outputs": [
    {
     "data": {
      "text/plain": [
       "array(['', 'Charged Off', 'Current', 'Default', 'Fully Paid', 'In Grace Period', 'Issued', 'Late (16-30 days)', 'Late (31-120 days)'], dtype='<U69')"
      ]
     },
     "execution_count": 512,
     "metadata": {},
     "output_type": "execute_result"
    }
   ],
   "source": [
    "np.unique(arr_strings[:,1])"
   ]
  },
  {
   "cell_type": "code",
   "execution_count": 513,
   "metadata": {
    "colab": {
     "base_uri": "https://localhost:8080/"
    },
    "executionInfo": {
     "elapsed": 24,
     "status": "ok",
     "timestamp": 1706662558253,
     "user": {
      "displayName": "Ana Higo",
      "userId": "15754586142925589414"
     },
     "user_tz": 180
    },
    "id": "JBZfsmBpWmMr",
    "outputId": "c2bf80af-ac69-4409-9f44-9232236d8788"
   },
   "outputs": [
    {
     "data": {
      "text/plain": [
       "9"
      ]
     },
     "execution_count": 513,
     "metadata": {},
     "output_type": "execute_result"
    }
   ],
   "source": [
    "np.unique(arr_strings[:,1]).size"
   ]
  },
  {
   "cell_type": "code",
   "execution_count": 514,
   "metadata": {
    "executionInfo": {
     "elapsed": 22,
     "status": "ok",
     "timestamp": 1706662558253,
     "user": {
      "displayName": "Ana Higo",
      "userId": "15754586142925589414"
     },
     "user_tz": 180
    },
    "id": "jpkgWYZPWo2W"
   },
   "outputs": [],
   "source": [
    "status_bad = np.array(['', 'Charged Off', 'Default', 'Late (31-120 days)'])"
   ]
  },
  {
   "cell_type": "code",
   "execution_count": 515,
   "metadata": {
    "executionInfo": {
     "elapsed": 21,
     "status": "ok",
     "timestamp": 1706662558253,
     "user": {
      "displayName": "Ana Higo",
      "userId": "15754586142925589414"
     },
     "user_tz": 180
    },
    "id": "vk7lwdsfWrMc"
   },
   "outputs": [],
   "source": [
    "arr_strings[:,1] = np.where(np.isin(arr_strings[:,1], status_bad),0,1)"
   ]
  },
  {
   "cell_type": "code",
   "execution_count": 516,
   "metadata": {
    "colab": {
     "base_uri": "https://localhost:8080/"
    },
    "executionInfo": {
     "elapsed": 22,
     "status": "ok",
     "timestamp": 1706662558254,
     "user": {
      "displayName": "Ana Higo",
      "userId": "15754586142925589414"
     },
     "user_tz": 180
    },
    "id": "JObo_ecEWtjS",
    "outputId": "65b00ec7-e420-41fb-a67a-0f2d6e22bf60"
   },
   "outputs": [
    {
     "data": {
      "text/plain": [
       "array(['0', '1'], dtype='<U69')"
      ]
     },
     "execution_count": 516,
     "metadata": {},
     "output_type": "execute_result"
    }
   ],
   "source": [
    "np.unique(arr_strings[:,1])"
   ]
  },
  {
   "cell_type": "markdown",
   "metadata": {
    "id": "aaZGViTyVN_d"
   },
   "source": [
    "#### Term Variable Pre-Processing with String Cleaning"
   ]
  },
  {
   "cell_type": "code",
   "execution_count": 517,
   "metadata": {
    "colab": {
     "base_uri": "https://localhost:8080/"
    },
    "executionInfo": {
     "elapsed": 19,
     "status": "ok",
     "timestamp": 1706662558254,
     "user": {
      "displayName": "Ana Higo",
      "userId": "15754586142925589414"
     },
     "user_tz": 180
    },
    "id": "wVIRwKVpW_rW",
    "outputId": "faf6c1fc-8a17-4cc9-9abb-17dce98c0c08"
   },
   "outputs": [
    {
     "data": {
      "text/plain": [
       "array(['0', '1'], dtype='<U69')"
      ]
     },
     "execution_count": 517,
     "metadata": {},
     "output_type": "execute_result"
    }
   ],
   "source": [
    "np.unique(arr_strings[:,1])"
   ]
  },
  {
   "cell_type": "code",
   "execution_count": 518,
   "metadata": {
    "colab": {
     "base_uri": "https://localhost:8080/"
    },
    "executionInfo": {
     "elapsed": 15,
     "status": "ok",
     "timestamp": 1706662558254,
     "user": {
      "displayName": "Ana Higo",
      "userId": "15754586142925589414"
     },
     "user_tz": 180
    },
    "id": "hYquXYeu0pDJ",
    "outputId": "2d9ccae6-856b-48b3-be45-da64a0db1bb7"
   },
   "outputs": [
    {
     "data": {
      "text/plain": [
       "array(['', '36 months', '60 months'], dtype='<U69')"
      ]
     },
     "execution_count": 518,
     "metadata": {},
     "output_type": "execute_result"
    }
   ],
   "source": [
    "np.unique(arr_strings[:,2])"
   ]
  },
  {
   "cell_type": "code",
   "execution_count": 519,
   "metadata": {
    "colab": {
     "base_uri": "https://localhost:8080/"
    },
    "executionInfo": {
     "elapsed": 12,
     "status": "ok",
     "timestamp": 1706662558254,
     "user": {
      "displayName": "Ana Higo",
      "userId": "15754586142925589414"
     },
     "user_tz": 180
    },
    "id": "tPYdSf250rNn",
    "outputId": "4a240925-ba92-47eb-e6c1-69e88dc019e6"
   },
   "outputs": [
    {
     "data": {
      "text/plain": [
       "array(['36', '36', '36', ..., '36', '36', '36'], dtype='<U69')"
      ]
     },
     "execution_count": 519,
     "metadata": {},
     "output_type": "execute_result"
    }
   ],
   "source": [
    "arr_strings[:,2] = np.chararray.strip(arr_strings[:,2], \" months\")\n",
    "arr_strings[:,2]"
   ]
  },
  {
   "cell_type": "code",
   "execution_count": 520,
   "metadata": {
    "executionInfo": {
     "elapsed": 9,
     "status": "ok",
     "timestamp": 1706662558254,
     "user": {
      "displayName": "Ana Higo",
      "userId": "15754586142925589414"
     },
     "user_tz": 180
    },
    "id": "K89GaTrk0tBk"
   },
   "outputs": [],
   "source": [
    "header_strings[2] = \"term_months\""
   ]
  },
  {
   "cell_type": "code",
   "execution_count": 521,
   "metadata": {
    "executionInfo": {
     "elapsed": 9,
     "status": "ok",
     "timestamp": 1706662558254,
     "user": {
      "displayName": "Ana Higo",
      "userId": "15754586142925589414"
     },
     "user_tz": 180
    },
    "id": "QTKIRf9t0vQC"
   },
   "outputs": [],
   "source": [
    "arr_strings[:,2] = np.where(arr_strings[:,2] == '', '60', arr_strings[:,2])"
   ]
  },
  {
   "cell_type": "code",
   "execution_count": 522,
   "metadata": {
    "colab": {
     "base_uri": "https://localhost:8080/"
    },
    "executionInfo": {
     "elapsed": 438,
     "status": "ok",
     "timestamp": 1706662558683,
     "user": {
      "displayName": "Ana Higo",
      "userId": "15754586142925589414"
     },
     "user_tz": 180
    },
    "id": "Yb4kZ64m0xbU",
    "outputId": "8645d0a2-71c4-4ea8-e144-884678f07787"
   },
   "outputs": [
    {
     "data": {
      "text/plain": [
       "array(['36', '36', '36', ..., '36', '36', '36'], dtype='<U69')"
      ]
     },
     "execution_count": 522,
     "metadata": {},
     "output_type": "execute_result"
    }
   ],
   "source": [
    "arr_strings[:,2]"
   ]
  },
  {
   "cell_type": "code",
   "execution_count": 523,
   "metadata": {
    "colab": {
     "base_uri": "https://localhost:8080/"
    },
    "executionInfo": {
     "elapsed": 70,
     "status": "ok",
     "timestamp": 1706662558683,
     "user": {
      "displayName": "Ana Higo",
      "userId": "15754586142925589414"
     },
     "user_tz": 180
    },
    "id": "XlWTXjun0zOc",
    "outputId": "eb5bba4a-dbc3-4570-a496-86a6e421744f"
   },
   "outputs": [
    {
     "data": {
      "text/plain": [
       "array(['36', '60'], dtype='<U69')"
      ]
     },
     "execution_count": 523,
     "metadata": {},
     "output_type": "execute_result"
    }
   ],
   "source": [
    "np.unique(arr_strings[:,2])"
   ]
  },
  {
   "cell_type": "markdown",
   "metadata": {
    "id": "RpMOre9p02X6"
   },
   "source": [
    "#### Pre-Processing of grade and sub_gride Variables with Dictionary (Label Encoding Type)"
   ]
  },
  {
   "cell_type": "code",
   "execution_count": 524,
   "metadata": {
    "colab": {
     "base_uri": "https://localhost:8080/"
    },
    "executionInfo": {
     "elapsed": 65,
     "status": "ok",
     "timestamp": 1706662558683,
     "user": {
      "displayName": "Ana Higo",
      "userId": "15754586142925589414"
     },
     "user_tz": 180
    },
    "id": "_wm6k7dU04yI",
    "outputId": "9df97398-e33b-4809-f276-7b72bb8ff128"
   },
   "outputs": [
    {
     "data": {
      "text/plain": [
       "array(['issue_date', 'loan_status', 'term_months', 'grade', 'sub_grade', 'verification_status', 'url', 'addr_state'], dtype='<U19')"
      ]
     },
     "execution_count": 524,
     "metadata": {},
     "output_type": "execute_result"
    }
   ],
   "source": [
    "header_strings"
   ]
  },
  {
   "cell_type": "code",
   "execution_count": 525,
   "metadata": {
    "colab": {
     "base_uri": "https://localhost:8080/"
    },
    "executionInfo": {
     "elapsed": 62,
     "status": "ok",
     "timestamp": 1706662558683,
     "user": {
      "displayName": "Ana Higo",
      "userId": "15754586142925589414"
     },
     "user_tz": 180
    },
    "id": "b2ihVcFb062H",
    "outputId": "e1abba55-2d6b-4b12-94bd-c4e3f5b5bd0e"
   },
   "outputs": [
    {
     "data": {
      "text/plain": [
       "array(['', 'A', 'B', 'C', 'D', 'E', 'F', 'G'], dtype='<U69')"
      ]
     },
     "execution_count": 525,
     "metadata": {},
     "output_type": "execute_result"
    }
   ],
   "source": [
    "np.unique(arr_strings[:,3])"
   ]
  },
  {
   "cell_type": "code",
   "execution_count": 526,
   "metadata": {
    "colab": {
     "base_uri": "https://localhost:8080/"
    },
    "executionInfo": {
     "elapsed": 59,
     "status": "ok",
     "timestamp": 1706662558683,
     "user": {
      "displayName": "Ana Higo",
      "userId": "15754586142925589414"
     },
     "user_tz": 180
    },
    "id": "KWXhGX_L09RR",
    "outputId": "c701352c-bc02-4eae-deac-adf2202703fb"
   },
   "outputs": [
    {
     "data": {
      "text/plain": [
       "array(['', 'A1', 'A2', 'A3', 'A4', 'A5', 'B1', 'B2', 'B3', 'B4', 'B5', 'C1', 'C2', 'C3', 'C4', 'C5', 'D1', 'D2', 'D3', 'D4', 'D5', 'E1', 'E2', 'E3', 'E4', 'E5', 'F1', 'F2', 'F3', 'F4', 'F5', 'G1',\n",
       "       'G2', 'G3', 'G4', 'G5'], dtype='<U69')"
      ]
     },
     "execution_count": 526,
     "metadata": {},
     "output_type": "execute_result"
    }
   ],
   "source": [
    "np.unique(arr_strings[:,4])"
   ]
  },
  {
   "cell_type": "code",
   "execution_count": 527,
   "metadata": {
    "colab": {
     "base_uri": "https://localhost:8080/"
    },
    "executionInfo": {
     "elapsed": 57,
     "status": "ok",
     "timestamp": 1706662558684,
     "user": {
      "displayName": "Ana Higo",
      "userId": "15754586142925589414"
     },
     "user_tz": 180
    },
    "id": "nLLPG7oJ1DGg",
    "outputId": "47a2c1fd-8553-4710-96bf-19f610f5c792"
   },
   "outputs": [
    {
     "data": {
      "text/plain": [
       "array(['', 'A', 'B', 'C', 'D', 'E', 'F', 'G'], dtype='<U69')"
      ]
     },
     "execution_count": 527,
     "metadata": {},
     "output_type": "execute_result"
    }
   ],
   "source": [
    "np.unique(arr_strings[:,3])"
   ]
  },
  {
   "cell_type": "code",
   "execution_count": 528,
   "metadata": {
    "colab": {
     "base_uri": "https://localhost:8080/"
    },
    "executionInfo": {
     "elapsed": 54,
     "status": "ok",
     "timestamp": 1706662558684,
     "user": {
      "displayName": "Ana Higo",
      "userId": "15754586142925589414"
     },
     "user_tz": 180
    },
    "id": "UCXEw4E51Em3",
    "outputId": "4b0f9676-c02c-40cb-d8ef-8604d5dc7ec0"
   },
   "outputs": [
    {
     "data": {
      "text/plain": [
       "array(['A', 'B', 'C', 'D', 'E', 'F', 'G'], dtype='<U69')"
      ]
     },
     "execution_count": 528,
     "metadata": {},
     "output_type": "execute_result"
    }
   ],
   "source": [
    "np.unique(arr_strings[:,3])[1:]"
   ]
  },
  {
   "cell_type": "code",
   "execution_count": 529,
   "metadata": {
    "executionInfo": {
     "elapsed": 51,
     "status": "ok",
     "timestamp": 1706662558684,
     "user": {
      "displayName": "Ana Higo",
      "userId": "15754586142925589414"
     },
     "user_tz": 180
    },
    "id": "gUY2SH7z1GaC"
   },
   "outputs": [],
   "source": [
    "for i in np.unique(arr_strings[:,3])[1:]:\n",
    "    arr_strings[:,4] = np.where((arr_strings[:,4] == '') & (arr_strings[:,3] == i), i + '5', arr_strings[:,4])"
   ]
  },
  {
   "cell_type": "code",
   "execution_count": 530,
   "metadata": {
    "colab": {
     "base_uri": "https://localhost:8080/"
    },
    "executionInfo": {
     "elapsed": 51,
     "status": "ok",
     "timestamp": 1706662558684,
     "user": {
      "displayName": "Ana Higo",
      "userId": "15754586142925589414"
     },
     "user_tz": 180
    },
    "id": "dxKFvBo-1JbH",
    "outputId": "d076cef3-b8f3-4896-8583-f970d33ffd35"
   },
   "outputs": [
    {
     "data": {
      "text/plain": [
       "(array(['', 'A1', 'A2', 'A3', 'A4', 'A5', 'B1', 'B2', 'B3', 'B4', 'B5', 'C1', 'C2', 'C3', 'C4', 'C5', 'D1', 'D2', 'D3', 'D4', 'D5', 'E1', 'E2', 'E3', 'E4', 'E5', 'F1', 'F2', 'F3', 'F4', 'F5', 'G1',\n",
       "        'G2', 'G3', 'G4', 'G5'], dtype='<U69'),\n",
       " array([  9, 285, 278, 239, 323, 592, 509, 517, 530, 553, 633, 629, 567, 586, 564, 577, 391, 267, 250, 255, 288, 235, 162, 171, 139, 160,  94,  52,  34,  43,  24,  19,  10,   3,   7,   5], dtype=int64))"
      ]
     },
     "execution_count": 530,
     "metadata": {},
     "output_type": "execute_result"
    }
   ],
   "source": [
    "np.unique(arr_strings[:,4], return_counts = True)"
   ]
  },
  {
   "cell_type": "code",
   "execution_count": 531,
   "metadata": {
    "executionInfo": {
     "elapsed": 48,
     "status": "ok",
     "timestamp": 1706662558684,
     "user": {
      "displayName": "Ana Higo",
      "userId": "15754586142925589414"
     },
     "user_tz": 180
    },
    "id": "MB6CJrKz1LVA"
   },
   "outputs": [],
   "source": [
    "arr_strings[:,4] = np.where(arr_strings[:,4] == '', 'H1', arr_strings[:,4])"
   ]
  },
  {
   "cell_type": "code",
   "execution_count": 532,
   "metadata": {
    "colab": {
     "base_uri": "https://localhost:8080/"
    },
    "executionInfo": {
     "elapsed": 48,
     "status": "ok",
     "timestamp": 1706662558684,
     "user": {
      "displayName": "Ana Higo",
      "userId": "15754586142925589414"
     },
     "user_tz": 180
    },
    "id": "V9rUYHhh1NIN",
    "outputId": "f5c7fc76-779d-43e0-c627-4a6c82b9644e"
   },
   "outputs": [
    {
     "data": {
      "text/plain": [
       "array(['A1', 'A2', 'A3', 'A4', 'A5', 'B1', 'B2', 'B3', 'B4', 'B5', 'C1', 'C2', 'C3', 'C4', 'C5', 'D1', 'D2', 'D3', 'D4', 'D5', 'E1', 'E2', 'E3', 'E4', 'E5', 'F1', 'F2', 'F3', 'F4', 'F5', 'G1', 'G2',\n",
       "       'G3', 'G4', 'G5', 'H1'], dtype='<U69')"
      ]
     },
     "execution_count": 532,
     "metadata": {},
     "output_type": "execute_result"
    }
   ],
   "source": [
    "np.unique(arr_strings[:,4])"
   ]
  },
  {
   "cell_type": "code",
   "execution_count": 533,
   "metadata": {
    "executionInfo": {
     "elapsed": 45,
     "status": "ok",
     "timestamp": 1706662558684,
     "user": {
      "displayName": "Ana Higo",
      "userId": "15754586142925589414"
     },
     "user_tz": 180
    },
    "id": "abp1jvlq1PkS"
   },
   "outputs": [],
   "source": [
    "arr_strings = np.delete(arr_strings, 3, axis = 1)"
   ]
  },
  {
   "cell_type": "code",
   "execution_count": 534,
   "metadata": {
    "colab": {
     "base_uri": "https://localhost:8080/"
    },
    "executionInfo": {
     "elapsed": 46,
     "status": "ok",
     "timestamp": 1706662558685,
     "user": {
      "displayName": "Ana Higo",
      "userId": "15754586142925589414"
     },
     "user_tz": 180
    },
    "id": "bDX6NT4Y1SQL",
    "outputId": "bb69fea4-3a10-4e5f-aa60-ce516666708f"
   },
   "outputs": [
    {
     "data": {
      "text/plain": [
       "array(['C3', 'A5', 'B5', ..., 'A5', 'D2', 'A4'], dtype='<U69')"
      ]
     },
     "execution_count": 534,
     "metadata": {},
     "output_type": "execute_result"
    }
   ],
   "source": [
    "arr_strings[:,3]"
   ]
  },
  {
   "cell_type": "code",
   "execution_count": 535,
   "metadata": {
    "executionInfo": {
     "elapsed": 43,
     "status": "ok",
     "timestamp": 1706662558685,
     "user": {
      "displayName": "Ana Higo",
      "userId": "15754586142925589414"
     },
     "user_tz": 180
    },
    "id": "yk6no5Cb1Wlm"
   },
   "outputs": [],
   "source": [
    "header_strings = np.delete(header_strings, 3)"
   ]
  },
  {
   "cell_type": "code",
   "execution_count": 536,
   "metadata": {
    "colab": {
     "base_uri": "https://localhost:8080/",
     "height": 35
    },
    "executionInfo": {
     "elapsed": 42,
     "status": "ok",
     "timestamp": 1706662558685,
     "user": {
      "displayName": "Ana Higo",
      "userId": "15754586142925589414"
     },
     "user_tz": 180
    },
    "id": "WXTk2Z9W1Yyw",
    "outputId": "07cc70ce-3645-49d7-a849-dd86f80cc589"
   },
   "outputs": [
    {
     "data": {
      "text/plain": [
       "'sub_grade'"
      ]
     },
     "execution_count": 536,
     "metadata": {},
     "output_type": "execute_result"
    }
   ],
   "source": [
    "header_strings[3]"
   ]
  },
  {
   "cell_type": "code",
   "execution_count": 537,
   "metadata": {
    "colab": {
     "base_uri": "https://localhost:8080/"
    },
    "executionInfo": {
     "elapsed": 41,
     "status": "ok",
     "timestamp": 1706662558685,
     "user": {
      "displayName": "Ana Higo",
      "userId": "15754586142925589414"
     },
     "user_tz": 180
    },
    "id": "SnrFab1J1ezs",
    "outputId": "c2a1804f-ee4d-4062-ab20-adfa1b80cfc7"
   },
   "outputs": [
    {
     "data": {
      "text/plain": [
       "array(['A1', 'A2', 'A3', 'A4', 'A5', 'B1', 'B2', 'B3', 'B4', 'B5', 'C1', 'C2', 'C3', 'C4', 'C5', 'D1', 'D2', 'D3', 'D4', 'D5', 'E1', 'E2', 'E3', 'E4', 'E5', 'F1', 'F2', 'F3', 'F4', 'F5', 'G1', 'G2',\n",
       "       'G3', 'G4', 'G5', 'H1'], dtype='<U69')"
      ]
     },
     "execution_count": 537,
     "metadata": {},
     "output_type": "execute_result"
    }
   ],
   "source": [
    "np.unique(arr_strings[:,3])"
   ]
  },
  {
   "cell_type": "code",
   "execution_count": 538,
   "metadata": {
    "colab": {
     "base_uri": "https://localhost:8080/",
     "height": 35
    },
    "executionInfo": {
     "elapsed": 38,
     "status": "ok",
     "timestamp": 1706662558686,
     "user": {
      "displayName": "Ana Higo",
      "userId": "15754586142925589414"
     },
     "user_tz": 180
    },
    "id": "oEDEyNPP1blu",
    "outputId": "87e9ae1c-c979-44bd-e42c-45791316493d"
   },
   "outputs": [
    {
     "data": {
      "text/plain": [
       "'A1'"
      ]
     },
     "execution_count": 538,
     "metadata": {},
     "output_type": "execute_result"
    }
   ],
   "source": [
    "keys = list(np.unique(arr_strings[:,3]))\n",
    "keys[0]"
   ]
  },
  {
   "cell_type": "code",
   "execution_count": 539,
   "metadata": {
    "colab": {
     "base_uri": "https://localhost:8080/"
    },
    "executionInfo": {
     "elapsed": 37,
     "status": "ok",
     "timestamp": 1706662558686,
     "user": {
      "displayName": "Ana Higo",
      "userId": "15754586142925589414"
     },
     "user_tz": 180
    },
    "id": "qh_ypZH-1lU3",
    "outputId": "4efeb424-2765-4f07-f3e9-1827f4faeec8"
   },
   "outputs": [
    {
     "data": {
      "text/plain": [
       "1"
      ]
     },
     "execution_count": 539,
     "metadata": {},
     "output_type": "execute_result"
    }
   ],
   "source": [
    "values = list(range(1, np.unique(arr_strings[:,3]).shape[0] + 1))\n",
    "values[0]"
   ]
  },
  {
   "cell_type": "code",
   "execution_count": 540,
   "metadata": {
    "colab": {
     "base_uri": "https://localhost:8080/"
    },
    "executionInfo": {
     "elapsed": 34,
     "status": "ok",
     "timestamp": 1706662558686,
     "user": {
      "displayName": "Ana Higo",
      "userId": "15754586142925589414"
     },
     "user_tz": 180
    },
    "id": "rJ6WNfq41nUv",
    "outputId": "3518a31b-13dd-48ee-a8b3-66763a509a6d"
   },
   "outputs": [
    {
     "data": {
      "text/plain": [
       "{'A1': 1,\n",
       " 'A2': 2,\n",
       " 'A3': 3,\n",
       " 'A4': 4,\n",
       " 'A5': 5,\n",
       " 'B1': 6,\n",
       " 'B2': 7,\n",
       " 'B3': 8,\n",
       " 'B4': 9,\n",
       " 'B5': 10,\n",
       " 'C1': 11,\n",
       " 'C2': 12,\n",
       " 'C3': 13,\n",
       " 'C4': 14,\n",
       " 'C5': 15,\n",
       " 'D1': 16,\n",
       " 'D2': 17,\n",
       " 'D3': 18,\n",
       " 'D4': 19,\n",
       " 'D5': 20,\n",
       " 'E1': 21,\n",
       " 'E2': 22,\n",
       " 'E3': 23,\n",
       " 'E4': 24,\n",
       " 'E5': 25,\n",
       " 'F1': 26,\n",
       " 'F2': 27,\n",
       " 'F3': 28,\n",
       " 'F4': 29,\n",
       " 'F5': 30,\n",
       " 'G1': 31,\n",
       " 'G2': 32,\n",
       " 'G3': 33,\n",
       " 'G4': 34,\n",
       " 'G5': 35,\n",
       " 'H1': 36}"
      ]
     },
     "execution_count": 540,
     "metadata": {},
     "output_type": "execute_result"
    }
   ],
   "source": [
    "dict_sub_grade = dict(zip(keys, values))\n",
    "dict_sub_grade"
   ]
  },
  {
   "cell_type": "code",
   "execution_count": 541,
   "metadata": {
    "executionInfo": {
     "elapsed": 31,
     "status": "ok",
     "timestamp": 1706662558686,
     "user": {
      "displayName": "Ana Higo",
      "userId": "15754586142925589414"
     },
     "user_tz": 180
    },
    "id": "0idDkVhk1rsS"
   },
   "outputs": [],
   "source": [
    "for i in np.unique(arr_strings[:,3]):\n",
    "        arr_strings[:,3] = np.where(arr_strings[:,3] == i, dict_sub_grade[i], arr_strings[:,3])"
   ]
  },
  {
   "cell_type": "code",
   "execution_count": 542,
   "metadata": {
    "colab": {
     "base_uri": "https://localhost:8080/"
    },
    "executionInfo": {
     "elapsed": 30,
     "status": "ok",
     "timestamp": 1706662558686,
     "user": {
      "displayName": "Ana Higo",
      "userId": "15754586142925589414"
     },
     "user_tz": 180
    },
    "id": "gzR3r-TP1tRz",
    "outputId": "aaed0d3e-d1f8-4123-8026-fc9b6bfa6374"
   },
   "outputs": [
    {
     "data": {
      "text/plain": [
       "array(['1', '10', '11', '12', '13', '14', '15', '16', '17', '18', '19', '2', '20', '21', '22', '23', '24', '25', '26', '27', '28', '29', '3', '30', '31', '32', '33', '34', '35', '36', '4', '5', '6',\n",
       "       '7', '8', '9'], dtype='<U69')"
      ]
     },
     "execution_count": 542,
     "metadata": {},
     "output_type": "execute_result"
    }
   ],
   "source": [
    "np.unique(arr_strings[:,3])"
   ]
  },
  {
   "cell_type": "markdown",
   "metadata": {
    "id": "mUyFBdxH1ysD"
   },
   "source": [
    "#### Pre-Processing the Variable Verification status with Binarization"
   ]
  },
  {
   "cell_type": "code",
   "execution_count": 543,
   "metadata": {
    "colab": {
     "base_uri": "https://localhost:8080/"
    },
    "executionInfo": {
     "elapsed": 28,
     "status": "ok",
     "timestamp": 1706662558687,
     "user": {
      "displayName": "Ana Higo",
      "userId": "15754586142925589414"
     },
     "user_tz": 180
    },
    "id": "_tfShMcB10_0",
    "outputId": "25208dea-77f7-4d8b-e9b8-05da2785c411"
   },
   "outputs": [
    {
     "data": {
      "text/plain": [
       "array(['issue_date', 'loan_status', 'term_months', 'sub_grade', 'verification_status', 'url', 'addr_state'], dtype='<U19')"
      ]
     },
     "execution_count": 543,
     "metadata": {},
     "output_type": "execute_result"
    }
   ],
   "source": [
    "header_strings"
   ]
  },
  {
   "cell_type": "code",
   "execution_count": 544,
   "metadata": {
    "colab": {
     "base_uri": "https://localhost:8080/"
    },
    "executionInfo": {
     "elapsed": 25,
     "status": "ok",
     "timestamp": 1706662558687,
     "user": {
      "displayName": "Ana Higo",
      "userId": "15754586142925589414"
     },
     "user_tz": 180
    },
    "id": "01LbofJa13FZ",
    "outputId": "a923d3bf-9dbb-4831-9072-fdc5ec9c33bd"
   },
   "outputs": [
    {
     "data": {
      "text/plain": [
       "array(['', 'Not Verified', 'Source Verified', 'Verified'], dtype='<U69')"
      ]
     },
     "execution_count": 544,
     "metadata": {},
     "output_type": "execute_result"
    }
   ],
   "source": [
    "np.unique(arr_strings[:,4])"
   ]
  },
  {
   "cell_type": "code",
   "execution_count": 545,
   "metadata": {
    "executionInfo": {
     "elapsed": 22,
     "status": "ok",
     "timestamp": 1706662558687,
     "user": {
      "displayName": "Ana Higo",
      "userId": "15754586142925589414"
     },
     "user_tz": 180
    },
    "id": "NmLgw1e614i8"
   },
   "outputs": [],
   "source": [
    "arr_strings[:,4] = np.where((arr_strings[:,4] == '') | (arr_strings[:,4] == 'Not Verified'), 0, 1)"
   ]
  },
  {
   "cell_type": "code",
   "execution_count": 546,
   "metadata": {
    "colab": {
     "base_uri": "https://localhost:8080/"
    },
    "executionInfo": {
     "elapsed": 21,
     "status": "ok",
     "timestamp": 1706662558687,
     "user": {
      "displayName": "Ana Higo",
      "userId": "15754586142925589414"
     },
     "user_tz": 180
    },
    "id": "4uYHJfFt16Oz",
    "outputId": "c6b46742-ee01-4992-e9d3-6f0958ab87fb"
   },
   "outputs": [
    {
     "data": {
      "text/plain": [
       "array(['0', '1'], dtype='<U69')"
      ]
     },
     "execution_count": 546,
     "metadata": {},
     "output_type": "execute_result"
    }
   ],
   "source": [
    "np.unique(arr_strings[:,4])"
   ]
  },
  {
   "cell_type": "markdown",
   "metadata": {
    "id": "Z--UUK8x19S7"
   },
   "source": [
    "#### Pre-Processing the url Variable with ID Extraction"
   ]
  },
  {
   "cell_type": "code",
   "execution_count": 547,
   "metadata": {
    "colab": {
     "base_uri": "https://localhost:8080/"
    },
    "executionInfo": {
     "elapsed": 18,
     "status": "ok",
     "timestamp": 1706662558687,
     "user": {
      "displayName": "Ana Higo",
      "userId": "15754586142925589414"
     },
     "user_tz": 180
    },
    "id": "vuKJQJdr18_U",
    "outputId": "ab7bceba-47cc-4165-92a6-c81b7952495b"
   },
   "outputs": [
    {
     "data": {
      "text/plain": [
       "array(['https://www.lendingclub.com/browse/loanDetail.action?loan_id=48010226', 'https://www.lendingclub.com/browse/loanDetail.action?loan_id=57693261',\n",
       "       'https://www.lendingclub.com/browse/loanDetail.action?loan_id=59432726', ..., 'https://www.lendingclub.com/browse/loanDetail.action?loan_id=50415990',\n",
       "       'https://www.lendingclub.com/browse/loanDetail.action?loan_id=46154151', 'https://www.lendingclub.com/browse/loanDetail.action?loan_id=66055249'], dtype='<U69')"
      ]
     },
     "execution_count": 547,
     "metadata": {},
     "output_type": "execute_result"
    }
   ],
   "source": [
    "\n",
    "arr_strings[:,5]"
   ]
  },
  {
   "cell_type": "code",
   "execution_count": 548,
   "metadata": {
    "colab": {
     "base_uri": "https://localhost:8080/"
    },
    "executionInfo": {
     "elapsed": 583,
     "status": "ok",
     "timestamp": 1706662559255,
     "user": {
      "displayName": "Ana Higo",
      "userId": "15754586142925589414"
     },
     "user_tz": 180
    },
    "id": "a4RyMFDx2Bar",
    "outputId": "5e2a33c3-6462-458a-8fbc-dd35c7a258a5"
   },
   "outputs": [
    {
     "data": {
      "text/plain": [
       "chararray(['48010226', '57693261', '59432726', ..., '50415990', '46154151', '66055249'], dtype='<U69')"
      ]
     },
     "execution_count": 548,
     "metadata": {},
     "output_type": "execute_result"
    }
   ],
   "source": [
    "np.chararray.strip(arr_strings[:,5], \"https://www.lendingclub.com/browse/loanDetail.action?loan_id=\")"
   ]
  },
  {
   "cell_type": "code",
   "execution_count": 549,
   "metadata": {
    "executionInfo": {
     "elapsed": 45,
     "status": "ok",
     "timestamp": 1706662559256,
     "user": {
      "displayName": "Ana Higo",
      "userId": "15754586142925589414"
     },
     "user_tz": 180
    },
    "id": "aYWrwu2F2Db7"
   },
   "outputs": [],
   "source": [
    "arr_strings[:,5] = np.chararray.strip(arr_strings[:,5],\n",
    "                                      \"https://www.lendingclub.com/browse/loanDetail.action?loan_id=\")"
   ]
  },
  {
   "cell_type": "code",
   "execution_count": 550,
   "metadata": {
    "colab": {
     "base_uri": "https://localhost:8080/"
    },
    "executionInfo": {
     "elapsed": 44,
     "status": "ok",
     "timestamp": 1706662559256,
     "user": {
      "displayName": "Ana Higo",
      "userId": "15754586142925589414"
     },
     "user_tz": 180
    },
    "id": "yGrgKQiJ2FIH",
    "outputId": "dfe9994b-e0dd-4060-e9ba-614cdae655bc"
   },
   "outputs": [
    {
     "data": {
      "text/plain": [
       "array([48010226, 57693261, 59432726, ..., 50415990, 46154151, 66055249])"
      ]
     },
     "execution_count": 550,
     "metadata": {},
     "output_type": "execute_result"
    }
   ],
   "source": [
    "arr_strings[:,5].astype(dtype = np.int32)"
   ]
  },
  {
   "cell_type": "code",
   "execution_count": 551,
   "metadata": {
    "colab": {
     "base_uri": "https://localhost:8080/"
    },
    "executionInfo": {
     "elapsed": 39,
     "status": "ok",
     "timestamp": 1706662559256,
     "user": {
      "displayName": "Ana Higo",
      "userId": "15754586142925589414"
     },
     "user_tz": 180
    },
    "id": "7JV7notb2GlG",
    "outputId": "5cf48861-4200-43c7-f3e4-975424773518"
   },
   "outputs": [
    {
     "data": {
      "text/plain": [
       "array([48010226, 57693261, 59432726, ..., 50415990, 46154151, 66055249])"
      ]
     },
     "execution_count": 551,
     "metadata": {},
     "output_type": "execute_result"
    }
   ],
   "source": [
    "arr_numeric[:,0].astype(dtype = np.int32)"
   ]
  },
  {
   "cell_type": "code",
   "execution_count": 552,
   "metadata": {
    "colab": {
     "base_uri": "https://localhost:8080/"
    },
    "executionInfo": {
     "elapsed": 36,
     "status": "ok",
     "timestamp": 1706662559256,
     "user": {
      "displayName": "Ana Higo",
      "userId": "15754586142925589414"
     },
     "user_tz": 180
    },
    "id": "_wLJHPv3-X_w",
    "outputId": "2ad4115b-78f9-4f37-e5d0-f42354a66df2"
   },
   "outputs": [
    {
     "data": {
      "text/plain": [
       "True"
      ]
     },
     "execution_count": 552,
     "metadata": {},
     "output_type": "execute_result"
    }
   ],
   "source": [
    "np.array_equal(arr_numeric[:,0].astype(dtype = np.int32), arr_strings[:,5].astype(dtype = np.int32))"
   ]
  },
  {
   "cell_type": "code",
   "execution_count": 553,
   "metadata": {
    "executionInfo": {
     "elapsed": 33,
     "status": "ok",
     "timestamp": 1706662559257,
     "user": {
      "displayName": "Ana Higo",
      "userId": "15754586142925589414"
     },
     "user_tz": 180
    },
    "id": "R04BYlGT-ckq"
   },
   "outputs": [],
   "source": [
    "arr_strings = np.delete(arr_strings, 5, axis = 1)"
   ]
  },
  {
   "cell_type": "code",
   "execution_count": 554,
   "metadata": {
    "executionInfo": {
     "elapsed": 33,
     "status": "ok",
     "timestamp": 1706662559257,
     "user": {
      "displayName": "Ana Higo",
      "userId": "15754586142925589414"
     },
     "user_tz": 180
    },
    "id": "_gmPfho9-eYX"
   },
   "outputs": [],
   "source": [
    "header_strings = np.delete(header_strings, 5)"
   ]
  },
  {
   "cell_type": "code",
   "execution_count": 555,
   "metadata": {
    "colab": {
     "base_uri": "https://localhost:8080/"
    },
    "executionInfo": {
     "elapsed": 32,
     "status": "ok",
     "timestamp": 1706662559257,
     "user": {
      "displayName": "Ana Higo",
      "userId": "15754586142925589414"
     },
     "user_tz": 180
    },
    "id": "lLR028Vx-iao",
    "outputId": "7f5d6f1f-c5de-4c36-d794-446d27f9dcc6"
   },
   "outputs": [
    {
     "data": {
      "text/plain": [
       "array(['CA', 'NY', 'PA', ..., 'CA', 'OH', 'IL'], dtype='<U69')"
      ]
     },
     "execution_count": 555,
     "metadata": {},
     "output_type": "execute_result"
    }
   ],
   "source": [
    "arr_strings[:,5]"
   ]
  },
  {
   "cell_type": "code",
   "execution_count": 556,
   "metadata": {
    "colab": {
     "base_uri": "https://localhost:8080/"
    },
    "executionInfo": {
     "elapsed": 29,
     "status": "ok",
     "timestamp": 1706662559257,
     "user": {
      "displayName": "Ana Higo",
      "userId": "15754586142925589414"
     },
     "user_tz": 180
    },
    "id": "9mIO_wRq-jvX",
    "outputId": "1ee76e1d-b4d1-4043-afa7-0dd1665cd3b3"
   },
   "outputs": [
    {
     "data": {
      "text/plain": [
       "array(['issue_date', 'loan_status', 'term_months', 'sub_grade', 'verification_status', 'addr_state'], dtype='<U19')"
      ]
     },
     "execution_count": 556,
     "metadata": {},
     "output_type": "execute_result"
    }
   ],
   "source": [
    "header_strings"
   ]
  },
  {
   "cell_type": "code",
   "execution_count": 557,
   "metadata": {
    "colab": {
     "base_uri": "https://localhost:8080/"
    },
    "executionInfo": {
     "elapsed": 25,
     "status": "ok",
     "timestamp": 1706662559257,
     "user": {
      "displayName": "Ana Higo",
      "userId": "15754586142925589414"
     },
     "user_tz": 180
    },
    "id": "tIqN7efF-l-b",
    "outputId": "48b2d4bb-c633-4070-bdff-10753324dfee"
   },
   "outputs": [
    {
     "data": {
      "text/plain": [
       "array([48010226., 57693261., 59432726., ..., 50415990., 46154151., 66055249.])"
      ]
     },
     "execution_count": 557,
     "metadata": {},
     "output_type": "execute_result"
    }
   ],
   "source": [
    "arr_numeric[:,0]"
   ]
  },
  {
   "cell_type": "code",
   "execution_count": 558,
   "metadata": {
    "colab": {
     "base_uri": "https://localhost:8080/"
    },
    "executionInfo": {
     "elapsed": 23,
     "status": "ok",
     "timestamp": 1706662559258,
     "user": {
      "displayName": "Ana Higo",
      "userId": "15754586142925589414"
     },
     "user_tz": 180
    },
    "id": "t5vBbVPl-nKD",
    "outputId": "90981c0f-f0ca-4688-9695-19e31ae2ca71"
   },
   "outputs": [
    {
     "data": {
      "text/plain": [
       "array(['id', 'loan_amnt', 'funded_amnt', 'int_rate', 'installment', 'total_pymnt'], dtype='<U19')"
      ]
     },
     "execution_count": 558,
     "metadata": {},
     "output_type": "execute_result"
    }
   ],
   "source": [
    "header_numeric"
   ]
  },
  {
   "cell_type": "markdown",
   "metadata": {
    "id": "DeT4hkk7-qCd"
   },
   "source": [
    "#### Pre-Processing of Address Variable with Categorization"
   ]
  },
  {
   "cell_type": "code",
   "execution_count": 559,
   "metadata": {
    "colab": {
     "base_uri": "https://localhost:8080/"
    },
    "executionInfo": {
     "elapsed": 19,
     "status": "ok",
     "timestamp": 1706662559258,
     "user": {
      "displayName": "Ana Higo",
      "userId": "15754586142925589414"
     },
     "user_tz": 180
    },
    "id": "T24lrBCo-sVI",
    "outputId": "bad373cc-4f89-4a92-b35c-55f3baafa06c"
   },
   "outputs": [
    {
     "data": {
      "text/plain": [
       "array(['issue_date', 'loan_status', 'term_months', 'sub_grade', 'verification_status', 'addr_state'], dtype='<U19')"
      ]
     },
     "execution_count": 559,
     "metadata": {},
     "output_type": "execute_result"
    }
   ],
   "source": [
    "header_strings"
   ]
  },
  {
   "cell_type": "code",
   "execution_count": 560,
   "metadata": {
    "executionInfo": {
     "elapsed": 16,
     "status": "ok",
     "timestamp": 1706662559258,
     "user": {
      "displayName": "Ana Higo",
      "userId": "15754586142925589414"
     },
     "user_tz": 180
    },
    "id": "6hpXBcct-t13"
   },
   "outputs": [],
   "source": [
    "header_strings[5] = \"state_address\""
   ]
  },
  {
   "cell_type": "code",
   "execution_count": 561,
   "metadata": {
    "executionInfo": {
     "elapsed": 16,
     "status": "ok",
     "timestamp": 1706662559258,
     "user": {
      "displayName": "Ana Higo",
      "userId": "15754586142925589414"
     },
     "user_tz": 180
    },
    "id": "sGhvCupw-wfT"
   },
   "outputs": [],
   "source": [
    "states_names, states_count = np.unique(arr_strings[:,5], return_counts = True)"
   ]
  },
  {
   "cell_type": "code",
   "execution_count": 562,
   "metadata": {
    "executionInfo": {
     "elapsed": 16,
     "status": "ok",
     "timestamp": 1706662559259,
     "user": {
      "displayName": "Ana Higo",
      "userId": "15754586142925589414"
     },
     "user_tz": 180
    },
    "id": "_-pWrAyh-yx-"
   },
   "outputs": [],
   "source": [
    "states_count_sorted = np.argsort(-states_count)"
   ]
  },
  {
   "cell_type": "code",
   "execution_count": 563,
   "metadata": {
    "colab": {
     "base_uri": "https://localhost:8080/"
    },
    "executionInfo": {
     "elapsed": 16,
     "status": "ok",
     "timestamp": 1706662559259,
     "user": {
      "displayName": "Ana Higo",
      "userId": "15754586142925589414"
     },
     "user_tz": 180
    },
    "id": "eHA8nD3v-z-T",
    "outputId": "66e5ef21-d09f-468f-e6a4-89db78b2f8df"
   },
   "outputs": [
    {
     "data": {
      "text/plain": [
       "(array(['CA', 'NY', 'TX', 'FL', '', 'IL', 'NJ', 'GA', 'PA', 'OH', 'MI', 'NC', 'VA', 'MD', 'AZ', 'WA', 'MA', 'CO', 'MO', 'MN', 'IN', 'WI', 'CT', 'TN', 'NV', 'AL', 'LA', 'OR', 'SC', 'KY', 'KS', 'OK',\n",
       "        'UT', 'AR', 'MS', 'NH', 'NM', 'WV', 'HI', 'RI', 'MT', 'DE', 'DC', 'WY', 'AK', 'NE', 'SD', 'VT', 'ND', 'ME'], dtype='<U69'),\n",
       " array([1336,  777,  758,  690,  500,  389,  341,  321,  320,  312,  267,  261,  242,  222,  220,  216,  210,  201,  160,  156,  152,  148,  143,  143,  130,  119,  116,  108,  107,   84,   84,   83,\n",
       "          74,   74,   61,   58,   57,   49,   44,   40,   28,   27,   27,   27,   26,   25,   24,   17,   16,   10], dtype=int64))"
      ]
     },
     "execution_count": 563,
     "metadata": {},
     "output_type": "execute_result"
    }
   ],
   "source": [
    "states_names[states_count_sorted], states_count[states_count_sorted]"
   ]
  },
  {
   "cell_type": "code",
   "execution_count": 564,
   "metadata": {
    "executionInfo": {
     "elapsed": 12,
     "status": "ok",
     "timestamp": 1706662559259,
     "user": {
      "displayName": "Ana Higo",
      "userId": "15754586142925589414"
     },
     "user_tz": 180
    },
    "id": "rykia0Nd-119"
   },
   "outputs": [],
   "source": [
    "arr_strings[:,5] = np.where(arr_strings[:,5] == '', 0, arr_strings[:,5])"
   ]
  },
  {
   "cell_type": "code",
   "execution_count": 565,
   "metadata": {
    "executionInfo": {
     "elapsed": 12,
     "status": "ok",
     "timestamp": 1706662559259,
     "user": {
      "displayName": "Ana Higo",
      "userId": "15754586142925589414"
     },
     "user_tz": 180
    },
    "id": "aH2i7Q4S-5q_"
   },
   "outputs": [],
   "source": [
    "states_west = np.array(['WA', 'OR','CA','NV','ID','MT', 'WY','UT','CO', 'AZ','NM','HI','AK'])\n",
    "states_south = np.array(['TX','OK','AR','LA','MS','AL','TN','KY','FL','GA','SC','NC','VA','WV','MD','DE','DC'])\n",
    "states_midwest = np.array(['ND','SD','NE','KS','MN','IA','MO','WI','IL','IN','MI','OH'])\n",
    "states_east = np.array(['PA','NY','NJ','CT','MA','VT','NH','ME','RI'])"
   ]
  },
  {
   "cell_type": "code",
   "execution_count": 566,
   "metadata": {
    "executionInfo": {
     "elapsed": 619,
     "status": "ok",
     "timestamp": 1706662559867,
     "user": {
      "displayName": "Ana Higo",
      "userId": "15754586142925589414"
     },
     "user_tz": 180
    },
    "id": "FBQD6asw-8JH"
   },
   "outputs": [],
   "source": [
    "arr_strings[:,5] = np.where(np.isin(arr_strings[:,5], states_west), 1, arr_strings[:,5])\n",
    "arr_strings[:,5] = np.where(np.isin(arr_strings[:,5], states_south), 2, arr_strings[:,5])\n",
    "arr_strings[:,5] = np.where(np.isin(arr_strings[:,5], states_midwest), 3, arr_strings[:,5])\n",
    "arr_strings[:,5] = np.where(np.isin(arr_strings[:,5], states_east), 4, arr_strings[:,5])"
   ]
  },
  {
   "cell_type": "code",
   "execution_count": 567,
   "metadata": {
    "colab": {
     "base_uri": "https://localhost:8080/"
    },
    "executionInfo": {
     "elapsed": 619,
     "status": "ok",
     "timestamp": 1706662559867,
     "user": {
      "displayName": "Ana Higo",
      "userId": "15754586142925589414"
     },
     "user_tz": 180
    },
    "id": "ATNxmxBV-_b0",
    "outputId": "7335e9fc-6fa8-460b-ef4b-bf31554c1a78"
   },
   "outputs": [
    {
     "data": {
      "text/plain": [
       "array(['0', '1', '2', '3', '4'], dtype='<U69')"
      ]
     },
     "execution_count": 567,
     "metadata": {},
     "output_type": "execute_result"
    }
   ],
   "source": [
    "np.unique(arr_strings[:,5])"
   ]
  },
  {
   "cell_type": "code",
   "execution_count": 568,
   "metadata": {
    "colab": {
     "base_uri": "https://localhost:8080/"
    },
    "executionInfo": {
     "elapsed": 124,
     "status": "ok",
     "timestamp": 1706662559867,
     "user": {
      "displayName": "Ana Higo",
      "userId": "15754586142925589414"
     },
     "user_tz": 180
    },
    "id": "8dW9u0Ih_BNo",
    "outputId": "dfc5ee3b-8fa8-4534-bcff-cb96c1210c6f"
   },
   "outputs": [
    {
     "data": {
      "text/plain": [
       "array([['5', '1', '36', '13', '1', '1'],\n",
       "       ['0', '1', '36', '5', '1', '4'],\n",
       "       ['9', '1', '36', '10', '1', '4'],\n",
       "       ...,\n",
       "       ['6', '1', '36', '5', '1', '1'],\n",
       "       ['4', '1', '36', '17', '1', '3'],\n",
       "       ['12', '1', '36', '4', '0', '3']], dtype='<U69')"
      ]
     },
     "execution_count": 568,
     "metadata": {},
     "output_type": "execute_result"
    }
   ],
   "source": [
    "arr_strings"
   ]
  },
  {
   "cell_type": "code",
   "execution_count": 569,
   "metadata": {
    "colab": {
     "base_uri": "https://localhost:8080/"
    },
    "executionInfo": {
     "elapsed": 121,
     "status": "ok",
     "timestamp": 1706662559868,
     "user": {
      "displayName": "Ana Higo",
      "userId": "15754586142925589414"
     },
     "user_tz": 180
    },
    "id": "wldCik7f_OAK",
    "outputId": "74ce3ed9-674b-48db-881f-e892ca7d01d8"
   },
   "outputs": [
    {
     "data": {
      "text/plain": [
       "array([[ 5,  1, 36, 13,  1,  1],\n",
       "       [ 0,  1, 36,  5,  1,  4],\n",
       "       [ 9,  1, 36, 10,  1,  4],\n",
       "       ...,\n",
       "       [ 6,  1, 36,  5,  1,  1],\n",
       "       [ 4,  1, 36, 17,  1,  3],\n",
       "       [12,  1, 36,  4,  0,  3]])"
      ]
     },
     "execution_count": 569,
     "metadata": {},
     "output_type": "execute_result"
    }
   ],
   "source": [
    "arr_strings = arr_strings.astype(int)\n",
    "arr_strings"
   ]
  },
  {
   "cell_type": "code",
   "execution_count": 570,
   "metadata": {
    "colab": {
     "base_uri": "https://localhost:8080/"
    },
    "executionInfo": {
     "elapsed": 115,
     "status": "ok",
     "timestamp": 1706662559868,
     "user": {
      "displayName": "Ana Higo",
      "userId": "15754586142925589414"
     },
     "user_tz": 180
    },
    "id": "ioPAiN4m_SJm",
    "outputId": "7003e194-ed9d-419e-aa19-ebc8f21e03b8"
   },
   "outputs": [
    {
     "data": {
      "text/plain": [
       "dtype('int32')"
      ]
     },
     "execution_count": 570,
     "metadata": {},
     "output_type": "execute_result"
    }
   ],
   "source": [
    "arr_strings.dtype"
   ]
  },
  {
   "cell_type": "markdown",
   "metadata": {
    "id": "_M6r1siG_cvr"
   },
   "source": [
    "### Checkpoint with Clean and Pre-Processed String Variables"
   ]
  },
  {
   "cell_type": "code",
   "execution_count": 571,
   "metadata": {
    "executionInfo": {
     "elapsed": 111,
     "status": "ok",
     "timestamp": 1706662559868,
     "user": {
      "displayName": "Ana Higo",
      "userId": "15754586142925589414"
     },
     "user_tz": 180
    },
    "id": "yBQYQGGh_VbQ"
   },
   "outputs": [],
   "source": [
    "checkpoint_strings = checkpoint(\"dataset/generated_data/checkpoint_strings\", header_strings, arr_strings)"
   ]
  },
  {
   "cell_type": "code",
   "execution_count": 572,
   "metadata": {
    "colab": {
     "base_uri": "https://localhost:8080/"
    },
    "executionInfo": {
     "elapsed": 110,
     "status": "ok",
     "timestamp": 1706662559868,
     "user": {
      "displayName": "Ana Higo",
      "userId": "15754586142925589414"
     },
     "user_tz": 180
    },
    "id": "RK3gBlt2_T_8",
    "outputId": "4a849f9c-7e8f-4cde-b553-01d68e5937a5"
   },
   "outputs": [
    {
     "data": {
      "text/plain": [
       "array(['issue_date', 'loan_status', 'term_months', 'sub_grade', 'verification_status', 'state_address'], dtype='<U19')"
      ]
     },
     "execution_count": 572,
     "metadata": {},
     "output_type": "execute_result"
    }
   ],
   "source": [
    "checkpoint_strings[\"header\"]"
   ]
  },
  {
   "cell_type": "code",
   "execution_count": 573,
   "metadata": {
    "colab": {
     "base_uri": "https://localhost:8080/"
    },
    "executionInfo": {
     "elapsed": 107,
     "status": "ok",
     "timestamp": 1706662559868,
     "user": {
      "displayName": "Ana Higo",
      "userId": "15754586142925589414"
     },
     "user_tz": 180
    },
    "id": "ILh2jZZ2_h7i",
    "outputId": "f42d953a-d83f-42b7-ce1f-eb960c9d6d9b"
   },
   "outputs": [
    {
     "data": {
      "text/plain": [
       "array([[ 5,  1, 36, 13,  1,  1],\n",
       "       [ 0,  1, 36,  5,  1,  4],\n",
       "       [ 9,  1, 36, 10,  1,  4],\n",
       "       ...,\n",
       "       [ 6,  1, 36,  5,  1,  1],\n",
       "       [ 4,  1, 36, 17,  1,  3],\n",
       "       [12,  1, 36,  4,  0,  3]])"
      ]
     },
     "execution_count": 573,
     "metadata": {},
     "output_type": "execute_result"
    }
   ],
   "source": [
    "checkpoint_strings[\"data\"]"
   ]
  },
  {
   "cell_type": "code",
   "execution_count": 574,
   "metadata": {
    "colab": {
     "base_uri": "https://localhost:8080/"
    },
    "executionInfo": {
     "elapsed": 102,
     "status": "ok",
     "timestamp": 1706662559868,
     "user": {
      "displayName": "Ana Higo",
      "userId": "15754586142925589414"
     },
     "user_tz": 180
    },
    "id": "d62CjoxB_jgI",
    "outputId": "7433040a-e7fd-4143-a950-7fb4a5502906"
   },
   "outputs": [
    {
     "data": {
      "text/plain": [
       "True"
      ]
     },
     "execution_count": 574,
     "metadata": {},
     "output_type": "execute_result"
    }
   ],
   "source": [
    "np.array_equal(checkpoint_strings['data'], arr_strings)"
   ]
  },
  {
   "cell_type": "markdown",
   "metadata": {
    "id": "wysEp_wO_mok"
   },
   "source": [
    "### Manipulating Numeric Columns"
   ]
  },
  {
   "cell_type": "code",
   "execution_count": 575,
   "metadata": {
    "colab": {
     "base_uri": "https://localhost:8080/"
    },
    "executionInfo": {
     "elapsed": 98,
     "status": "ok",
     "timestamp": 1706662559868,
     "user": {
      "displayName": "Ana Higo",
      "userId": "15754586142925589414"
     },
     "user_tz": 180
    },
    "id": "G36j6V9N_l6H",
    "outputId": "8963377e-194b-49f4-9b7c-db47812d1ae8"
   },
   "outputs": [
    {
     "data": {
      "text/plain": [
       "array([[48010226.  ,    35000.  ,    35000.  ,       13.33,     1184.86,     9452.96],\n",
       "       [57693261.  ,    30000.  ,    30000.  , 68616520.  ,      938.57,     4679.7 ],\n",
       "       [59432726.  ,    15000.  ,    15000.  , 68616520.  ,      494.86,     1969.83],\n",
       "       ...,\n",
       "       [50415990.  ,    10000.  ,    10000.  , 68616520.  , 68616520.  ,     2185.64],\n",
       "       [46154151.  , 68616520.  ,    10000.  ,       16.55,      354.3 ,     3199.4 ],\n",
       "       [66055249.  ,    10000.  ,    10000.  , 68616520.  ,      309.97,      301.9 ]])"
      ]
     },
     "execution_count": 575,
     "metadata": {},
     "output_type": "execute_result"
    }
   ],
   "source": [
    "arr_numeric"
   ]
  },
  {
   "cell_type": "code",
   "execution_count": 576,
   "metadata": {
    "colab": {
     "base_uri": "https://localhost:8080/"
    },
    "executionInfo": {
     "elapsed": 93,
     "status": "ok",
     "timestamp": 1706662559869,
     "user": {
      "displayName": "Ana Higo",
      "userId": "15754586142925589414"
     },
     "user_tz": 180
    },
    "id": "SsWsnIL6_r19",
    "outputId": "b5fca2b6-cb81-486e-f9cd-e32eddacea71"
   },
   "outputs": [
    {
     "data": {
      "text/plain": [
       "array(['id', 'loan_amnt', 'funded_amnt', 'int_rate', 'installment', 'total_pymnt'], dtype='<U19')"
      ]
     },
     "execution_count": 576,
     "metadata": {},
     "output_type": "execute_result"
    }
   ],
   "source": [
    "header_numeric"
   ]
  },
  {
   "cell_type": "code",
   "execution_count": 577,
   "metadata": {
    "colab": {
     "base_uri": "https://localhost:8080/"
    },
    "executionInfo": {
     "elapsed": 88,
     "status": "ok",
     "timestamp": 1706662559869,
     "user": {
      "displayName": "Ana Higo",
      "userId": "15754586142925589414"
     },
     "user_tz": 180
    },
    "id": "egTvPIcM_uOi",
    "outputId": "f962f583-c825-4de1-d1af-42c9e279a56d"
   },
   "outputs": [
    {
     "data": {
      "text/plain": [
       "0"
      ]
     },
     "execution_count": 577,
     "metadata": {},
     "output_type": "execute_result"
    }
   ],
   "source": [
    "np.isnan(arr_numeric).sum()"
   ]
  },
  {
   "cell_type": "code",
   "execution_count": 578,
   "metadata": {
    "colab": {
     "base_uri": "https://localhost:8080/"
    },
    "executionInfo": {
     "elapsed": 84,
     "status": "ok",
     "timestamp": 1706662559869,
     "user": {
      "displayName": "Ana Higo",
      "userId": "15754586142925589414"
     },
     "user_tz": 180
    },
    "id": "CaGaSzFT_wAt",
    "outputId": "8c44def7-f2b1-49d0-8a74-b5c674351670"
   },
   "outputs": [
    {
     "data": {
      "text/plain": [
       "68616520.0"
      ]
     },
     "execution_count": 578,
     "metadata": {},
     "output_type": "execute_result"
    }
   ],
   "source": [
    "wild_value"
   ]
  },
  {
   "cell_type": "code",
   "execution_count": 579,
   "metadata": {
    "colab": {
     "base_uri": "https://localhost:8080/"
    },
    "executionInfo": {
     "elapsed": 79,
     "status": "ok",
     "timestamp": 1706662559869,
     "user": {
      "displayName": "Ana Higo",
      "userId": "15754586142925589414"
     },
     "user_tz": 180
    },
    "id": "GtFCB4h4_xzx",
    "outputId": "c4bab682-28f3-4475-c077-c83d79d336ce"
   },
   "outputs": [
    {
     "data": {
      "text/plain": [
       "array([False, False, False, ..., False, False, False])"
      ]
     },
     "execution_count": 579,
     "metadata": {},
     "output_type": "execute_result"
    }
   ],
   "source": [
    "np.isin(arr_numeric[:,0], wild_value)"
   ]
  },
  {
   "cell_type": "code",
   "execution_count": 580,
   "metadata": {
    "colab": {
     "base_uri": "https://localhost:8080/"
    },
    "executionInfo": {
     "elapsed": 76,
     "status": "ok",
     "timestamp": 1706662559869,
     "user": {
      "displayName": "Ana Higo",
      "userId": "15754586142925589414"
     },
     "user_tz": 180
    },
    "id": "yFsWO-R8_zA3",
    "outputId": "3eaede10-27f9-4802-a822-d09881bfc83d"
   },
   "outputs": [
    {
     "data": {
      "text/plain": [
       "0"
      ]
     },
     "execution_count": 580,
     "metadata": {},
     "output_type": "execute_result"
    }
   ],
   "source": [
    "np.isin(arr_numeric[:,0], wild_value).sum()"
   ]
  },
  {
   "cell_type": "code",
   "execution_count": 581,
   "metadata": {
    "colab": {
     "base_uri": "https://localhost:8080/"
    },
    "executionInfo": {
     "elapsed": 72,
     "status": "ok",
     "timestamp": 1706662559869,
     "user": {
      "displayName": "Ana Higo",
      "userId": "15754586142925589414"
     },
     "user_tz": 180
    },
    "id": "pMmV7vqF_1g2",
    "outputId": "31c7ab20-9d18-4896-b364-de3196990d09"
   },
   "outputs": [
    {
     "name": "stdout",
     "output_type": "stream",
     "text": [
      "[[  373332.           nan     1000.           nan     1000.           nan        6.         31.42         nan         nan         nan         nan         nan        0.  ]\n",
      " [54015809.19         nan    15273.46         nan    15311.04         nan       16.62      440.92         nan         nan         nan         nan         nan     3143.85]\n",
      " [68616519.           nan    35000.           nan    35000.           nan       28.99     1372.97         nan         nan         nan         nan         nan    41913.62]]\n"
     ]
    }
   ],
   "source": [
    "arr_stats = np.array([np.nanmin(data, axis = 0), average_ignoring_nan, np.nanmax(data, axis = 0)])\n",
    "print(arr_stats)"
   ]
  },
  {
   "cell_type": "code",
   "execution_count": 582,
   "metadata": {
    "colab": {
     "base_uri": "https://localhost:8080/"
    },
    "executionInfo": {
     "elapsed": 67,
     "status": "ok",
     "timestamp": 1706662559869,
     "user": {
      "displayName": "Ana Higo",
      "userId": "15754586142925589414"
     },
     "user_tz": 180
    },
    "id": "SqYgg0MQ_5YS",
    "outputId": "1661259f-6c27-4cb5-c72f-7ab81c93c7ea"
   },
   "outputs": [
    {
     "data": {
      "text/plain": [
       "array([[  373332.  ,     1000.  ,     1000.  ,        6.  ,       31.42,        0.  ],\n",
       "       [54015809.19,    15273.46,    15311.04,       16.62,      440.92,     3143.85],\n",
       "       [68616519.  ,    35000.  ,    35000.  ,       28.99,     1372.97,    41913.62]])"
      ]
     },
     "execution_count": 582,
     "metadata": {},
     "output_type": "execute_result"
    }
   ],
   "source": [
    "arr_stats[:, numeric_columns]"
   ]
  },
  {
   "cell_type": "code",
   "execution_count": 583,
   "metadata": {
    "colab": {
     "base_uri": "https://localhost:8080/"
    },
    "executionInfo": {
     "elapsed": 65,
     "status": "ok",
     "timestamp": 1706662559870,
     "user": {
      "displayName": "Ana Higo",
      "userId": "15754586142925589414"
     },
     "user_tz": 180
    },
    "id": "Vl76z7-K_-kA",
    "outputId": "1e86095f-0cbb-46d3-caea-5ec3945bff9a"
   },
   "outputs": [
    {
     "data": {
      "text/plain": [
       "array([35000., 30000., 15000., ..., 10000., 10000., 10000.])"
      ]
     },
     "execution_count": 583,
     "metadata": {},
     "output_type": "execute_result"
    }
   ],
   "source": [
    "# Visualize the data\n",
    "arr_numeric[:,2]"
   ]
  },
  {
   "cell_type": "markdown",
   "metadata": {},
   "source": [
    "#### Pre-Processing of the funded_amnt Variable"
   ]
  },
  {
   "cell_type": "code",
   "execution_count": 584,
   "metadata": {
    "colab": {
     "base_uri": "https://localhost:8080/"
    },
    "executionInfo": {
     "elapsed": 61,
     "status": "ok",
     "timestamp": 1706662559870,
     "user": {
      "displayName": "Ana Higo",
      "userId": "15754586142925589414"
     },
     "user_tz": 180
    },
    "id": "2_NZXt71ADjG",
    "outputId": "3b16e8f4-f2ca-4aac-f51e-7b47d1aa2657"
   },
   "outputs": [
    {
     "data": {
      "text/plain": [
       "1000.0"
      ]
     },
     "execution_count": 584,
     "metadata": {},
     "output_type": "execute_result"
    }
   ],
   "source": [
    "arr_stats[0, numeric_columns[2]]"
   ]
  },
  {
   "cell_type": "code",
   "execution_count": 585,
   "metadata": {
    "colab": {
     "base_uri": "https://localhost:8080/"
    },
    "executionInfo": {
     "elapsed": 57,
     "status": "ok",
     "timestamp": 1706662559870,
     "user": {
      "displayName": "Ana Higo",
      "userId": "15754586142925589414"
     },
     "user_tz": 180
    },
    "id": "SoEr9VPQAFH_",
    "outputId": "595d3e85-dd2e-4895-ab93-60acd0ffdefa"
   },
   "outputs": [
    {
     "data": {
      "text/plain": [
       "array([35000., 30000., 15000., ..., 10000., 10000., 10000.])"
      ]
     },
     "execution_count": 585,
     "metadata": {},
     "output_type": "execute_result"
    }
   ],
   "source": [
    "arr_numeric[:,2] = np.where(arr_numeric[:,2] == wild_value, arr_stats[0, numeric_columns[2]], arr_numeric[:,2])\n",
    "arr_numeric[:,2]"
   ]
  },
  {
   "cell_type": "markdown",
   "metadata": {
    "id": "D9XGLvqgAKed"
   },
   "source": [
    "#### Pre-Processing of Variables loan_amnt, int_rate, installment and total_pymnt"
   ]
  },
  {
   "cell_type": "code",
   "execution_count": 586,
   "metadata": {
    "colab": {
     "base_uri": "https://localhost:8080/"
    },
    "executionInfo": {
     "elapsed": 52,
     "status": "ok",
     "timestamp": 1706662559870,
     "user": {
      "displayName": "Ana Higo",
      "userId": "15754586142925589414"
     },
     "user_tz": 180
    },
    "id": "ZLR0c0TtAJq5",
    "outputId": "0bc1f124-a4a6-4ef6-849e-0848b86b15f4"
   },
   "outputs": [
    {
     "data": {
      "text/plain": [
       "array(['id', 'loan_amnt', 'funded_amnt', 'int_rate', 'installment', 'total_pymnt'], dtype='<U19')"
      ]
     },
     "execution_count": 586,
     "metadata": {},
     "output_type": "execute_result"
    }
   ],
   "source": [
    "header_numeric"
   ]
  },
  {
   "cell_type": "code",
   "execution_count": 587,
   "metadata": {
    "executionInfo": {
     "elapsed": 47,
     "status": "ok",
     "timestamp": 1706662559870,
     "user": {
      "displayName": "Ana Higo",
      "userId": "15754586142925589414"
     },
     "user_tz": 180
    },
    "id": "nnRZwDIQAOTJ"
   },
   "outputs": [
    {
     "data": {
      "text/plain": [
       "array([[48010226.  ,    35000.  ,    35000.  ,       13.33,     1184.86,     9452.96],\n",
       "       [57693261.  ,    30000.  ,    30000.  ,       28.99,      938.57,     4679.7 ],\n",
       "       [59432726.  ,    15000.  ,    15000.  ,       28.99,      494.86,     1969.83],\n",
       "       ...,\n",
       "       [50415990.  ,    10000.  ,    10000.  ,       28.99,     1372.97,     2185.64],\n",
       "       [46154151.  ,    35000.  ,    10000.  ,       16.55,      354.3 ,     3199.4 ],\n",
       "       [66055249.  ,    10000.  ,    10000.  ,       28.99,      309.97,      301.9 ]])"
      ]
     },
     "execution_count": 587,
     "metadata": {},
     "output_type": "execute_result"
    }
   ],
   "source": [
    "for i in [1,3,4,5]:\n",
    "    arr_numeric[:,i] = np.where(arr_numeric[:,i] == wild_value,\n",
    "                                arr_stats[2, numeric_columns[i]],\n",
    "                                arr_numeric[:,i])\n",
    "\n",
    "arr_numeric"
   ]
  },
  {
   "cell_type": "markdown",
   "metadata": {
    "id": "aCYK2kCRAWgS"
   },
   "source": [
    "#### Working with the Second Dataset"
   ]
  },
  {
   "cell_type": "code",
   "execution_count": 588,
   "metadata": {
    "executionInfo": {
     "elapsed": 43,
     "status": "ok",
     "timestamp": 1706662559870,
     "user": {
      "displayName": "Ana Higo",
      "userId": "15754586142925589414"
     },
     "user_tz": 180
    },
    "id": "D_qli8RXAVpv"
   },
   "outputs": [],
   "source": [
    "data_quote = np.genfromtxt(\"dataset/dataset2.csv\",\n",
    "                          delimiter = ',',\n",
    "                          autostrip = True,\n",
    "                          skip_header = 1,\n",
    "                          usecols = 3)"
   ]
  },
  {
   "cell_type": "code",
   "execution_count": 589,
   "metadata": {
    "colab": {
     "base_uri": "https://localhost:8080/"
    },
    "executionInfo": {
     "elapsed": 43,
     "status": "ok",
     "timestamp": 1706662559871,
     "user": {
      "displayName": "Ana Higo",
      "userId": "15754586142925589414"
     },
     "user_tz": 180
    },
    "id": "wWV6KScgAepk",
    "outputId": "817a43d1-4670-4011-8cbb-63f02201a298"
   },
   "outputs": [
    {
     "data": {
      "text/plain": [
       "array([1.13, 1.12, 1.08, 1.11, 1.1 , 1.12, 1.09, 1.13, 1.13, 1.1 , 1.06, 1.09])"
      ]
     },
     "execution_count": 589,
     "metadata": {},
     "output_type": "execute_result"
    }
   ],
   "source": [
    "data_quote"
   ]
  },
  {
   "cell_type": "code",
   "execution_count": 590,
   "metadata": {
    "colab": {
     "base_uri": "https://localhost:8080/"
    },
    "executionInfo": {
     "elapsed": 40,
     "status": "ok",
     "timestamp": 1706662559871,
     "user": {
      "displayName": "Ana Higo",
      "userId": "15754586142925589414"
     },
     "user_tz": 180
    },
    "id": "QaO4VgwWAgJC",
    "outputId": "a748f3f9-428e-4053-99a6-75c80cd8e221"
   },
   "outputs": [
    {
     "data": {
      "text/plain": [
       "array(['issue_date', 'loan_status', 'term_months', 'sub_grade', 'verification_status', 'state_address'], dtype='<U19')"
      ]
     },
     "execution_count": 590,
     "metadata": {},
     "output_type": "execute_result"
    }
   ],
   "source": [
    "header_strings"
   ]
  },
  {
   "cell_type": "code",
   "execution_count": 591,
   "metadata": {
    "colab": {
     "base_uri": "https://localhost:8080/"
    },
    "executionInfo": {
     "elapsed": 37,
     "status": "ok",
     "timestamp": 1706662559871,
     "user": {
      "displayName": "Ana Higo",
      "userId": "15754586142925589414"
     },
     "user_tz": 180
    },
    "id": "wfGhFCTIAhhI",
    "outputId": "040cadf3-f9f0-4099-c9ba-b4a4f19fcd94"
   },
   "outputs": [
    {
     "data": {
      "text/plain": [
       "array([[ 5,  1, 36, 13,  1,  1],\n",
       "       [ 0,  1, 36,  5,  1,  4],\n",
       "       [ 9,  1, 36, 10,  1,  4],\n",
       "       ...,\n",
       "       [ 6,  1, 36,  5,  1,  1],\n",
       "       [ 4,  1, 36, 17,  1,  3],\n",
       "       [12,  1, 36,  4,  0,  3]])"
      ]
     },
     "execution_count": 591,
     "metadata": {},
     "output_type": "execute_result"
    }
   ],
   "source": [
    "arr_strings"
   ]
  },
  {
   "cell_type": "code",
   "execution_count": 592,
   "metadata": {
    "colab": {
     "base_uri": "https://localhost:8080/"
    },
    "executionInfo": {
     "elapsed": 33,
     "status": "ok",
     "timestamp": 1706662559871,
     "user": {
      "displayName": "Ana Higo",
      "userId": "15754586142925589414"
     },
     "user_tz": 180
    },
    "id": "CQnq-PP7Ai9p",
    "outputId": "3a0f39f8-368a-4d7f-c272-ceb744590575"
   },
   "outputs": [
    {
     "data": {
      "text/plain": [
       "array([ 5,  0,  9, ...,  6,  4, 12])"
      ]
     },
     "execution_count": 592,
     "metadata": {},
     "output_type": "execute_result"
    }
   ],
   "source": [
    "arr_strings[:,0]"
   ]
  },
  {
   "cell_type": "code",
   "execution_count": 593,
   "metadata": {
    "colab": {
     "base_uri": "https://localhost:8080/"
    },
    "executionInfo": {
     "elapsed": 29,
     "status": "ok",
     "timestamp": 1706662559871,
     "user": {
      "displayName": "Ana Higo",
      "userId": "15754586142925589414"
     },
     "user_tz": 180
    },
    "id": "4xZC9FJWAkTG",
    "outputId": "cb4d8f43-2922-42d0-e074-b62e07403757"
   },
   "outputs": [
    {
     "data": {
      "text/plain": [
       "array([ 5,  0,  9, ...,  6,  4, 12])"
      ]
     },
     "execution_count": 593,
     "metadata": {},
     "output_type": "execute_result"
    }
   ],
   "source": [
    "exchange_rate = arr_strings[:,0]\n",
    "exchange_rate"
   ]
  },
  {
   "cell_type": "code",
   "execution_count": 594,
   "metadata": {
    "colab": {
     "base_uri": "https://localhost:8080/"
    },
    "executionInfo": {
     "elapsed": 26,
     "status": "ok",
     "timestamp": 1706662559871,
     "user": {
      "displayName": "Ana Higo",
      "userId": "15754586142925589414"
     },
     "user_tz": 180
    },
    "id": "4iJf92x2Am0i",
    "outputId": "45947578-54a4-402a-d2f0-98127189c069"
   },
   "outputs": [
    {
     "data": {
      "text/plain": [
       "array([1.1 , 0.  , 1.13, ..., 1.12, 1.11, 1.09])"
      ]
     },
     "execution_count": 594,
     "metadata": {},
     "output_type": "execute_result"
    }
   ],
   "source": [
    "for i in range(1,13):\n",
    "    exchange_rate = np.where(exchange_rate == i, data_quote[i - 1], exchange_rate)\n",
    "\n",
    "exchange_rate"
   ]
  },
  {
   "cell_type": "code",
   "execution_count": 595,
   "metadata": {
    "colab": {
     "base_uri": "https://localhost:8080/"
    },
    "executionInfo": {
     "elapsed": 21,
     "status": "ok",
     "timestamp": 1706662559871,
     "user": {
      "displayName": "Ana Higo",
      "userId": "15754586142925589414"
     },
     "user_tz": 180
    },
    "id": "P1rSc-vyAoRR",
    "outputId": "5976f581-416d-473f-ff13-fc75fc340b3a"
   },
   "outputs": [
    {
     "data": {
      "text/plain": [
       "array([1.1 , 1.11, 1.13, ..., 1.12, 1.11, 1.09])"
      ]
     },
     "execution_count": 595,
     "metadata": {},
     "output_type": "execute_result"
    }
   ],
   "source": [
    "exchange_rate = np.where(exchange_rate == 0, np.mean(data_quote), exchange_rate)\n",
    "exchange_rate"
   ]
  },
  {
   "cell_type": "code",
   "execution_count": 596,
   "metadata": {
    "executionInfo": {
     "elapsed": 18,
     "status": "ok",
     "timestamp": 1706662559872,
     "user": {
      "displayName": "Ana Higo",
      "userId": "15754586142925589414"
     },
     "user_tz": 180
    },
    "id": "aShaBV1QAoMI"
   },
   "outputs": [
    {
     "data": {
      "text/plain": [
       "(10000,)"
      ]
     },
     "execution_count": 596,
     "metadata": {},
     "output_type": "execute_result"
    }
   ],
   "source": [
    "exchange_rate.shape"
   ]
  },
  {
   "cell_type": "code",
   "execution_count": 597,
   "metadata": {
    "colab": {
     "base_uri": "https://localhost:8080/"
    },
    "executionInfo": {
     "elapsed": 18,
     "status": "ok",
     "timestamp": 1706662559872,
     "user": {
      "displayName": "Ana Higo",
      "userId": "15754586142925589414"
     },
     "user_tz": 180
    },
    "id": "4iXcdMUBAlkO",
    "outputId": "460ef319-20e3-4b5e-9b30-83c2fd641210"
   },
   "outputs": [
    {
     "data": {
      "text/plain": [
       "(10000, 6)"
      ]
     },
     "execution_count": 597,
     "metadata": {},
     "output_type": "execute_result"
    }
   ],
   "source": [
    "arr_numeric.shape"
   ]
  },
  {
   "cell_type": "code",
   "execution_count": 598,
   "metadata": {
    "executionInfo": {
     "elapsed": 282,
     "status": "ok",
     "timestamp": 1706662564509,
     "user": {
      "displayName": "Ana Higo",
      "userId": "15754586142925589414"
     },
     "user_tz": 180
    },
    "id": "mzfM21eMA5Rk"
   },
   "outputs": [],
   "source": [
    "exchange_rate = np.reshape(exchange_rate, (10000,1))"
   ]
  },
  {
   "cell_type": "code",
   "execution_count": 599,
   "metadata": {
    "executionInfo": {
     "elapsed": 426,
     "status": "ok",
     "timestamp": 1706662566132,
     "user": {
      "displayName": "Ana Higo",
      "userId": "15754586142925589414"
     },
     "user_tz": 180
    },
    "id": "uZV_B_frA-fY"
   },
   "outputs": [],
   "source": [
    "arr_numeric = np.hstack((arr_numeric, exchange_rate))"
   ]
  },
  {
   "cell_type": "code",
   "execution_count": 600,
   "metadata": {
    "executionInfo": {
     "elapsed": 3,
     "status": "ok",
     "timestamp": 1706662574617,
     "user": {
      "displayName": "Ana Higo",
      "userId": "15754586142925589414"
     },
     "user_tz": 180
    },
    "id": "jRtdHLf2BCF5"
   },
   "outputs": [
    {
     "data": {
      "text/plain": [
       "array(['id', 'loan_amnt', 'funded_amnt', 'int_rate', 'installment', 'total_pymnt', 'exchange_rate'], dtype='<U19')"
      ]
     },
     "execution_count": 600,
     "metadata": {},
     "output_type": "execute_result"
    }
   ],
   "source": [
    "header_numeric = np.concatenate((header_numeric, np.array(['exchange_rate'])))\n",
    "header_numeric"
   ]
  },
  {
   "cell_type": "code",
   "execution_count": 601,
   "metadata": {
    "colab": {
     "base_uri": "https://localhost:8080/"
    },
    "executionInfo": {
     "elapsed": 9,
     "status": "ok",
     "timestamp": 1706662604032,
     "user": {
      "displayName": "Ana Higo",
      "userId": "15754586142925589414"
     },
     "user_tz": 180
    },
    "id": "RmhwXk74BGXp",
    "outputId": "d519845a-0352-47a9-91a9-34f64e300ef5"
   },
   "outputs": [
    {
     "data": {
      "text/plain": [
       "array(['id', 'loan_amnt', 'funded_amnt', 'int_rate', 'installment', 'total_pymnt', 'exchange_rate'], dtype='<U19')"
      ]
     },
     "execution_count": 601,
     "metadata": {},
     "output_type": "execute_result"
    }
   ],
   "source": [
    "header_numeric"
   ]
  },
  {
   "cell_type": "code",
   "execution_count": 602,
   "metadata": {
    "executionInfo": {
     "elapsed": 3,
     "status": "ok",
     "timestamp": 1706662612581,
     "user": {
      "displayName": "Ana Higo",
      "userId": "15754586142925589414"
     },
     "user_tz": 180
    },
    "id": "FNTlGT2ABLbn"
   },
   "outputs": [],
   "source": [
    "columns_dollar = np.array([1,2,4,5])"
   ]
  },
  {
   "cell_type": "code",
   "execution_count": 603,
   "metadata": {
    "colab": {
     "base_uri": "https://localhost:8080/"
    },
    "executionInfo": {
     "elapsed": 3,
     "status": "ok",
     "timestamp": 1706662621908,
     "user": {
      "displayName": "Ana Higo",
      "userId": "15754586142925589414"
     },
     "user_tz": 180
    },
    "id": "ijlEBct4BNXK",
    "outputId": "68746655-e2f1-444d-d8c4-e279aaa60591"
   },
   "outputs": [
    {
     "data": {
      "text/plain": [
       "array([1.1 , 1.11, 1.13, ..., 1.12, 1.11, 1.09])"
      ]
     },
     "execution_count": 603,
     "metadata": {},
     "output_type": "execute_result"
    }
   ],
   "source": [
    "arr_numeric[:,6]"
   ]
  },
  {
   "cell_type": "code",
   "execution_count": 604,
   "metadata": {
    "colab": {
     "base_uri": "https://localhost:8080/"
    },
    "executionInfo": {
     "elapsed": 4,
     "status": "ok",
     "timestamp": 1706662627745,
     "user": {
      "displayName": "Ana Higo",
      "userId": "15754586142925589414"
     },
     "user_tz": 180
    },
    "id": "Q2EvAMGmBQIC",
    "outputId": "5a1ef2b4-fc41-444e-a7f9-37fdd4a61ea7"
   },
   "outputs": [
    {
     "data": {
      "text/plain": [
       "(10000, 7)"
      ]
     },
     "execution_count": 604,
     "metadata": {},
     "output_type": "execute_result"
    }
   ],
   "source": [
    "arr_numeric.shape"
   ]
  },
  {
   "cell_type": "code",
   "execution_count": 605,
   "metadata": {
    "executionInfo": {
     "elapsed": 3,
     "status": "ok",
     "timestamp": 1706662639224,
     "user": {
      "displayName": "Ana Higo",
      "userId": "15754586142925589414"
     },
     "user_tz": 180
    },
    "id": "WddhjRcmBRn2"
   },
   "outputs": [],
   "source": [
    "for i in columns_dollar:\n",
    "    arr_numeric = np.hstack((arr_numeric, np.reshape(arr_numeric[:,i] / arr_numeric[:,6], (10000,1))))"
   ]
  },
  {
   "cell_type": "code",
   "execution_count": 606,
   "metadata": {
    "colab": {
     "base_uri": "https://localhost:8080/"
    },
    "executionInfo": {
     "elapsed": 7,
     "status": "ok",
     "timestamp": 1706662645299,
     "user": {
      "displayName": "Ana Higo",
      "userId": "15754586142925589414"
     },
     "user_tz": 180
    },
    "id": "Czy4LhbqBUXI",
    "outputId": "1af8bf5d-fb93-4d09-9d30-e02cfd1b8957"
   },
   "outputs": [
    {
     "data": {
      "text/plain": [
       "(10000, 11)"
      ]
     },
     "execution_count": 606,
     "metadata": {},
     "output_type": "execute_result"
    }
   ],
   "source": [
    "arr_numeric.shape"
   ]
  },
  {
   "cell_type": "code",
   "execution_count": 607,
   "metadata": {
    "colab": {
     "base_uri": "https://localhost:8080/"
    },
    "executionInfo": {
     "elapsed": 4,
     "status": "ok",
     "timestamp": 1706662655322,
     "user": {
      "displayName": "Ana Higo",
      "userId": "15754586142925589414"
     },
     "user_tz": 180
    },
    "id": "oZE-trzsBWPl",
    "outputId": "aa7ae3d4-362c-4052-d9a0-cbe866801def"
   },
   "outputs": [
    {
     "data": {
      "text/plain": [
       "array([[48010226.  ,    35000.  ,    35000.  , ...,    31933.3 ,     1081.04,     8624.69],\n",
       "       [57693261.  ,    30000.  ,    30000.  , ...,    27132.46,      848.86,     4232.39],\n",
       "       [59432726.  ,    15000.  ,    15000.  , ...,    13326.3 ,      439.64,     1750.04],\n",
       "       ...,\n",
       "       [50415990.  ,    10000.  ,    10000.  , ...,     8910.3 ,     1223.36,     1947.47],\n",
       "       [46154151.  ,    35000.  ,    10000.  , ...,     8997.4 ,      318.78,     2878.63],\n",
       "       [66055249.  ,    10000.  ,    10000.  , ...,     9145.8 ,      283.49,      276.11]])"
      ]
     },
     "execution_count": 607,
     "metadata": {},
     "output_type": "execute_result"
    }
   ],
   "source": [
    "arr_numeric"
   ]
  },
  {
   "cell_type": "code",
   "execution_count": 608,
   "metadata": {
    "colab": {
     "base_uri": "https://localhost:8080/"
    },
    "executionInfo": {
     "elapsed": 310,
     "status": "ok",
     "timestamp": 1706662684433,
     "user": {
      "displayName": "Ana Higo",
      "userId": "15754586142925589414"
     },
     "user_tz": 180
    },
    "id": "3153jQ3jBYo2",
    "outputId": "f4b62b55-bf0c-435e-d3aa-a5a19e3ce3fc"
   },
   "outputs": [
    {
     "data": {
      "text/plain": [
       "array(['loan_amnt_EUR', 'funded_amnt_EUR', 'installment_EUR', 'total_pymnt_EUR'], dtype='<U15')"
      ]
     },
     "execution_count": 608,
     "metadata": {},
     "output_type": "execute_result"
    }
   ],
   "source": [
    "header_additional = np.array([column_name + '_EUR' for column_name in header_numeric[columns_dollar]])\n",
    "header_additional"
   ]
  },
  {
   "cell_type": "code",
   "execution_count": 609,
   "metadata": {
    "colab": {
     "base_uri": "https://localhost:8080/"
    },
    "executionInfo": {
     "elapsed": 347,
     "status": "ok",
     "timestamp": 1706662697822,
     "user": {
      "displayName": "Ana Higo",
      "userId": "15754586142925589414"
     },
     "user_tz": 180
    },
    "id": "7IsnnPMhBgFd",
    "outputId": "424963d1-0581-41ed-e815-44d51ce8b2d2"
   },
   "outputs": [
    {
     "data": {
      "text/plain": [
       "array(['id', 'loan_amnt', 'funded_amnt', 'int_rate', 'installment', 'total_pymnt', 'exchange_rate', 'loan_amnt_EUR', 'funded_amnt_EUR', 'installment_EUR', 'total_pymnt_EUR'], dtype='<U19')"
      ]
     },
     "execution_count": 609,
     "metadata": {},
     "output_type": "execute_result"
    }
   ],
   "source": [
    "header_numeric = np.concatenate((header_numeric, header_additional))\n",
    "header_numeric"
   ]
  },
  {
   "cell_type": "code",
   "execution_count": 610,
   "metadata": {
    "colab": {
     "base_uri": "https://localhost:8080/"
    },
    "executionInfo": {
     "elapsed": 272,
     "status": "ok",
     "timestamp": 1706662708979,
     "user": {
      "displayName": "Ana Higo",
      "userId": "15754586142925589414"
     },
     "user_tz": 180
    },
    "id": "YO-KN_HWBivZ",
    "outputId": "eebc7fe6-b5d6-4669-a275-5cd29381fd42"
   },
   "outputs": [
    {
     "data": {
      "text/plain": [
       "array(['id', 'loan_amnt_USD', 'funded_amnt_USD', 'int_rate', 'installment_USD', 'total_pymnt_USD', 'exchange_rate', 'loan_amnt_EUR', 'funded_amnt_EUR', 'installment_EUR', 'total_pymnt_EUR'],\n",
       "      dtype='<U19')"
      ]
     },
     "execution_count": 610,
     "metadata": {},
     "output_type": "execute_result"
    }
   ],
   "source": [
    "header_numeric[columns_dollar] = np.array([column_name + '_USD' for column_name in header_numeric[columns_dollar]])\n",
    "header_numeric"
   ]
  },
  {
   "cell_type": "code",
   "execution_count": 611,
   "metadata": {
    "executionInfo": {
     "elapsed": 3,
     "status": "ok",
     "timestamp": 1706662718026,
     "user": {
      "displayName": "Ana Higo",
      "userId": "15754586142925589414"
     },
     "user_tz": 180
    },
    "id": "cFIm4PwHBmFd"
   },
   "outputs": [],
   "source": [
    "columns_index_order = [0,1,7,2,8,3,4,9,5,10,6]"
   ]
  },
  {
   "cell_type": "code",
   "execution_count": 612,
   "metadata": {
    "executionInfo": {
     "elapsed": 319,
     "status": "ok",
     "timestamp": 1706662725103,
     "user": {
      "displayName": "Ana Higo",
      "userId": "15754586142925589414"
     },
     "user_tz": 180
    },
    "id": "iSLX4XrJBn0y"
   },
   "outputs": [],
   "source": [
    "header_numeric = header_numeric[columns_index_order]"
   ]
  },
  {
   "cell_type": "code",
   "execution_count": 613,
   "metadata": {
    "colab": {
     "base_uri": "https://localhost:8080/"
    },
    "executionInfo": {
     "elapsed": 350,
     "status": "ok",
     "timestamp": 1706662732149,
     "user": {
      "displayName": "Ana Higo",
      "userId": "15754586142925589414"
     },
     "user_tz": 180
    },
    "id": "hP8FnbT1BpqE",
    "outputId": "2698167f-5a3d-4bca-a06c-9a0f42ba4c3b"
   },
   "outputs": [
    {
     "data": {
      "text/plain": [
       "array([[48010226.  ,    35000.  ,    35000.  , ...,    31933.3 ,     1081.04,     8624.69],\n",
       "       [57693261.  ,    30000.  ,    30000.  , ...,    27132.46,      848.86,     4232.39],\n",
       "       [59432726.  ,    15000.  ,    15000.  , ...,    13326.3 ,      439.64,     1750.04],\n",
       "       ...,\n",
       "       [50415990.  ,    10000.  ,    10000.  , ...,     8910.3 ,     1223.36,     1947.47],\n",
       "       [46154151.  ,    35000.  ,    10000.  , ...,     8997.4 ,      318.78,     2878.63],\n",
       "       [66055249.  ,    10000.  ,    10000.  , ...,     9145.8 ,      283.49,      276.11]])"
      ]
     },
     "execution_count": 613,
     "metadata": {},
     "output_type": "execute_result"
    }
   ],
   "source": [
    "arr_numeric"
   ]
  },
  {
   "cell_type": "code",
   "execution_count": 614,
   "metadata": {
    "executionInfo": {
     "elapsed": 309,
     "status": "ok",
     "timestamp": 1706662738838,
     "user": {
      "displayName": "Ana Higo",
      "userId": "15754586142925589414"
     },
     "user_tz": 180
    },
    "id": "M5KvChcvBrME"
   },
   "outputs": [],
   "source": [
    "arr_numeric = arr_numeric[:,columns_index_order]"
   ]
  },
  {
   "cell_type": "code",
   "execution_count": 615,
   "metadata": {
    "colab": {
     "base_uri": "https://localhost:8080/"
    },
    "executionInfo": {
     "elapsed": 3,
     "status": "ok",
     "timestamp": 1706662767789,
     "user": {
      "displayName": "Ana Higo",
      "userId": "15754586142925589414"
     },
     "user_tz": 180
    },
    "id": "Xt6bwAU4Btz1",
    "outputId": "183fd118-bf37-48cd-a568-4c632e86b40a"
   },
   "outputs": [
    {
     "data": {
      "text/plain": [
       "array(['id', 'loan_amnt_USD', 'loan_amnt_EUR', 'funded_amnt_USD', 'funded_amnt_EUR', 'int_rate', 'installment_USD', 'installment_EUR', 'total_pymnt_USD', 'total_pymnt_EUR', 'exchange_rate'],\n",
       "      dtype='<U19')"
      ]
     },
     "execution_count": 615,
     "metadata": {},
     "output_type": "execute_result"
    }
   ],
   "source": [
    "header_numeric"
   ]
  },
  {
   "cell_type": "code",
   "execution_count": 616,
   "metadata": {
    "colab": {
     "base_uri": "https://localhost:8080/"
    },
    "executionInfo": {
     "elapsed": 6,
     "status": "ok",
     "timestamp": 1706662773671,
     "user": {
      "displayName": "Ana Higo",
      "userId": "15754586142925589414"
     },
     "user_tz": 180
    },
    "id": "_nsMqg5mBzxc",
    "outputId": "ec30c2b4-b2ab-40f5-b4ee-b6f61a26fe7d"
   },
   "outputs": [
    {
     "data": {
      "text/plain": [
       "array([13.33, 28.99, 28.99, ..., 28.99, 16.55, 28.99])"
      ]
     },
     "execution_count": 616,
     "metadata": {},
     "output_type": "execute_result"
    }
   ],
   "source": [
    "arr_numeric[:,5]"
   ]
  },
  {
   "cell_type": "code",
   "execution_count": 617,
   "metadata": {
    "executionInfo": {
     "elapsed": 297,
     "status": "ok",
     "timestamp": 1706662781297,
     "user": {
      "displayName": "Ana Higo",
      "userId": "15754586142925589414"
     },
     "user_tz": 180
    },
    "id": "Y8Le7fI8B1oY"
   },
   "outputs": [
    {
     "data": {
      "text/plain": [
       "array([0.13, 0.29, 0.29, ..., 0.29, 0.17, 0.29])"
      ]
     },
     "execution_count": 617,
     "metadata": {},
     "output_type": "execute_result"
    }
   ],
   "source": [
    "arr_numeric[:,5] = arr_numeric[:,5] / 100\n",
    "arr_numeric[:,5]"
   ]
  },
  {
   "cell_type": "markdown",
   "metadata": {
    "id": "-b9d5sNrB7Hx"
   },
   "source": [
    "### Checkpoint with Clean and Preprocessed Numerical Variables"
   ]
  },
  {
   "cell_type": "code",
   "execution_count": 618,
   "metadata": {
    "executionInfo": {
     "elapsed": 3,
     "status": "ok",
     "timestamp": 1706662854068,
     "user": {
      "displayName": "Ana Higo",
      "userId": "15754586142925589414"
     },
     "user_tz": 180
    },
    "id": "jiTvc5JBB63t"
   },
   "outputs": [],
   "source": [
    "checkpoint_numeric = checkpoint(\"dataset/generated_data/checkpoint_numeric\", header_numeric, arr_numeric)"
   ]
  },
  {
   "cell_type": "code",
   "execution_count": 619,
   "metadata": {
    "colab": {
     "base_uri": "https://localhost:8080/"
    },
    "executionInfo": {
     "elapsed": 292,
     "status": "ok",
     "timestamp": 1706662852233,
     "user": {
      "displayName": "Ana Higo",
      "userId": "15754586142925589414"
     },
     "user_tz": 180
    },
    "id": "QMTmyULRCFhc",
    "outputId": "2f20ec8b-b5f4-4570-81d2-40193b22d822"
   },
   "outputs": [
    {
     "data": {
      "text/plain": [
       "(array(['id', 'loan_amnt_USD', 'loan_amnt_EUR', 'funded_amnt_USD', 'funded_amnt_EUR', 'int_rate', 'installment_USD', 'installment_EUR', 'total_pymnt_USD', 'total_pymnt_EUR', 'exchange_rate'],\n",
       "       dtype='<U19'),\n",
       " array([[48010226.  ,    35000.  ,    31933.3 , ...,     9452.96,     8624.69,        1.1 ],\n",
       "        [57693261.  ,    30000.  ,    27132.46, ...,     4679.7 ,     4232.39,        1.11],\n",
       "        [59432726.  ,    15000.  ,    13326.3 , ...,     1969.83,     1750.04,        1.13],\n",
       "        ...,\n",
       "        [50415990.  ,    10000.  ,     8910.3 , ...,     2185.64,     1947.47,        1.12],\n",
       "        [46154151.  ,    35000.  ,    31490.9 , ...,     3199.4 ,     2878.63,        1.11],\n",
       "        [66055249.  ,    10000.  ,     9145.8 , ...,      301.9 ,      276.11,        1.09]]))"
      ]
     },
     "execution_count": 619,
     "metadata": {},
     "output_type": "execute_result"
    }
   ],
   "source": [
    "checkpoint_numeric['header'], checkpoint_numeric['data']"
   ]
  },
  {
   "cell_type": "markdown",
   "metadata": {
    "id": "jDSSRFL6CFUq"
   },
   "source": [
    "### Building the Final Dataset"
   ]
  },
  {
   "cell_type": "code",
   "execution_count": 620,
   "metadata": {
    "colab": {
     "base_uri": "https://localhost:8080/"
    },
    "executionInfo": {
     "elapsed": 7,
     "status": "ok",
     "timestamp": 1706662909693,
     "user": {
      "displayName": "Ana Higo",
      "userId": "15754586142925589414"
     },
     "user_tz": 180
    },
    "id": "eyirQJlXCMGp",
    "outputId": "0f32b59d-dc64-4473-999f-dff5dc33d016"
   },
   "outputs": [
    {
     "data": {
      "text/plain": [
       "(10000, 6)"
      ]
     },
     "execution_count": 620,
     "metadata": {},
     "output_type": "execute_result"
    }
   ],
   "source": [
    "checkpoint_strings['data'].shape"
   ]
  },
  {
   "cell_type": "code",
   "execution_count": 621,
   "metadata": {
    "colab": {
     "base_uri": "https://localhost:8080/"
    },
    "executionInfo": {
     "elapsed": 3,
     "status": "ok",
     "timestamp": 1706662913227,
     "user": {
      "displayName": "Ana Higo",
      "userId": "15754586142925589414"
     },
     "user_tz": 180
    },
    "id": "-PmxIn9sCTVI",
    "outputId": "8c70aa1a-fff6-4a5b-c5c7-52dd48fe5643"
   },
   "outputs": [
    {
     "data": {
      "text/plain": [
       "(10000, 11)"
      ]
     },
     "execution_count": 621,
     "metadata": {},
     "output_type": "execute_result"
    }
   ],
   "source": [
    "checkpoint_numeric['data'].shape"
   ]
  },
  {
   "cell_type": "code",
   "execution_count": 622,
   "metadata": {
    "colab": {
     "base_uri": "https://localhost:8080/"
    },
    "executionInfo": {
     "elapsed": 473,
     "status": "ok",
     "timestamp": 1706662924750,
     "user": {
      "displayName": "Ana Higo",
      "userId": "15754586142925589414"
     },
     "user_tz": 180
    },
    "id": "JxaFr4rxCTLy",
    "outputId": "019e815b-24be-4014-f609-2710c75998c0"
   },
   "outputs": [
    {
     "data": {
      "text/plain": [
       "array([[48010226.  ,    35000.  ,    31933.3 , ...,       13.  ,        1.  ,        1.  ],\n",
       "       [57693261.  ,    30000.  ,    27132.46, ...,        5.  ,        1.  ,        4.  ],\n",
       "       [59432726.  ,    15000.  ,    13326.3 , ...,       10.  ,        1.  ,        4.  ],\n",
       "       ...,\n",
       "       [50415990.  ,    10000.  ,     8910.3 , ...,        5.  ,        1.  ,        1.  ],\n",
       "       [46154151.  ,    35000.  ,    31490.9 , ...,       17.  ,        1.  ,        3.  ],\n",
       "       [66055249.  ,    10000.  ,     9145.8 , ...,        4.  ,        0.  ,        3.  ]])"
      ]
     },
     "execution_count": 622,
     "metadata": {},
     "output_type": "execute_result"
    }
   ],
   "source": [
    "df_final = np.hstack((checkpoint_numeric['data'], checkpoint_strings['data']))\n",
    "df_final"
   ]
  },
  {
   "cell_type": "code",
   "execution_count": 623,
   "metadata": {
    "colab": {
     "base_uri": "https://localhost:8080/"
    },
    "executionInfo": {
     "elapsed": 318,
     "status": "ok",
     "timestamp": 1706662933453,
     "user": {
      "displayName": "Ana Higo",
      "userId": "15754586142925589414"
     },
     "user_tz": 180
    },
    "id": "gxvgPrWJCZuQ",
    "outputId": "f854b705-c138-4488-ca44-2893e3713098"
   },
   "outputs": [
    {
     "data": {
      "text/plain": [
       "0"
      ]
     },
     "execution_count": 623,
     "metadata": {},
     "output_type": "execute_result"
    }
   ],
   "source": [
    "np.isnan(df_final).sum()"
   ]
  },
  {
   "cell_type": "code",
   "execution_count": 624,
   "metadata": {
    "executionInfo": {
     "elapsed": 2,
     "status": "ok",
     "timestamp": 1706662938182,
     "user": {
      "displayName": "Ana Higo",
      "userId": "15754586142925589414"
     },
     "user_tz": 180
    },
    "id": "YmJu2cLKCZdl"
   },
   "outputs": [],
   "source": [
    "header_full = np.concatenate((checkpoint_numeric['header'], checkpoint_strings['header']))"
   ]
  },
  {
   "cell_type": "code",
   "execution_count": 625,
   "metadata": {
    "colab": {
     "base_uri": "https://localhost:8080/"
    },
    "executionInfo": {
     "elapsed": 295,
     "status": "ok",
     "timestamp": 1706662949608,
     "user": {
      "displayName": "Ana Higo",
      "userId": "15754586142925589414"
     },
     "user_tz": 180
    },
    "id": "MtCbFR0pCci_",
    "outputId": "8d9a30fa-ba99-49db-a824-b3dfa508394d"
   },
   "outputs": [
    {
     "data": {
      "text/plain": [
       "array([[48010226.  ,    35000.  ,    31933.3 , ...,       13.  ,        1.  ,        1.  ],\n",
       "       [57693261.  ,    30000.  ,    27132.46, ...,        5.  ,        1.  ,        4.  ],\n",
       "       [59432726.  ,    15000.  ,    13326.3 , ...,       10.  ,        1.  ,        4.  ],\n",
       "       ...,\n",
       "       [50415990.  ,    10000.  ,     8910.3 , ...,        5.  ,        1.  ,        1.  ],\n",
       "       [46154151.  ,    35000.  ,    31490.9 , ...,       17.  ,        1.  ,        3.  ],\n",
       "       [66055249.  ,    10000.  ,     9145.8 , ...,        4.  ,        0.  ,        3.  ]])"
      ]
     },
     "execution_count": 625,
     "metadata": {},
     "output_type": "execute_result"
    }
   ],
   "source": [
    "df_finale = df_final[np.argsort(df_finale[:,0])]\n",
    "df_finale"
   ]
  },
  {
   "cell_type": "code",
   "execution_count": 626,
   "metadata": {
    "colab": {
     "base_uri": "https://localhost:8080/"
    },
    "executionInfo": {
     "elapsed": 6,
     "status": "ok",
     "timestamp": 1706662957389,
     "user": {
      "displayName": "Ana Higo",
      "userId": "15754586142925589414"
     },
     "user_tz": 180
    },
    "id": "KUNf3WptCggT",
    "outputId": "442f8e0f-c2f0-448b-8886-ba418400a8e7"
   },
   "outputs": [
    {
     "data": {
      "text/plain": [
       "array([2086, 4812, 2353, ..., 4935, 9388, 8415], dtype=int64)"
      ]
     },
     "execution_count": 626,
     "metadata": {},
     "output_type": "execute_result"
    }
   ],
   "source": [
    "np.argsort(df_final[:,0])"
   ]
  },
  {
   "cell_type": "markdown",
   "metadata": {
    "id": "JNGOCCylB7Cd"
   },
   "source": [
    "#### Writing the Final Cleaned and Pre-Processed Dataset"
   ]
  },
  {
   "cell_type": "code",
   "execution_count": 627,
   "metadata": {
    "executionInfo": {
     "elapsed": 477,
     "status": "ok",
     "timestamp": 1706662985894,
     "user": {
      "displayName": "Ana Higo",
      "userId": "15754586142925589414"
     },
     "user_tz": 180
    },
    "id": "ED187GsmCihH"
   },
   "outputs": [],
   "source": [
    "df_final = np.vstack((header_full, df_final))"
   ]
  },
  {
   "cell_type": "code",
   "execution_count": 628,
   "metadata": {
    "executionInfo": {
     "elapsed": 421,
     "status": "ok",
     "timestamp": 1706662987322,
     "user": {
      "displayName": "Ana Higo",
      "userId": "15754586142925589414"
     },
     "user_tz": 180
    },
    "id": "pcD5zMgNCiY_"
   },
   "outputs": [],
   "source": [
    "np.savetxt(\"dataset/generated_data/dataset_clean_preprocessed.csv\",\n",
    "           df_final,\n",
    "           fmt = '%s',\n",
    "           delimiter = ',')"
   ]
  }
 ],
 "metadata": {
  "colab": {
   "authorship_tag": "ABX9TyOYu035B6fn1VvPKT1SMQka",
   "provenance": []
  },
  "kernelspec": {
   "display_name": "Python 3 (ipykernel)",
   "language": "python",
   "name": "python3"
  },
  "language_info": {
   "codemirror_mode": {
    "name": "ipython",
    "version": 3
   },
   "file_extension": ".py",
   "mimetype": "text/x-python",
   "name": "python",
   "nbconvert_exporter": "python",
   "pygments_lexer": "ipython3",
   "version": "3.11.5"
  }
 },
 "nbformat": 4,
 "nbformat_minor": 1
}
