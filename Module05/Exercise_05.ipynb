{
 "cells": [
  {
   "cell_type": "code",
   "execution_count": 1,
   "metadata": {},
   "outputs": [],
   "source": [
    "# Imports\n",
    "import pandas as pd\n",
    "import numpy as np"
   ]
  },
  {
   "cell_type": "code",
   "execution_count": 2,
   "metadata": {},
   "outputs": [
    {
     "data": {
      "text/html": [
       "<div>\n",
       "<style scoped>\n",
       "    .dataframe tbody tr th:only-of-type {\n",
       "        vertical-align: middle;\n",
       "    }\n",
       "\n",
       "    .dataframe tbody tr th {\n",
       "        vertical-align: top;\n",
       "    }\n",
       "\n",
       "    .dataframe thead th {\n",
       "        text-align: right;\n",
       "    }\n",
       "</style>\n",
       "<table border=\"1\" class=\"dataframe\">\n",
       "  <thead>\n",
       "    <tr style=\"text-align: right;\">\n",
       "      <th></th>\n",
       "      <th>id_disciplina</th>\n",
       "      <th>nome</th>\n",
       "      <th>sobrenome</th>\n",
       "    </tr>\n",
       "  </thead>\n",
       "  <tbody>\n",
       "    <tr>\n",
       "      <th>0</th>\n",
       "      <td>1</td>\n",
       "      <td>Bob</td>\n",
       "      <td>Anderson</td>\n",
       "    </tr>\n",
       "    <tr>\n",
       "      <th>1</th>\n",
       "      <td>2</td>\n",
       "      <td>Maria</td>\n",
       "      <td>Teixeira</td>\n",
       "    </tr>\n",
       "    <tr>\n",
       "      <th>2</th>\n",
       "      <td>3</td>\n",
       "      <td>Mateus</td>\n",
       "      <td>Amoedo</td>\n",
       "    </tr>\n",
       "    <tr>\n",
       "      <th>3</th>\n",
       "      <td>4</td>\n",
       "      <td>Ivo</td>\n",
       "      <td>Trindade</td>\n",
       "    </tr>\n",
       "    <tr>\n",
       "      <th>4</th>\n",
       "      <td>5</td>\n",
       "      <td>Gerson</td>\n",
       "      <td>Vargas</td>\n",
       "    </tr>\n",
       "  </tbody>\n",
       "</table>\n",
       "</div>"
      ],
      "text/plain": [
       "  id_disciplina    nome sobrenome\n",
       "0             1     Bob  Anderson\n",
       "1             2   Maria  Teixeira\n",
       "2             3  Mateus    Amoedo\n",
       "3             4     Ivo  Trindade\n",
       "4             5  Gerson    Vargas"
      ]
     },
     "execution_count": 2,
     "metadata": {},
     "output_type": "execute_result"
    }
   ],
   "source": [
    "# Dicionário de dados\n",
    "dados1 = {\n",
    "        'id_disciplina': ['1', '2', '3', '4', '5'],\n",
    "        'nome': ['Bob', 'Maria', 'Mateus', 'Ivo', 'Gerson'],\n",
    "        'sobrenome': ['Anderson', 'Teixeira', 'Amoedo', 'Trindade', 'Vargas']}\n",
    "\n",
    "# Criação do dataframe a\n",
    "df_a = pd.DataFrame(dados1, columns = ['id_disciplina', 'nome', 'sobrenome'])\n",
    "df_a"
   ]
  },
  {
   "cell_type": "code",
   "execution_count": 4,
   "metadata": {},
   "outputs": [
    {
     "data": {
      "text/html": [
       "<div>\n",
       "<style scoped>\n",
       "    .dataframe tbody tr th:only-of-type {\n",
       "        vertical-align: middle;\n",
       "    }\n",
       "\n",
       "    .dataframe tbody tr th {\n",
       "        vertical-align: top;\n",
       "    }\n",
       "\n",
       "    .dataframe thead th {\n",
       "        text-align: right;\n",
       "    }\n",
       "</style>\n",
       "<table border=\"1\" class=\"dataframe\">\n",
       "  <thead>\n",
       "    <tr style=\"text-align: right;\">\n",
       "      <th></th>\n",
       "      <th>id_disciplina</th>\n",
       "      <th>nome</th>\n",
       "      <th>sobrenome</th>\n",
       "    </tr>\n",
       "  </thead>\n",
       "  <tbody>\n",
       "    <tr>\n",
       "      <th>0</th>\n",
       "      <td>4</td>\n",
       "      <td>Roberto</td>\n",
       "      <td>Sampaio</td>\n",
       "    </tr>\n",
       "    <tr>\n",
       "      <th>1</th>\n",
       "      <td>5</td>\n",
       "      <td>Mariana</td>\n",
       "      <td>Fernandes</td>\n",
       "    </tr>\n",
       "    <tr>\n",
       "      <th>2</th>\n",
       "      <td>6</td>\n",
       "      <td>Ana</td>\n",
       "      <td>Arantes</td>\n",
       "    </tr>\n",
       "    <tr>\n",
       "      <th>3</th>\n",
       "      <td>7</td>\n",
       "      <td>Marcos</td>\n",
       "      <td>Menezes</td>\n",
       "    </tr>\n",
       "    <tr>\n",
       "      <th>4</th>\n",
       "      <td>8</td>\n",
       "      <td>Maria</td>\n",
       "      <td>Martins</td>\n",
       "    </tr>\n",
       "  </tbody>\n",
       "</table>\n",
       "</div>"
      ],
      "text/plain": [
       "  id_disciplina     nome  sobrenome\n",
       "0             4  Roberto    Sampaio\n",
       "1             5  Mariana  Fernandes\n",
       "2             6      Ana    Arantes\n",
       "3             7   Marcos    Menezes\n",
       "4             8    Maria    Martins"
      ]
     },
     "execution_count": 4,
     "metadata": {},
     "output_type": "execute_result"
    }
   ],
   "source": [
    "# Dicionário de dados\n",
    "dados2 = {\n",
    "        'id_disciplina': ['4', '5', '6', '7', '8'],\n",
    "        'nome': ['Roberto', 'Mariana', 'Ana', 'Marcos', 'Maria'],\n",
    "        'sobrenome': ['Sampaio', 'Fernandes', 'Arantes', 'Menezes', 'Martins']}\n",
    "\n",
    "# Criação do dataframe b\n",
    "df_b = pd.DataFrame(dados2, columns = ['id_disciplina', 'nome', 'sobrenome'])\n",
    "df_b"
   ]
  },
  {
   "cell_type": "code",
   "execution_count": 5,
   "metadata": {},
   "outputs": [
    {
     "data": {
      "text/html": [
       "<div>\n",
       "<style scoped>\n",
       "    .dataframe tbody tr th:only-of-type {\n",
       "        vertical-align: middle;\n",
       "    }\n",
       "\n",
       "    .dataframe tbody tr th {\n",
       "        vertical-align: top;\n",
       "    }\n",
       "\n",
       "    .dataframe thead th {\n",
       "        text-align: right;\n",
       "    }\n",
       "</style>\n",
       "<table border=\"1\" class=\"dataframe\">\n",
       "  <thead>\n",
       "    <tr style=\"text-align: right;\">\n",
       "      <th></th>\n",
       "      <th>id_disciplina</th>\n",
       "      <th>id_teste</th>\n",
       "    </tr>\n",
       "  </thead>\n",
       "  <tbody>\n",
       "    <tr>\n",
       "      <th>0</th>\n",
       "      <td>1</td>\n",
       "      <td>81</td>\n",
       "    </tr>\n",
       "    <tr>\n",
       "      <th>1</th>\n",
       "      <td>2</td>\n",
       "      <td>75</td>\n",
       "    </tr>\n",
       "    <tr>\n",
       "      <th>2</th>\n",
       "      <td>3</td>\n",
       "      <td>75</td>\n",
       "    </tr>\n",
       "    <tr>\n",
       "      <th>3</th>\n",
       "      <td>4</td>\n",
       "      <td>71</td>\n",
       "    </tr>\n",
       "    <tr>\n",
       "      <th>4</th>\n",
       "      <td>5</td>\n",
       "      <td>76</td>\n",
       "    </tr>\n",
       "    <tr>\n",
       "      <th>5</th>\n",
       "      <td>7</td>\n",
       "      <td>84</td>\n",
       "    </tr>\n",
       "    <tr>\n",
       "      <th>6</th>\n",
       "      <td>8</td>\n",
       "      <td>95</td>\n",
       "    </tr>\n",
       "    <tr>\n",
       "      <th>7</th>\n",
       "      <td>9</td>\n",
       "      <td>61</td>\n",
       "    </tr>\n",
       "    <tr>\n",
       "      <th>8</th>\n",
       "      <td>10</td>\n",
       "      <td>57</td>\n",
       "    </tr>\n",
       "    <tr>\n",
       "      <th>9</th>\n",
       "      <td>11</td>\n",
       "      <td>90</td>\n",
       "    </tr>\n",
       "  </tbody>\n",
       "</table>\n",
       "</div>"
      ],
      "text/plain": [
       "  id_disciplina  id_teste\n",
       "0             1        81\n",
       "1             2        75\n",
       "2             3        75\n",
       "3             4        71\n",
       "4             5        76\n",
       "5             7        84\n",
       "6             8        95\n",
       "7             9        61\n",
       "8            10        57\n",
       "9            11        90"
      ]
     },
     "execution_count": 5,
     "metadata": {},
     "output_type": "execute_result"
    }
   ],
   "source": [
    "# Dicionário de dados\n",
    "dados3 = {\n",
    "        'id_disciplina': ['1', '2', '3', '4', '5', '7', '8', '9', '10', '11'],\n",
    "        'id_teste': [81, 75, 75, 71, 76, 84, 95, 61, 57, 90]}\n",
    "\n",
    "# Criação do dataframe c\n",
    "df_c = pd.DataFrame(dados3, columns = ['id_disciplina','id_teste'])\n",
    "df_c"
   ]
  },
  {
   "cell_type": "code",
   "execution_count": null,
   "metadata": {},
   "outputs": [],
   "source": [
    "# Exercise 1 - Concatenate dataframes a and b by rows and create a new dataframe called df_ab_linha"
   ]
  },
  {
   "cell_type": "code",
   "execution_count": 8,
   "metadata": {},
   "outputs": [
    {
     "name": "stdout",
     "output_type": "stream",
     "text": [
      "  id_disciplina     nome  sobrenome\n",
      "0             1      Bob   Anderson\n",
      "1             2    Maria   Teixeira\n",
      "2             3   Mateus     Amoedo\n",
      "3             4      Ivo   Trindade\n",
      "4             5   Gerson     Vargas\n",
      "5             4  Roberto    Sampaio\n",
      "6             5  Mariana  Fernandes\n",
      "7             6      Ana    Arantes\n",
      "8             7   Marcos    Menezes\n",
      "9             8    Maria    Martins\n"
     ]
    }
   ],
   "source": [
    "df_ab_linha = pd.concat([df_a, df_b], axis=0).reset_index(drop=True)\n",
    "print(df_ab_linha)"
   ]
  },
  {
   "cell_type": "code",
   "execution_count": null,
   "metadata": {},
   "outputs": [],
   "source": [
    "# Exercise 2 - Concatenate dataframes a and b by columns and create a new dataframe called df_ab_coluna"
   ]
  },
  {
   "cell_type": "code",
   "execution_count": 11,
   "metadata": {},
   "outputs": [
    {
     "name": "stdout",
     "output_type": "stream",
     "text": [
      "  id_disciplina    nome sobrenome id_disciplina     nome  sobrenome\n",
      "0             1     Bob  Anderson             4  Roberto    Sampaio\n",
      "1             2   Maria  Teixeira             5  Mariana  Fernandes\n",
      "2             3  Mateus    Amoedo             6      Ana    Arantes\n",
      "3             4     Ivo  Trindade             7   Marcos    Menezes\n",
      "4             5  Gerson    Vargas             8    Maria    Martins\n"
     ]
    }
   ],
   "source": [
    "df_ab_coluna = pd.concat([df_a, df_b], axis=1)\n",
    "print(df_ab_coluna)"
   ]
  },
  {
   "cell_type": "code",
   "execution_count": null,
   "metadata": {},
   "outputs": [],
   "source": [
    "# Exercise 3 - Merge the df_ab_linha and df_c dataframes using the id_disciplina column"
   ]
  },
  {
   "cell_type": "code",
   "execution_count": 12,
   "metadata": {},
   "outputs": [
    {
     "name": "stdout",
     "output_type": "stream",
     "text": [
      "  id_disciplina     nome  sobrenome  id_teste\n",
      "0             1      Bob   Anderson        81\n",
      "1             2    Maria   Teixeira        75\n",
      "2             3   Mateus     Amoedo        75\n",
      "3             4      Ivo   Trindade        71\n",
      "4             4  Roberto    Sampaio        71\n",
      "5             5   Gerson     Vargas        76\n",
      "6             5  Mariana  Fernandes        76\n",
      "7             7   Marcos    Menezes        84\n",
      "8             8    Maria    Martins        95\n"
     ]
    }
   ],
   "source": [
    "df_merge = pd.merge(df_ab_linha, df_c, on='id_disciplina')\n",
    "print(df_merge)"
   ]
  },
  {
   "cell_type": "code",
   "execution_count": null,
   "metadata": {},
   "outputs": [],
   "source": [
    "# Exercise 4 - Merge the df_ab_linha and df_c dataframes using the id_disciplina column using left and right\n",
    "# Merge outer join is the complete outer join that produces the set of all records in Table A and Table B, \n",
    "# with matching records on both sides when available. If there is no match, the missing side contains null."
   ]
  },
  {
   "cell_type": "code",
   "execution_count": 14,
   "metadata": {},
   "outputs": [
    {
     "name": "stdout",
     "output_type": "stream",
     "text": [
      "  id_disciplina     nome  sobrenome  id_teste\n",
      "0             1      Bob   Anderson        81\n",
      "1             2    Maria   Teixeira        75\n",
      "2             3   Mateus     Amoedo        75\n",
      "3             4      Ivo   Trindade        71\n",
      "4             4  Roberto    Sampaio        71\n",
      "5             5   Gerson     Vargas        76\n",
      "6             5  Mariana  Fernandes        76\n",
      "7             7   Marcos    Menezes        84\n",
      "8             8    Maria    Martins        95\n"
     ]
    }
   ],
   "source": [
    "df_merge_left_right = pd.merge(df_ab_linha, df_c, left_on='id_disciplina', right_on='id_disciplina')\n",
    "print(df_merge_left_right)"
   ]
  },
  {
   "cell_type": "code",
   "execution_count": null,
   "metadata": {},
   "outputs": [],
   "source": [
    "# Exercise 5 - Perform the outer join between the dataframes df_a and df_b using the id_disciplina column"
   ]
  },
  {
   "cell_type": "code",
   "execution_count": 15,
   "metadata": {},
   "outputs": [
    {
     "name": "stdout",
     "output_type": "stream",
     "text": [
      "  id_disciplina  nome_a sobrenome_a   nome_b sobrenome_b\n",
      "0             1     Bob    Anderson      NaN         NaN\n",
      "1             2   Maria    Teixeira      NaN         NaN\n",
      "2             3  Mateus      Amoedo      NaN         NaN\n",
      "3             4     Ivo    Trindade  Roberto     Sampaio\n",
      "4             5  Gerson      Vargas  Mariana   Fernandes\n",
      "5             6     NaN         NaN      Ana     Arantes\n",
      "6             7     NaN         NaN   Marcos     Menezes\n",
      "7             8     NaN         NaN    Maria     Martins\n"
     ]
    }
   ],
   "source": [
    "df_outer = pd.merge(df_a, df_b, on='id_disciplina', how='outer', suffixes=('_a', '_b'))\n",
    "print(df_outer)"
   ]
  },
  {
   "cell_type": "code",
   "execution_count": null,
   "metadata": {},
   "outputs": [],
   "source": [
    "# Exercise 6 - Exercise 5 generates missing values. Don't let this happen when merging!\n",
    "# Merge inner join is the inner join that produces only the set of records that match in Table A and Table B."
   ]
  },
  {
   "cell_type": "code",
   "execution_count": 16,
   "metadata": {},
   "outputs": [
    {
     "name": "stdout",
     "output_type": "stream",
     "text": [
      "  id_disciplina  nome_a sobrenome_a   nome_b sobrenome_b\n",
      "0             1     Bob    Anderson    Outro       Outro\n",
      "1             2   Maria    Teixeira    Outro       Outro\n",
      "2             3  Mateus      Amoedo    Outro       Outro\n",
      "3             4     Ivo    Trindade  Roberto     Sampaio\n",
      "4             5  Gerson      Vargas  Mariana   Fernandes\n",
      "5             6   Outro       Outro      Ana     Arantes\n",
      "6             7   Outro       Outro   Marcos     Menezes\n",
      "7             8   Outro       Outro    Maria     Martins\n"
     ]
    }
   ],
   "source": [
    "df_outer_remove_nan = pd.merge(df_a, df_b, on='id_disciplina', how='outer', suffixes=('_a', '_b')).replace(np.nan, \"Outro\")\n",
    "print(df_outer_remove_nan)"
   ]
  },
  {
   "cell_type": "code",
   "execution_count": null,
   "metadata": {},
   "outputs": [],
   "source": [
    "# Exercise 7 - Merge inner join between dataframes df_a and df_b using the id_disciplina column\n",
    "# # Merge left join is the left outer join that produces a complete set of records from Table A, \n",
    "# with the corresponding records (when available) in Table B. If there is no match, the right side will contain null."
   ]
  },
  {
   "cell_type": "code",
   "execution_count": 17,
   "metadata": {},
   "outputs": [
    {
     "name": "stdout",
     "output_type": "stream",
     "text": [
      "  id_disciplina nome_df_a sobrenome_df_a nome_df_b sobrenome_df_b\n",
      "0             4       Ivo       Trindade   Roberto        Sampaio\n",
      "1             5    Gerson         Vargas   Mariana      Fernandes\n"
     ]
    }
   ],
   "source": [
    "df_inner_join = pd.merge(df_a, df_b, on='id_disciplina', how='inner', suffixes=('_df_a', '_df_b'))\n",
    "print(df_inner_join)"
   ]
  },
  {
   "cell_type": "code",
   "execution_count": null,
   "metadata": {},
   "outputs": [],
   "source": [
    "# Exercise 8 - Merge left join between dataframes df_a and df_b using the id_disciplina column"
   ]
  },
  {
   "cell_type": "code",
   "execution_count": 18,
   "metadata": {},
   "outputs": [
    {
     "name": "stdout",
     "output_type": "stream",
     "text": [
      "  id_disciplina nome_df_a sobrenome_df_a nome_df_b sobrenome_df_b\n",
      "0             1       Bob       Anderson       NaN            NaN\n",
      "1             2     Maria       Teixeira       NaN            NaN\n",
      "2             3    Mateus         Amoedo       NaN            NaN\n",
      "3             4       Ivo       Trindade   Roberto        Sampaio\n",
      "4             5    Gerson         Vargas   Mariana      Fernandes\n"
     ]
    }
   ],
   "source": [
    "df_left_join = pd.merge(df_a, df_b, on='id_disciplina', how='left', suffixes=('_df_a', '_df_b'))\n",
    "print(df_left_join)"
   ]
  },
  {
   "cell_type": "code",
   "execution_count": null,
   "metadata": {},
   "outputs": [],
   "source": [
    "# Exercise 9 - Exercise 8 generates missing values. Don't let this happen when merging!\n",
    "# The merge right join is the opposite of the left join."
   ]
  },
  {
   "cell_type": "code",
   "execution_count": 19,
   "metadata": {},
   "outputs": [
    {
     "name": "stdout",
     "output_type": "stream",
     "text": [
      "  id_disciplina nome_df_a sobrenome_df_a nome_df_b sobrenome_df_b\n",
      "0             1       Bob       Anderson     Outro          Outro\n",
      "1             2     Maria       Teixeira     Outro          Outro\n",
      "2             3    Mateus         Amoedo     Outro          Outro\n",
      "3             4       Ivo       Trindade   Roberto        Sampaio\n",
      "4             5    Gerson         Vargas   Mariana      Fernandes\n"
     ]
    }
   ],
   "source": [
    "df_left_join = pd.merge(df_a, df_b, on='id_disciplina', how='left', suffixes=('_df_a', '_df_b')).replace(np.nan, \"Outro\")\n",
    "print(df_left_join)"
   ]
  },
  {
   "cell_type": "code",
   "execution_count": null,
   "metadata": {},
   "outputs": [],
   "source": [
    "# Exercise 10 - Merge right join between dataframes df_a and df_a using the id_disciplina column. Does not allow missing values!"
   ]
  },
  {
   "cell_type": "code",
   "execution_count": 20,
   "metadata": {},
   "outputs": [
    {
     "name": "stdout",
     "output_type": "stream",
     "text": [
      "  id_disciplina nome_df_a sobrenome_df_a nome_df_b sobrenome_df_b\n",
      "0             4       Ivo       Trindade   Roberto        Sampaio\n",
      "1             5    Gerson         Vargas   Mariana      Fernandes\n",
      "2             6     Outro          Outro       Ana        Arantes\n",
      "3             7     Outro          Outro    Marcos        Menezes\n",
      "4             8     Outro          Outro     Maria        Martins\n"
     ]
    }
   ],
   "source": [
    "df_right_join = pd.merge(df_a, df_b, on='id_disciplina', how='right', suffixes=('_df_a', '_df_b')).replace(np.nan, \"Outro\")\n",
    "print(df_right_join)"
   ]
  },
  {
   "cell_type": "code",
   "execution_count": null,
   "metadata": {},
   "outputs": [],
   "source": [
    "# Exercise 11 - You noticed that the previous item generated very similar column names. Add a suffix to identify column names. Do not allow missing values."
   ]
  },
  {
   "cell_type": "code",
   "execution_count": 21,
   "metadata": {},
   "outputs": [
    {
     "name": "stdout",
     "output_type": "stream",
     "text": [
      "  id_disciplina nome_df_a sobrenome_df_a nome_df_b sobrenome_df_b\n",
      "0             4       Ivo       Trindade   Roberto        Sampaio\n",
      "1             5    Gerson         Vargas   Mariana      Fernandes\n",
      "2             6     Outro          Outro       Ana        Arantes\n",
      "3             7     Outro          Outro    Marcos        Menezes\n",
      "4             8     Outro          Outro     Maria        Martins\n"
     ]
    }
   ],
   "source": [
    "df_right_join = pd.merge(df_a, df_b, on='id_disciplina', how='right', suffixes=('_df_a', '_df_b')).replace(np.nan, \"Outro\")\n",
    "print(df_right_join)"
   ]
  },
  {
   "cell_type": "code",
   "execution_count": null,
   "metadata": {},
   "outputs": [],
   "source": [
    "# Exercise 12 - Merge df_a and df_b dataframes based on index"
   ]
  },
  {
   "cell_type": "code",
   "execution_count": 22,
   "metadata": {},
   "outputs": [
    {
     "name": "stdout",
     "output_type": "stream",
     "text": [
      "  id_disciplina_x  nome_x sobrenome_x id_disciplina_y   nome_y sobrenome_y\n",
      "0               1     Bob    Anderson               4  Roberto     Sampaio\n",
      "1               2   Maria    Teixeira               5  Mariana   Fernandes\n",
      "2               3  Mateus      Amoedo               6      Ana     Arantes\n",
      "3               4     Ivo    Trindade               7   Marcos     Menezes\n",
      "4               5  Gerson      Vargas               8    Maria     Martins\n"
     ]
    }
   ],
   "source": [
    "df_merge_index = pd.merge(df_a, df_b, left_index=True, right_index=True)\n",
    "print(df_merge_index)"
   ]
  }
 ],
 "metadata": {
  "anaconda-cloud": {},
  "kernelspec": {
   "display_name": "Python 3 (ipykernel)",
   "language": "python",
   "name": "python3"
  },
  "language_info": {
   "codemirror_mode": {
    "name": "ipython",
    "version": 3
   },
   "file_extension": ".py",
   "mimetype": "text/x-python",
   "name": "python",
   "nbconvert_exporter": "python",
   "pygments_lexer": "ipython3",
   "version": "3.11.7"
  }
 },
 "nbformat": 4,
 "nbformat_minor": 1
}
