{
 "cells": [
  {
   "cell_type": "code",
   "execution_count": 1,
   "metadata": {},
   "outputs": [],
   "source": [
    "# Imports\n",
    "import math\n",
    "import numpy as np\n",
    "import scipy\n",
    "from scipy import stats"
   ]
  },
  {
   "cell_type": "markdown",
   "metadata": {},
   "source": [
    "**Exercise 1 -** Create a Python function using only mathematical operations (do not use other functions or methods) that takes a list of numbers as an argument and returns the average of the list of numbers as a result."
   ]
  },
  {
   "cell_type": "code",
   "execution_count": 2,
   "metadata": {},
   "outputs": [],
   "source": [
    "def calculate_average(list_numbers):\n",
    "    # Initialize the sum of numbers\n",
    "    sum = 0\n",
    "\n",
    "    # Counts the number of elements in the list\n",
    "    count = 0\n",
    "\n",
    "    # Iterate over each number in the list\n",
    "    for number in list_numbers:\n",
    "        # Add the number to the sum\n",
    "        sum += number\n",
    "        # Increment the counter\n",
    "        count += 1\n",
    "\n",
    "    # Calculate the average\n",
    "    average = sum / count\n",
    "\n",
    "    # Returns the average\n",
    "    return average"
   ]
  },
  {
   "cell_type": "code",
   "execution_count": 3,
   "metadata": {},
   "outputs": [
    {
     "data": {
      "text/plain": [
       "55.0"
      ]
     },
     "execution_count": 3,
     "metadata": {},
     "output_type": "execute_result"
    }
   ],
   "source": [
    "# Test\n",
    "numbers = [10, 20, 30, 40, 50, 60, 70, 80, 90, 100]\n",
    "calculate_average(numbers)"
   ]
  },
  {
   "cell_type": "markdown",
   "metadata": {},
   "source": [
    "**Exercise 2 -** Create a Python function that takes a list as an argument and returns the median. The function must return the median for a list with any number of elements. Use helper methods if necessary."
   ]
  },
  {
   "cell_type": "code",
   "execution_count": 4,
   "metadata": {},
   "outputs": [],
   "source": [
    "def calculate_median(list_numbers):\n",
    "    # First, we sort the list\n",
    "    ordered_list = sorted(list_numbers)\n",
    "\n",
    "    # Count the number of elements in the list\n",
    "    n = len(ordered_list)\n",
    "\n",
    "    # We check if the number of elements is even or odd\n",
    "    if n % 2 == 1:\n",
    "        # If odd, the median is the middle element\n",
    "        median = ordered_list[n // 2]\n",
    "    else:\n",
    "        # If even, the median is the average of the two middle elements\n",
    "        middle1 = ordered_list[n // 2 - 1]\n",
    "        middle2 = ordered_list[n // 2]\n",
    "        median = (middle1 + middle2) / 2\n",
    "\n",
    "    # We return the median\n",
    "    return median"
   ]
  },
  {
   "cell_type": "code",
   "execution_count": 5,
   "metadata": {},
   "outputs": [
    {
     "data": {
      "text/plain": [
       "55.0"
      ]
     },
     "execution_count": 5,
     "metadata": {},
     "output_type": "execute_result"
    }
   ],
   "source": [
    "# Test\n",
    "numbers = [10, 20, 30, 40, 50, 60, 70, 80, 90, 100]\n",
    "calculate_median(numbers)"
   ]
  },
  {
   "cell_type": "markdown",
   "metadata": {},
   "source": [
    "**Exercise 3 -** Considering the list of elements below that represents the number of products sold per day in a company, create a Python function that receives the list and returns the variance. Use helper methods if necessary."
   ]
  },
  {
   "cell_type": "code",
   "execution_count": 6,
   "metadata": {},
   "outputs": [],
   "source": [
    "# List of numbers\n",
    "units_sold = [5, 4, 3, 4, 8, 2, 5, 2, 5, 8, 10, 8, 7, 8, 7, 9, 10, 5, 7, 5, 7, 5, 4, 3 , 5, 8, 4]"
   ]
  },
  {
   "cell_type": "code",
   "execution_count": 7,
   "metadata": {},
   "outputs": [],
   "source": [
    "def calculate_variance(list_numbers):\n",
    "    sum = 0\n",
    "    for number in list_numbers:\n",
    "        sum += number\n",
    "    average = sum / len(list_numbers)\n",
    "\n",
    "    sum_differences_square = 0\n",
    "    for number in list_numbers:\n",
    "        difference = number - average\n",
    "        sum_differences_square += difference ** 2\n",
    "\n",
    "    variance = sum_differences_square / len(list_numbers)\n",
    "    return variance"
   ]
  },
  {
   "cell_type": "code",
   "execution_count": 8,
   "metadata": {},
   "outputs": [
    {
     "name": "stdout",
     "output_type": "stream",
     "text": [
      "The variance is: 5.089163237311386\n"
     ]
    }
   ],
   "source": [
    "units_sold = [5, 4, 3, 4, 8, 2, 5, 2, 5, 8, 10, 8, 7, 8, 7, 9, 10, 5, 7, 5, 7, 5, 4, 3 , 5, 8, 4]\n",
    "variance = calculate_variance(units_sold)\n",
    "print(\"The variance is:\", variance)"
   ]
  },
  {
   "cell_type": "code",
   "execution_count": 9,
   "metadata": {},
   "outputs": [],
   "source": [
    "# Function - another form\n",
    "def calculate_variance(data):\n",
    "\n",
    "    # Number of observations in the list\n",
    "    n = len(data)\n",
    "\n",
    "    # Average\n",
    "    mean = sum(data) / n\n",
    "\n",
    "    # Square deviations\n",
    "    deviations = [(x - mean) ** 2 for x in data]\n",
    "\n",
    "    # Variance\n",
    "    variance = sum(deviations) / n\n",
    "\n",
    "    return variance"
   ]
  },
  {
   "cell_type": "code",
   "execution_count": 10,
   "metadata": {},
   "outputs": [
    {
     "name": "stdout",
     "output_type": "stream",
     "text": [
      "The variance is: 5.09\n"
     ]
    },
    {
     "data": {
      "text/plain": [
       "(None, 2)"
      ]
     },
     "execution_count": 10,
     "metadata": {},
     "output_type": "execute_result"
    }
   ],
   "source": [
    "units_sold = [5, 4, 3, 4, 8, 2, 5, 2, 5, 8, 10, 8, 7, 8, 7, 9, 10, 5, 7, 5, 7, 5, 4, 3 , 5, 8, 4]\n",
    "variance = round(calculate_variance(units_sold),2)\n",
    "print(\"The variance is:\", variance),2"
   ]
  },
  {
   "cell_type": "markdown",
   "metadata": {},
   "source": [
    "**Exercise 4 -** Considering the list of elements below that represents the number of products sold per day in a company, create a function that calculates the standard deviation. Standard deviation is the square of the variance."
   ]
  },
  {
   "cell_type": "code",
   "execution_count": 11,
   "metadata": {},
   "outputs": [],
   "source": [
    "# List of numbers\n",
    "units_sold = [5, 4, 3, 4, 8, 2, 5, 2, 5, 8, 10, 8, 7, 8, 7, 9, 10, 5, 7, 5, 7, 5, 4, 3 , 5, 8, 4]"
   ]
  },
  {
   "cell_type": "code",
   "execution_count": 12,
   "metadata": {},
   "outputs": [],
   "source": [
    "def calculate_standard_deviation(list_numbers):\n",
    "    # First, calculate the average\n",
    "    sum = 0\n",
    "    for number in list_numbers:\n",
    "        sum += number\n",
    "        average = sum / len(list_numbers)\n",
    "\n",
    "    # Then calculate the sum of squares of the differences\n",
    "    sum_differences_square = 0\n",
    "    for number in list_numbers:\n",
    "        difference = number - average\n",
    "        sum_differences_square += difference ** 2\n",
    "\n",
    "    # Calculate variance\n",
    "    variance = sum_differences_square / len(list_numbers)\n",
    "\n",
    "    # Calculate standard deviation (square root of variance)\n",
    "    standard_deviation = math.sqrt(variance)\n",
    "\n",
    "    return standard_deviation"
   ]
  },
  {
   "cell_type": "code",
   "execution_count": 13,
   "metadata": {},
   "outputs": [
    {
     "name": "stdout",
     "output_type": "stream",
     "text": [
      "The standard deviation is: 2.26\n"
     ]
    }
   ],
   "source": [
    "units_sold = [5, 4, 3, 4, 8, 2, 5, 2, 5, 8, 10, 8, 7, 8, 7, 9, 10, 5, 7, 5, 7, 5, 4, 3 , 5, 8, 4]\n",
    "standard_deviation = round(calculate_standard_deviation(units_sold),2)\n",
    "print(\"The standard deviation is:\", standard_deviation)"
   ]
  },
  {
   "cell_type": "markdown",
   "metadata": {},
   "source": [
    "**Exercise 5 -** Using the NumPy and Scipy packages, calculate the central tendency and dispersion descriptive statistics from the list below."
   ]
  },
  {
   "cell_type": "code",
   "execution_count": 14,
   "metadata": {},
   "outputs": [],
   "source": [
    "# List of numbers\n",
    "units = [5, 4, 3, 4, 8, 2, 5, 2, 5, 8, 10, 8, 7, 8, 7, 9, 10, 5, 7, 5, 7, 5, 4, 3 , 5, 8, 4]"
   ]
  },
  {
   "cell_type": "code",
   "execution_count": 15,
   "metadata": {},
   "outputs": [
    {
     "name": "stdout",
     "output_type": "stream",
     "text": [
      "Descriptive Statistics:\n",
      "Average: 5.851851851851852\n",
      "Median: 5.0\n",
      "Mode: ModeResult(mode=5, count=7)\n",
      "Variance: 5.09\n",
      "Standard Deviation: 2.26\n",
      "Range of values: 8\n"
     ]
    }
   ],
   "source": [
    "# Average\n",
    "mean = np.mean(units)\n",
    "\n",
    "# Median\n",
    "median = np.median(units)\n",
    "\n",
    "# Mode\n",
    "mode = stats.mode(units)\n",
    "\n",
    "# Variance\n",
    "variance = round(np.var(units), 2)\n",
    "\n",
    "# Standard deviation\n",
    "deviation = round(np.std(units), 2)\n",
    "\n",
    "# Range of values\n",
    "range = np.ptp(units)\n",
    "\n",
    "# Printing the results\n",
    "print(\"Descriptive Statistics:\")\n",
    "print(\"Average:\", mean)\n",
    "print(\"Median:\", median)\n",
    "print(\"Mode:\", mode)\n",
    "print(\"Variance:\", variance)\n",
    "print(\"Standard Deviation:\", standard_deviation)\n",
    "print(\"Range of values:\", range)"
   ]
  }
 ],
 "metadata": {
  "anaconda-cloud": {},
  "kernelspec": {
   "display_name": "Python 3 (ipykernel)",
   "language": "python",
   "name": "python3"
  },
  "language_info": {
   "codemirror_mode": {
    "name": "ipython",
    "version": 3
   },
   "file_extension": ".py",
   "mimetype": "text/x-python",
   "name": "python",
   "nbconvert_exporter": "python",
   "pygments_lexer": "ipython3",
   "version": "3.11.7"
  }
 },
 "nbformat": 4,
 "nbformat_minor": 1
}
