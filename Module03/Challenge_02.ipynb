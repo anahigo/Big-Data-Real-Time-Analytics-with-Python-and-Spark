{
 "cells": [
  {
   "cell_type": "markdown",
   "metadata": {
    "id": "e6Yn9grHC_wU"
   },
   "source": [
    "# Big Data Real-Time Analytics with Python and Spark"
   ]
  },
  {
   "cell_type": "markdown",
   "metadata": {
    "id": "gHXVnWJmC_he"
   },
   "source": [
    "## Data Manipulation in Python with Pandas"
   ]
  },
  {
   "cell_type": "markdown",
   "metadata": {
    "id": "GjUwHuOIC_ep"
   },
   "source": [
    "### Case Study Challenge 2"
   ]
  },
  {
   "cell_type": "markdown",
   "metadata": {
    "id": "gV7K1ZeITSfR"
   },
   "source": [
    "**Problem Definition and Data Source**\n",
    "\n",
    "In this Case Study the objective is to carry out a detailed school data analysis process by crossing, comparing and summarizing different types of information.\n",
    "\n",
    "In total, 25 business questions will be answered that will require analyzing the data from different perspectives. Pandas will be the only tool used.\n",
    "\n",
    "For this work we will use fictitious data, but which could represent real data. The data was generated from the Realistic Data Generator, at the address below:\n",
    "\n",
    "https://www.mockaroo.com"
   ]
  },
  {
   "cell_type": "code",
   "execution_count": 1,
   "metadata": {
    "id": "iqDBjDeSXGN7"
   },
   "outputs": [],
   "source": [
    "import pandas as pd"
   ]
  },
  {
   "cell_type": "markdown",
   "metadata": {
    "id": "-EqVQJ_AXOXc"
   },
   "source": [
    "#### Loading the Data"
   ]
  },
  {
   "cell_type": "code",
   "execution_count": 2,
   "metadata": {
    "id": "_nNxLhFwXN7R"
   },
   "outputs": [],
   "source": [
    "schools_data = pd.read_csv(\"dataset/dataset_escolas.csv\")"
   ]
  },
  {
   "cell_type": "code",
   "execution_count": 3,
   "metadata": {
    "colab": {
     "base_uri": "https://localhost:8080/"
    },
    "id": "X4GCJhAoXgQa",
    "outputId": "f6895b95-9cbd-4ecf-95eb-c817a5bf1b1d"
   },
   "outputs": [
    {
     "data": {
      "text/plain": [
       "(15, 5)"
      ]
     },
     "execution_count": 3,
     "metadata": {},
     "output_type": "execute_result"
    }
   ],
   "source": [
    "schools_data.shape"
   ]
  },
  {
   "cell_type": "code",
   "execution_count": 4,
   "metadata": {
    "colab": {
     "base_uri": "https://localhost:8080/",
     "height": 206
    },
    "id": "YfmM6T3jXh_S",
    "outputId": "ced7f733-4c24-4930-ce26-fd65c217dff5"
   },
   "outputs": [
    {
     "data": {
      "text/html": [
       "<div>\n",
       "<style scoped>\n",
       "    .dataframe tbody tr th:only-of-type {\n",
       "        vertical-align: middle;\n",
       "    }\n",
       "\n",
       "    .dataframe tbody tr th {\n",
       "        vertical-align: top;\n",
       "    }\n",
       "\n",
       "    .dataframe thead th {\n",
       "        text-align: right;\n",
       "    }\n",
       "</style>\n",
       "<table border=\"1\" class=\"dataframe\">\n",
       "  <thead>\n",
       "    <tr style=\"text-align: right;\">\n",
       "      <th></th>\n",
       "      <th>ID_Escola</th>\n",
       "      <th>Nome_Escola</th>\n",
       "      <th>Tipo_Escola</th>\n",
       "      <th>Numero_Alunos</th>\n",
       "      <th>Orcamento_Anual</th>\n",
       "    </tr>\n",
       "  </thead>\n",
       "  <tbody>\n",
       "    <tr>\n",
       "      <th>0</th>\n",
       "      <td>0</td>\n",
       "      <td>Escola A</td>\n",
       "      <td>Publica</td>\n",
       "      <td>2917</td>\n",
       "      <td>1910635</td>\n",
       "    </tr>\n",
       "    <tr>\n",
       "      <th>1</th>\n",
       "      <td>1</td>\n",
       "      <td>Escola B</td>\n",
       "      <td>Publica</td>\n",
       "      <td>2949</td>\n",
       "      <td>1884411</td>\n",
       "    </tr>\n",
       "    <tr>\n",
       "      <th>2</th>\n",
       "      <td>2</td>\n",
       "      <td>Escola C</td>\n",
       "      <td>Particular</td>\n",
       "      <td>1761</td>\n",
       "      <td>1056600</td>\n",
       "    </tr>\n",
       "    <tr>\n",
       "      <th>3</th>\n",
       "      <td>3</td>\n",
       "      <td>Escola D</td>\n",
       "      <td>Publica</td>\n",
       "      <td>4635</td>\n",
       "      <td>3022020</td>\n",
       "    </tr>\n",
       "    <tr>\n",
       "      <th>4</th>\n",
       "      <td>4</td>\n",
       "      <td>Escola E</td>\n",
       "      <td>Particular</td>\n",
       "      <td>1468</td>\n",
       "      <td>917500</td>\n",
       "    </tr>\n",
       "  </tbody>\n",
       "</table>\n",
       "</div>"
      ],
      "text/plain": [
       "   ID_Escola Nome_Escola Tipo_Escola  Numero_Alunos  Orcamento_Anual\n",
       "0          0    Escola A     Publica           2917          1910635\n",
       "1          1    Escola B     Publica           2949          1884411\n",
       "2          2    Escola C  Particular           1761          1056600\n",
       "3          3    Escola D     Publica           4635          3022020\n",
       "4          4    Escola E  Particular           1468           917500"
      ]
     },
     "execution_count": 4,
     "metadata": {},
     "output_type": "execute_result"
    }
   ],
   "source": [
    "schools_data.head()"
   ]
  },
  {
   "cell_type": "code",
   "execution_count": 5,
   "metadata": {
    "id": "dbOehgKrXk94"
   },
   "outputs": [],
   "source": [
    "student_data = pd.read_csv(\"dataset/dataset_estudantes.csv\")"
   ]
  },
  {
   "cell_type": "code",
   "execution_count": 6,
   "metadata": {
    "colab": {
     "base_uri": "https://localhost:8080/"
    },
    "id": "c3BTYm1BYjjF",
    "outputId": "38f2ba4e-9323-473b-a333-be85e3fddd91"
   },
   "outputs": [
    {
     "data": {
      "text/plain": [
       "(39160, 7)"
      ]
     },
     "execution_count": 6,
     "metadata": {},
     "output_type": "execute_result"
    }
   ],
   "source": [
    "student_data.shape"
   ]
  },
  {
   "cell_type": "code",
   "execution_count": 7,
   "metadata": {
    "colab": {
     "base_uri": "https://localhost:8080/",
     "height": 206
    },
    "id": "34rcFJ0TYktz",
    "outputId": "c8289d9d-aaab-4df6-c60d-e578df567e29"
   },
   "outputs": [
    {
     "data": {
      "text/html": [
       "<div>\n",
       "<style scoped>\n",
       "    .dataframe tbody tr th:only-of-type {\n",
       "        vertical-align: middle;\n",
       "    }\n",
       "\n",
       "    .dataframe tbody tr th {\n",
       "        vertical-align: top;\n",
       "    }\n",
       "\n",
       "    .dataframe thead th {\n",
       "        text-align: right;\n",
       "    }\n",
       "</style>\n",
       "<table border=\"1\" class=\"dataframe\">\n",
       "  <thead>\n",
       "    <tr style=\"text-align: right;\">\n",
       "      <th></th>\n",
       "      <th>ID_Estudante</th>\n",
       "      <th>Nome_Estudante</th>\n",
       "      <th>Genero</th>\n",
       "      <th>Serie</th>\n",
       "      <th>Nome_Escola</th>\n",
       "      <th>Nota_Redacao</th>\n",
       "      <th>Nota_Matematica</th>\n",
       "    </tr>\n",
       "  </thead>\n",
       "  <tbody>\n",
       "    <tr>\n",
       "      <th>0</th>\n",
       "      <td>0</td>\n",
       "      <td>Kevin Bradley</td>\n",
       "      <td>M</td>\n",
       "      <td>6</td>\n",
       "      <td>Escola A</td>\n",
       "      <td>66</td>\n",
       "      <td>79</td>\n",
       "    </tr>\n",
       "    <tr>\n",
       "      <th>1</th>\n",
       "      <td>1</td>\n",
       "      <td>Paul Smith</td>\n",
       "      <td>M</td>\n",
       "      <td>9</td>\n",
       "      <td>Escola A</td>\n",
       "      <td>94</td>\n",
       "      <td>61</td>\n",
       "    </tr>\n",
       "    <tr>\n",
       "      <th>2</th>\n",
       "      <td>2</td>\n",
       "      <td>John Rodriguez</td>\n",
       "      <td>M</td>\n",
       "      <td>9</td>\n",
       "      <td>Escola A</td>\n",
       "      <td>90</td>\n",
       "      <td>60</td>\n",
       "    </tr>\n",
       "    <tr>\n",
       "      <th>3</th>\n",
       "      <td>3</td>\n",
       "      <td>Oliver Scott</td>\n",
       "      <td>M</td>\n",
       "      <td>9</td>\n",
       "      <td>Escola A</td>\n",
       "      <td>67</td>\n",
       "      <td>58</td>\n",
       "    </tr>\n",
       "    <tr>\n",
       "      <th>4</th>\n",
       "      <td>4</td>\n",
       "      <td>William Ray</td>\n",
       "      <td>F</td>\n",
       "      <td>6</td>\n",
       "      <td>Escola A</td>\n",
       "      <td>97</td>\n",
       "      <td>84</td>\n",
       "    </tr>\n",
       "  </tbody>\n",
       "</table>\n",
       "</div>"
      ],
      "text/plain": [
       "   ID_Estudante  Nome_Estudante Genero  Serie Nome_Escola  Nota_Redacao  \\\n",
       "0             0   Kevin Bradley      M      6    Escola A            66   \n",
       "1             1      Paul Smith      M      9    Escola A            94   \n",
       "2             2  John Rodriguez      M      9    Escola A            90   \n",
       "3             3    Oliver Scott      M      9    Escola A            67   \n",
       "4             4     William Ray      F      6    Escola A            97   \n",
       "\n",
       "   Nota_Matematica  \n",
       "0               79  \n",
       "1               61  \n",
       "2               60  \n",
       "3               58  \n",
       "4               84  "
      ]
     },
     "execution_count": 7,
     "metadata": {},
     "output_type": "execute_result"
    }
   ],
   "source": [
    "student_data.head()"
   ]
  },
  {
   "cell_type": "code",
   "execution_count": 8,
   "metadata": {
    "id": "iNYsRVw6YoDI"
   },
   "outputs": [],
   "source": [
    "full_data = pd.merge(student_data, schools_data, how = \"left\", on = [\"Nome_Escola\", \"Nome_Escola\"])"
   ]
  },
  {
   "cell_type": "code",
   "execution_count": 9,
   "metadata": {
    "colab": {
     "base_uri": "https://localhost:8080/"
    },
    "id": "RnWK7Y9YYp_c",
    "outputId": "8814475e-0059-4b76-d236-7b600594c8aa"
   },
   "outputs": [
    {
     "data": {
      "text/plain": [
       "(39160, 11)"
      ]
     },
     "execution_count": 9,
     "metadata": {},
     "output_type": "execute_result"
    }
   ],
   "source": [
    "full_data.shape"
   ]
  },
  {
   "cell_type": "code",
   "execution_count": 10,
   "metadata": {
    "colab": {
     "base_uri": "https://localhost:8080/",
     "height": 206
    },
    "id": "63potOwcYrTS",
    "outputId": "30658267-a84f-441b-b581-49614ad0e544"
   },
   "outputs": [
    {
     "data": {
      "text/html": [
       "<div>\n",
       "<style scoped>\n",
       "    .dataframe tbody tr th:only-of-type {\n",
       "        vertical-align: middle;\n",
       "    }\n",
       "\n",
       "    .dataframe tbody tr th {\n",
       "        vertical-align: top;\n",
       "    }\n",
       "\n",
       "    .dataframe thead th {\n",
       "        text-align: right;\n",
       "    }\n",
       "</style>\n",
       "<table border=\"1\" class=\"dataframe\">\n",
       "  <thead>\n",
       "    <tr style=\"text-align: right;\">\n",
       "      <th></th>\n",
       "      <th>ID_Estudante</th>\n",
       "      <th>Nome_Estudante</th>\n",
       "      <th>Genero</th>\n",
       "      <th>Serie</th>\n",
       "      <th>Nome_Escola</th>\n",
       "      <th>Nota_Redacao</th>\n",
       "      <th>Nota_Matematica</th>\n",
       "      <th>ID_Escola</th>\n",
       "      <th>Tipo_Escola</th>\n",
       "      <th>Numero_Alunos</th>\n",
       "      <th>Orcamento_Anual</th>\n",
       "    </tr>\n",
       "  </thead>\n",
       "  <tbody>\n",
       "    <tr>\n",
       "      <th>0</th>\n",
       "      <td>0</td>\n",
       "      <td>Kevin Bradley</td>\n",
       "      <td>M</td>\n",
       "      <td>6</td>\n",
       "      <td>Escola A</td>\n",
       "      <td>66</td>\n",
       "      <td>79</td>\n",
       "      <td>0</td>\n",
       "      <td>Publica</td>\n",
       "      <td>2917</td>\n",
       "      <td>1910635</td>\n",
       "    </tr>\n",
       "    <tr>\n",
       "      <th>1</th>\n",
       "      <td>1</td>\n",
       "      <td>Paul Smith</td>\n",
       "      <td>M</td>\n",
       "      <td>9</td>\n",
       "      <td>Escola A</td>\n",
       "      <td>94</td>\n",
       "      <td>61</td>\n",
       "      <td>0</td>\n",
       "      <td>Publica</td>\n",
       "      <td>2917</td>\n",
       "      <td>1910635</td>\n",
       "    </tr>\n",
       "    <tr>\n",
       "      <th>2</th>\n",
       "      <td>2</td>\n",
       "      <td>John Rodriguez</td>\n",
       "      <td>M</td>\n",
       "      <td>9</td>\n",
       "      <td>Escola A</td>\n",
       "      <td>90</td>\n",
       "      <td>60</td>\n",
       "      <td>0</td>\n",
       "      <td>Publica</td>\n",
       "      <td>2917</td>\n",
       "      <td>1910635</td>\n",
       "    </tr>\n",
       "    <tr>\n",
       "      <th>3</th>\n",
       "      <td>3</td>\n",
       "      <td>Oliver Scott</td>\n",
       "      <td>M</td>\n",
       "      <td>9</td>\n",
       "      <td>Escola A</td>\n",
       "      <td>67</td>\n",
       "      <td>58</td>\n",
       "      <td>0</td>\n",
       "      <td>Publica</td>\n",
       "      <td>2917</td>\n",
       "      <td>1910635</td>\n",
       "    </tr>\n",
       "    <tr>\n",
       "      <th>4</th>\n",
       "      <td>4</td>\n",
       "      <td>William Ray</td>\n",
       "      <td>F</td>\n",
       "      <td>6</td>\n",
       "      <td>Escola A</td>\n",
       "      <td>97</td>\n",
       "      <td>84</td>\n",
       "      <td>0</td>\n",
       "      <td>Publica</td>\n",
       "      <td>2917</td>\n",
       "      <td>1910635</td>\n",
       "    </tr>\n",
       "  </tbody>\n",
       "</table>\n",
       "</div>"
      ],
      "text/plain": [
       "   ID_Estudante  Nome_Estudante Genero  Serie Nome_Escola  Nota_Redacao  \\\n",
       "0             0   Kevin Bradley      M      6    Escola A            66   \n",
       "1             1      Paul Smith      M      9    Escola A            94   \n",
       "2             2  John Rodriguez      M      9    Escola A            90   \n",
       "3             3    Oliver Scott      M      9    Escola A            67   \n",
       "4             4     William Ray      F      6    Escola A            97   \n",
       "\n",
       "   Nota_Matematica  ID_Escola Tipo_Escola  Numero_Alunos  Orcamento_Anual  \n",
       "0               79          0     Publica           2917          1910635  \n",
       "1               61          0     Publica           2917          1910635  \n",
       "2               60          0     Publica           2917          1910635  \n",
       "3               58          0     Publica           2917          1910635  \n",
       "4               84          0     Publica           2917          1910635  "
      ]
     },
     "execution_count": 10,
     "metadata": {},
     "output_type": "execute_result"
    }
   ],
   "source": [
    "full_data.head()"
   ]
  },
  {
   "cell_type": "code",
   "execution_count": 11,
   "metadata": {
    "colab": {
     "base_uri": "https://localhost:8080/"
    },
    "id": "u1GakeIGYv2W",
    "outputId": "a4baeee2-5ddf-4358-a2cc-53aa6166499c"
   },
   "outputs": [
    {
     "data": {
      "text/plain": [
       "array([6, 9, 8, 7], dtype=int64)"
      ]
     },
     "execution_count": 11,
     "metadata": {},
     "output_type": "execute_result"
    }
   ],
   "source": [
    "full_data[\"Serie\"].unique()"
   ]
  },
  {
   "cell_type": "code",
   "execution_count": 12,
   "metadata": {
    "colab": {
     "base_uri": "https://localhost:8080/"
    },
    "id": "UjkxXBNKYyci",
    "outputId": "134d37b1-5f95-436a-c651-38c4bfbec3ff"
   },
   "outputs": [
    {
     "data": {
      "text/plain": [
       "array(['M', 'F'], dtype=object)"
      ]
     },
     "execution_count": 12,
     "metadata": {},
     "output_type": "execute_result"
    }
   ],
   "source": [
    "full_data[\"Genero\"].unique()"
   ]
  },
  {
   "cell_type": "markdown",
   "metadata": {
    "id": "DM2OlzLeYzgT"
   },
   "source": [
    "#### Data Analysis Challenge\n"
   ]
  },
  {
   "cell_type": "markdown",
   "metadata": {
    "id": "eZUI4euVY4us"
   },
   "source": [
    "Answer the questions below."
   ]
  },
  {
   "cell_type": "markdown",
   "metadata": {
    "id": "nXc5E08tY9ts"
   },
   "source": [
    "> **1- How many have data schools?**"
   ]
  },
  {
   "cell_type": "code",
   "execution_count": 34,
   "metadata": {
    "id": "nfbCHGgMZ6yd"
   },
   "outputs": [
    {
     "data": {
      "text/plain": [
       "15"
      ]
     },
     "execution_count": 34,
     "metadata": {},
     "output_type": "execute_result"
    }
   ],
   "source": [
    "number_schools = full_data['Nome_Escola'].nunique()\n",
    "number_schools"
   ]
  },
  {
   "cell_type": "code",
   "execution_count": 35,
   "metadata": {},
   "outputs": [
    {
     "name": "stdout",
     "output_type": "stream",
     "text": [
      "We have data from 15 schools\n"
     ]
    }
   ],
   "source": [
    "print(\"We have data from\", number_schools, \"schools\")"
   ]
  },
  {
   "cell_type": "markdown",
   "metadata": {
    "id": "zVUIzCn6Y9qc"
   },
   "source": [
    "> **2- What is the total number of student records in the database?**"
   ]
  },
  {
   "cell_type": "code",
   "execution_count": 15,
   "metadata": {
    "colab": {
     "base_uri": "https://localhost:8080/"
    },
    "id": "x8ZVfNo_Z6DK",
    "outputId": "9e3e1e0c-570b-4eaa-b92f-4ee9fbd96cc6"
   },
   "outputs": [
    {
     "data": {
      "text/plain": [
       "39160"
      ]
     },
     "execution_count": 15,
     "metadata": {},
     "output_type": "execute_result"
    }
   ],
   "source": [
    "number_students = full_data['ID_Estudante'].count()\n",
    "number_students"
   ]
  },
  {
   "cell_type": "code",
   "execution_count": 16,
   "metadata": {},
   "outputs": [
    {
     "name": "stdout",
     "output_type": "stream",
     "text": [
      "We have a total of 39160 student records\n"
     ]
    }
   ],
   "source": [
    "print(\"We have a total of\", number_students, \"student records\")"
   ]
  },
  {
   "cell_type": "markdown",
   "metadata": {
    "id": "ZpXKUEI5Y9m7"
   },
   "source": [
    "> **3- What is the total budget considering all schools?**"
   ]
  },
  {
   "cell_type": "code",
   "execution_count": 17,
   "metadata": {
    "colab": {
     "base_uri": "https://localhost:8080/"
    },
    "id": "yM7IHtqcZzlG",
    "outputId": "88c66cfa-07e8-48aa-df21-188a23caa93c"
   },
   "outputs": [
    {
     "data": {
      "text/plain": [
       "24649428"
      ]
     },
     "execution_count": 17,
     "metadata": {},
     "output_type": "execute_result"
    }
   ],
   "source": [
    "sum_annual_budget = schools_data['Orcamento_Anual'].sum()\n",
    "sum_annual_budget"
   ]
  },
  {
   "cell_type": "code",
   "execution_count": 18,
   "metadata": {
    "scrolled": true
   },
   "outputs": [
    {
     "name": "stdout",
     "output_type": "stream",
     "text": [
      "The total budget value considering all schools is: $24649428.00\n"
     ]
    }
   ],
   "source": [
    "print(\"The total budget value considering all schools is: ${:.2f}\".format(sum_annual_budget))"
   ]
  },
  {
   "cell_type": "code",
   "execution_count": 19,
   "metadata": {
    "colab": {
     "base_uri": "https://localhost:8080/"
    },
    "id": "Whrs-AeDZ0jw",
    "outputId": "0b976f64-3207-4866-dca1-09547939cbdb"
   },
   "outputs": [
    {
     "data": {
      "text/plain": [
       "81.87574055158325"
      ]
     },
     "execution_count": 19,
     "metadata": {},
     "output_type": "execute_result"
    }
   ],
   "source": [
    "average_writing_grade = full_data['Nota_Redacao'].mean()\n",
    "average_writing_grade"
   ]
  },
  {
   "cell_type": "markdown",
   "metadata": {
    "id": "QFdH5X24Y9iA"
   },
   "source": [
    "> **4- What is the average grade of students in Writing?**"
   ]
  },
  {
   "cell_type": "code",
   "execution_count": 20,
   "metadata": {},
   "outputs": [
    {
     "name": "stdout",
     "output_type": "stream",
     "text": [
      "The average grade of students in Writing is 81.87574055158325\n"
     ]
    }
   ],
   "source": [
    "print(\"The average grade of students in Writing is\", average_writing_grade)"
   ]
  },
  {
   "cell_type": "markdown",
   "metadata": {
    "id": "mldyEDnkY9FN"
   },
   "source": [
    "> **5- What is the average grade of students in Mathematics?**"
   ]
  },
  {
   "cell_type": "code",
   "execution_count": 21,
   "metadata": {
    "colab": {
     "base_uri": "https://localhost:8080/"
    },
    "id": "uX-bS5NmhvLn",
    "outputId": "2f99606e-7fab-4a98-8c5f-e1594e3a5def"
   },
   "outputs": [
    {
     "data": {
      "text/plain": [
       "78.98493360572012"
      ]
     },
     "execution_count": 21,
     "metadata": {},
     "output_type": "execute_result"
    }
   ],
   "source": [
    "average_math_grade = full_data['Nota_Matematica'].mean()\n",
    "average_math_grade"
   ]
  },
  {
   "cell_type": "code",
   "execution_count": 22,
   "metadata": {},
   "outputs": [
    {
     "name": "stdout",
     "output_type": "stream",
     "text": [
      "The average grade of students in Mathematics is 78.98493360572012\n"
     ]
    }
   ],
   "source": [
    "print(\"The average grade of students in Mathematics is\", average_math_grade)"
   ]
  },
  {
   "cell_type": "markdown",
   "metadata": {
    "id": "DBPySjlnZLWu"
   },
   "source": [
    "> **6- Considering that the passing grade is 70, how many students passed Writing? (Deliver the result in absolute value and percentage)**"
   ]
  },
  {
   "cell_type": "code",
   "execution_count": 23,
   "metadata": {
    "colab": {
     "base_uri": "https://localhost:8080/"
    },
    "id": "DUjU_YhTZ8er",
    "outputId": "d729fe1d-217d-444e-9c2f-571e2b8b9bb9"
   },
   "outputs": [
    {
     "data": {
      "text/plain": [
       "33600"
      ]
     },
     "execution_count": 23,
     "metadata": {},
     "output_type": "execute_result"
    }
   ],
   "source": [
    "approved_students_writing = full_data[full_data['Nota_Redacao'] >= 70].shape[0]\n",
    "approved_students_writing"
   ]
  },
  {
   "cell_type": "code",
   "execution_count": 24,
   "metadata": {
    "colab": {
     "base_uri": "https://localhost:8080/"
    },
    "id": "O5q0B3zaZ89p",
    "outputId": "aba67c7b-d395-412a-9602-689abd0733c9"
   },
   "outputs": [
    {
     "data": {
      "text/plain": [
       "85.80183861082737"
      ]
     },
     "execution_count": 24,
     "metadata": {},
     "output_type": "execute_result"
    }
   ],
   "source": [
    "total_students = full_data.shape[0]\n",
    "percentage_approved_writing = (approved_students_writing / total_students) * 100\n",
    "percentage_approved_writing"
   ]
  },
  {
   "cell_type": "code",
   "execution_count": 25,
   "metadata": {
    "colab": {
     "base_uri": "https://localhost:8080/"
    },
    "id": "i4-O2ep2ijaG",
    "outputId": "b8047e1d-59d6-430a-a125-bc57a4910d64"
   },
   "outputs": [
    {
     "name": "stdout",
     "output_type": "stream",
     "text": [
      "Number of students approved in Writing: 33600\n",
      "Percentage of students approved in Writing: 85.80%\n"
     ]
    }
   ],
   "source": [
    "print(\"Number of students approved in Writing:\", approved_students_writing)\n",
    "print(\"Percentage of students approved in Writing: {:.2f}%\".format(percentage_approved_writing))"
   ]
  },
  {
   "cell_type": "markdown",
   "metadata": {
    "id": "Wy6pwVkTZMdq"
   },
   "source": [
    "> **7- Considering that the passing score is 70, how many students passed Mathematics? (Deliver the result in absolute value and percentage)**"
   ]
  },
  {
   "cell_type": "code",
   "execution_count": 26,
   "metadata": {
    "colab": {
     "base_uri": "https://localhost:8080/"
    },
    "id": "7uT_qwfvZ-jA",
    "outputId": "e1824fb4-fc1b-4717-cb55-81020e111e88"
   },
   "outputs": [
    {
     "data": {
      "text/plain": [
       "29360"
      ]
     },
     "execution_count": 26,
     "metadata": {},
     "output_type": "execute_result"
    }
   ],
   "source": [
    "approved_students_math = full_data[full_data['Nota_Matematica'] >= 70].shape[0]\n",
    "approved_students_math"
   ]
  },
  {
   "cell_type": "code",
   "execution_count": 27,
   "metadata": {
    "colab": {
     "base_uri": "https://localhost:8080/"
    },
    "id": "YSGJ-ucGZ-uv",
    "outputId": "b81e88e7-a4c9-4a54-83bd-8fda32c9cbe0"
   },
   "outputs": [
    {
     "data": {
      "text/plain": [
       "74.97446373850867"
      ]
     },
     "execution_count": 27,
     "metadata": {},
     "output_type": "execute_result"
    }
   ],
   "source": [
    "percentage_approved_math = (approved_students_math / total_students) * 100\n",
    "percentage_approved_math"
   ]
  },
  {
   "cell_type": "code",
   "execution_count": 28,
   "metadata": {
    "colab": {
     "base_uri": "https://localhost:8080/"
    },
    "id": "ZtUiWCeujLMo",
    "outputId": "a8245a4a-dade-464e-cb7b-569aa70c6336"
   },
   "outputs": [
    {
     "name": "stdout",
     "output_type": "stream",
     "text": [
      "Number of students approved in Mathematics: 29360\n",
      "Percentage of students approved in Mathematics: 74.97%\n"
     ]
    }
   ],
   "source": [
    "print(\"Number of students approved in Mathematics:\", approved_students_math)\n",
    "print(\"Percentage of students approved in Mathematics: {:.2f}%\".format(percentage_approved_math))"
   ]
  },
  {
   "cell_type": "markdown",
   "metadata": {
    "id": "8SKxu4lCZPGV"
   },
   "source": [
    "> **8- Considering that the passing score is 70, how many students passed Mathematics and Writing? (Deliver the result in absolute value and percentage)**"
   ]
  },
  {
   "cell_type": "code",
   "execution_count": 29,
   "metadata": {
    "colab": {
     "base_uri": "https://localhost:8080/"
    },
    "id": "kSmAgmPaaADn",
    "outputId": "d0131f9e-fc16-4ffe-b563-fafc4ccc6bbd"
   },
   "outputs": [
    {
     "data": {
      "text/plain": [
       "25518"
      ]
     },
     "execution_count": 29,
     "metadata": {},
     "output_type": "execute_result"
    }
   ],
   "source": [
    "approved_students = full_data[(full_data['Nota_Matematica'] >= 70) & (full_data['Nota_Redacao'] >= 70)].shape[0]\n",
    "approved_students"
   ]
  },
  {
   "cell_type": "code",
   "execution_count": 30,
   "metadata": {
    "colab": {
     "base_uri": "https://localhost:8080/"
    },
    "id": "SBsTyT3BaA6w",
    "outputId": "8e5c7b35-407e-432d-a979-a1d5bbd49676"
   },
   "outputs": [
    {
     "data": {
      "text/plain": [
       "65.16343207354444"
      ]
     },
     "execution_count": 30,
     "metadata": {},
     "output_type": "execute_result"
    }
   ],
   "source": [
    "percentage_approved = (approved_students / total_students) * 100\n",
    "percentage_approved"
   ]
  },
  {
   "cell_type": "code",
   "execution_count": 31,
   "metadata": {
    "colab": {
     "base_uri": "https://localhost:8080/"
    },
    "id": "fXEDgC0gjsOE",
    "outputId": "1fbc004b-de89-49d1-98c7-f8938af8d92a"
   },
   "outputs": [
    {
     "name": "stdout",
     "output_type": "stream",
     "text": [
      "Number of students approved in Mathematics and Writing: 25518\n",
      "Percentage of students approved in Mathematics and Writing: 65.16%\n"
     ]
    }
   ],
   "source": [
    "print(\"Number of students approved in Mathematics and Writing:\", approved_students)\n",
    "print(\"Percentage of students approved in Mathematics and Writing: {:.2f}%\".format(percentage_approved))"
   ]
  },
  {
   "cell_type": "markdown",
   "metadata": {
    "id": "vbfgDg3RZTqS"
   },
   "source": [
    "> **9- Create a dataframe with the results of questions 1 to 8 that you calculated above. (Tip: create a dictionary and then convert it to a Pandas dataframe)**"
   ]
  },
  {
   "cell_type": "code",
   "execution_count": 32,
   "metadata": {
    "colab": {
     "base_uri": "https://localhost:8080/",
     "height": 150
    },
    "id": "uhs0x92paCod",
    "outputId": "adb153ad-d185-4e36-e641-641b9cca4c06"
   },
   "outputs": [
    {
     "data": {
      "text/html": [
       "<div>\n",
       "<style scoped>\n",
       "    .dataframe tbody tr th:only-of-type {\n",
       "        vertical-align: middle;\n",
       "    }\n",
       "\n",
       "    .dataframe tbody tr th {\n",
       "        vertical-align: top;\n",
       "    }\n",
       "\n",
       "    .dataframe thead th {\n",
       "        text-align: right;\n",
       "    }\n",
       "</style>\n",
       "<table border=\"1\" class=\"dataframe\">\n",
       "  <thead>\n",
       "    <tr style=\"text-align: right;\">\n",
       "      <th></th>\n",
       "      <th>Number of Schools</th>\n",
       "      <th>Number of Students</th>\n",
       "      <th>Total Annual Budget for Schools</th>\n",
       "      <th>Average Grade in Writing</th>\n",
       "      <th>Average Grade in Mathematics</th>\n",
       "      <th>Number of students approved in Writing (absolute value)</th>\n",
       "      <th>Number of students approved in Writing (percentage value)</th>\n",
       "      <th>Number of students approved in Mathematics (absolute value)</th>\n",
       "      <th>Number of students approved in Mathematics (percentage value)</th>\n",
       "      <th>Number of students approved in Mathematics and Writing (absolute value)</th>\n",
       "      <th>Number of students approved in Mathematics and Writing (percentage value)</th>\n",
       "    </tr>\n",
       "  </thead>\n",
       "  <tbody>\n",
       "    <tr>\n",
       "      <th>0</th>\n",
       "      <td>15</td>\n",
       "      <td>39160</td>\n",
       "      <td>24649428</td>\n",
       "      <td>81.875741</td>\n",
       "      <td>78.984934</td>\n",
       "      <td>33600</td>\n",
       "      <td>85.801839</td>\n",
       "      <td>29360</td>\n",
       "      <td>74.974464</td>\n",
       "      <td>25518</td>\n",
       "      <td>65.163432</td>\n",
       "    </tr>\n",
       "  </tbody>\n",
       "</table>\n",
       "</div>"
      ],
      "text/plain": [
       "   Number of Schools  Number of Students  Total Annual Budget for Schools  \\\n",
       "0                 15               39160                         24649428   \n",
       "\n",
       "   Average Grade in Writing  Average Grade in Mathematics  \\\n",
       "0                 81.875741                     78.984934   \n",
       "\n",
       "   Number of students approved in Writing (absolute value)  \\\n",
       "0                                              33600         \n",
       "\n",
       "   Number of students approved in Writing (percentage value)  \\\n",
       "0                                          85.801839           \n",
       "\n",
       "   Number of students approved in Mathematics (absolute value)  \\\n",
       "0                                              29360             \n",
       "\n",
       "   Number of students approved in Mathematics (percentage value)  \\\n",
       "0                                          74.974464               \n",
       "\n",
       "   Number of students approved in Mathematics and Writing (absolute value)  \\\n",
       "0                                              25518                         \n",
       "\n",
       "   Number of students approved in Mathematics and Writing (percentage value)  \n",
       "0                                          65.163432                          "
      ]
     },
     "execution_count": 32,
     "metadata": {},
     "output_type": "execute_result"
    }
   ],
   "source": [
    "results = pd.DataFrame ({\"Number of Schools\": [number_schools],\n",
    "                            \"Number of Students\": [number_students],\n",
    "                            \"Total Annual Budget for Schools\":[sum_annual_budget],\n",
    "                            \"Average Grade in Writing\":[average_writing_grade],\n",
    "                            \"Average Grade in Mathematics\":[average_math_grade],\n",
    "                            \"Number of students approved in Writing (absolute value)\":[approved_students_writing],\n",
    "                            \"Number of students approved in Writing (percentage value)\":[percentage_approved_writing],\n",
    "                            \"Number of students approved in Mathematics (absolute value)\":[approved_students_math],\n",
    "                            \"Number of students approved in Mathematics (percentage value)\":[percentage_approved_math],\n",
    "                            \"Number of students approved in Mathematics and Writing (absolute value)\":[approved_students],\n",
    "                            \"Number of students approved in Mathematics and Writing (percentage value)\":[percentage_approved]})\n",
    "\n",
    "results"
   ]
  },
  {
   "cell_type": "markdown",
   "metadata": {
    "id": "shDUyzuMZWAi"
   },
   "source": [
    "> **10- Format the \"Total Students\" and \"Total Budget\" columns by adjusting the decimal places.**"
   ]
  },
  {
   "cell_type": "code",
   "execution_count": 33,
   "metadata": {},
   "outputs": [
    {
     "data": {
      "text/html": [
       "<div>\n",
       "<style scoped>\n",
       "    .dataframe tbody tr th:only-of-type {\n",
       "        vertical-align: middle;\n",
       "    }\n",
       "\n",
       "    .dataframe tbody tr th {\n",
       "        vertical-align: top;\n",
       "    }\n",
       "\n",
       "    .dataframe thead th {\n",
       "        text-align: right;\n",
       "    }\n",
       "</style>\n",
       "<table border=\"1\" class=\"dataframe\">\n",
       "  <thead>\n",
       "    <tr style=\"text-align: right;\">\n",
       "      <th></th>\n",
       "      <th>Number of Schools</th>\n",
       "      <th>Number of Students</th>\n",
       "      <th>Total Annual Budget for Schools</th>\n",
       "      <th>Average Grade in Writing</th>\n",
       "      <th>Average Grade in Mathematics</th>\n",
       "      <th>Number of students approved in Writing (absolute value)</th>\n",
       "      <th>Number of students approved in Writing (percentage value)</th>\n",
       "      <th>Number of students approved in Mathematics (absolute value)</th>\n",
       "      <th>Number of students approved in Mathematics (percentage value)</th>\n",
       "      <th>Number of students approved in Mathematics and Writing (absolute value)</th>\n",
       "      <th>Number of students approved in Mathematics and Writing (percentage value)</th>\n",
       "    </tr>\n",
       "  </thead>\n",
       "  <tbody>\n",
       "    <tr>\n",
       "      <th>0</th>\n",
       "      <td>15</td>\n",
       "      <td>39160.00</td>\n",
       "      <td>24649428.00</td>\n",
       "      <td>81.875741</td>\n",
       "      <td>78.984934</td>\n",
       "      <td>33600</td>\n",
       "      <td>85.801839</td>\n",
       "      <td>29360</td>\n",
       "      <td>74.974464</td>\n",
       "      <td>25518</td>\n",
       "      <td>65.163432</td>\n",
       "    </tr>\n",
       "  </tbody>\n",
       "</table>\n",
       "</div>"
      ],
      "text/plain": [
       "   Number of Schools Number of Students Total Annual Budget for Schools  \\\n",
       "0                 15           39160.00                     24649428.00   \n",
       "\n",
       "   Average Grade in Writing  Average Grade in Mathematics  \\\n",
       "0                 81.875741                     78.984934   \n",
       "\n",
       "   Number of students approved in Writing (absolute value)  \\\n",
       "0                                              33600         \n",
       "\n",
       "   Number of students approved in Writing (percentage value)  \\\n",
       "0                                          85.801839           \n",
       "\n",
       "   Number of students approved in Mathematics (absolute value)  \\\n",
       "0                                              29360             \n",
       "\n",
       "   Number of students approved in Mathematics (percentage value)  \\\n",
       "0                                          74.974464               \n",
       "\n",
       "   Number of students approved in Mathematics and Writing (absolute value)  \\\n",
       "0                                              25518                         \n",
       "\n",
       "   Number of students approved in Mathematics and Writing (percentage value)  \n",
       "0                                          65.163432                          "
      ]
     },
     "execution_count": 33,
     "metadata": {},
     "output_type": "execute_result"
    }
   ],
   "source": [
    "results_2 = pd.DataFrame ({\"Number of Schools\": [number_schools],\n",
    "                            \"Number of Students\":  [\"{:.2f}\".format(number_students)],\n",
    "                            \"Total Annual Budget for Schools\": [\"{:.2f}\".format(sum_annual_budget)],\n",
    "                            \"Average Grade in Writing\":[average_writing_grade],\n",
    "                            \"Average Grade in Mathematics\":[average_math_grade],\n",
    "                            \"Number of students approved in Writing (absolute value)\":[approved_students_writing],\n",
    "                            \"Number of students approved in Writing (percentage value)\":[percentage_approved_writing],\n",
    "                            \"Number of students approved in Mathematics (absolute value)\":[approved_students_math],\n",
    "                            \"Number of students approved in Mathematics (percentage value)\":[percentage_approved_math],\n",
    "                            \"Number of students approved in Mathematics and Writing (absolute value)\":[approved_students],\n",
    "                            \"Number of students approved in Mathematics and Writing (percentage value)\":[percentage_approved]})\n",
    "\n",
    "results_2"
   ]
  }
 ],
 "metadata": {
  "colab": {
   "provenance": []
  },
  "kernelspec": {
   "display_name": "Python 3 (ipykernel)",
   "language": "python",
   "name": "python3"
  },
  "language_info": {
   "codemirror_mode": {
    "name": "ipython",
    "version": 3
   },
   "file_extension": ".py",
   "mimetype": "text/x-python",
   "name": "python",
   "nbconvert_exporter": "python",
   "pygments_lexer": "ipython3",
   "version": "3.11.5"
  }
 },
 "nbformat": 4,
 "nbformat_minor": 1
}
