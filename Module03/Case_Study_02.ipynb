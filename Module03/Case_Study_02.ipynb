{
 "cells": [
  {
   "cell_type": "markdown",
   "metadata": {
    "id": "e6Yn9grHC_wU"
   },
   "source": [
    "# Big Data Real-Time Analytics with Python and Spark"
   ]
  },
  {
   "cell_type": "markdown",
   "metadata": {
    "id": "gHXVnWJmC_he"
   },
   "source": [
    "## Data Manipulation in Python with Pandas"
   ]
  },
  {
   "cell_type": "markdown",
   "metadata": {
    "id": "GjUwHuOIC_ep"
   },
   "source": [
    "### Case Study 2"
   ]
  },
  {
   "cell_type": "markdown",
   "metadata": {
    "id": "p1SXdmQcIzgH"
   },
   "source": [
    "**Problem Definition and Data Source**\n",
    "\n",
    "In this Case Study the objective is to carry out a detailed school data analysis process by crossing, comparing and summarizing different types of information.\n",
    "\n",
    "In total, 25 business questions will be answered that will require analyzing the data from different perspectives. Pandas will be the only tool used.\n",
    "\n",
    "For this work we will use fictitious data, but which could represent real data. The data was generated from the Realistic Data Generator, at the address below:\n",
    "\n",
    "https://www.mockaroo.com"
   ]
  },
  {
   "cell_type": "code",
   "execution_count": 1,
   "metadata": {
    "id": "iqDBjDeSXGN7"
   },
   "outputs": [],
   "source": [
    "import pandas as pd"
   ]
  },
  {
   "cell_type": "markdown",
   "metadata": {
    "id": "-EqVQJ_AXOXc"
   },
   "source": [
    "#### Carregando os Dados"
   ]
  },
  {
   "cell_type": "code",
   "execution_count": 2,
   "metadata": {
    "id": "_nNxLhFwXN7R"
   },
   "outputs": [],
   "source": [
    "schools_data = pd.read_csv(\"dataset/dataset_escolas.csv\")"
   ]
  },
  {
   "cell_type": "code",
   "execution_count": 3,
   "metadata": {
    "colab": {
     "base_uri": "https://localhost:8080/"
    },
    "id": "X4GCJhAoXgQa",
    "outputId": "f6895b95-9cbd-4ecf-95eb-c817a5bf1b1d"
   },
   "outputs": [
    {
     "data": {
      "text/plain": [
       "(15, 5)"
      ]
     },
     "execution_count": 3,
     "metadata": {},
     "output_type": "execute_result"
    }
   ],
   "source": [
    "schools_data.shape"
   ]
  },
  {
   "cell_type": "code",
   "execution_count": 4,
   "metadata": {
    "colab": {
     "base_uri": "https://localhost:8080/",
     "height": 206
    },
    "id": "YfmM6T3jXh_S",
    "outputId": "ced7f733-4c24-4930-ce26-fd65c217dff5"
   },
   "outputs": [
    {
     "data": {
      "text/html": [
       "<div>\n",
       "<style scoped>\n",
       "    .dataframe tbody tr th:only-of-type {\n",
       "        vertical-align: middle;\n",
       "    }\n",
       "\n",
       "    .dataframe tbody tr th {\n",
       "        vertical-align: top;\n",
       "    }\n",
       "\n",
       "    .dataframe thead th {\n",
       "        text-align: right;\n",
       "    }\n",
       "</style>\n",
       "<table border=\"1\" class=\"dataframe\">\n",
       "  <thead>\n",
       "    <tr style=\"text-align: right;\">\n",
       "      <th></th>\n",
       "      <th>ID_Escola</th>\n",
       "      <th>Nome_Escola</th>\n",
       "      <th>Tipo_Escola</th>\n",
       "      <th>Numero_Alunos</th>\n",
       "      <th>Orcamento_Anual</th>\n",
       "    </tr>\n",
       "  </thead>\n",
       "  <tbody>\n",
       "    <tr>\n",
       "      <th>0</th>\n",
       "      <td>0</td>\n",
       "      <td>Escola A</td>\n",
       "      <td>Publica</td>\n",
       "      <td>2917</td>\n",
       "      <td>1910635</td>\n",
       "    </tr>\n",
       "    <tr>\n",
       "      <th>1</th>\n",
       "      <td>1</td>\n",
       "      <td>Escola B</td>\n",
       "      <td>Publica</td>\n",
       "      <td>2949</td>\n",
       "      <td>1884411</td>\n",
       "    </tr>\n",
       "    <tr>\n",
       "      <th>2</th>\n",
       "      <td>2</td>\n",
       "      <td>Escola C</td>\n",
       "      <td>Particular</td>\n",
       "      <td>1761</td>\n",
       "      <td>1056600</td>\n",
       "    </tr>\n",
       "    <tr>\n",
       "      <th>3</th>\n",
       "      <td>3</td>\n",
       "      <td>Escola D</td>\n",
       "      <td>Publica</td>\n",
       "      <td>4635</td>\n",
       "      <td>3022020</td>\n",
       "    </tr>\n",
       "    <tr>\n",
       "      <th>4</th>\n",
       "      <td>4</td>\n",
       "      <td>Escola E</td>\n",
       "      <td>Particular</td>\n",
       "      <td>1468</td>\n",
       "      <td>917500</td>\n",
       "    </tr>\n",
       "  </tbody>\n",
       "</table>\n",
       "</div>"
      ],
      "text/plain": [
       "   ID_Escola Nome_Escola Tipo_Escola  Numero_Alunos  Orcamento_Anual\n",
       "0          0    Escola A     Publica           2917          1910635\n",
       "1          1    Escola B     Publica           2949          1884411\n",
       "2          2    Escola C  Particular           1761          1056600\n",
       "3          3    Escola D     Publica           4635          3022020\n",
       "4          4    Escola E  Particular           1468           917500"
      ]
     },
     "execution_count": 4,
     "metadata": {},
     "output_type": "execute_result"
    }
   ],
   "source": [
    "schools_data.head()"
   ]
  },
  {
   "cell_type": "code",
   "execution_count": 5,
   "metadata": {
    "id": "dbOehgKrXk94"
   },
   "outputs": [],
   "source": [
    "student_data = pd.read_csv(\"dataset/dataset_estudantes.csv\")"
   ]
  },
  {
   "cell_type": "code",
   "execution_count": 6,
   "metadata": {
    "colab": {
     "base_uri": "https://localhost:8080/"
    },
    "id": "c3BTYm1BYjjF",
    "outputId": "38f2ba4e-9323-473b-a333-be85e3fddd91"
   },
   "outputs": [
    {
     "data": {
      "text/plain": [
       "(39160, 7)"
      ]
     },
     "execution_count": 6,
     "metadata": {},
     "output_type": "execute_result"
    }
   ],
   "source": [
    "student_data.shape"
   ]
  },
  {
   "cell_type": "code",
   "execution_count": 7,
   "metadata": {
    "colab": {
     "base_uri": "https://localhost:8080/",
     "height": 206
    },
    "id": "34rcFJ0TYktz",
    "outputId": "c8289d9d-aaab-4df6-c60d-e578df567e29"
   },
   "outputs": [
    {
     "data": {
      "text/html": [
       "<div>\n",
       "<style scoped>\n",
       "    .dataframe tbody tr th:only-of-type {\n",
       "        vertical-align: middle;\n",
       "    }\n",
       "\n",
       "    .dataframe tbody tr th {\n",
       "        vertical-align: top;\n",
       "    }\n",
       "\n",
       "    .dataframe thead th {\n",
       "        text-align: right;\n",
       "    }\n",
       "</style>\n",
       "<table border=\"1\" class=\"dataframe\">\n",
       "  <thead>\n",
       "    <tr style=\"text-align: right;\">\n",
       "      <th></th>\n",
       "      <th>ID_Estudante</th>\n",
       "      <th>Nome_Estudante</th>\n",
       "      <th>Genero</th>\n",
       "      <th>Serie</th>\n",
       "      <th>Nome_Escola</th>\n",
       "      <th>Nota_Redacao</th>\n",
       "      <th>Nota_Matematica</th>\n",
       "    </tr>\n",
       "  </thead>\n",
       "  <tbody>\n",
       "    <tr>\n",
       "      <th>0</th>\n",
       "      <td>0</td>\n",
       "      <td>Kevin Bradley</td>\n",
       "      <td>M</td>\n",
       "      <td>6</td>\n",
       "      <td>Escola A</td>\n",
       "      <td>66</td>\n",
       "      <td>79</td>\n",
       "    </tr>\n",
       "    <tr>\n",
       "      <th>1</th>\n",
       "      <td>1</td>\n",
       "      <td>Paul Smith</td>\n",
       "      <td>M</td>\n",
       "      <td>9</td>\n",
       "      <td>Escola A</td>\n",
       "      <td>94</td>\n",
       "      <td>61</td>\n",
       "    </tr>\n",
       "    <tr>\n",
       "      <th>2</th>\n",
       "      <td>2</td>\n",
       "      <td>John Rodriguez</td>\n",
       "      <td>M</td>\n",
       "      <td>9</td>\n",
       "      <td>Escola A</td>\n",
       "      <td>90</td>\n",
       "      <td>60</td>\n",
       "    </tr>\n",
       "    <tr>\n",
       "      <th>3</th>\n",
       "      <td>3</td>\n",
       "      <td>Oliver Scott</td>\n",
       "      <td>M</td>\n",
       "      <td>9</td>\n",
       "      <td>Escola A</td>\n",
       "      <td>67</td>\n",
       "      <td>58</td>\n",
       "    </tr>\n",
       "    <tr>\n",
       "      <th>4</th>\n",
       "      <td>4</td>\n",
       "      <td>William Ray</td>\n",
       "      <td>F</td>\n",
       "      <td>6</td>\n",
       "      <td>Escola A</td>\n",
       "      <td>97</td>\n",
       "      <td>84</td>\n",
       "    </tr>\n",
       "  </tbody>\n",
       "</table>\n",
       "</div>"
      ],
      "text/plain": [
       "   ID_Estudante  Nome_Estudante Genero  Serie Nome_Escola  Nota_Redacao  \\\n",
       "0             0   Kevin Bradley      M      6    Escola A            66   \n",
       "1             1      Paul Smith      M      9    Escola A            94   \n",
       "2             2  John Rodriguez      M      9    Escola A            90   \n",
       "3             3    Oliver Scott      M      9    Escola A            67   \n",
       "4             4     William Ray      F      6    Escola A            97   \n",
       "\n",
       "   Nota_Matematica  \n",
       "0               79  \n",
       "1               61  \n",
       "2               60  \n",
       "3               58  \n",
       "4               84  "
      ]
     },
     "execution_count": 7,
     "metadata": {},
     "output_type": "execute_result"
    }
   ],
   "source": [
    "student_data.head()"
   ]
  },
  {
   "cell_type": "code",
   "execution_count": 8,
   "metadata": {
    "id": "iNYsRVw6YoDI"
   },
   "outputs": [],
   "source": [
    "full_data = pd.merge(student_data, schools_data, how = \"left\", on = [\"Nome_Escola\", \"Nome_Escola\"])"
   ]
  },
  {
   "cell_type": "code",
   "execution_count": 9,
   "metadata": {
    "colab": {
     "base_uri": "https://localhost:8080/"
    },
    "id": "RnWK7Y9YYp_c",
    "outputId": "8814475e-0059-4b76-d236-7b600594c8aa"
   },
   "outputs": [
    {
     "data": {
      "text/plain": [
       "(39160, 11)"
      ]
     },
     "execution_count": 9,
     "metadata": {},
     "output_type": "execute_result"
    }
   ],
   "source": [
    "full_data.shape"
   ]
  },
  {
   "cell_type": "code",
   "execution_count": 10,
   "metadata": {
    "colab": {
     "base_uri": "https://localhost:8080/",
     "height": 206
    },
    "id": "63potOwcYrTS",
    "outputId": "30658267-a84f-441b-b581-49614ad0e544"
   },
   "outputs": [
    {
     "data": {
      "text/html": [
       "<div>\n",
       "<style scoped>\n",
       "    .dataframe tbody tr th:only-of-type {\n",
       "        vertical-align: middle;\n",
       "    }\n",
       "\n",
       "    .dataframe tbody tr th {\n",
       "        vertical-align: top;\n",
       "    }\n",
       "\n",
       "    .dataframe thead th {\n",
       "        text-align: right;\n",
       "    }\n",
       "</style>\n",
       "<table border=\"1\" class=\"dataframe\">\n",
       "  <thead>\n",
       "    <tr style=\"text-align: right;\">\n",
       "      <th></th>\n",
       "      <th>ID_Estudante</th>\n",
       "      <th>Nome_Estudante</th>\n",
       "      <th>Genero</th>\n",
       "      <th>Serie</th>\n",
       "      <th>Nome_Escola</th>\n",
       "      <th>Nota_Redacao</th>\n",
       "      <th>Nota_Matematica</th>\n",
       "      <th>ID_Escola</th>\n",
       "      <th>Tipo_Escola</th>\n",
       "      <th>Numero_Alunos</th>\n",
       "      <th>Orcamento_Anual</th>\n",
       "    </tr>\n",
       "  </thead>\n",
       "  <tbody>\n",
       "    <tr>\n",
       "      <th>0</th>\n",
       "      <td>0</td>\n",
       "      <td>Kevin Bradley</td>\n",
       "      <td>M</td>\n",
       "      <td>6</td>\n",
       "      <td>Escola A</td>\n",
       "      <td>66</td>\n",
       "      <td>79</td>\n",
       "      <td>0</td>\n",
       "      <td>Publica</td>\n",
       "      <td>2917</td>\n",
       "      <td>1910635</td>\n",
       "    </tr>\n",
       "    <tr>\n",
       "      <th>1</th>\n",
       "      <td>1</td>\n",
       "      <td>Paul Smith</td>\n",
       "      <td>M</td>\n",
       "      <td>9</td>\n",
       "      <td>Escola A</td>\n",
       "      <td>94</td>\n",
       "      <td>61</td>\n",
       "      <td>0</td>\n",
       "      <td>Publica</td>\n",
       "      <td>2917</td>\n",
       "      <td>1910635</td>\n",
       "    </tr>\n",
       "    <tr>\n",
       "      <th>2</th>\n",
       "      <td>2</td>\n",
       "      <td>John Rodriguez</td>\n",
       "      <td>M</td>\n",
       "      <td>9</td>\n",
       "      <td>Escola A</td>\n",
       "      <td>90</td>\n",
       "      <td>60</td>\n",
       "      <td>0</td>\n",
       "      <td>Publica</td>\n",
       "      <td>2917</td>\n",
       "      <td>1910635</td>\n",
       "    </tr>\n",
       "    <tr>\n",
       "      <th>3</th>\n",
       "      <td>3</td>\n",
       "      <td>Oliver Scott</td>\n",
       "      <td>M</td>\n",
       "      <td>9</td>\n",
       "      <td>Escola A</td>\n",
       "      <td>67</td>\n",
       "      <td>58</td>\n",
       "      <td>0</td>\n",
       "      <td>Publica</td>\n",
       "      <td>2917</td>\n",
       "      <td>1910635</td>\n",
       "    </tr>\n",
       "    <tr>\n",
       "      <th>4</th>\n",
       "      <td>4</td>\n",
       "      <td>William Ray</td>\n",
       "      <td>F</td>\n",
       "      <td>6</td>\n",
       "      <td>Escola A</td>\n",
       "      <td>97</td>\n",
       "      <td>84</td>\n",
       "      <td>0</td>\n",
       "      <td>Publica</td>\n",
       "      <td>2917</td>\n",
       "      <td>1910635</td>\n",
       "    </tr>\n",
       "  </tbody>\n",
       "</table>\n",
       "</div>"
      ],
      "text/plain": [
       "   ID_Estudante  Nome_Estudante Genero  Serie Nome_Escola  Nota_Redacao  \\\n",
       "0             0   Kevin Bradley      M      6    Escola A            66   \n",
       "1             1      Paul Smith      M      9    Escola A            94   \n",
       "2             2  John Rodriguez      M      9    Escola A            90   \n",
       "3             3    Oliver Scott      M      9    Escola A            67   \n",
       "4             4     William Ray      F      6    Escola A            97   \n",
       "\n",
       "   Nota_Matematica  ID_Escola Tipo_Escola  Numero_Alunos  Orcamento_Anual  \n",
       "0               79          0     Publica           2917          1910635  \n",
       "1               61          0     Publica           2917          1910635  \n",
       "2               60          0     Publica           2917          1910635  \n",
       "3               58          0     Publica           2917          1910635  \n",
       "4               84          0     Publica           2917          1910635  "
      ]
     },
     "execution_count": 10,
     "metadata": {},
     "output_type": "execute_result"
    }
   ],
   "source": [
    "full_data.head()"
   ]
  },
  {
   "cell_type": "code",
   "execution_count": 11,
   "metadata": {
    "colab": {
     "base_uri": "https://localhost:8080/"
    },
    "id": "u1GakeIGYv2W",
    "outputId": "a4baeee2-5ddf-4358-a2cc-53aa6166499c"
   },
   "outputs": [
    {
     "data": {
      "text/plain": [
       "array([6, 9, 8, 7], dtype=int64)"
      ]
     },
     "execution_count": 11,
     "metadata": {},
     "output_type": "execute_result"
    }
   ],
   "source": [
    "full_data[\"Serie\"].unique()"
   ]
  },
  {
   "cell_type": "code",
   "execution_count": 12,
   "metadata": {
    "colab": {
     "base_uri": "https://localhost:8080/"
    },
    "id": "UjkxXBNKYyci",
    "outputId": "134d37b1-5f95-436a-c651-38c4bfbec3ff"
   },
   "outputs": [
    {
     "data": {
      "text/plain": [
       "array(['M', 'F'], dtype=object)"
      ]
     },
     "execution_count": 12,
     "metadata": {},
     "output_type": "execute_result"
    }
   ],
   "source": [
    "full_data[\"Genero\"].unique()"
   ]
  },
  {
   "cell_type": "markdown",
   "metadata": {
    "id": "DM2OlzLeYzgT"
   },
   "source": [
    "#### Data Analysis Challenge"
   ]
  },
  {
   "cell_type": "markdown",
   "metadata": {
    "id": "eZUI4euVY4us"
   },
   "source": [
    "Answer the questions below."
   ]
  },
  {
   "cell_type": "markdown",
   "metadata": {
    "id": "nXc5E08tY9ts"
   },
   "source": [
    "> **1- How many have data schools?**"
   ]
  },
  {
   "cell_type": "code",
   "execution_count": 13,
   "metadata": {
    "colab": {
     "base_uri": "https://localhost:8080/"
    },
    "id": "l-TX9m1kZ7Ka",
    "outputId": "4eb2f9c7-2920-4c34-c0f2-f0ba7d6ecfbe"
   },
   "outputs": [
    {
     "data": {
      "text/plain": [
       "15"
      ]
     },
     "execution_count": 13,
     "metadata": {},
     "output_type": "execute_result"
    }
   ],
   "source": [
    "total_schools = len(full_data[\"Nome_Escola\"].unique())\n",
    "total_schools"
   ]
  },
  {
   "cell_type": "markdown",
   "metadata": {
    "id": "zVUIzCn6Y9qc"
   },
   "source": [
    "> **2- What is the total number of student records in the database?**"
   ]
  },
  {
   "cell_type": "code",
   "execution_count": 14,
   "metadata": {
    "colab": {
     "base_uri": "https://localhost:8080/"
    },
    "id": "SEgK-zQXZ6cW",
    "outputId": "6dbacbc1-5391-4a23-8938-2eb97f52ffe7"
   },
   "outputs": [
    {
     "data": {
      "text/plain": [
       "39160"
      ]
     },
     "execution_count": 14,
     "metadata": {},
     "output_type": "execute_result"
    }
   ],
   "source": [
    "total_students = full_data[\"ID_Estudante\"].count()\n",
    "total_students"
   ]
  },
  {
   "cell_type": "markdown",
   "metadata": {
    "id": "ZpXKUEI5Y9m7"
   },
   "source": [
    "> **3- What is the total budget considering all schools?**"
   ]
  },
  {
   "cell_type": "code",
   "execution_count": 15,
   "metadata": {
    "colab": {
     "base_uri": "https://localhost:8080/"
    },
    "id": "h7qi-5-AZz_D",
    "outputId": "e0a79d2a-409b-41f9-ad6d-641713e26cbb"
   },
   "outputs": [
    {
     "data": {
      "text/plain": [
       "24649428"
      ]
     },
     "execution_count": 15,
     "metadata": {},
     "output_type": "execute_result"
    }
   ],
   "source": [
    "total_budget = schools_data[\"Orcamento_Anual\"].sum()\n",
    "total_budget"
   ]
  },
  {
   "cell_type": "markdown",
   "metadata": {
    "id": "QFdH5X24Y9iA"
   },
   "source": [
    "> **4- What is the average grade of students in Writing?**"
   ]
  },
  {
   "cell_type": "code",
   "execution_count": 16,
   "metadata": {
    "colab": {
     "base_uri": "https://localhost:8080/"
    },
    "id": "Fp4qHxQfZ4-j",
    "outputId": "3e0e3ab2-1b11-44d6-adeb-442ebf16f994"
   },
   "outputs": [
    {
     "data": {
      "text/plain": [
       "81.87574055158325"
      ]
     },
     "execution_count": 16,
     "metadata": {},
     "output_type": "execute_result"
    }
   ],
   "source": [
    "average_writing = full_data[\"Nota_Redacao\"].mean()\n",
    "average_writing"
   ]
  },
  {
   "cell_type": "markdown",
   "metadata": {
    "id": "mldyEDnkY9FN"
   },
   "source": [
    "> **5- What is the average grade of students in Mathematics?**"
   ]
  },
  {
   "cell_type": "code",
   "execution_count": 17,
   "metadata": {
    "colab": {
     "base_uri": "https://localhost:8080/"
    },
    "id": "z4GlOo7rtkhS",
    "outputId": "0fc04f23-a0ef-48d5-c980-9a3f5fa40b6f"
   },
   "outputs": [
    {
     "data": {
      "text/plain": [
       "78.98493360572012"
      ]
     },
     "execution_count": 17,
     "metadata": {},
     "output_type": "execute_result"
    }
   ],
   "source": [
    "average_math = full_data[\"Nota_Matematica\"].mean()\n",
    "average_math"
   ]
  },
  {
   "cell_type": "markdown",
   "metadata": {
    "id": "DBPySjlnZLWu"
   },
   "source": [
    "> **6- Considering that the passing grade is 70, how many students passed Writing? (Deliver the result in absolute value and percentage)**"
   ]
  },
  {
   "cell_type": "code",
   "execution_count": 18,
   "metadata": {
    "colab": {
     "base_uri": "https://localhost:8080/"
    },
    "id": "5k9F7-C6Z9VX",
    "outputId": "91f00fa6-4e31-4f92-aeef-cabc0ff9e426"
   },
   "outputs": [
    {
     "data": {
      "text/plain": [
       "33600"
      ]
     },
     "execution_count": 18,
     "metadata": {},
     "output_type": "execute_result"
    }
   ],
   "source": [
    "count_approved_writing = full_data[(full_data[\"Nota_Redacao\"] >= 70)].count()[\"Nome_Estudante\"]\n",
    "count_approved_writing"
   ]
  },
  {
   "cell_type": "code",
   "execution_count": 19,
   "metadata": {
    "colab": {
     "base_uri": "https://localhost:8080/"
    },
    "id": "AesyYhY3Z9iJ",
    "outputId": "ef552aa6-4fdd-489b-9fca-4d0247adc76e"
   },
   "outputs": [
    {
     "data": {
      "text/plain": [
       "85.80183861082737"
      ]
     },
     "execution_count": 19,
     "metadata": {},
     "output_type": "execute_result"
    }
   ],
   "source": [
    "percentage_approved_writing = count_approved_writing / float(total_students) * 100\n",
    "percentage_approved_writing"
   ]
  },
  {
   "cell_type": "markdown",
   "metadata": {
    "id": "Wy6pwVkTZMdq"
   },
   "source": [
    "> **7- Considering that the passing score is 70, how many students passed Mathematics? (Deliver the result in absolute value and percentage)**"
   ]
  },
  {
   "cell_type": "code",
   "execution_count": 20,
   "metadata": {
    "colab": {
     "base_uri": "https://localhost:8080/"
    },
    "id": "d3pfLYvTZ_Sl",
    "outputId": "ab6383f3-c856-4f15-985b-5bfd530bf860"
   },
   "outputs": [
    {
     "data": {
      "text/plain": [
       "29360"
      ]
     },
     "execution_count": 20,
     "metadata": {},
     "output_type": "execute_result"
    }
   ],
   "source": [
    "count_approved_math = full_data[(full_data[\"Nota_Matematica\"] >= 70)].count()[\"Nome_Estudante\"]\n",
    "count_approved_math"
   ]
  },
  {
   "cell_type": "code",
   "execution_count": 21,
   "metadata": {
    "colab": {
     "base_uri": "https://localhost:8080/"
    },
    "id": "Hq8muHYQZ_eL",
    "outputId": "03717f41-ad63-43bd-95db-b58339d400eb"
   },
   "outputs": [
    {
     "data": {
      "text/plain": [
       "74.97446373850867"
      ]
     },
     "execution_count": 21,
     "metadata": {},
     "output_type": "execute_result"
    }
   ],
   "source": [
    "percentage_approved_math = count_approved_math / float(total_students) * 100\n",
    "percentage_approved_math"
   ]
  },
  {
   "cell_type": "markdown",
   "metadata": {
    "id": "8SKxu4lCZPGV"
   },
   "source": [
    "> **8- Considering that the passing score is 70, how many students passed Mathematics and Writing? (Deliver the result in absolute value and percentage)**"
   ]
  },
  {
   "cell_type": "code",
   "execution_count": 22,
   "metadata": {
    "colab": {
     "base_uri": "https://localhost:8080/"
    },
    "id": "RFAQFC34aBQM",
    "outputId": "8546da2a-b4ae-4acd-927f-2ca92ee04728"
   },
   "outputs": [
    {
     "data": {
      "text/plain": [
       "25518"
      ]
     },
     "execution_count": 22,
     "metadata": {},
     "output_type": "execute_result"
    }
   ],
   "source": [
    "total_count_approved = full_data[(full_data[\"Nota_Matematica\"] >= 70)\n",
    "                                                  & (full_data[\"Nota_Redacao\"] >= 70)].count()[\"Nome_Estudante\"]\n",
    "total_count_approved"
   ]
  },
  {
   "cell_type": "code",
   "execution_count": 23,
   "metadata": {
    "colab": {
     "base_uri": "https://localhost:8080/"
    },
    "id": "Bdhi9Z2iaBWu",
    "outputId": "87570861-ba36-4119-9035-a830194a2f5d"
   },
   "outputs": [
    {
     "data": {
      "text/plain": [
       "65.16343207354444"
      ]
     },
     "execution_count": 23,
     "metadata": {},
     "output_type": "execute_result"
    }
   ],
   "source": [
    "total_percentage_approved = total_count_approved /  float(total_students) * 100\n",
    "total_percentage_approved"
   ]
  },
  {
   "cell_type": "markdown",
   "metadata": {
    "id": "vbfgDg3RZTqS"
   },
   "source": [
    "> **9- Create a dataframe with the results of questions 1 to 8 that you calculated above. (Tip: create a dictionary and then convert it to a Pandas dataframe)**"
   ]
  },
  {
   "cell_type": "code",
   "execution_count": 24,
   "metadata": {
    "id": "Z5GGWF_xaEVQ"
   },
   "outputs": [],
   "source": [
    "school_performance_df = pd.DataFrame({\"Total Schools\": [total_schools],\n",
    "                                       \"Total Students\": [total_students],\n",
    "                                       \"Total Budget\": [total_budget],\n",
    "                                       \"Average Grade in Writing\": [average_writing],\n",
    "                                       \"Average Grade in Mathematics\": [average_math],\n",
    "                                       \"% Approval Writing\": [percentage_approved_writing],\n",
    "                                       \"% Mathematics Approval\": [percentage_approved_math],\n",
    "                                       \"% Total Approval\": [total_percentage_approved]})"
   ]
  },
  {
   "cell_type": "code",
   "execution_count": 25,
   "metadata": {
    "colab": {
     "base_uri": "https://localhost:8080/",
     "height": 89
    },
    "id": "76EMkiPjaEhf",
    "outputId": "5d8535fe-9c04-4db1-89bc-8a47f1d4d558"
   },
   "outputs": [
    {
     "data": {
      "text/html": [
       "<div>\n",
       "<style scoped>\n",
       "    .dataframe tbody tr th:only-of-type {\n",
       "        vertical-align: middle;\n",
       "    }\n",
       "\n",
       "    .dataframe tbody tr th {\n",
       "        vertical-align: top;\n",
       "    }\n",
       "\n",
       "    .dataframe thead th {\n",
       "        text-align: right;\n",
       "    }\n",
       "</style>\n",
       "<table border=\"1\" class=\"dataframe\">\n",
       "  <thead>\n",
       "    <tr style=\"text-align: right;\">\n",
       "      <th></th>\n",
       "      <th>Total Schools</th>\n",
       "      <th>Total Students</th>\n",
       "      <th>Total Budget</th>\n",
       "      <th>Average Grade in Writing</th>\n",
       "      <th>Average Grade in Mathematics</th>\n",
       "      <th>% Approval Writing</th>\n",
       "      <th>% Mathematics Approval</th>\n",
       "      <th>% Total Approval</th>\n",
       "    </tr>\n",
       "  </thead>\n",
       "  <tbody>\n",
       "    <tr>\n",
       "      <th>0</th>\n",
       "      <td>15</td>\n",
       "      <td>39160</td>\n",
       "      <td>24649428</td>\n",
       "      <td>81.875741</td>\n",
       "      <td>78.984934</td>\n",
       "      <td>85.801839</td>\n",
       "      <td>74.974464</td>\n",
       "      <td>65.163432</td>\n",
       "    </tr>\n",
       "  </tbody>\n",
       "</table>\n",
       "</div>"
      ],
      "text/plain": [
       "   Total Schools  Total Students  Total Budget  Average Grade in Writing  \\\n",
       "0             15           39160      24649428                 81.875741   \n",
       "\n",
       "   Average Grade in Mathematics  % Approval Writing  % Mathematics Approval  \\\n",
       "0                     78.984934           85.801839               74.974464   \n",
       "\n",
       "   % Total Approval  \n",
       "0         65.163432  "
      ]
     },
     "execution_count": 25,
     "metadata": {},
     "output_type": "execute_result"
    }
   ],
   "source": [
    "school_performance_df"
   ]
  },
  {
   "cell_type": "code",
   "execution_count": 26,
   "metadata": {
    "colab": {
     "base_uri": "https://localhost:8080/",
     "height": 204
    },
    "id": "Dw1tUn-LaEuC",
    "outputId": "be0df9f2-b7c8-4f2b-e45c-0bababa58f8e"
   },
   "outputs": [
    {
     "data": {
      "text/plain": [
       "pandas.core.frame.DataFrame"
      ]
     },
     "execution_count": 26,
     "metadata": {},
     "output_type": "execute_result"
    }
   ],
   "source": [
    "type(school_performance_df)"
   ]
  },
  {
   "cell_type": "markdown",
   "metadata": {
    "id": "shDUyzuMZWAi"
   },
   "source": [
    "> **10- Format the \"Total Students\" and \"Total Budget\" columns by adjusting the decimal places.**"
   ]
  },
  {
   "cell_type": "code",
   "execution_count": 27,
   "metadata": {
    "id": "pkOSjbuCaGMQ"
   },
   "outputs": [],
   "source": [
    "school_performance_df[\"Total Students\"] = school_performance_df[\"Total Students\"].map(\"{:,}\".format)\n",
    "school_performance_df[\"Total Budget\"] = school_performance_df[\"Total Budget\"].map(\"${:,.2f}\".format)"
   ]
  },
  {
   "cell_type": "code",
   "execution_count": 28,
   "metadata": {
    "colab": {
     "base_uri": "https://localhost:8080/",
     "height": 89
    },
    "id": "1_QC6KNKZKVK",
    "outputId": "0ce7efa6-e5f1-4aab-ed5d-eb0fcb0bf7f7"
   },
   "outputs": [
    {
     "data": {
      "text/html": [
       "<div>\n",
       "<style scoped>\n",
       "    .dataframe tbody tr th:only-of-type {\n",
       "        vertical-align: middle;\n",
       "    }\n",
       "\n",
       "    .dataframe tbody tr th {\n",
       "        vertical-align: top;\n",
       "    }\n",
       "\n",
       "    .dataframe thead th {\n",
       "        text-align: right;\n",
       "    }\n",
       "</style>\n",
       "<table border=\"1\" class=\"dataframe\">\n",
       "  <thead>\n",
       "    <tr style=\"text-align: right;\">\n",
       "      <th></th>\n",
       "      <th>Total Schools</th>\n",
       "      <th>Total Students</th>\n",
       "      <th>Total Budget</th>\n",
       "      <th>Average Grade in Writing</th>\n",
       "      <th>Average Grade in Mathematics</th>\n",
       "      <th>% Approval Writing</th>\n",
       "      <th>% Mathematics Approval</th>\n",
       "      <th>% Total Approval</th>\n",
       "    </tr>\n",
       "  </thead>\n",
       "  <tbody>\n",
       "    <tr>\n",
       "      <th>0</th>\n",
       "      <td>15</td>\n",
       "      <td>39,160</td>\n",
       "      <td>$24,649,428.00</td>\n",
       "      <td>81.875741</td>\n",
       "      <td>78.984934</td>\n",
       "      <td>85.801839</td>\n",
       "      <td>74.974464</td>\n",
       "      <td>65.163432</td>\n",
       "    </tr>\n",
       "  </tbody>\n",
       "</table>\n",
       "</div>"
      ],
      "text/plain": [
       "   Total Schools Total Students    Total Budget  Average Grade in Writing  \\\n",
       "0             15         39,160  $24,649,428.00                 81.875741   \n",
       "\n",
       "   Average Grade in Mathematics  % Approval Writing  % Mathematics Approval  \\\n",
       "0                     78.984934           85.801839               74.974464   \n",
       "\n",
       "   % Total Approval  \n",
       "0         65.163432  "
      ]
     },
     "execution_count": 28,
     "metadata": {},
     "output_type": "execute_result"
    }
   ],
   "source": [
    "school_performance_df"
   ]
  },
  {
   "cell_type": "markdown",
   "metadata": {
    "id": "MOOBvMtvwr6g"
   },
   "source": [
    "#### Data Analysis with Pandas"
   ]
  },
  {
   "cell_type": "markdown",
   "metadata": {
    "id": "mxEOtQevxEkQ"
   },
   "source": [
    "> **1- Among the students approved in Writing, which genre received the highest number of approvals?**\n"
   ]
  },
  {
   "cell_type": "code",
   "execution_count": 29,
   "metadata": {
    "colab": {
     "base_uri": "https://localhost:8080/"
    },
    "id": "ZGVTVx5Bw29d",
    "outputId": "e433fcce-296d-42a8-845f-300fbff43e64"
   },
   "outputs": [
    {
     "data": {
      "text/plain": [
       "Genero\n",
       "F    17027\n",
       "M    16573\n",
       "Name: count, dtype: int64"
      ]
     },
     "execution_count": 29,
     "metadata": {},
     "output_type": "execute_result"
    }
   ],
   "source": [
    "approved_by_writing_genre = full_data[(full_data[\"Nota_Redacao\"] >= 70)][\"Genero\"].value_counts()\n",
    "approved_by_writing_genre"
   ]
  },
  {
   "cell_type": "markdown",
   "metadata": {
    "id": "mYu1L4m1xONw"
   },
   "source": [
    "> **2- Among the students approved in Mathematics, which gender obtained the highest number of passes?**"
   ]
  },
  {
   "cell_type": "code",
   "execution_count": 30,
   "metadata": {
    "colab": {
     "base_uri": "https://localhost:8080/"
    },
    "id": "Irhv6quGxOmw",
    "outputId": "24cff65e-2d3f-4b6c-8635-99c2d6a0cee1"
   },
   "outputs": [
    {
     "data": {
      "text/plain": [
       "Genero\n",
       "F    14835\n",
       "M    14525\n",
       "Name: count, dtype: int64"
      ]
     },
     "execution_count": 30,
     "metadata": {},
     "output_type": "execute_result"
    }
   ],
   "source": [
    "approved_by_math_genre = full_data[(full_data[\"Nota_Matematica\"] >= 70)][\"Genero\"].value_counts()\n",
    "approved_by_math_genre "
   ]
  },
  {
   "cell_type": "markdown",
   "metadata": {
    "id": "ngaxm4GaxUrN"
   },
   "source": [
    "> **3- What are the types of all the schools in our database?**"
   ]
  },
  {
   "cell_type": "code",
   "execution_count": 31,
   "metadata": {
    "colab": {
     "base_uri": "https://localhost:8080/"
    },
    "id": "L0cI3n3xxU4h",
    "outputId": "1666ffbb-f641-4c81-848a-850e46253cde"
   },
   "outputs": [
    {
     "data": {
      "text/plain": [
       "Tipo_Escola\n",
       "Particular    8\n",
       "Publica       7\n",
       "Name: count, dtype: int64"
      ]
     },
     "execution_count": 31,
     "metadata": {},
     "output_type": "execute_result"
    }
   ],
   "source": [
    "schools_data[\"Tipo_Escola\"].value_counts()"
   ]
  },
  {
   "cell_type": "code",
   "execution_count": 32,
   "metadata": {
    "colab": {
     "base_uri": "https://localhost:8080/"
    },
    "id": "mA21dn5DxbJU",
    "outputId": "2d60ea42-8d1f-4a42-ee92-e9247d2554e6"
   },
   "outputs": [
    {
     "data": {
      "text/plain": [
       "Nome_Escola\n",
       "Escola C    Particular\n",
       "Escola E    Particular\n",
       "Escola F    Particular\n",
       "Escola G    Particular\n",
       "Escola I    Particular\n",
       "Escola J    Particular\n",
       "Escola K    Particular\n",
       "Escola O    Particular\n",
       "Escola A       Publica\n",
       "Escola B       Publica\n",
       "Escola D       Publica\n",
       "Escola H       Publica\n",
       "Escola L       Publica\n",
       "Escola M       Publica\n",
       "Escola N       Publica\n",
       "Name: Tipo_Escola, dtype: object"
      ]
     },
     "execution_count": 32,
     "metadata": {},
     "output_type": "execute_result"
    }
   ],
   "source": [
    "types_of_schools = schools_data.set_index([\"Nome_Escola\"])[\"Tipo_Escola\"].sort_values()\n",
    "types_of_schools"
   ]
  },
  {
   "cell_type": "markdown",
   "metadata": {
    "id": "ZTKQBcHtxfkx"
   },
   "source": [
    "> **4- What is the total number of students per school?**\n"
   ]
  },
  {
   "cell_type": "code",
   "execution_count": 33,
   "metadata": {
    "colab": {
     "base_uri": "https://localhost:8080/"
    },
    "id": "qdvcbpFAxglc",
    "outputId": "7e06ae4c-464b-49d5-c377-90d0768f4514"
   },
   "outputs": [
    {
     "data": {
      "text/plain": [
       "Nome_Escola\n",
       "Escola I     427\n",
       "Escola J     962\n",
       "Escola E    1468\n",
       "Escola O    1625\n",
       "Escola C    1761\n",
       "Escola K    1800\n",
       "Escola G    1858\n",
       "Escola F    2283\n",
       "Escola N    2739\n",
       "Escola A    2917\n",
       "Escola B    2949\n",
       "Escola L    3999\n",
       "Escola D    4635\n",
       "Escola M    4761\n",
       "Escola H    4976\n",
       "Name: count, dtype: int64"
      ]
     },
     "execution_count": 33,
     "metadata": {},
     "output_type": "execute_result"
    }
   ],
   "source": [
    "total_students_school = full_data[\"Nome_Escola\"].value_counts().sort_values()\n",
    "total_students_school"
   ]
  },
  {
   "cell_type": "markdown",
   "metadata": {
    "id": "mFR_SKyG07tG"
   },
   "source": [
    "> **5- What is the total budget of each school per capita (per student)?**"
   ]
  },
  {
   "cell_type": "code",
   "execution_count": 34,
   "metadata": {
    "colab": {
     "base_uri": "https://localhost:8080/"
    },
    "id": "veiju3Sl08_a",
    "outputId": "59a1267d-9e3f-4bf8-eb24-a1d06713aeb5"
   },
   "outputs": [
    {
     "data": {
      "text/plain": [
       "Nome_Escola\n",
       "Escola I     248087.0\n",
       "Escola J     585858.0\n",
       "Escola E     917500.0\n",
       "Escola O    1043130.0\n",
       "Escola K    1049400.0\n",
       "Escola C    1056600.0\n",
       "Escola G    1081356.0\n",
       "Escola F    1319574.0\n",
       "Escola N    1763916.0\n",
       "Escola B    1884411.0\n",
       "Escola A    1910635.0\n",
       "Escola L    2547363.0\n",
       "Escola D    3022020.0\n",
       "Escola M    3094650.0\n",
       "Escola H    3124928.0\n",
       "Name: Orcamento_Anual, dtype: float64"
      ]
     },
     "execution_count": 34,
     "metadata": {},
     "output_type": "execute_result"
    }
   ],
   "source": [
    "school_budget = full_data.groupby([\"Nome_Escola\"])[\"Orcamento_Anual\"].agg('mean').sort_values()\n",
    "school_budget"
   ]
  },
  {
   "cell_type": "code",
   "execution_count": 35,
   "metadata": {
    "colab": {
     "base_uri": "https://localhost:8080/"
    },
    "id": "5zyXlNBQ1AzY",
    "outputId": "34681a90-cccb-4f82-ef02-d5a0f8ed3775"
   },
   "outputs": [
    {
     "data": {
      "text/plain": [
       "Nome_Escola\n",
       "Escola F    578.000000\n",
       "Escola I    581.000000\n",
       "Escola G    582.000000\n",
       "Escola K    583.000000\n",
       "Escola C    600.000000\n",
       "Escola J    609.000000\n",
       "Escola E    625.000000\n",
       "Escola H    628.000000\n",
       "Escola L    637.000000\n",
       "Escola B    639.000000\n",
       "Escola O    641.926154\n",
       "Escola N    644.000000\n",
       "Escola M    650.000000\n",
       "Escola D    652.000000\n",
       "Escola A    655.000000\n",
       "dtype: float64"
      ]
     },
     "execution_count": 35,
     "metadata": {},
     "output_type": "execute_result"
    }
   ],
   "source": [
    "school_budget_percapita = (school_budget / total_students_school).sort_values()\n",
    "school_budget_percapita"
   ]
  },
  {
   "cell_type": "code",
   "execution_count": 36,
   "metadata": {
    "colab": {
     "base_uri": "https://localhost:8080/"
    },
    "id": "eflIFGNM1HqL",
    "outputId": "1a81faa4-ff49-41c7-f8b4-0b85fade3a50"
   },
   "outputs": [
    {
     "data": {
      "text/plain": [
       "Index(['ID_Estudante', 'Nome_Estudante', 'Genero', 'Serie', 'Nome_Escola',\n",
       "       'Nota_Redacao', 'Nota_Matematica', 'ID_Escola', 'Tipo_Escola',\n",
       "       'Numero_Alunos', 'Orcamento_Anual'],\n",
       "      dtype='object')"
      ]
     },
     "execution_count": 36,
     "metadata": {},
     "output_type": "execute_result"
    }
   ],
   "source": [
    "full_data.columns"
   ]
  },
  {
   "cell_type": "markdown",
   "metadata": {
    "id": "Qxbnjn6n1DWG"
   },
   "source": [
    "> **6- What is the average grade of students in Writing for each school?**"
   ]
  },
  {
   "cell_type": "code",
   "execution_count": 37,
   "metadata": {
    "colab": {
     "base_uri": "https://localhost:8080/"
    },
    "id": "YKMc2vZK1Kjz",
    "outputId": "25fbb719-ba40-4964-dce7-97e9854898ac"
   },
   "outputs": [
    {
     "data": {
      "text/plain": [
       "Nome_Escola\n",
       "Escola L    80.744686\n",
       "Escola N    80.746258\n",
       "Escola D    80.934412\n",
       "Escola M    80.966394\n",
       "Escola H    81.033963\n",
       "Escola B    81.158020\n",
       "Escola A    81.182722\n",
       "Escola C    83.725724\n",
       "Escola O    83.810462\n",
       "Escola I    83.814988\n",
       "Escola E    83.816757\n",
       "Escola K    83.955000\n",
       "Escola G    83.975780\n",
       "Escola F    83.989488\n",
       "Escola J    84.044699\n",
       "Name: Nota_Redacao, dtype: float64"
      ]
     },
     "execution_count": 37,
     "metadata": {},
     "output_type": "execute_result"
    }
   ],
   "source": [
    "average_school_writing = full_data.groupby([\"Nome_Escola\"])[\"Nota_Redacao\"].agg('mean').sort_values()\n",
    "average_school_writing"
   ]
  },
  {
   "cell_type": "markdown",
   "metadata": {
    "id": "WUCGNEJw0_Gu"
   },
   "source": [
    "> **7- What is the average grade of students in Mathematics for each school?**"
   ]
  },
  {
   "cell_type": "code",
   "execution_count": 38,
   "metadata": {
    "colab": {
     "base_uri": "https://localhost:8080/"
    },
    "id": "VGgC8Nxe1RPe",
    "outputId": "f64263e4-392f-41d4-877b-97cb2e91f83c"
   },
   "outputs": [
    {
     "data": {
      "text/plain": [
       "Nome_Escola\n",
       "Escola A    76.629414\n",
       "Escola B    76.711767\n",
       "Escola L    76.842711\n",
       "Escola H    77.048432\n",
       "Escola M    77.072464\n",
       "Escola N    77.102592\n",
       "Escola D    77.289752\n",
       "Escola G    83.061895\n",
       "Escola F    83.274201\n",
       "Escola E    83.351499\n",
       "Escola C    83.359455\n",
       "Escola O    83.435077\n",
       "Escola K    83.682222\n",
       "Escola I    83.803279\n",
       "Escola J    83.839917\n",
       "Name: Nota_Matematica, dtype: float64"
      ]
     },
     "execution_count": 38,
     "metadata": {},
     "output_type": "execute_result"
    }
   ],
   "source": [
    "average_school_math = full_data.groupby([\"Nome_Escola\"])[\"Nota_Matematica\"].agg('mean').sort_values()\n",
    "average_school_math"
   ]
  },
  {
   "cell_type": "code",
   "execution_count": 39,
   "metadata": {
    "colab": {
     "base_uri": "https://localhost:8080/"
    },
    "id": "kABAC2mn1Tr6",
    "outputId": "a1431c92-beee-4b6d-e6d7-bc1aaf31d705"
   },
   "outputs": [
    {
     "data": {
      "text/plain": [
       "Index(['ID_Estudante', 'Nome_Estudante', 'Genero', 'Serie', 'Nome_Escola',\n",
       "       'Nota_Redacao', 'Nota_Matematica', 'ID_Escola', 'Tipo_Escola',\n",
       "       'Numero_Alunos', 'Orcamento_Anual'],\n",
       "      dtype='object')"
      ]
     },
     "execution_count": 39,
     "metadata": {},
     "output_type": "execute_result"
    }
   ],
   "source": [
    "full_data.columns"
   ]
  },
  {
   "cell_type": "markdown",
   "metadata": {
    "id": "tIH24sVV1U0F"
   },
   "source": [
    "> **8- Considering only students approved in Writing, what is the average number of students approved per school?**"
   ]
  },
  {
   "cell_type": "code",
   "execution_count": 40,
   "metadata": {
    "colab": {
     "base_uri": "https://localhost:8080/",
     "height": 206
    },
    "id": "s52iSreC1W_j",
    "outputId": "1edfe881-f791-4b85-9f52-fc08bd4a8330"
   },
   "outputs": [
    {
     "data": {
      "text/html": [
       "<div>\n",
       "<style scoped>\n",
       "    .dataframe tbody tr th:only-of-type {\n",
       "        vertical-align: middle;\n",
       "    }\n",
       "\n",
       "    .dataframe tbody tr th {\n",
       "        vertical-align: top;\n",
       "    }\n",
       "\n",
       "    .dataframe thead th {\n",
       "        text-align: right;\n",
       "    }\n",
       "</style>\n",
       "<table border=\"1\" class=\"dataframe\">\n",
       "  <thead>\n",
       "    <tr style=\"text-align: right;\">\n",
       "      <th></th>\n",
       "      <th>ID_Estudante</th>\n",
       "      <th>Nome_Estudante</th>\n",
       "      <th>Genero</th>\n",
       "      <th>Serie</th>\n",
       "      <th>Nome_Escola</th>\n",
       "      <th>Nota_Redacao</th>\n",
       "      <th>Nota_Matematica</th>\n",
       "      <th>ID_Escola</th>\n",
       "      <th>Tipo_Escola</th>\n",
       "      <th>Numero_Alunos</th>\n",
       "      <th>Orcamento_Anual</th>\n",
       "    </tr>\n",
       "  </thead>\n",
       "  <tbody>\n",
       "    <tr>\n",
       "      <th>1</th>\n",
       "      <td>1</td>\n",
       "      <td>Paul Smith</td>\n",
       "      <td>M</td>\n",
       "      <td>9</td>\n",
       "      <td>Escola A</td>\n",
       "      <td>94</td>\n",
       "      <td>61</td>\n",
       "      <td>0</td>\n",
       "      <td>Publica</td>\n",
       "      <td>2917</td>\n",
       "      <td>1910635</td>\n",
       "    </tr>\n",
       "    <tr>\n",
       "      <th>2</th>\n",
       "      <td>2</td>\n",
       "      <td>John Rodriguez</td>\n",
       "      <td>M</td>\n",
       "      <td>9</td>\n",
       "      <td>Escola A</td>\n",
       "      <td>90</td>\n",
       "      <td>60</td>\n",
       "      <td>0</td>\n",
       "      <td>Publica</td>\n",
       "      <td>2917</td>\n",
       "      <td>1910635</td>\n",
       "    </tr>\n",
       "    <tr>\n",
       "      <th>4</th>\n",
       "      <td>4</td>\n",
       "      <td>William Ray</td>\n",
       "      <td>F</td>\n",
       "      <td>6</td>\n",
       "      <td>Escola A</td>\n",
       "      <td>97</td>\n",
       "      <td>84</td>\n",
       "      <td>0</td>\n",
       "      <td>Publica</td>\n",
       "      <td>2917</td>\n",
       "      <td>1910635</td>\n",
       "    </tr>\n",
       "    <tr>\n",
       "      <th>5</th>\n",
       "      <td>5</td>\n",
       "      <td>James Miranda</td>\n",
       "      <td>M</td>\n",
       "      <td>6</td>\n",
       "      <td>Escola A</td>\n",
       "      <td>94</td>\n",
       "      <td>94</td>\n",
       "      <td>0</td>\n",
       "      <td>Publica</td>\n",
       "      <td>2917</td>\n",
       "      <td>1910635</td>\n",
       "    </tr>\n",
       "    <tr>\n",
       "      <th>6</th>\n",
       "      <td>6</td>\n",
       "      <td>Benjamin Carter</td>\n",
       "      <td>F</td>\n",
       "      <td>8</td>\n",
       "      <td>Escola A</td>\n",
       "      <td>82</td>\n",
       "      <td>80</td>\n",
       "      <td>0</td>\n",
       "      <td>Publica</td>\n",
       "      <td>2917</td>\n",
       "      <td>1910635</td>\n",
       "    </tr>\n",
       "  </tbody>\n",
       "</table>\n",
       "</div>"
      ],
      "text/plain": [
       "   ID_Estudante   Nome_Estudante Genero  Serie Nome_Escola  Nota_Redacao  \\\n",
       "1             1       Paul Smith      M      9    Escola A            94   \n",
       "2             2   John Rodriguez      M      9    Escola A            90   \n",
       "4             4      William Ray      F      6    Escola A            97   \n",
       "5             5    James Miranda      M      6    Escola A            94   \n",
       "6             6  Benjamin Carter      F      8    Escola A            82   \n",
       "\n",
       "   Nota_Matematica  ID_Escola Tipo_Escola  Numero_Alunos  Orcamento_Anual  \n",
       "1               61          0     Publica           2917          1910635  \n",
       "2               60          0     Publica           2917          1910635  \n",
       "4               84          0     Publica           2917          1910635  \n",
       "5               94          0     Publica           2917          1910635  \n",
       "6               80          0     Publica           2917          1910635  "
      ]
     },
     "execution_count": 40,
     "metadata": {},
     "output_type": "execute_result"
    }
   ],
   "source": [
    "approved_writing = full_data[(full_data[\"Nota_Redacao\"] >= 70)]\n",
    "approved_writing.head()"
   ]
  },
  {
   "cell_type": "code",
   "execution_count": 41,
   "metadata": {
    "colab": {
     "base_uri": "https://localhost:8080/"
    },
    "id": "APzUltfz1bcD",
    "outputId": "048c118b-de11-42b6-95bf-dedbaa1365ff"
   },
   "outputs": [
    {
     "data": {
      "text/plain": [
       "Nome_Escola\n",
       "Escola N    79.299014\n",
       "Escola L    80.220055\n",
       "Escola B    80.739234\n",
       "Escola D    80.862999\n",
       "Escola M    81.222432\n",
       "Escola A    81.316421\n",
       "Escola H    81.933280\n",
       "Escola C    95.854628\n",
       "Escola J    95.945946\n",
       "Escola I    96.252927\n",
       "Escola F    96.539641\n",
       "Escola K    96.611111\n",
       "Escola G    97.039828\n",
       "Escola E    97.138965\n",
       "Escola O    97.292308\n",
       "dtype: float64"
      ]
     },
     "execution_count": 41,
     "metadata": {},
     "output_type": "execute_result"
    }
   ],
   "source": [
    "average_approved_writing_school = (approved_writing.groupby([\"Nome_Escola\"]).count()[\"Nome_Estudante\"] / total_students_school * 100).sort_values()\n",
    "average_approved_writing_school"
   ]
  },
  {
   "cell_type": "markdown",
   "metadata": {
    "id": "l6l8jRMi1kLI"
   },
   "source": [
    "> **9- Considerando somente os alunos aprovados em Matemática, qual a média de alunos aprovados por escola?**"
   ]
  },
  {
   "cell_type": "code",
   "execution_count": 42,
   "metadata": {
    "colab": {
     "base_uri": "https://localhost:8080/",
     "height": 206
    },
    "id": "ceoBkNIm2Com",
    "outputId": "edae6cd5-a33c-45b7-c1ba-94402fdb42cf"
   },
   "outputs": [
    {
     "data": {
      "text/html": [
       "<div>\n",
       "<style scoped>\n",
       "    .dataframe tbody tr th:only-of-type {\n",
       "        vertical-align: middle;\n",
       "    }\n",
       "\n",
       "    .dataframe tbody tr th {\n",
       "        vertical-align: top;\n",
       "    }\n",
       "\n",
       "    .dataframe thead th {\n",
       "        text-align: right;\n",
       "    }\n",
       "</style>\n",
       "<table border=\"1\" class=\"dataframe\">\n",
       "  <thead>\n",
       "    <tr style=\"text-align: right;\">\n",
       "      <th></th>\n",
       "      <th>ID_Estudante</th>\n",
       "      <th>Nome_Estudante</th>\n",
       "      <th>Genero</th>\n",
       "      <th>Serie</th>\n",
       "      <th>Nome_Escola</th>\n",
       "      <th>Nota_Redacao</th>\n",
       "      <th>Nota_Matematica</th>\n",
       "      <th>ID_Escola</th>\n",
       "      <th>Tipo_Escola</th>\n",
       "      <th>Numero_Alunos</th>\n",
       "      <th>Orcamento_Anual</th>\n",
       "    </tr>\n",
       "  </thead>\n",
       "  <tbody>\n",
       "    <tr>\n",
       "      <th>0</th>\n",
       "      <td>0</td>\n",
       "      <td>Kevin Bradley</td>\n",
       "      <td>M</td>\n",
       "      <td>6</td>\n",
       "      <td>Escola A</td>\n",
       "      <td>66</td>\n",
       "      <td>79</td>\n",
       "      <td>0</td>\n",
       "      <td>Publica</td>\n",
       "      <td>2917</td>\n",
       "      <td>1910635</td>\n",
       "    </tr>\n",
       "    <tr>\n",
       "      <th>4</th>\n",
       "      <td>4</td>\n",
       "      <td>William Ray</td>\n",
       "      <td>F</td>\n",
       "      <td>6</td>\n",
       "      <td>Escola A</td>\n",
       "      <td>97</td>\n",
       "      <td>84</td>\n",
       "      <td>0</td>\n",
       "      <td>Publica</td>\n",
       "      <td>2917</td>\n",
       "      <td>1910635</td>\n",
       "    </tr>\n",
       "    <tr>\n",
       "      <th>5</th>\n",
       "      <td>5</td>\n",
       "      <td>James Miranda</td>\n",
       "      <td>M</td>\n",
       "      <td>6</td>\n",
       "      <td>Escola A</td>\n",
       "      <td>94</td>\n",
       "      <td>94</td>\n",
       "      <td>0</td>\n",
       "      <td>Publica</td>\n",
       "      <td>2917</td>\n",
       "      <td>1910635</td>\n",
       "    </tr>\n",
       "    <tr>\n",
       "      <th>6</th>\n",
       "      <td>6</td>\n",
       "      <td>Benjamin Carter</td>\n",
       "      <td>F</td>\n",
       "      <td>8</td>\n",
       "      <td>Escola A</td>\n",
       "      <td>82</td>\n",
       "      <td>80</td>\n",
       "      <td>0</td>\n",
       "      <td>Publica</td>\n",
       "      <td>2917</td>\n",
       "      <td>1910635</td>\n",
       "    </tr>\n",
       "    <tr>\n",
       "      <th>8</th>\n",
       "      <td>8</td>\n",
       "      <td>Ethan Roth</td>\n",
       "      <td>M</td>\n",
       "      <td>7</td>\n",
       "      <td>Escola A</td>\n",
       "      <td>95</td>\n",
       "      <td>87</td>\n",
       "      <td>0</td>\n",
       "      <td>Publica</td>\n",
       "      <td>2917</td>\n",
       "      <td>1910635</td>\n",
       "    </tr>\n",
       "  </tbody>\n",
       "</table>\n",
       "</div>"
      ],
      "text/plain": [
       "   ID_Estudante   Nome_Estudante Genero  Serie Nome_Escola  Nota_Redacao  \\\n",
       "0             0    Kevin Bradley      M      6    Escola A            66   \n",
       "4             4      William Ray      F      6    Escola A            97   \n",
       "5             5    James Miranda      M      6    Escola A            94   \n",
       "6             6  Benjamin Carter      F      8    Escola A            82   \n",
       "8             8       Ethan Roth      M      7    Escola A            95   \n",
       "\n",
       "   Nota_Matematica  ID_Escola Tipo_Escola  Numero_Alunos  Orcamento_Anual  \n",
       "0               79          0     Publica           2917          1910635  \n",
       "4               84          0     Publica           2917          1910635  \n",
       "5               94          0     Publica           2917          1910635  \n",
       "6               80          0     Publica           2917          1910635  \n",
       "8               87          0     Publica           2917          1910635  "
      ]
     },
     "execution_count": 42,
     "metadata": {},
     "output_type": "execute_result"
    }
   ],
   "source": [
    "approved_math = full_data[(full_data[\"Nota_Matematica\"] >= 70)]\n",
    "approved_math.head()"
   ]
  },
  {
   "cell_type": "code",
   "execution_count": 43,
   "metadata": {
    "colab": {
     "base_uri": "https://localhost:8080/"
    },
    "id": "SXIIRXXR2E3c",
    "outputId": "43a4a4a7-b5d5-4440-986d-c6c62f8e1cfa"
   },
   "outputs": [
    {
     "data": {
      "text/plain": [
       "Nome_Escola\n",
       "Escola A    65.683922\n",
       "Escola B    65.988471\n",
       "Escola M    66.057551\n",
       "Escola L    66.366592\n",
       "Escola H    66.680064\n",
       "Escola D    66.752967\n",
       "Escola N    68.309602\n",
       "Escola I    92.505855\n",
       "Escola O    93.230769\n",
       "Escola K    93.333333\n",
       "Escola E    93.392371\n",
       "Escola C    93.867121\n",
       "Escola F    93.867718\n",
       "Escola G    94.133477\n",
       "Escola J    94.594595\n",
       "dtype: float64"
      ]
     },
     "execution_count": 43,
     "metadata": {},
     "output_type": "execute_result"
    }
   ],
   "source": [
    "average_approved_math_school = (approved_math.groupby([\"Nome_Escola\"]).count()[\"Nome_Estudante\"] / total_students_school * 100).sort_values()\n",
    "average_approved_math_school"
   ]
  },
  {
   "cell_type": "markdown",
   "metadata": {
    "id": "u6-uNpfF1lQY"
   },
   "source": [
    "> **10- Considering students approved in Mathematics and Writing, what was the average number of students approved per school?**"
   ]
  },
  {
   "cell_type": "code",
   "execution_count": 44,
   "metadata": {
    "colab": {
     "base_uri": "https://localhost:8080/",
     "height": 206
    },
    "id": "YwFdYhUN2HZy",
    "outputId": "59997f65-635d-494b-b547-39a81ab70585"
   },
   "outputs": [
    {
     "data": {
      "text/html": [
       "<div>\n",
       "<style scoped>\n",
       "    .dataframe tbody tr th:only-of-type {\n",
       "        vertical-align: middle;\n",
       "    }\n",
       "\n",
       "    .dataframe tbody tr th {\n",
       "        vertical-align: top;\n",
       "    }\n",
       "\n",
       "    .dataframe thead th {\n",
       "        text-align: right;\n",
       "    }\n",
       "</style>\n",
       "<table border=\"1\" class=\"dataframe\">\n",
       "  <thead>\n",
       "    <tr style=\"text-align: right;\">\n",
       "      <th></th>\n",
       "      <th>ID_Estudante</th>\n",
       "      <th>Nome_Estudante</th>\n",
       "      <th>Genero</th>\n",
       "      <th>Serie</th>\n",
       "      <th>Nome_Escola</th>\n",
       "      <th>Nota_Redacao</th>\n",
       "      <th>Nota_Matematica</th>\n",
       "      <th>ID_Escola</th>\n",
       "      <th>Tipo_Escola</th>\n",
       "      <th>Numero_Alunos</th>\n",
       "      <th>Orcamento_Anual</th>\n",
       "    </tr>\n",
       "  </thead>\n",
       "  <tbody>\n",
       "    <tr>\n",
       "      <th>4</th>\n",
       "      <td>4</td>\n",
       "      <td>William Ray</td>\n",
       "      <td>F</td>\n",
       "      <td>6</td>\n",
       "      <td>Escola A</td>\n",
       "      <td>97</td>\n",
       "      <td>84</td>\n",
       "      <td>0</td>\n",
       "      <td>Publica</td>\n",
       "      <td>2917</td>\n",
       "      <td>1910635</td>\n",
       "    </tr>\n",
       "    <tr>\n",
       "      <th>5</th>\n",
       "      <td>5</td>\n",
       "      <td>James Miranda</td>\n",
       "      <td>M</td>\n",
       "      <td>6</td>\n",
       "      <td>Escola A</td>\n",
       "      <td>94</td>\n",
       "      <td>94</td>\n",
       "      <td>0</td>\n",
       "      <td>Publica</td>\n",
       "      <td>2917</td>\n",
       "      <td>1910635</td>\n",
       "    </tr>\n",
       "    <tr>\n",
       "      <th>6</th>\n",
       "      <td>6</td>\n",
       "      <td>Benjamin Carter</td>\n",
       "      <td>F</td>\n",
       "      <td>8</td>\n",
       "      <td>Escola A</td>\n",
       "      <td>82</td>\n",
       "      <td>80</td>\n",
       "      <td>0</td>\n",
       "      <td>Publica</td>\n",
       "      <td>2917</td>\n",
       "      <td>1910635</td>\n",
       "    </tr>\n",
       "    <tr>\n",
       "      <th>8</th>\n",
       "      <td>8</td>\n",
       "      <td>Ethan Roth</td>\n",
       "      <td>M</td>\n",
       "      <td>7</td>\n",
       "      <td>Escola A</td>\n",
       "      <td>95</td>\n",
       "      <td>87</td>\n",
       "      <td>0</td>\n",
       "      <td>Publica</td>\n",
       "      <td>2917</td>\n",
       "      <td>1910635</td>\n",
       "    </tr>\n",
       "    <tr>\n",
       "      <th>9</th>\n",
       "      <td>9</td>\n",
       "      <td>Jacob Greene</td>\n",
       "      <td>M</td>\n",
       "      <td>7</td>\n",
       "      <td>Escola A</td>\n",
       "      <td>96</td>\n",
       "      <td>84</td>\n",
       "      <td>0</td>\n",
       "      <td>Publica</td>\n",
       "      <td>2917</td>\n",
       "      <td>1910635</td>\n",
       "    </tr>\n",
       "  </tbody>\n",
       "</table>\n",
       "</div>"
      ],
      "text/plain": [
       "   ID_Estudante   Nome_Estudante Genero  Serie Nome_Escola  Nota_Redacao  \\\n",
       "4             4      William Ray      F      6    Escola A            97   \n",
       "5             5    James Miranda      M      6    Escola A            94   \n",
       "6             6  Benjamin Carter      F      8    Escola A            82   \n",
       "8             8       Ethan Roth      M      7    Escola A            95   \n",
       "9             9     Jacob Greene      M      7    Escola A            96   \n",
       "\n",
       "   Nota_Matematica  ID_Escola Tipo_Escola  Numero_Alunos  Orcamento_Anual  \n",
       "4               84          0     Publica           2917          1910635  \n",
       "5               94          0     Publica           2917          1910635  \n",
       "6               80          0     Publica           2917          1910635  \n",
       "8               87          0     Publica           2917          1910635  \n",
       "9               84          0     Publica           2917          1910635  "
      ]
     },
     "execution_count": 44,
     "metadata": {},
     "output_type": "execute_result"
    }
   ],
   "source": [
    "approved_math_writing = full_data[(full_data[\"Nota_Redacao\"] >= 70) & (full_data[\"Nota_Matematica\"] >= 70)]\n",
    "approved_math_writing.head()"
   ]
  },
  {
   "cell_type": "code",
   "execution_count": 45,
   "metadata": {
    "colab": {
     "base_uri": "https://localhost:8080/"
    },
    "id": "vZEziBtw2NJn",
    "outputId": "8f96f610-a97c-484d-f4c0-03d1a18f7356"
   },
   "outputs": [
    {
     "data": {
      "text/plain": [
       "Nome_Escola\n",
       "Escola L    52.988247\n",
       "Escola B    53.204476\n",
       "Escola A    53.513884\n",
       "Escola D    53.527508\n",
       "Escola M    53.539172\n",
       "Escola N    54.289887\n",
       "Escola H    54.642283\n",
       "Escola I    89.227166\n",
       "Escola C    89.892107\n",
       "Escola K    90.333333\n",
       "Escola J    90.540541\n",
       "Escola F    90.582567\n",
       "Escola E    90.599455\n",
       "Escola O    90.892308\n",
       "Escola G    91.334769\n",
       "dtype: float64"
      ]
     },
     "execution_count": 45,
     "metadata": {},
     "output_type": "execute_result"
    }
   ],
   "source": [
    "approved_rate_math_writing = (approved_math_writing.groupby([\"Nome_Escola\"]).count()[\"Nome_Estudante\"] / total_students_school * 100).sort_values()\n",
    "approved_rate_math_writing"
   ]
  },
  {
   "cell_type": "markdown",
   "metadata": {
    "id": "KocANoUG2QPp"
   },
   "source": [
    "Let's build a summary dataframe with the previous metrics."
   ]
  },
  {
   "cell_type": "code",
   "execution_count": 46,
   "metadata": {
    "id": "zNuWF05r2Q2l"
   },
   "outputs": [],
   "source": [
    "school_performance_summary_df = pd.DataFrame({\"School Type\": types_of_schools,\n",
    "                                              \"Total Students\": total_students_school,\n",
    "                                              \"Total Budget\": school_budget,\n",
    "                                              \"Budget Per Student\": school_budget_percapita,\n",
    "                                              \"Average Grade Approval Writing\": average_school_writing,\n",
    "                                              \"Average Mathematics Approval Grade\": average_school_math,\n",
    "                                              \"% Approved Writing\": average_approved_writing_school,\n",
    "                                              \"% Approved Mathematics\": average_approved_math_school,\n",
    "                                              \"% General Approved\": approved_rate_math_writing})"
   ]
  },
  {
   "cell_type": "code",
   "execution_count": 47,
   "metadata": {
    "colab": {
     "base_uri": "https://localhost:8080/",
     "height": 728
    },
    "id": "C_Xoxi052VCD",
    "outputId": "6e875e98-0e16-4c4c-875c-7e4da0e042ea"
   },
   "outputs": [
    {
     "data": {
      "text/html": [
       "<div>\n",
       "<style scoped>\n",
       "    .dataframe tbody tr th:only-of-type {\n",
       "        vertical-align: middle;\n",
       "    }\n",
       "\n",
       "    .dataframe tbody tr th {\n",
       "        vertical-align: top;\n",
       "    }\n",
       "\n",
       "    .dataframe thead th {\n",
       "        text-align: right;\n",
       "    }\n",
       "</style>\n",
       "<table border=\"1\" class=\"dataframe\">\n",
       "  <thead>\n",
       "    <tr style=\"text-align: right;\">\n",
       "      <th></th>\n",
       "      <th>School Type</th>\n",
       "      <th>Total Students</th>\n",
       "      <th>Total Budget</th>\n",
       "      <th>Budget Per Student</th>\n",
       "      <th>Average Grade Approval Writing</th>\n",
       "      <th>Average Mathematics Approval Grade</th>\n",
       "      <th>% Approved Writing</th>\n",
       "      <th>% Approved Mathematics</th>\n",
       "      <th>% General Approved</th>\n",
       "    </tr>\n",
       "    <tr>\n",
       "      <th>Nome_Escola</th>\n",
       "      <th></th>\n",
       "      <th></th>\n",
       "      <th></th>\n",
       "      <th></th>\n",
       "      <th></th>\n",
       "      <th></th>\n",
       "      <th></th>\n",
       "      <th></th>\n",
       "      <th></th>\n",
       "    </tr>\n",
       "  </thead>\n",
       "  <tbody>\n",
       "    <tr>\n",
       "      <th>Escola A</th>\n",
       "      <td>Publica</td>\n",
       "      <td>2917</td>\n",
       "      <td>1910635.0</td>\n",
       "      <td>655.000000</td>\n",
       "      <td>81.182722</td>\n",
       "      <td>76.629414</td>\n",
       "      <td>81.316421</td>\n",
       "      <td>65.683922</td>\n",
       "      <td>53.513884</td>\n",
       "    </tr>\n",
       "    <tr>\n",
       "      <th>Escola B</th>\n",
       "      <td>Publica</td>\n",
       "      <td>2949</td>\n",
       "      <td>1884411.0</td>\n",
       "      <td>639.000000</td>\n",
       "      <td>81.158020</td>\n",
       "      <td>76.711767</td>\n",
       "      <td>80.739234</td>\n",
       "      <td>65.988471</td>\n",
       "      <td>53.204476</td>\n",
       "    </tr>\n",
       "    <tr>\n",
       "      <th>Escola C</th>\n",
       "      <td>Particular</td>\n",
       "      <td>1761</td>\n",
       "      <td>1056600.0</td>\n",
       "      <td>600.000000</td>\n",
       "      <td>83.725724</td>\n",
       "      <td>83.359455</td>\n",
       "      <td>95.854628</td>\n",
       "      <td>93.867121</td>\n",
       "      <td>89.892107</td>\n",
       "    </tr>\n",
       "    <tr>\n",
       "      <th>Escola D</th>\n",
       "      <td>Publica</td>\n",
       "      <td>4635</td>\n",
       "      <td>3022020.0</td>\n",
       "      <td>652.000000</td>\n",
       "      <td>80.934412</td>\n",
       "      <td>77.289752</td>\n",
       "      <td>80.862999</td>\n",
       "      <td>66.752967</td>\n",
       "      <td>53.527508</td>\n",
       "    </tr>\n",
       "    <tr>\n",
       "      <th>Escola E</th>\n",
       "      <td>Particular</td>\n",
       "      <td>1468</td>\n",
       "      <td>917500.0</td>\n",
       "      <td>625.000000</td>\n",
       "      <td>83.816757</td>\n",
       "      <td>83.351499</td>\n",
       "      <td>97.138965</td>\n",
       "      <td>93.392371</td>\n",
       "      <td>90.599455</td>\n",
       "    </tr>\n",
       "    <tr>\n",
       "      <th>Escola F</th>\n",
       "      <td>Particular</td>\n",
       "      <td>2283</td>\n",
       "      <td>1319574.0</td>\n",
       "      <td>578.000000</td>\n",
       "      <td>83.989488</td>\n",
       "      <td>83.274201</td>\n",
       "      <td>96.539641</td>\n",
       "      <td>93.867718</td>\n",
       "      <td>90.582567</td>\n",
       "    </tr>\n",
       "    <tr>\n",
       "      <th>Escola G</th>\n",
       "      <td>Particular</td>\n",
       "      <td>1858</td>\n",
       "      <td>1081356.0</td>\n",
       "      <td>582.000000</td>\n",
       "      <td>83.975780</td>\n",
       "      <td>83.061895</td>\n",
       "      <td>97.039828</td>\n",
       "      <td>94.133477</td>\n",
       "      <td>91.334769</td>\n",
       "    </tr>\n",
       "    <tr>\n",
       "      <th>Escola H</th>\n",
       "      <td>Publica</td>\n",
       "      <td>4976</td>\n",
       "      <td>3124928.0</td>\n",
       "      <td>628.000000</td>\n",
       "      <td>81.033963</td>\n",
       "      <td>77.048432</td>\n",
       "      <td>81.933280</td>\n",
       "      <td>66.680064</td>\n",
       "      <td>54.642283</td>\n",
       "    </tr>\n",
       "    <tr>\n",
       "      <th>Escola I</th>\n",
       "      <td>Particular</td>\n",
       "      <td>427</td>\n",
       "      <td>248087.0</td>\n",
       "      <td>581.000000</td>\n",
       "      <td>83.814988</td>\n",
       "      <td>83.803279</td>\n",
       "      <td>96.252927</td>\n",
       "      <td>92.505855</td>\n",
       "      <td>89.227166</td>\n",
       "    </tr>\n",
       "    <tr>\n",
       "      <th>Escola J</th>\n",
       "      <td>Particular</td>\n",
       "      <td>962</td>\n",
       "      <td>585858.0</td>\n",
       "      <td>609.000000</td>\n",
       "      <td>84.044699</td>\n",
       "      <td>83.839917</td>\n",
       "      <td>95.945946</td>\n",
       "      <td>94.594595</td>\n",
       "      <td>90.540541</td>\n",
       "    </tr>\n",
       "    <tr>\n",
       "      <th>Escola K</th>\n",
       "      <td>Particular</td>\n",
       "      <td>1800</td>\n",
       "      <td>1049400.0</td>\n",
       "      <td>583.000000</td>\n",
       "      <td>83.955000</td>\n",
       "      <td>83.682222</td>\n",
       "      <td>96.611111</td>\n",
       "      <td>93.333333</td>\n",
       "      <td>90.333333</td>\n",
       "    </tr>\n",
       "    <tr>\n",
       "      <th>Escola L</th>\n",
       "      <td>Publica</td>\n",
       "      <td>3999</td>\n",
       "      <td>2547363.0</td>\n",
       "      <td>637.000000</td>\n",
       "      <td>80.744686</td>\n",
       "      <td>76.842711</td>\n",
       "      <td>80.220055</td>\n",
       "      <td>66.366592</td>\n",
       "      <td>52.988247</td>\n",
       "    </tr>\n",
       "    <tr>\n",
       "      <th>Escola M</th>\n",
       "      <td>Publica</td>\n",
       "      <td>4761</td>\n",
       "      <td>3094650.0</td>\n",
       "      <td>650.000000</td>\n",
       "      <td>80.966394</td>\n",
       "      <td>77.072464</td>\n",
       "      <td>81.222432</td>\n",
       "      <td>66.057551</td>\n",
       "      <td>53.539172</td>\n",
       "    </tr>\n",
       "    <tr>\n",
       "      <th>Escola N</th>\n",
       "      <td>Publica</td>\n",
       "      <td>2739</td>\n",
       "      <td>1763916.0</td>\n",
       "      <td>644.000000</td>\n",
       "      <td>80.746258</td>\n",
       "      <td>77.102592</td>\n",
       "      <td>79.299014</td>\n",
       "      <td>68.309602</td>\n",
       "      <td>54.289887</td>\n",
       "    </tr>\n",
       "    <tr>\n",
       "      <th>Escola O</th>\n",
       "      <td>Particular</td>\n",
       "      <td>1625</td>\n",
       "      <td>1043130.0</td>\n",
       "      <td>641.926154</td>\n",
       "      <td>83.810462</td>\n",
       "      <td>83.435077</td>\n",
       "      <td>97.292308</td>\n",
       "      <td>93.230769</td>\n",
       "      <td>90.892308</td>\n",
       "    </tr>\n",
       "  </tbody>\n",
       "</table>\n",
       "</div>"
      ],
      "text/plain": [
       "            School Type  Total Students  Total Budget  Budget Per Student  \\\n",
       "Nome_Escola                                                                 \n",
       "Escola A        Publica            2917     1910635.0          655.000000   \n",
       "Escola B        Publica            2949     1884411.0          639.000000   \n",
       "Escola C     Particular            1761     1056600.0          600.000000   \n",
       "Escola D        Publica            4635     3022020.0          652.000000   \n",
       "Escola E     Particular            1468      917500.0          625.000000   \n",
       "Escola F     Particular            2283     1319574.0          578.000000   \n",
       "Escola G     Particular            1858     1081356.0          582.000000   \n",
       "Escola H        Publica            4976     3124928.0          628.000000   \n",
       "Escola I     Particular             427      248087.0          581.000000   \n",
       "Escola J     Particular             962      585858.0          609.000000   \n",
       "Escola K     Particular            1800     1049400.0          583.000000   \n",
       "Escola L        Publica            3999     2547363.0          637.000000   \n",
       "Escola M        Publica            4761     3094650.0          650.000000   \n",
       "Escola N        Publica            2739     1763916.0          644.000000   \n",
       "Escola O     Particular            1625     1043130.0          641.926154   \n",
       "\n",
       "             Average Grade Approval Writing  \\\n",
       "Nome_Escola                                   \n",
       "Escola A                          81.182722   \n",
       "Escola B                          81.158020   \n",
       "Escola C                          83.725724   \n",
       "Escola D                          80.934412   \n",
       "Escola E                          83.816757   \n",
       "Escola F                          83.989488   \n",
       "Escola G                          83.975780   \n",
       "Escola H                          81.033963   \n",
       "Escola I                          83.814988   \n",
       "Escola J                          84.044699   \n",
       "Escola K                          83.955000   \n",
       "Escola L                          80.744686   \n",
       "Escola M                          80.966394   \n",
       "Escola N                          80.746258   \n",
       "Escola O                          83.810462   \n",
       "\n",
       "             Average Mathematics Approval Grade  % Approved Writing  \\\n",
       "Nome_Escola                                                           \n",
       "Escola A                              76.629414           81.316421   \n",
       "Escola B                              76.711767           80.739234   \n",
       "Escola C                              83.359455           95.854628   \n",
       "Escola D                              77.289752           80.862999   \n",
       "Escola E                              83.351499           97.138965   \n",
       "Escola F                              83.274201           96.539641   \n",
       "Escola G                              83.061895           97.039828   \n",
       "Escola H                              77.048432           81.933280   \n",
       "Escola I                              83.803279           96.252927   \n",
       "Escola J                              83.839917           95.945946   \n",
       "Escola K                              83.682222           96.611111   \n",
       "Escola L                              76.842711           80.220055   \n",
       "Escola M                              77.072464           81.222432   \n",
       "Escola N                              77.102592           79.299014   \n",
       "Escola O                              83.435077           97.292308   \n",
       "\n",
       "             % Approved Mathematics  % General Approved  \n",
       "Nome_Escola                                              \n",
       "Escola A                  65.683922           53.513884  \n",
       "Escola B                  65.988471           53.204476  \n",
       "Escola C                  93.867121           89.892107  \n",
       "Escola D                  66.752967           53.527508  \n",
       "Escola E                  93.392371           90.599455  \n",
       "Escola F                  93.867718           90.582567  \n",
       "Escola G                  94.133477           91.334769  \n",
       "Escola H                  66.680064           54.642283  \n",
       "Escola I                  92.505855           89.227166  \n",
       "Escola J                  94.594595           90.540541  \n",
       "Escola K                  93.333333           90.333333  \n",
       "Escola L                  66.366592           52.988247  \n",
       "Escola M                  66.057551           53.539172  \n",
       "Escola N                  68.309602           54.289887  \n",
       "Escola O                  93.230769           90.892308  "
      ]
     },
     "execution_count": 47,
     "metadata": {},
     "output_type": "execute_result"
    }
   ],
   "source": [
    "school_performance_summary_df "
   ]
  },
  {
   "cell_type": "code",
   "execution_count": 48,
   "metadata": {
    "id": "zGT4CXng2Xcy"
   },
   "outputs": [],
   "source": [
    "school_performance_summary_df[\"Total Budget\"] = school_performance_summary_df[\"Total Budget\"].map(\"${:,.2f}\".format)\n",
    "school_performance_summary_df[\"Budget Per Student\"] = school_performance_summary_df[\"Budget Per Student\"].map(\"${:,.2f}\".format)"
   ]
  },
  {
   "cell_type": "code",
   "execution_count": 49,
   "metadata": {
    "colab": {
     "base_uri": "https://localhost:8080/",
     "height": 728
    },
    "id": "Jcr2umqo2YyO",
    "outputId": "d0fd907f-b4bf-436d-ff33-4f4628df1c84"
   },
   "outputs": [
    {
     "data": {
      "text/html": [
       "<div>\n",
       "<style scoped>\n",
       "    .dataframe tbody tr th:only-of-type {\n",
       "        vertical-align: middle;\n",
       "    }\n",
       "\n",
       "    .dataframe tbody tr th {\n",
       "        vertical-align: top;\n",
       "    }\n",
       "\n",
       "    .dataframe thead th {\n",
       "        text-align: right;\n",
       "    }\n",
       "</style>\n",
       "<table border=\"1\" class=\"dataframe\">\n",
       "  <thead>\n",
       "    <tr style=\"text-align: right;\">\n",
       "      <th></th>\n",
       "      <th>School Type</th>\n",
       "      <th>Total Students</th>\n",
       "      <th>Total Budget</th>\n",
       "      <th>Budget Per Student</th>\n",
       "      <th>Average Grade Approval Writing</th>\n",
       "      <th>Average Mathematics Approval Grade</th>\n",
       "      <th>% Approved Writing</th>\n",
       "      <th>% Approved Mathematics</th>\n",
       "      <th>% General Approved</th>\n",
       "    </tr>\n",
       "    <tr>\n",
       "      <th>Nome_Escola</th>\n",
       "      <th></th>\n",
       "      <th></th>\n",
       "      <th></th>\n",
       "      <th></th>\n",
       "      <th></th>\n",
       "      <th></th>\n",
       "      <th></th>\n",
       "      <th></th>\n",
       "      <th></th>\n",
       "    </tr>\n",
       "  </thead>\n",
       "  <tbody>\n",
       "    <tr>\n",
       "      <th>Escola A</th>\n",
       "      <td>Publica</td>\n",
       "      <td>2917</td>\n",
       "      <td>$1,910,635.00</td>\n",
       "      <td>$655.00</td>\n",
       "      <td>81.182722</td>\n",
       "      <td>76.629414</td>\n",
       "      <td>81.316421</td>\n",
       "      <td>65.683922</td>\n",
       "      <td>53.513884</td>\n",
       "    </tr>\n",
       "    <tr>\n",
       "      <th>Escola B</th>\n",
       "      <td>Publica</td>\n",
       "      <td>2949</td>\n",
       "      <td>$1,884,411.00</td>\n",
       "      <td>$639.00</td>\n",
       "      <td>81.158020</td>\n",
       "      <td>76.711767</td>\n",
       "      <td>80.739234</td>\n",
       "      <td>65.988471</td>\n",
       "      <td>53.204476</td>\n",
       "    </tr>\n",
       "    <tr>\n",
       "      <th>Escola C</th>\n",
       "      <td>Particular</td>\n",
       "      <td>1761</td>\n",
       "      <td>$1,056,600.00</td>\n",
       "      <td>$600.00</td>\n",
       "      <td>83.725724</td>\n",
       "      <td>83.359455</td>\n",
       "      <td>95.854628</td>\n",
       "      <td>93.867121</td>\n",
       "      <td>89.892107</td>\n",
       "    </tr>\n",
       "    <tr>\n",
       "      <th>Escola D</th>\n",
       "      <td>Publica</td>\n",
       "      <td>4635</td>\n",
       "      <td>$3,022,020.00</td>\n",
       "      <td>$652.00</td>\n",
       "      <td>80.934412</td>\n",
       "      <td>77.289752</td>\n",
       "      <td>80.862999</td>\n",
       "      <td>66.752967</td>\n",
       "      <td>53.527508</td>\n",
       "    </tr>\n",
       "    <tr>\n",
       "      <th>Escola E</th>\n",
       "      <td>Particular</td>\n",
       "      <td>1468</td>\n",
       "      <td>$917,500.00</td>\n",
       "      <td>$625.00</td>\n",
       "      <td>83.816757</td>\n",
       "      <td>83.351499</td>\n",
       "      <td>97.138965</td>\n",
       "      <td>93.392371</td>\n",
       "      <td>90.599455</td>\n",
       "    </tr>\n",
       "    <tr>\n",
       "      <th>Escola F</th>\n",
       "      <td>Particular</td>\n",
       "      <td>2283</td>\n",
       "      <td>$1,319,574.00</td>\n",
       "      <td>$578.00</td>\n",
       "      <td>83.989488</td>\n",
       "      <td>83.274201</td>\n",
       "      <td>96.539641</td>\n",
       "      <td>93.867718</td>\n",
       "      <td>90.582567</td>\n",
       "    </tr>\n",
       "    <tr>\n",
       "      <th>Escola G</th>\n",
       "      <td>Particular</td>\n",
       "      <td>1858</td>\n",
       "      <td>$1,081,356.00</td>\n",
       "      <td>$582.00</td>\n",
       "      <td>83.975780</td>\n",
       "      <td>83.061895</td>\n",
       "      <td>97.039828</td>\n",
       "      <td>94.133477</td>\n",
       "      <td>91.334769</td>\n",
       "    </tr>\n",
       "    <tr>\n",
       "      <th>Escola H</th>\n",
       "      <td>Publica</td>\n",
       "      <td>4976</td>\n",
       "      <td>$3,124,928.00</td>\n",
       "      <td>$628.00</td>\n",
       "      <td>81.033963</td>\n",
       "      <td>77.048432</td>\n",
       "      <td>81.933280</td>\n",
       "      <td>66.680064</td>\n",
       "      <td>54.642283</td>\n",
       "    </tr>\n",
       "    <tr>\n",
       "      <th>Escola I</th>\n",
       "      <td>Particular</td>\n",
       "      <td>427</td>\n",
       "      <td>$248,087.00</td>\n",
       "      <td>$581.00</td>\n",
       "      <td>83.814988</td>\n",
       "      <td>83.803279</td>\n",
       "      <td>96.252927</td>\n",
       "      <td>92.505855</td>\n",
       "      <td>89.227166</td>\n",
       "    </tr>\n",
       "    <tr>\n",
       "      <th>Escola J</th>\n",
       "      <td>Particular</td>\n",
       "      <td>962</td>\n",
       "      <td>$585,858.00</td>\n",
       "      <td>$609.00</td>\n",
       "      <td>84.044699</td>\n",
       "      <td>83.839917</td>\n",
       "      <td>95.945946</td>\n",
       "      <td>94.594595</td>\n",
       "      <td>90.540541</td>\n",
       "    </tr>\n",
       "    <tr>\n",
       "      <th>Escola K</th>\n",
       "      <td>Particular</td>\n",
       "      <td>1800</td>\n",
       "      <td>$1,049,400.00</td>\n",
       "      <td>$583.00</td>\n",
       "      <td>83.955000</td>\n",
       "      <td>83.682222</td>\n",
       "      <td>96.611111</td>\n",
       "      <td>93.333333</td>\n",
       "      <td>90.333333</td>\n",
       "    </tr>\n",
       "    <tr>\n",
       "      <th>Escola L</th>\n",
       "      <td>Publica</td>\n",
       "      <td>3999</td>\n",
       "      <td>$2,547,363.00</td>\n",
       "      <td>$637.00</td>\n",
       "      <td>80.744686</td>\n",
       "      <td>76.842711</td>\n",
       "      <td>80.220055</td>\n",
       "      <td>66.366592</td>\n",
       "      <td>52.988247</td>\n",
       "    </tr>\n",
       "    <tr>\n",
       "      <th>Escola M</th>\n",
       "      <td>Publica</td>\n",
       "      <td>4761</td>\n",
       "      <td>$3,094,650.00</td>\n",
       "      <td>$650.00</td>\n",
       "      <td>80.966394</td>\n",
       "      <td>77.072464</td>\n",
       "      <td>81.222432</td>\n",
       "      <td>66.057551</td>\n",
       "      <td>53.539172</td>\n",
       "    </tr>\n",
       "    <tr>\n",
       "      <th>Escola N</th>\n",
       "      <td>Publica</td>\n",
       "      <td>2739</td>\n",
       "      <td>$1,763,916.00</td>\n",
       "      <td>$644.00</td>\n",
       "      <td>80.746258</td>\n",
       "      <td>77.102592</td>\n",
       "      <td>79.299014</td>\n",
       "      <td>68.309602</td>\n",
       "      <td>54.289887</td>\n",
       "    </tr>\n",
       "    <tr>\n",
       "      <th>Escola O</th>\n",
       "      <td>Particular</td>\n",
       "      <td>1625</td>\n",
       "      <td>$1,043,130.00</td>\n",
       "      <td>$641.93</td>\n",
       "      <td>83.810462</td>\n",
       "      <td>83.435077</td>\n",
       "      <td>97.292308</td>\n",
       "      <td>93.230769</td>\n",
       "      <td>90.892308</td>\n",
       "    </tr>\n",
       "  </tbody>\n",
       "</table>\n",
       "</div>"
      ],
      "text/plain": [
       "            School Type  Total Students   Total Budget Budget Per Student  \\\n",
       "Nome_Escola                                                                 \n",
       "Escola A        Publica            2917  $1,910,635.00            $655.00   \n",
       "Escola B        Publica            2949  $1,884,411.00            $639.00   \n",
       "Escola C     Particular            1761  $1,056,600.00            $600.00   \n",
       "Escola D        Publica            4635  $3,022,020.00            $652.00   \n",
       "Escola E     Particular            1468    $917,500.00            $625.00   \n",
       "Escola F     Particular            2283  $1,319,574.00            $578.00   \n",
       "Escola G     Particular            1858  $1,081,356.00            $582.00   \n",
       "Escola H        Publica            4976  $3,124,928.00            $628.00   \n",
       "Escola I     Particular             427    $248,087.00            $581.00   \n",
       "Escola J     Particular             962    $585,858.00            $609.00   \n",
       "Escola K     Particular            1800  $1,049,400.00            $583.00   \n",
       "Escola L        Publica            3999  $2,547,363.00            $637.00   \n",
       "Escola M        Publica            4761  $3,094,650.00            $650.00   \n",
       "Escola N        Publica            2739  $1,763,916.00            $644.00   \n",
       "Escola O     Particular            1625  $1,043,130.00            $641.93   \n",
       "\n",
       "             Average Grade Approval Writing  \\\n",
       "Nome_Escola                                   \n",
       "Escola A                          81.182722   \n",
       "Escola B                          81.158020   \n",
       "Escola C                          83.725724   \n",
       "Escola D                          80.934412   \n",
       "Escola E                          83.816757   \n",
       "Escola F                          83.989488   \n",
       "Escola G                          83.975780   \n",
       "Escola H                          81.033963   \n",
       "Escola I                          83.814988   \n",
       "Escola J                          84.044699   \n",
       "Escola K                          83.955000   \n",
       "Escola L                          80.744686   \n",
       "Escola M                          80.966394   \n",
       "Escola N                          80.746258   \n",
       "Escola O                          83.810462   \n",
       "\n",
       "             Average Mathematics Approval Grade  % Approved Writing  \\\n",
       "Nome_Escola                                                           \n",
       "Escola A                              76.629414           81.316421   \n",
       "Escola B                              76.711767           80.739234   \n",
       "Escola C                              83.359455           95.854628   \n",
       "Escola D                              77.289752           80.862999   \n",
       "Escola E                              83.351499           97.138965   \n",
       "Escola F                              83.274201           96.539641   \n",
       "Escola G                              83.061895           97.039828   \n",
       "Escola H                              77.048432           81.933280   \n",
       "Escola I                              83.803279           96.252927   \n",
       "Escola J                              83.839917           95.945946   \n",
       "Escola K                              83.682222           96.611111   \n",
       "Escola L                              76.842711           80.220055   \n",
       "Escola M                              77.072464           81.222432   \n",
       "Escola N                              77.102592           79.299014   \n",
       "Escola O                              83.435077           97.292308   \n",
       "\n",
       "             % Approved Mathematics  % General Approved  \n",
       "Nome_Escola                                              \n",
       "Escola A                  65.683922           53.513884  \n",
       "Escola B                  65.988471           53.204476  \n",
       "Escola C                  93.867121           89.892107  \n",
       "Escola D                  66.752967           53.527508  \n",
       "Escola E                  93.392371           90.599455  \n",
       "Escola F                  93.867718           90.582567  \n",
       "Escola G                  94.133477           91.334769  \n",
       "Escola H                  66.680064           54.642283  \n",
       "Escola I                  92.505855           89.227166  \n",
       "Escola J                  94.594595           90.540541  \n",
       "Escola K                  93.333333           90.333333  \n",
       "Escola L                  66.366592           52.988247  \n",
       "Escola M                  66.057551           53.539172  \n",
       "Escola N                  68.309602           54.289887  \n",
       "Escola O                  93.230769           90.892308  "
      ]
     },
     "execution_count": 49,
     "metadata": {},
     "output_type": "execute_result"
    }
   ],
   "source": [
    "school_performance_summary_df"
   ]
  },
  {
   "cell_type": "code",
   "execution_count": 50,
   "metadata": {
    "colab": {
     "base_uri": "https://localhost:8080/",
     "height": 300
    },
    "id": "4_F5XUhs3YXx",
    "outputId": "64f23dbc-dcd4-4496-f42d-34e45480a123"
   },
   "outputs": [
    {
     "data": {
      "text/html": [
       "<div>\n",
       "<style scoped>\n",
       "    .dataframe tbody tr th:only-of-type {\n",
       "        vertical-align: middle;\n",
       "    }\n",
       "\n",
       "    .dataframe tbody tr th {\n",
       "        vertical-align: top;\n",
       "    }\n",
       "\n",
       "    .dataframe thead th {\n",
       "        text-align: right;\n",
       "    }\n",
       "</style>\n",
       "<table border=\"1\" class=\"dataframe\">\n",
       "  <thead>\n",
       "    <tr style=\"text-align: right;\">\n",
       "      <th></th>\n",
       "      <th>Total Students</th>\n",
       "      <th>Average Grade Approval Writing</th>\n",
       "      <th>Average Mathematics Approval Grade</th>\n",
       "      <th>% Approved Writing</th>\n",
       "      <th>% Approved Mathematics</th>\n",
       "      <th>% General Approved</th>\n",
       "    </tr>\n",
       "  </thead>\n",
       "  <tbody>\n",
       "    <tr>\n",
       "      <th>count</th>\n",
       "      <td>15.000000</td>\n",
       "      <td>15.000000</td>\n",
       "      <td>15.000000</td>\n",
       "      <td>15.000000</td>\n",
       "      <td>15.000000</td>\n",
       "      <td>15.000000</td>\n",
       "    </tr>\n",
       "    <tr>\n",
       "      <th>mean</th>\n",
       "      <td>2610.666667</td>\n",
       "      <td>82.526623</td>\n",
       "      <td>80.433645</td>\n",
       "      <td>89.217919</td>\n",
       "      <td>80.984294</td>\n",
       "      <td>73.273847</td>\n",
       "    </tr>\n",
       "    <tr>\n",
       "      <th>std</th>\n",
       "      <td>1421.408339</td>\n",
       "      <td>1.516973</td>\n",
       "      <td>3.375608</td>\n",
       "      <td>8.179495</td>\n",
       "      <td>13.996232</td>\n",
       "      <td>18.988451</td>\n",
       "    </tr>\n",
       "    <tr>\n",
       "      <th>min</th>\n",
       "      <td>427.000000</td>\n",
       "      <td>80.744686</td>\n",
       "      <td>76.629414</td>\n",
       "      <td>79.299014</td>\n",
       "      <td>65.683922</td>\n",
       "      <td>52.988247</td>\n",
       "    </tr>\n",
       "    <tr>\n",
       "      <th>25%</th>\n",
       "      <td>1693.000000</td>\n",
       "      <td>81.000178</td>\n",
       "      <td>77.060448</td>\n",
       "      <td>81.042716</td>\n",
       "      <td>66.523328</td>\n",
       "      <td>53.533340</td>\n",
       "    </tr>\n",
       "    <tr>\n",
       "      <th>50%</th>\n",
       "      <td>2283.000000</td>\n",
       "      <td>83.725724</td>\n",
       "      <td>83.061895</td>\n",
       "      <td>95.854628</td>\n",
       "      <td>92.505855</td>\n",
       "      <td>89.227166</td>\n",
       "    </tr>\n",
       "    <tr>\n",
       "      <th>75%</th>\n",
       "      <td>3474.000000</td>\n",
       "      <td>83.885879</td>\n",
       "      <td>83.397266</td>\n",
       "      <td>96.575376</td>\n",
       "      <td>93.629746</td>\n",
       "      <td>90.561554</td>\n",
       "    </tr>\n",
       "    <tr>\n",
       "      <th>max</th>\n",
       "      <td>4976.000000</td>\n",
       "      <td>84.044699</td>\n",
       "      <td>83.839917</td>\n",
       "      <td>97.292308</td>\n",
       "      <td>94.594595</td>\n",
       "      <td>91.334769</td>\n",
       "    </tr>\n",
       "  </tbody>\n",
       "</table>\n",
       "</div>"
      ],
      "text/plain": [
       "       Total Students  Average Grade Approval Writing  \\\n",
       "count       15.000000                       15.000000   \n",
       "mean      2610.666667                       82.526623   \n",
       "std       1421.408339                        1.516973   \n",
       "min        427.000000                       80.744686   \n",
       "25%       1693.000000                       81.000178   \n",
       "50%       2283.000000                       83.725724   \n",
       "75%       3474.000000                       83.885879   \n",
       "max       4976.000000                       84.044699   \n",
       "\n",
       "       Average Mathematics Approval Grade  % Approved Writing  \\\n",
       "count                           15.000000           15.000000   \n",
       "mean                            80.433645           89.217919   \n",
       "std                              3.375608            8.179495   \n",
       "min                             76.629414           79.299014   \n",
       "25%                             77.060448           81.042716   \n",
       "50%                             83.061895           95.854628   \n",
       "75%                             83.397266           96.575376   \n",
       "max                             83.839917           97.292308   \n",
       "\n",
       "       % Approved Mathematics  % General Approved  \n",
       "count               15.000000           15.000000  \n",
       "mean                80.984294           73.273847  \n",
       "std                 13.996232           18.988451  \n",
       "min                 65.683922           52.988247  \n",
       "25%                 66.523328           53.533340  \n",
       "50%                 92.505855           89.227166  \n",
       "75%                 93.629746           90.561554  \n",
       "max                 94.594595           91.334769  "
      ]
     },
     "execution_count": 50,
     "metadata": {},
     "output_type": "execute_result"
    }
   ],
   "source": [
    "school_performance_summary_df.describe()"
   ]
  },
  {
   "cell_type": "markdown",
   "metadata": {
    "id": "7NzVeG801me4"
   },
   "source": [
    "> **11-A- Considering the general approval rate, which are the 5 schools with the best performance?**"
   ]
  },
  {
   "cell_type": "code",
   "execution_count": 51,
   "metadata": {
    "colab": {
     "base_uri": "https://localhost:8080/",
     "height": 293
    },
    "id": "zI9ZWkhr3d_4",
    "outputId": "02d3ce8b-ba53-4b2a-9ede-36a49bff981a"
   },
   "outputs": [
    {
     "data": {
      "text/html": [
       "<div>\n",
       "<style scoped>\n",
       "    .dataframe tbody tr th:only-of-type {\n",
       "        vertical-align: middle;\n",
       "    }\n",
       "\n",
       "    .dataframe tbody tr th {\n",
       "        vertical-align: top;\n",
       "    }\n",
       "\n",
       "    .dataframe thead th {\n",
       "        text-align: right;\n",
       "    }\n",
       "</style>\n",
       "<table border=\"1\" class=\"dataframe\">\n",
       "  <thead>\n",
       "    <tr style=\"text-align: right;\">\n",
       "      <th></th>\n",
       "      <th>School Type</th>\n",
       "      <th>Total Students</th>\n",
       "      <th>Total Budget</th>\n",
       "      <th>Budget Per Student</th>\n",
       "      <th>Average Grade Approval Writing</th>\n",
       "      <th>Average Mathematics Approval Grade</th>\n",
       "      <th>% Approved Writing</th>\n",
       "      <th>% Approved Mathematics</th>\n",
       "      <th>% General Approved</th>\n",
       "    </tr>\n",
       "    <tr>\n",
       "      <th>Nome_Escola</th>\n",
       "      <th></th>\n",
       "      <th></th>\n",
       "      <th></th>\n",
       "      <th></th>\n",
       "      <th></th>\n",
       "      <th></th>\n",
       "      <th></th>\n",
       "      <th></th>\n",
       "      <th></th>\n",
       "    </tr>\n",
       "  </thead>\n",
       "  <tbody>\n",
       "    <tr>\n",
       "      <th>Escola G</th>\n",
       "      <td>Particular</td>\n",
       "      <td>1858</td>\n",
       "      <td>$1,081,356.00</td>\n",
       "      <td>$582.00</td>\n",
       "      <td>83.975780</td>\n",
       "      <td>83.061895</td>\n",
       "      <td>97.039828</td>\n",
       "      <td>94.133477</td>\n",
       "      <td>91.334769</td>\n",
       "    </tr>\n",
       "    <tr>\n",
       "      <th>Escola O</th>\n",
       "      <td>Particular</td>\n",
       "      <td>1625</td>\n",
       "      <td>$1,043,130.00</td>\n",
       "      <td>$641.93</td>\n",
       "      <td>83.810462</td>\n",
       "      <td>83.435077</td>\n",
       "      <td>97.292308</td>\n",
       "      <td>93.230769</td>\n",
       "      <td>90.892308</td>\n",
       "    </tr>\n",
       "    <tr>\n",
       "      <th>Escola E</th>\n",
       "      <td>Particular</td>\n",
       "      <td>1468</td>\n",
       "      <td>$917,500.00</td>\n",
       "      <td>$625.00</td>\n",
       "      <td>83.816757</td>\n",
       "      <td>83.351499</td>\n",
       "      <td>97.138965</td>\n",
       "      <td>93.392371</td>\n",
       "      <td>90.599455</td>\n",
       "    </tr>\n",
       "    <tr>\n",
       "      <th>Escola F</th>\n",
       "      <td>Particular</td>\n",
       "      <td>2283</td>\n",
       "      <td>$1,319,574.00</td>\n",
       "      <td>$578.00</td>\n",
       "      <td>83.989488</td>\n",
       "      <td>83.274201</td>\n",
       "      <td>96.539641</td>\n",
       "      <td>93.867718</td>\n",
       "      <td>90.582567</td>\n",
       "    </tr>\n",
       "    <tr>\n",
       "      <th>Escola J</th>\n",
       "      <td>Particular</td>\n",
       "      <td>962</td>\n",
       "      <td>$585,858.00</td>\n",
       "      <td>$609.00</td>\n",
       "      <td>84.044699</td>\n",
       "      <td>83.839917</td>\n",
       "      <td>95.945946</td>\n",
       "      <td>94.594595</td>\n",
       "      <td>90.540541</td>\n",
       "    </tr>\n",
       "  </tbody>\n",
       "</table>\n",
       "</div>"
      ],
      "text/plain": [
       "            School Type  Total Students   Total Budget Budget Per Student  \\\n",
       "Nome_Escola                                                                 \n",
       "Escola G     Particular            1858  $1,081,356.00            $582.00   \n",
       "Escola O     Particular            1625  $1,043,130.00            $641.93   \n",
       "Escola E     Particular            1468    $917,500.00            $625.00   \n",
       "Escola F     Particular            2283  $1,319,574.00            $578.00   \n",
       "Escola J     Particular             962    $585,858.00            $609.00   \n",
       "\n",
       "             Average Grade Approval Writing  \\\n",
       "Nome_Escola                                   \n",
       "Escola G                          83.975780   \n",
       "Escola O                          83.810462   \n",
       "Escola E                          83.816757   \n",
       "Escola F                          83.989488   \n",
       "Escola J                          84.044699   \n",
       "\n",
       "             Average Mathematics Approval Grade  % Approved Writing  \\\n",
       "Nome_Escola                                                           \n",
       "Escola G                              83.061895           97.039828   \n",
       "Escola O                              83.435077           97.292308   \n",
       "Escola E                              83.351499           97.138965   \n",
       "Escola F                              83.274201           96.539641   \n",
       "Escola J                              83.839917           95.945946   \n",
       "\n",
       "             % Approved Mathematics  % General Approved  \n",
       "Nome_Escola                                              \n",
       "Escola G                  94.133477           91.334769  \n",
       "Escola O                  93.230769           90.892308  \n",
       "Escola E                  93.392371           90.599455  \n",
       "Escola F                  93.867718           90.582567  \n",
       "Escola J                  94.594595           90.540541  "
      ]
     },
     "execution_count": 51,
     "metadata": {},
     "output_type": "execute_result"
    }
   ],
   "source": [
    "top_schools = school_performance_summary_df.sort_values([\"% General Approved\"], ascending = False)\n",
    "top_schools.head(5)"
   ]
  },
  {
   "cell_type": "markdown",
   "metadata": {
    "id": "Uv8eJxR-3iIG"
   },
   "source": [
    "> **11-B- Considering the general approval rate, which are the 5 schools with the worst performance?**"
   ]
  },
  {
   "cell_type": "code",
   "execution_count": 52,
   "metadata": {
    "colab": {
     "base_uri": "https://localhost:8080/",
     "height": 293
    },
    "id": "O_YJhLhg3gFE",
    "outputId": "4c8ea282-fb54-4288-e885-803395046b7c"
   },
   "outputs": [
    {
     "data": {
      "text/html": [
       "<div>\n",
       "<style scoped>\n",
       "    .dataframe tbody tr th:only-of-type {\n",
       "        vertical-align: middle;\n",
       "    }\n",
       "\n",
       "    .dataframe tbody tr th {\n",
       "        vertical-align: top;\n",
       "    }\n",
       "\n",
       "    .dataframe thead th {\n",
       "        text-align: right;\n",
       "    }\n",
       "</style>\n",
       "<table border=\"1\" class=\"dataframe\">\n",
       "  <thead>\n",
       "    <tr style=\"text-align: right;\">\n",
       "      <th></th>\n",
       "      <th>School Type</th>\n",
       "      <th>Total Students</th>\n",
       "      <th>Total Budget</th>\n",
       "      <th>Budget Per Student</th>\n",
       "      <th>Average Grade Approval Writing</th>\n",
       "      <th>Average Mathematics Approval Grade</th>\n",
       "      <th>% Approved Writing</th>\n",
       "      <th>% Approved Mathematics</th>\n",
       "      <th>% General Approved</th>\n",
       "    </tr>\n",
       "    <tr>\n",
       "      <th>Nome_Escola</th>\n",
       "      <th></th>\n",
       "      <th></th>\n",
       "      <th></th>\n",
       "      <th></th>\n",
       "      <th></th>\n",
       "      <th></th>\n",
       "      <th></th>\n",
       "      <th></th>\n",
       "      <th></th>\n",
       "    </tr>\n",
       "  </thead>\n",
       "  <tbody>\n",
       "    <tr>\n",
       "      <th>Escola L</th>\n",
       "      <td>Publica</td>\n",
       "      <td>3999</td>\n",
       "      <td>$2,547,363.00</td>\n",
       "      <td>$637.00</td>\n",
       "      <td>80.744686</td>\n",
       "      <td>76.842711</td>\n",
       "      <td>80.220055</td>\n",
       "      <td>66.366592</td>\n",
       "      <td>52.988247</td>\n",
       "    </tr>\n",
       "    <tr>\n",
       "      <th>Escola B</th>\n",
       "      <td>Publica</td>\n",
       "      <td>2949</td>\n",
       "      <td>$1,884,411.00</td>\n",
       "      <td>$639.00</td>\n",
       "      <td>81.158020</td>\n",
       "      <td>76.711767</td>\n",
       "      <td>80.739234</td>\n",
       "      <td>65.988471</td>\n",
       "      <td>53.204476</td>\n",
       "    </tr>\n",
       "    <tr>\n",
       "      <th>Escola A</th>\n",
       "      <td>Publica</td>\n",
       "      <td>2917</td>\n",
       "      <td>$1,910,635.00</td>\n",
       "      <td>$655.00</td>\n",
       "      <td>81.182722</td>\n",
       "      <td>76.629414</td>\n",
       "      <td>81.316421</td>\n",
       "      <td>65.683922</td>\n",
       "      <td>53.513884</td>\n",
       "    </tr>\n",
       "    <tr>\n",
       "      <th>Escola D</th>\n",
       "      <td>Publica</td>\n",
       "      <td>4635</td>\n",
       "      <td>$3,022,020.00</td>\n",
       "      <td>$652.00</td>\n",
       "      <td>80.934412</td>\n",
       "      <td>77.289752</td>\n",
       "      <td>80.862999</td>\n",
       "      <td>66.752967</td>\n",
       "      <td>53.527508</td>\n",
       "    </tr>\n",
       "    <tr>\n",
       "      <th>Escola M</th>\n",
       "      <td>Publica</td>\n",
       "      <td>4761</td>\n",
       "      <td>$3,094,650.00</td>\n",
       "      <td>$650.00</td>\n",
       "      <td>80.966394</td>\n",
       "      <td>77.072464</td>\n",
       "      <td>81.222432</td>\n",
       "      <td>66.057551</td>\n",
       "      <td>53.539172</td>\n",
       "    </tr>\n",
       "  </tbody>\n",
       "</table>\n",
       "</div>"
      ],
      "text/plain": [
       "            School Type  Total Students   Total Budget Budget Per Student  \\\n",
       "Nome_Escola                                                                 \n",
       "Escola L        Publica            3999  $2,547,363.00            $637.00   \n",
       "Escola B        Publica            2949  $1,884,411.00            $639.00   \n",
       "Escola A        Publica            2917  $1,910,635.00            $655.00   \n",
       "Escola D        Publica            4635  $3,022,020.00            $652.00   \n",
       "Escola M        Publica            4761  $3,094,650.00            $650.00   \n",
       "\n",
       "             Average Grade Approval Writing  \\\n",
       "Nome_Escola                                   \n",
       "Escola L                          80.744686   \n",
       "Escola B                          81.158020   \n",
       "Escola A                          81.182722   \n",
       "Escola D                          80.934412   \n",
       "Escola M                          80.966394   \n",
       "\n",
       "             Average Mathematics Approval Grade  % Approved Writing  \\\n",
       "Nome_Escola                                                           \n",
       "Escola L                              76.842711           80.220055   \n",
       "Escola B                              76.711767           80.739234   \n",
       "Escola A                              76.629414           81.316421   \n",
       "Escola D                              77.289752           80.862999   \n",
       "Escola M                              77.072464           81.222432   \n",
       "\n",
       "             % Approved Mathematics  % General Approved  \n",
       "Nome_Escola                                              \n",
       "Escola L                  66.366592           52.988247  \n",
       "Escola B                  65.988471           53.204476  \n",
       "Escola A                  65.683922           53.513884  \n",
       "Escola D                  66.752967           53.527508  \n",
       "Escola M                  66.057551           53.539172  "
      ]
     },
     "execution_count": 52,
     "metadata": {},
     "output_type": "execute_result"
    }
   ],
   "source": [
    "bottom_schools = school_performance_summary_df.sort_values([\"% General Approved\"], ascending = True)\n",
    "bottom_schools.head(5)"
   ]
  },
  {
   "cell_type": "code",
   "execution_count": 53,
   "metadata": {
    "colab": {
     "base_uri": "https://localhost:8080/"
    },
    "id": "fz13TjBw3od2",
    "outputId": "6fb807e9-9bc9-45f6-fa7c-cf46c47aad57"
   },
   "outputs": [
    {
     "data": {
      "text/plain": [
       "Index(['ID_Estudante', 'Nome_Estudante', 'Genero', 'Serie', 'Nome_Escola',\n",
       "       'Nota_Redacao', 'Nota_Matematica', 'ID_Escola', 'Tipo_Escola',\n",
       "       'Numero_Alunos', 'Orcamento_Anual'],\n",
       "      dtype='object')"
      ]
     },
     "execution_count": 53,
     "metadata": {},
     "output_type": "execute_result"
    }
   ],
   "source": [
    "full_data.columns"
   ]
  },
  {
   "cell_type": "markdown",
   "metadata": {
    "id": "U-6iY5uZ1obn"
   },
   "source": [
    "> **12- In each grade, which school had the students with the best performance in Mathematics?**"
   ]
  },
  {
   "cell_type": "code",
   "execution_count": 54,
   "metadata": {
    "id": "GucdL7uo3rl3"
   },
   "outputs": [],
   "source": [
    "sixth_grade = full_data[(full_data[\"Serie\"] == 6)]\n",
    "seventh_grade = full_data[(full_data[\"Serie\"] == 7)]\n",
    "octave_grade = full_data[(full_data[\"Serie\"] == 8)]\n",
    "ninth_grade = full_data[(full_data[\"Serie\"] == 9)]"
   ]
  },
  {
   "cell_type": "code",
   "execution_count": 55,
   "metadata": {
    "colab": {
     "base_uri": "https://localhost:8080/",
     "height": 206
    },
    "id": "IcPMvFLd3twu",
    "outputId": "301c401f-b0e2-4af2-9f36-2fe653333733"
   },
   "outputs": [
    {
     "data": {
      "text/html": [
       "<div>\n",
       "<style scoped>\n",
       "    .dataframe tbody tr th:only-of-type {\n",
       "        vertical-align: middle;\n",
       "    }\n",
       "\n",
       "    .dataframe tbody tr th {\n",
       "        vertical-align: top;\n",
       "    }\n",
       "\n",
       "    .dataframe thead th {\n",
       "        text-align: right;\n",
       "    }\n",
       "</style>\n",
       "<table border=\"1\" class=\"dataframe\">\n",
       "  <thead>\n",
       "    <tr style=\"text-align: right;\">\n",
       "      <th></th>\n",
       "      <th>ID_Estudante</th>\n",
       "      <th>Nome_Estudante</th>\n",
       "      <th>Genero</th>\n",
       "      <th>Serie</th>\n",
       "      <th>Nome_Escola</th>\n",
       "      <th>Nota_Redacao</th>\n",
       "      <th>Nota_Matematica</th>\n",
       "      <th>ID_Escola</th>\n",
       "      <th>Tipo_Escola</th>\n",
       "      <th>Numero_Alunos</th>\n",
       "      <th>Orcamento_Anual</th>\n",
       "    </tr>\n",
       "  </thead>\n",
       "  <tbody>\n",
       "    <tr>\n",
       "      <th>0</th>\n",
       "      <td>0</td>\n",
       "      <td>Kevin Bradley</td>\n",
       "      <td>M</td>\n",
       "      <td>6</td>\n",
       "      <td>Escola A</td>\n",
       "      <td>66</td>\n",
       "      <td>79</td>\n",
       "      <td>0</td>\n",
       "      <td>Publica</td>\n",
       "      <td>2917</td>\n",
       "      <td>1910635</td>\n",
       "    </tr>\n",
       "    <tr>\n",
       "      <th>4</th>\n",
       "      <td>4</td>\n",
       "      <td>William Ray</td>\n",
       "      <td>F</td>\n",
       "      <td>6</td>\n",
       "      <td>Escola A</td>\n",
       "      <td>97</td>\n",
       "      <td>84</td>\n",
       "      <td>0</td>\n",
       "      <td>Publica</td>\n",
       "      <td>2917</td>\n",
       "      <td>1910635</td>\n",
       "    </tr>\n",
       "    <tr>\n",
       "      <th>5</th>\n",
       "      <td>5</td>\n",
       "      <td>James Miranda</td>\n",
       "      <td>M</td>\n",
       "      <td>6</td>\n",
       "      <td>Escola A</td>\n",
       "      <td>94</td>\n",
       "      <td>94</td>\n",
       "      <td>0</td>\n",
       "      <td>Publica</td>\n",
       "      <td>2917</td>\n",
       "      <td>1910635</td>\n",
       "    </tr>\n",
       "    <tr>\n",
       "      <th>12</th>\n",
       "      <td>12</td>\n",
       "      <td>Sebastian Walker</td>\n",
       "      <td>F</td>\n",
       "      <td>6</td>\n",
       "      <td>Escola A</td>\n",
       "      <td>64</td>\n",
       "      <td>79</td>\n",
       "      <td>0</td>\n",
       "      <td>Publica</td>\n",
       "      <td>2917</td>\n",
       "      <td>1910635</td>\n",
       "    </tr>\n",
       "    <tr>\n",
       "      <th>13</th>\n",
       "      <td>13</td>\n",
       "      <td>Mateo Long</td>\n",
       "      <td>M</td>\n",
       "      <td>6</td>\n",
       "      <td>Escola A</td>\n",
       "      <td>71</td>\n",
       "      <td>79</td>\n",
       "      <td>0</td>\n",
       "      <td>Publica</td>\n",
       "      <td>2917</td>\n",
       "      <td>1910635</td>\n",
       "    </tr>\n",
       "  </tbody>\n",
       "</table>\n",
       "</div>"
      ],
      "text/plain": [
       "    ID_Estudante    Nome_Estudante Genero  Serie Nome_Escola  Nota_Redacao  \\\n",
       "0              0     Kevin Bradley      M      6    Escola A            66   \n",
       "4              4       William Ray      F      6    Escola A            97   \n",
       "5              5     James Miranda      M      6    Escola A            94   \n",
       "12            12  Sebastian Walker      F      6    Escola A            64   \n",
       "13            13        Mateo Long      M      6    Escola A            71   \n",
       "\n",
       "    Nota_Matematica  ID_Escola Tipo_Escola  Numero_Alunos  Orcamento_Anual  \n",
       "0                79          0     Publica           2917          1910635  \n",
       "4                84          0     Publica           2917          1910635  \n",
       "5                94          0     Publica           2917          1910635  \n",
       "12               79          0     Publica           2917          1910635  \n",
       "13               79          0     Publica           2917          1910635  "
      ]
     },
     "execution_count": 55,
     "metadata": {},
     "output_type": "execute_result"
    }
   ],
   "source": [
    "sixth_grade.head()"
   ]
  },
  {
   "cell_type": "code",
   "execution_count": 56,
   "metadata": {
    "colab": {
     "base_uri": "https://localhost:8080/"
    },
    "id": "zh8rpVNE3xTx",
    "outputId": "20eff532-80a3-4fc7-f367-367cfd3f7e63"
   },
   "outputs": [],
   "source": [
    "sixth_grade_notes = sixth_grade.groupby([\"Nome_Escola\"])[\"Nota_Matematica\"].agg('mean')\n",
    "seventh_grade_notes = seventh_grade.groupby([\"Nome_Escola\"])[\"Nota_Matematica\"].agg('mean')\n",
    "octave_grade_notes = octave_grade.groupby([\"Nome_Escola\"])[\"Nota_Matematica\"].agg('mean')\n",
    "ninth_grade_notes = ninth_grade.groupby([\"Nome_Escola\"])[\"Nota_Matematica\"].agg('mean')"
   ]
  },
  {
   "cell_type": "code",
   "execution_count": 57,
   "metadata": {
    "id": "_Pf8MgZr3z0p"
   },
   "outputs": [],
   "source": [
    "grades_per_series = pd.DataFrame({\"Sixth Grade\": sixth_grade_notes,\n",
    "                                \"Seventh Grade\": seventh_grade_notes,\n",
    "                                \"Octave Grade\": octave_grade_notes,\n",
    "                                \"Ninth Grade\": ninth_grade_notes})"
   ]
  },
  {
   "cell_type": "code",
   "execution_count": 58,
   "metadata": {
    "colab": {
     "base_uri": "https://localhost:8080/",
     "height": 551
    },
    "id": "3zJ803qL32ud",
    "outputId": "2eed6e1b-15e5-4f87-e165-49bf5eb0b358"
   },
   "outputs": [
    {
     "data": {
      "text/html": [
       "<div>\n",
       "<style scoped>\n",
       "    .dataframe tbody tr th:only-of-type {\n",
       "        vertical-align: middle;\n",
       "    }\n",
       "\n",
       "    .dataframe tbody tr th {\n",
       "        vertical-align: top;\n",
       "    }\n",
       "\n",
       "    .dataframe thead th {\n",
       "        text-align: right;\n",
       "    }\n",
       "</style>\n",
       "<table border=\"1\" class=\"dataframe\">\n",
       "  <thead>\n",
       "    <tr style=\"text-align: right;\">\n",
       "      <th></th>\n",
       "      <th>Sixth Grade</th>\n",
       "      <th>Seventh Grade</th>\n",
       "      <th>Octave Grade</th>\n",
       "      <th>Ninth Grade</th>\n",
       "    </tr>\n",
       "    <tr>\n",
       "      <th>Nome_Escola</th>\n",
       "      <th></th>\n",
       "      <th></th>\n",
       "      <th></th>\n",
       "      <th></th>\n",
       "    </tr>\n",
       "  </thead>\n",
       "  <tbody>\n",
       "    <tr>\n",
       "      <th>Escola A</th>\n",
       "      <td>77.027251</td>\n",
       "      <td>75.908735</td>\n",
       "      <td>76.446602</td>\n",
       "      <td>77.225641</td>\n",
       "    </tr>\n",
       "    <tr>\n",
       "      <th>Escola B</th>\n",
       "      <td>76.403037</td>\n",
       "      <td>76.539974</td>\n",
       "      <td>76.884344</td>\n",
       "      <td>77.151369</td>\n",
       "    </tr>\n",
       "    <tr>\n",
       "      <th>Escola C</th>\n",
       "      <td>83.420755</td>\n",
       "      <td>82.917411</td>\n",
       "      <td>83.383495</td>\n",
       "      <td>83.778976</td>\n",
       "    </tr>\n",
       "    <tr>\n",
       "      <th>Escola D</th>\n",
       "      <td>77.438495</td>\n",
       "      <td>77.337408</td>\n",
       "      <td>77.136029</td>\n",
       "      <td>77.186567</td>\n",
       "    </tr>\n",
       "    <tr>\n",
       "      <th>Escola E</th>\n",
       "      <td>82.044010</td>\n",
       "      <td>84.229064</td>\n",
       "      <td>83.842105</td>\n",
       "      <td>83.356164</td>\n",
       "    </tr>\n",
       "    <tr>\n",
       "      <th>Escola F</th>\n",
       "      <td>83.085578</td>\n",
       "      <td>83.724422</td>\n",
       "      <td>83.195326</td>\n",
       "      <td>83.035794</td>\n",
       "    </tr>\n",
       "    <tr>\n",
       "      <th>Escola G</th>\n",
       "      <td>83.094697</td>\n",
       "      <td>83.154506</td>\n",
       "      <td>82.765560</td>\n",
       "      <td>83.277487</td>\n",
       "    </tr>\n",
       "    <tr>\n",
       "      <th>Escola H</th>\n",
       "      <td>77.083676</td>\n",
       "      <td>76.996772</td>\n",
       "      <td>77.515588</td>\n",
       "      <td>76.492218</td>\n",
       "    </tr>\n",
       "    <tr>\n",
       "      <th>Escola I</th>\n",
       "      <td>83.787402</td>\n",
       "      <td>83.429825</td>\n",
       "      <td>85.000000</td>\n",
       "      <td>82.855422</td>\n",
       "    </tr>\n",
       "    <tr>\n",
       "      <th>Escola J</th>\n",
       "      <td>83.625455</td>\n",
       "      <td>83.372000</td>\n",
       "      <td>84.328125</td>\n",
       "      <td>84.121547</td>\n",
       "    </tr>\n",
       "    <tr>\n",
       "      <th>Escola K</th>\n",
       "      <td>83.264706</td>\n",
       "      <td>84.010288</td>\n",
       "      <td>83.836782</td>\n",
       "      <td>83.644986</td>\n",
       "    </tr>\n",
       "    <tr>\n",
       "      <th>Escola L</th>\n",
       "      <td>76.859966</td>\n",
       "      <td>76.612500</td>\n",
       "      <td>76.395626</td>\n",
       "      <td>77.690748</td>\n",
       "    </tr>\n",
       "    <tr>\n",
       "      <th>Escola M</th>\n",
       "      <td>77.187857</td>\n",
       "      <td>76.691117</td>\n",
       "      <td>77.491653</td>\n",
       "      <td>76.863248</td>\n",
       "    </tr>\n",
       "    <tr>\n",
       "      <th>Escola N</th>\n",
       "      <td>77.361345</td>\n",
       "      <td>77.672316</td>\n",
       "      <td>76.918058</td>\n",
       "      <td>76.179963</td>\n",
       "    </tr>\n",
       "    <tr>\n",
       "      <th>Escola O</th>\n",
       "      <td>83.605664</td>\n",
       "      <td>83.100478</td>\n",
       "      <td>83.533981</td>\n",
       "      <td>83.497024</td>\n",
       "    </tr>\n",
       "  </tbody>\n",
       "</table>\n",
       "</div>"
      ],
      "text/plain": [
       "             Sixth Grade  Seventh Grade  Octave Grade  Ninth Grade\n",
       "Nome_Escola                                                       \n",
       "Escola A       77.027251      75.908735     76.446602    77.225641\n",
       "Escola B       76.403037      76.539974     76.884344    77.151369\n",
       "Escola C       83.420755      82.917411     83.383495    83.778976\n",
       "Escola D       77.438495      77.337408     77.136029    77.186567\n",
       "Escola E       82.044010      84.229064     83.842105    83.356164\n",
       "Escola F       83.085578      83.724422     83.195326    83.035794\n",
       "Escola G       83.094697      83.154506     82.765560    83.277487\n",
       "Escola H       77.083676      76.996772     77.515588    76.492218\n",
       "Escola I       83.787402      83.429825     85.000000    82.855422\n",
       "Escola J       83.625455      83.372000     84.328125    84.121547\n",
       "Escola K       83.264706      84.010288     83.836782    83.644986\n",
       "Escola L       76.859966      76.612500     76.395626    77.690748\n",
       "Escola M       77.187857      76.691117     77.491653    76.863248\n",
       "Escola N       77.361345      77.672316     76.918058    76.179963\n",
       "Escola O       83.605664      83.100478     83.533981    83.497024"
      ]
     },
     "execution_count": 58,
     "metadata": {},
     "output_type": "execute_result"
    }
   ],
   "source": [
    "grades_per_series.sort_values(by = \"Nome_Escola\")"
   ]
  },
  {
   "cell_type": "code",
   "execution_count": 59,
   "metadata": {
    "colab": {
     "base_uri": "https://localhost:8080/",
     "height": 35
    },
    "id": "Az4OoiAx36ZL",
    "outputId": "46f1d4ac-e88b-4897-c18b-ea56bfe8ceaa"
   },
   "outputs": [
    {
     "data": {
      "text/plain": [
       "'Escola I'"
      ]
     },
     "execution_count": 59,
     "metadata": {},
     "output_type": "execute_result"
    }
   ],
   "source": [
    "grades_per_series[\"Sixth Grade\"].idxmax()"
   ]
  },
  {
   "cell_type": "code",
   "execution_count": 60,
   "metadata": {
    "colab": {
     "base_uri": "https://localhost:8080/",
     "height": 35
    },
    "id": "-jxFBr6c373t",
    "outputId": "34b2dc94-efaf-4cfc-a831-4eaf5a20c5a7"
   },
   "outputs": [
    {
     "data": {
      "text/plain": [
       "'Escola E'"
      ]
     },
     "execution_count": 60,
     "metadata": {},
     "output_type": "execute_result"
    }
   ],
   "source": [
    "grades_per_series[\"Seventh Grade\"].idxmax()"
   ]
  },
  {
   "cell_type": "code",
   "execution_count": 61,
   "metadata": {
    "colab": {
     "base_uri": "https://localhost:8080/",
     "height": 35
    },
    "id": "Ccu77Y2L38-4",
    "outputId": "1381559b-12e8-48ab-fb98-b39041a5dbc9"
   },
   "outputs": [
    {
     "data": {
      "text/plain": [
       "'Escola I'"
      ]
     },
     "execution_count": 61,
     "metadata": {},
     "output_type": "execute_result"
    }
   ],
   "source": [
    "grades_per_series[\"Octave Grade\"].idxmax()"
   ]
  },
  {
   "cell_type": "code",
   "execution_count": 62,
   "metadata": {
    "colab": {
     "base_uri": "https://localhost:8080/",
     "height": 35
    },
    "id": "Z6jwDm5f3-xR",
    "outputId": "18945591-09f1-4829-894e-feb973ec33dc"
   },
   "outputs": [
    {
     "data": {
      "text/plain": [
       "'Escola J'"
      ]
     },
     "execution_count": 62,
     "metadata": {},
     "output_type": "execute_result"
    }
   ],
   "source": [
    "grades_per_series[\"Ninth Grade\"].idxmax()"
   ]
  },
  {
   "cell_type": "markdown",
   "metadata": {
    "id": "tRCht3JB1psA"
   },
   "source": [
    "> **13- Considering the spending ranges per student as: [0, 585, 630, 645, 680], which range results in students with better performance?**"
   ]
  },
  {
   "cell_type": "code",
   "execution_count": 63,
   "metadata": {
    "colab": {
     "base_uri": "https://localhost:8080/"
    },
    "id": "7HO_RUKE4D4U",
    "outputId": "7a3466ca-8580-4e68-ec06-d6a648116689"
   },
   "outputs": [
    {
     "data": {
      "text/plain": [
       "Index(['School Type', 'Total Students', 'Total Budget', 'Budget Per Student',\n",
       "       'Average Grade Approval Writing', 'Average Mathematics Approval Grade',\n",
       "       '% Approved Writing', '% Approved Mathematics', '% General Approved'],\n",
       "      dtype='object')"
      ]
     },
     "execution_count": 63,
     "metadata": {},
     "output_type": "execute_result"
    }
   ],
   "source": [
    "school_performance_summary_df.columns"
   ]
  },
  {
   "cell_type": "code",
   "execution_count": 64,
   "metadata": {
    "id": "sZPsEXZ44FU6"
   },
   "outputs": [],
   "source": [
    "tracks_bins = [0, 585, 630, 645, 680]\n",
    "labels_tracks = [\"<$585\", \"$585-630\", \"$630-645\", \"$645-680\"]"
   ]
  },
  {
   "cell_type": "code",
   "execution_count": 65,
   "metadata": {
    "id": "dBKHuJ6V4JB1"
   },
   "outputs": [],
   "source": [
    "school_performance_summary_df[\"Spending Range Per Student\"] = pd.cut(school_budget_percapita,\n",
    "                                                                        tracks_bins,\n",
    "                                                                        labels = labels_tracks,\n",
    "                                                                        right = False)"
   ]
  },
  {
   "cell_type": "code",
   "execution_count": 66,
   "metadata": {
    "colab": {
     "base_uri": "https://localhost:8080/",
     "height": 780
    },
    "id": "XDvT7HeA4L0o",
    "outputId": "f6acadd1-45fc-4ea3-cf71-9d0673b9c30c"
   },
   "outputs": [
    {
     "data": {
      "text/html": [
       "<div>\n",
       "<style scoped>\n",
       "    .dataframe tbody tr th:only-of-type {\n",
       "        vertical-align: middle;\n",
       "    }\n",
       "\n",
       "    .dataframe tbody tr th {\n",
       "        vertical-align: top;\n",
       "    }\n",
       "\n",
       "    .dataframe thead th {\n",
       "        text-align: right;\n",
       "    }\n",
       "</style>\n",
       "<table border=\"1\" class=\"dataframe\">\n",
       "  <thead>\n",
       "    <tr style=\"text-align: right;\">\n",
       "      <th></th>\n",
       "      <th>School Type</th>\n",
       "      <th>Total Students</th>\n",
       "      <th>Total Budget</th>\n",
       "      <th>Budget Per Student</th>\n",
       "      <th>Average Grade Approval Writing</th>\n",
       "      <th>Average Mathematics Approval Grade</th>\n",
       "      <th>% Approved Writing</th>\n",
       "      <th>% Approved Mathematics</th>\n",
       "      <th>% General Approved</th>\n",
       "      <th>Spending Range Per Student</th>\n",
       "    </tr>\n",
       "    <tr>\n",
       "      <th>Nome_Escola</th>\n",
       "      <th></th>\n",
       "      <th></th>\n",
       "      <th></th>\n",
       "      <th></th>\n",
       "      <th></th>\n",
       "      <th></th>\n",
       "      <th></th>\n",
       "      <th></th>\n",
       "      <th></th>\n",
       "      <th></th>\n",
       "    </tr>\n",
       "  </thead>\n",
       "  <tbody>\n",
       "    <tr>\n",
       "      <th>Escola A</th>\n",
       "      <td>Publica</td>\n",
       "      <td>2917</td>\n",
       "      <td>$1,910,635.00</td>\n",
       "      <td>$655.00</td>\n",
       "      <td>81.182722</td>\n",
       "      <td>76.629414</td>\n",
       "      <td>81.316421</td>\n",
       "      <td>65.683922</td>\n",
       "      <td>53.513884</td>\n",
       "      <td>$645-680</td>\n",
       "    </tr>\n",
       "    <tr>\n",
       "      <th>Escola B</th>\n",
       "      <td>Publica</td>\n",
       "      <td>2949</td>\n",
       "      <td>$1,884,411.00</td>\n",
       "      <td>$639.00</td>\n",
       "      <td>81.158020</td>\n",
       "      <td>76.711767</td>\n",
       "      <td>80.739234</td>\n",
       "      <td>65.988471</td>\n",
       "      <td>53.204476</td>\n",
       "      <td>$630-645</td>\n",
       "    </tr>\n",
       "    <tr>\n",
       "      <th>Escola C</th>\n",
       "      <td>Particular</td>\n",
       "      <td>1761</td>\n",
       "      <td>$1,056,600.00</td>\n",
       "      <td>$600.00</td>\n",
       "      <td>83.725724</td>\n",
       "      <td>83.359455</td>\n",
       "      <td>95.854628</td>\n",
       "      <td>93.867121</td>\n",
       "      <td>89.892107</td>\n",
       "      <td>$585-630</td>\n",
       "    </tr>\n",
       "    <tr>\n",
       "      <th>Escola D</th>\n",
       "      <td>Publica</td>\n",
       "      <td>4635</td>\n",
       "      <td>$3,022,020.00</td>\n",
       "      <td>$652.00</td>\n",
       "      <td>80.934412</td>\n",
       "      <td>77.289752</td>\n",
       "      <td>80.862999</td>\n",
       "      <td>66.752967</td>\n",
       "      <td>53.527508</td>\n",
       "      <td>$645-680</td>\n",
       "    </tr>\n",
       "    <tr>\n",
       "      <th>Escola E</th>\n",
       "      <td>Particular</td>\n",
       "      <td>1468</td>\n",
       "      <td>$917,500.00</td>\n",
       "      <td>$625.00</td>\n",
       "      <td>83.816757</td>\n",
       "      <td>83.351499</td>\n",
       "      <td>97.138965</td>\n",
       "      <td>93.392371</td>\n",
       "      <td>90.599455</td>\n",
       "      <td>$585-630</td>\n",
       "    </tr>\n",
       "    <tr>\n",
       "      <th>Escola F</th>\n",
       "      <td>Particular</td>\n",
       "      <td>2283</td>\n",
       "      <td>$1,319,574.00</td>\n",
       "      <td>$578.00</td>\n",
       "      <td>83.989488</td>\n",
       "      <td>83.274201</td>\n",
       "      <td>96.539641</td>\n",
       "      <td>93.867718</td>\n",
       "      <td>90.582567</td>\n",
       "      <td>&lt;$585</td>\n",
       "    </tr>\n",
       "    <tr>\n",
       "      <th>Escola G</th>\n",
       "      <td>Particular</td>\n",
       "      <td>1858</td>\n",
       "      <td>$1,081,356.00</td>\n",
       "      <td>$582.00</td>\n",
       "      <td>83.975780</td>\n",
       "      <td>83.061895</td>\n",
       "      <td>97.039828</td>\n",
       "      <td>94.133477</td>\n",
       "      <td>91.334769</td>\n",
       "      <td>&lt;$585</td>\n",
       "    </tr>\n",
       "    <tr>\n",
       "      <th>Escola H</th>\n",
       "      <td>Publica</td>\n",
       "      <td>4976</td>\n",
       "      <td>$3,124,928.00</td>\n",
       "      <td>$628.00</td>\n",
       "      <td>81.033963</td>\n",
       "      <td>77.048432</td>\n",
       "      <td>81.933280</td>\n",
       "      <td>66.680064</td>\n",
       "      <td>54.642283</td>\n",
       "      <td>$585-630</td>\n",
       "    </tr>\n",
       "    <tr>\n",
       "      <th>Escola I</th>\n",
       "      <td>Particular</td>\n",
       "      <td>427</td>\n",
       "      <td>$248,087.00</td>\n",
       "      <td>$581.00</td>\n",
       "      <td>83.814988</td>\n",
       "      <td>83.803279</td>\n",
       "      <td>96.252927</td>\n",
       "      <td>92.505855</td>\n",
       "      <td>89.227166</td>\n",
       "      <td>&lt;$585</td>\n",
       "    </tr>\n",
       "    <tr>\n",
       "      <th>Escola J</th>\n",
       "      <td>Particular</td>\n",
       "      <td>962</td>\n",
       "      <td>$585,858.00</td>\n",
       "      <td>$609.00</td>\n",
       "      <td>84.044699</td>\n",
       "      <td>83.839917</td>\n",
       "      <td>95.945946</td>\n",
       "      <td>94.594595</td>\n",
       "      <td>90.540541</td>\n",
       "      <td>$585-630</td>\n",
       "    </tr>\n",
       "    <tr>\n",
       "      <th>Escola K</th>\n",
       "      <td>Particular</td>\n",
       "      <td>1800</td>\n",
       "      <td>$1,049,400.00</td>\n",
       "      <td>$583.00</td>\n",
       "      <td>83.955000</td>\n",
       "      <td>83.682222</td>\n",
       "      <td>96.611111</td>\n",
       "      <td>93.333333</td>\n",
       "      <td>90.333333</td>\n",
       "      <td>&lt;$585</td>\n",
       "    </tr>\n",
       "    <tr>\n",
       "      <th>Escola L</th>\n",
       "      <td>Publica</td>\n",
       "      <td>3999</td>\n",
       "      <td>$2,547,363.00</td>\n",
       "      <td>$637.00</td>\n",
       "      <td>80.744686</td>\n",
       "      <td>76.842711</td>\n",
       "      <td>80.220055</td>\n",
       "      <td>66.366592</td>\n",
       "      <td>52.988247</td>\n",
       "      <td>$630-645</td>\n",
       "    </tr>\n",
       "    <tr>\n",
       "      <th>Escola M</th>\n",
       "      <td>Publica</td>\n",
       "      <td>4761</td>\n",
       "      <td>$3,094,650.00</td>\n",
       "      <td>$650.00</td>\n",
       "      <td>80.966394</td>\n",
       "      <td>77.072464</td>\n",
       "      <td>81.222432</td>\n",
       "      <td>66.057551</td>\n",
       "      <td>53.539172</td>\n",
       "      <td>$645-680</td>\n",
       "    </tr>\n",
       "    <tr>\n",
       "      <th>Escola N</th>\n",
       "      <td>Publica</td>\n",
       "      <td>2739</td>\n",
       "      <td>$1,763,916.00</td>\n",
       "      <td>$644.00</td>\n",
       "      <td>80.746258</td>\n",
       "      <td>77.102592</td>\n",
       "      <td>79.299014</td>\n",
       "      <td>68.309602</td>\n",
       "      <td>54.289887</td>\n",
       "      <td>$630-645</td>\n",
       "    </tr>\n",
       "    <tr>\n",
       "      <th>Escola O</th>\n",
       "      <td>Particular</td>\n",
       "      <td>1625</td>\n",
       "      <td>$1,043,130.00</td>\n",
       "      <td>$641.93</td>\n",
       "      <td>83.810462</td>\n",
       "      <td>83.435077</td>\n",
       "      <td>97.292308</td>\n",
       "      <td>93.230769</td>\n",
       "      <td>90.892308</td>\n",
       "      <td>$630-645</td>\n",
       "    </tr>\n",
       "  </tbody>\n",
       "</table>\n",
       "</div>"
      ],
      "text/plain": [
       "            School Type  Total Students   Total Budget Budget Per Student  \\\n",
       "Nome_Escola                                                                 \n",
       "Escola A        Publica            2917  $1,910,635.00            $655.00   \n",
       "Escola B        Publica            2949  $1,884,411.00            $639.00   \n",
       "Escola C     Particular            1761  $1,056,600.00            $600.00   \n",
       "Escola D        Publica            4635  $3,022,020.00            $652.00   \n",
       "Escola E     Particular            1468    $917,500.00            $625.00   \n",
       "Escola F     Particular            2283  $1,319,574.00            $578.00   \n",
       "Escola G     Particular            1858  $1,081,356.00            $582.00   \n",
       "Escola H        Publica            4976  $3,124,928.00            $628.00   \n",
       "Escola I     Particular             427    $248,087.00            $581.00   \n",
       "Escola J     Particular             962    $585,858.00            $609.00   \n",
       "Escola K     Particular            1800  $1,049,400.00            $583.00   \n",
       "Escola L        Publica            3999  $2,547,363.00            $637.00   \n",
       "Escola M        Publica            4761  $3,094,650.00            $650.00   \n",
       "Escola N        Publica            2739  $1,763,916.00            $644.00   \n",
       "Escola O     Particular            1625  $1,043,130.00            $641.93   \n",
       "\n",
       "             Average Grade Approval Writing  \\\n",
       "Nome_Escola                                   \n",
       "Escola A                          81.182722   \n",
       "Escola B                          81.158020   \n",
       "Escola C                          83.725724   \n",
       "Escola D                          80.934412   \n",
       "Escola E                          83.816757   \n",
       "Escola F                          83.989488   \n",
       "Escola G                          83.975780   \n",
       "Escola H                          81.033963   \n",
       "Escola I                          83.814988   \n",
       "Escola J                          84.044699   \n",
       "Escola K                          83.955000   \n",
       "Escola L                          80.744686   \n",
       "Escola M                          80.966394   \n",
       "Escola N                          80.746258   \n",
       "Escola O                          83.810462   \n",
       "\n",
       "             Average Mathematics Approval Grade  % Approved Writing  \\\n",
       "Nome_Escola                                                           \n",
       "Escola A                              76.629414           81.316421   \n",
       "Escola B                              76.711767           80.739234   \n",
       "Escola C                              83.359455           95.854628   \n",
       "Escola D                              77.289752           80.862999   \n",
       "Escola E                              83.351499           97.138965   \n",
       "Escola F                              83.274201           96.539641   \n",
       "Escola G                              83.061895           97.039828   \n",
       "Escola H                              77.048432           81.933280   \n",
       "Escola I                              83.803279           96.252927   \n",
       "Escola J                              83.839917           95.945946   \n",
       "Escola K                              83.682222           96.611111   \n",
       "Escola L                              76.842711           80.220055   \n",
       "Escola M                              77.072464           81.222432   \n",
       "Escola N                              77.102592           79.299014   \n",
       "Escola O                              83.435077           97.292308   \n",
       "\n",
       "             % Approved Mathematics  % General Approved  \\\n",
       "Nome_Escola                                               \n",
       "Escola A                  65.683922           53.513884   \n",
       "Escola B                  65.988471           53.204476   \n",
       "Escola C                  93.867121           89.892107   \n",
       "Escola D                  66.752967           53.527508   \n",
       "Escola E                  93.392371           90.599455   \n",
       "Escola F                  93.867718           90.582567   \n",
       "Escola G                  94.133477           91.334769   \n",
       "Escola H                  66.680064           54.642283   \n",
       "Escola I                  92.505855           89.227166   \n",
       "Escola J                  94.594595           90.540541   \n",
       "Escola K                  93.333333           90.333333   \n",
       "Escola L                  66.366592           52.988247   \n",
       "Escola M                  66.057551           53.539172   \n",
       "Escola N                  68.309602           54.289887   \n",
       "Escola O                  93.230769           90.892308   \n",
       "\n",
       "            Spending Range Per Student  \n",
       "Nome_Escola                             \n",
       "Escola A                      $645-680  \n",
       "Escola B                      $630-645  \n",
       "Escola C                      $585-630  \n",
       "Escola D                      $645-680  \n",
       "Escola E                      $585-630  \n",
       "Escola F                         <$585  \n",
       "Escola G                         <$585  \n",
       "Escola H                      $585-630  \n",
       "Escola I                         <$585  \n",
       "Escola J                      $585-630  \n",
       "Escola K                         <$585  \n",
       "Escola L                      $630-645  \n",
       "Escola M                      $645-680  \n",
       "Escola N                      $630-645  \n",
       "Escola O                      $630-645  "
      ]
     },
     "execution_count": 66,
     "metadata": {},
     "output_type": "execute_result"
    }
   ],
   "source": [
    "school_performance_summary_df"
   ]
  },
  {
   "cell_type": "code",
   "execution_count": 67,
   "metadata": {
    "colab": {
     "base_uri": "https://localhost:8080/"
    },
    "id": "DsEUn1eK4N1R",
    "outputId": "b5043328-6a57-43da-c940-b4530c0771f0"
   },
   "outputs": [
    {
     "data": {
      "text/plain": [
       "Index(['School Type', 'Total Students', 'Total Budget', 'Budget Per Student',\n",
       "       'Average Grade Approval Writing', 'Average Mathematics Approval Grade',\n",
       "       '% Approved Writing', '% Approved Mathematics', '% General Approved',\n",
       "       'Spending Range Per Student'],\n",
       "      dtype='object')"
      ]
     },
     "execution_count": 67,
     "metadata": {},
     "output_type": "execute_result"
    }
   ],
   "source": [
    "school_performance_summary_df.columns"
   ]
  },
  {
   "cell_type": "code",
   "execution_count": 68,
   "metadata": {
    "colab": {
     "base_uri": "https://localhost:8080/"
    },
    "id": "m6yKmf574PpZ",
    "outputId": "d6dcad24-b393-44ca-d0b9-7bdb136818d4"
   },
   "outputs": [],
   "source": [
    "df_13_1 = school_performance_summary_df.groupby([\"Spending Range Per Student\"])[\"Average Grade Approval Writing\"].agg('mean')\n",
    "df_13_2 = school_performance_summary_df.groupby([\"Spending Range Per Student\"])[\"Average Mathematics Approval Grade\"].agg('mean')\n",
    "df_13_3 = school_performance_summary_df.groupby([\"Spending Range Per Student\"])[\"% Approved Writing\"].agg('mean')\n",
    "df_13_4 = school_performance_summary_df.groupby([\"Spending Range Per Student\"])[\"% Approved Mathematics\"].agg('mean')\n",
    "df_13_5 = school_performance_summary_df.groupby([\"Spending Range Per Student\"])[\"% General Approved\"].agg('mean')"
   ]
  },
  {
   "cell_type": "code",
   "execution_count": 69,
   "metadata": {
    "id": "GP9gyaA74SbK"
   },
   "outputs": [],
   "source": [
    "performance_expenses_df = pd.DataFrame({\"Average Writing\" : df_13_1.round(2),\n",
    "                                      \"Average Mathematics\": df_13_2.round(2),\n",
    "                                      \"% Approved Writing\": df_13_3.round(2),\n",
    "                                      \"% Approved Mathematics\": df_13_4.round(2),\n",
    "                                      \"% General Approved\": df_13_5.round(2)})"
   ]
  },
  {
   "cell_type": "code",
   "execution_count": 70,
   "metadata": {
    "colab": {
     "base_uri": "https://localhost:8080/",
     "height": 206
    },
    "id": "IkwR9lA_4Us3",
    "outputId": "4bbf967b-ea98-423b-d79d-8d1234424f20"
   },
   "outputs": [
    {
     "data": {
      "text/html": [
       "<div>\n",
       "<style scoped>\n",
       "    .dataframe tbody tr th:only-of-type {\n",
       "        vertical-align: middle;\n",
       "    }\n",
       "\n",
       "    .dataframe tbody tr th {\n",
       "        vertical-align: top;\n",
       "    }\n",
       "\n",
       "    .dataframe thead th {\n",
       "        text-align: right;\n",
       "    }\n",
       "</style>\n",
       "<table border=\"1\" class=\"dataframe\">\n",
       "  <thead>\n",
       "    <tr style=\"text-align: right;\">\n",
       "      <th></th>\n",
       "      <th>Average Writing</th>\n",
       "      <th>Average Mathematics</th>\n",
       "      <th>% Approved Writing</th>\n",
       "      <th>% Approved Mathematics</th>\n",
       "      <th>% General Approved</th>\n",
       "    </tr>\n",
       "    <tr>\n",
       "      <th>Spending Range Per Student</th>\n",
       "      <th></th>\n",
       "      <th></th>\n",
       "      <th></th>\n",
       "      <th></th>\n",
       "      <th></th>\n",
       "    </tr>\n",
       "  </thead>\n",
       "  <tbody>\n",
       "    <tr>\n",
       "      <th>&lt;$585</th>\n",
       "      <td>83.93</td>\n",
       "      <td>83.46</td>\n",
       "      <td>96.61</td>\n",
       "      <td>93.46</td>\n",
       "      <td>90.37</td>\n",
       "    </tr>\n",
       "    <tr>\n",
       "      <th>$585-630</th>\n",
       "      <td>83.16</td>\n",
       "      <td>81.90</td>\n",
       "      <td>92.72</td>\n",
       "      <td>87.13</td>\n",
       "      <td>81.42</td>\n",
       "    </tr>\n",
       "    <tr>\n",
       "      <th>$630-645</th>\n",
       "      <td>81.61</td>\n",
       "      <td>78.52</td>\n",
       "      <td>84.39</td>\n",
       "      <td>73.47</td>\n",
       "      <td>62.84</td>\n",
       "    </tr>\n",
       "    <tr>\n",
       "      <th>$645-680</th>\n",
       "      <td>81.03</td>\n",
       "      <td>77.00</td>\n",
       "      <td>81.13</td>\n",
       "      <td>66.16</td>\n",
       "      <td>53.53</td>\n",
       "    </tr>\n",
       "  </tbody>\n",
       "</table>\n",
       "</div>"
      ],
      "text/plain": [
       "                            Average Writing  Average Mathematics  \\\n",
       "Spending Range Per Student                                         \n",
       "<$585                                 83.93                83.46   \n",
       "$585-630                              83.16                81.90   \n",
       "$630-645                              81.61                78.52   \n",
       "$645-680                              81.03                77.00   \n",
       "\n",
       "                            % Approved Writing  % Approved Mathematics  \\\n",
       "Spending Range Per Student                                               \n",
       "<$585                                    96.61                   93.46   \n",
       "$585-630                                 92.72                   87.13   \n",
       "$630-645                                 84.39                   73.47   \n",
       "$645-680                                 81.13                   66.16   \n",
       "\n",
       "                            % General Approved  \n",
       "Spending Range Per Student                      \n",
       "<$585                                    90.37  \n",
       "$585-630                                 81.42  \n",
       "$630-645                                 62.84  \n",
       "$645-680                                 53.53  "
      ]
     },
     "execution_count": 70,
     "metadata": {},
     "output_type": "execute_result"
    }
   ],
   "source": [
    "performance_expenses_df"
   ]
  },
  {
   "cell_type": "markdown",
   "metadata": {
    "id": "D4QQlAIC1rve"
   },
   "source": [
    "> **14- Considering the size ranges (number of students) of schools as being: [0, 1000, 2000, 5000], which range results in students with better performance?**"
   ]
  },
  {
   "cell_type": "code",
   "execution_count": 71,
   "metadata": {
    "colab": {
     "base_uri": "https://localhost:8080/"
    },
    "id": "H9OorNWb4dET",
    "outputId": "e43b047a-8046-4c48-ff86-2a6c7bf252af"
   },
   "outputs": [
    {
     "data": {
      "text/plain": [
       "Index(['School Type', 'Total Students', 'Total Budget', 'Budget Per Student',\n",
       "       'Average Grade Approval Writing', 'Average Mathematics Approval Grade',\n",
       "       '% Approved Writing', '% Approved Mathematics', '% General Approved',\n",
       "       'Spending Range Per Student'],\n",
       "      dtype='object')"
      ]
     },
     "execution_count": 71,
     "metadata": {},
     "output_type": "execute_result"
    }
   ],
   "source": [
    "school_performance_summary_df.columns"
   ]
  },
  {
   "cell_type": "code",
   "execution_count": 72,
   "metadata": {
    "id": "0PTXTLrm4f8Z"
   },
   "outputs": [],
   "source": [
    "size_bins = [0, 1000, 2000, 5000]\n",
    "labels_sizes = [\"Small Size (<1000)\", \"Midsize (1000-2000)\", \"Large (2000-5000)\"]"
   ]
  },
  {
   "cell_type": "code",
   "execution_count": 73,
   "metadata": {
    "id": "BBM0Y1yH4h9Z"
   },
   "outputs": [],
   "source": [
    "school_performance_summary_df[\"School Size\"] = pd.cut(school_performance_summary_df[\"Total Students\"],\n",
    "                                                         size_bins,\n",
    "                                                         labels = labels_sizes,\n",
    "                                                         right = False)"
   ]
  },
  {
   "cell_type": "code",
   "execution_count": 74,
   "metadata": {
    "colab": {
     "base_uri": "https://localhost:8080/",
     "height": 815
    },
    "id": "9KQtBxYn4kmf",
    "outputId": "5f30e979-436c-4954-d460-dded70eee5c1"
   },
   "outputs": [
    {
     "data": {
      "text/html": [
       "<div>\n",
       "<style scoped>\n",
       "    .dataframe tbody tr th:only-of-type {\n",
       "        vertical-align: middle;\n",
       "    }\n",
       "\n",
       "    .dataframe tbody tr th {\n",
       "        vertical-align: top;\n",
       "    }\n",
       "\n",
       "    .dataframe thead th {\n",
       "        text-align: right;\n",
       "    }\n",
       "</style>\n",
       "<table border=\"1\" class=\"dataframe\">\n",
       "  <thead>\n",
       "    <tr style=\"text-align: right;\">\n",
       "      <th></th>\n",
       "      <th>School Type</th>\n",
       "      <th>Total Students</th>\n",
       "      <th>Total Budget</th>\n",
       "      <th>Budget Per Student</th>\n",
       "      <th>Average Grade Approval Writing</th>\n",
       "      <th>Average Mathematics Approval Grade</th>\n",
       "      <th>% Approved Writing</th>\n",
       "      <th>% Approved Mathematics</th>\n",
       "      <th>% General Approved</th>\n",
       "      <th>Spending Range Per Student</th>\n",
       "      <th>School Size</th>\n",
       "    </tr>\n",
       "    <tr>\n",
       "      <th>Nome_Escola</th>\n",
       "      <th></th>\n",
       "      <th></th>\n",
       "      <th></th>\n",
       "      <th></th>\n",
       "      <th></th>\n",
       "      <th></th>\n",
       "      <th></th>\n",
       "      <th></th>\n",
       "      <th></th>\n",
       "      <th></th>\n",
       "      <th></th>\n",
       "    </tr>\n",
       "  </thead>\n",
       "  <tbody>\n",
       "    <tr>\n",
       "      <th>Escola A</th>\n",
       "      <td>Publica</td>\n",
       "      <td>2917</td>\n",
       "      <td>$1,910,635.00</td>\n",
       "      <td>$655.00</td>\n",
       "      <td>81.182722</td>\n",
       "      <td>76.629414</td>\n",
       "      <td>81.316421</td>\n",
       "      <td>65.683922</td>\n",
       "      <td>53.513884</td>\n",
       "      <td>$645-680</td>\n",
       "      <td>Large (2000-5000)</td>\n",
       "    </tr>\n",
       "    <tr>\n",
       "      <th>Escola B</th>\n",
       "      <td>Publica</td>\n",
       "      <td>2949</td>\n",
       "      <td>$1,884,411.00</td>\n",
       "      <td>$639.00</td>\n",
       "      <td>81.158020</td>\n",
       "      <td>76.711767</td>\n",
       "      <td>80.739234</td>\n",
       "      <td>65.988471</td>\n",
       "      <td>53.204476</td>\n",
       "      <td>$630-645</td>\n",
       "      <td>Large (2000-5000)</td>\n",
       "    </tr>\n",
       "    <tr>\n",
       "      <th>Escola C</th>\n",
       "      <td>Particular</td>\n",
       "      <td>1761</td>\n",
       "      <td>$1,056,600.00</td>\n",
       "      <td>$600.00</td>\n",
       "      <td>83.725724</td>\n",
       "      <td>83.359455</td>\n",
       "      <td>95.854628</td>\n",
       "      <td>93.867121</td>\n",
       "      <td>89.892107</td>\n",
       "      <td>$585-630</td>\n",
       "      <td>Midsize (1000-2000)</td>\n",
       "    </tr>\n",
       "    <tr>\n",
       "      <th>Escola D</th>\n",
       "      <td>Publica</td>\n",
       "      <td>4635</td>\n",
       "      <td>$3,022,020.00</td>\n",
       "      <td>$652.00</td>\n",
       "      <td>80.934412</td>\n",
       "      <td>77.289752</td>\n",
       "      <td>80.862999</td>\n",
       "      <td>66.752967</td>\n",
       "      <td>53.527508</td>\n",
       "      <td>$645-680</td>\n",
       "      <td>Large (2000-5000)</td>\n",
       "    </tr>\n",
       "    <tr>\n",
       "      <th>Escola E</th>\n",
       "      <td>Particular</td>\n",
       "      <td>1468</td>\n",
       "      <td>$917,500.00</td>\n",
       "      <td>$625.00</td>\n",
       "      <td>83.816757</td>\n",
       "      <td>83.351499</td>\n",
       "      <td>97.138965</td>\n",
       "      <td>93.392371</td>\n",
       "      <td>90.599455</td>\n",
       "      <td>$585-630</td>\n",
       "      <td>Midsize (1000-2000)</td>\n",
       "    </tr>\n",
       "    <tr>\n",
       "      <th>Escola F</th>\n",
       "      <td>Particular</td>\n",
       "      <td>2283</td>\n",
       "      <td>$1,319,574.00</td>\n",
       "      <td>$578.00</td>\n",
       "      <td>83.989488</td>\n",
       "      <td>83.274201</td>\n",
       "      <td>96.539641</td>\n",
       "      <td>93.867718</td>\n",
       "      <td>90.582567</td>\n",
       "      <td>&lt;$585</td>\n",
       "      <td>Large (2000-5000)</td>\n",
       "    </tr>\n",
       "    <tr>\n",
       "      <th>Escola G</th>\n",
       "      <td>Particular</td>\n",
       "      <td>1858</td>\n",
       "      <td>$1,081,356.00</td>\n",
       "      <td>$582.00</td>\n",
       "      <td>83.975780</td>\n",
       "      <td>83.061895</td>\n",
       "      <td>97.039828</td>\n",
       "      <td>94.133477</td>\n",
       "      <td>91.334769</td>\n",
       "      <td>&lt;$585</td>\n",
       "      <td>Midsize (1000-2000)</td>\n",
       "    </tr>\n",
       "    <tr>\n",
       "      <th>Escola H</th>\n",
       "      <td>Publica</td>\n",
       "      <td>4976</td>\n",
       "      <td>$3,124,928.00</td>\n",
       "      <td>$628.00</td>\n",
       "      <td>81.033963</td>\n",
       "      <td>77.048432</td>\n",
       "      <td>81.933280</td>\n",
       "      <td>66.680064</td>\n",
       "      <td>54.642283</td>\n",
       "      <td>$585-630</td>\n",
       "      <td>Large (2000-5000)</td>\n",
       "    </tr>\n",
       "    <tr>\n",
       "      <th>Escola I</th>\n",
       "      <td>Particular</td>\n",
       "      <td>427</td>\n",
       "      <td>$248,087.00</td>\n",
       "      <td>$581.00</td>\n",
       "      <td>83.814988</td>\n",
       "      <td>83.803279</td>\n",
       "      <td>96.252927</td>\n",
       "      <td>92.505855</td>\n",
       "      <td>89.227166</td>\n",
       "      <td>&lt;$585</td>\n",
       "      <td>Small Size (&lt;1000)</td>\n",
       "    </tr>\n",
       "    <tr>\n",
       "      <th>Escola J</th>\n",
       "      <td>Particular</td>\n",
       "      <td>962</td>\n",
       "      <td>$585,858.00</td>\n",
       "      <td>$609.00</td>\n",
       "      <td>84.044699</td>\n",
       "      <td>83.839917</td>\n",
       "      <td>95.945946</td>\n",
       "      <td>94.594595</td>\n",
       "      <td>90.540541</td>\n",
       "      <td>$585-630</td>\n",
       "      <td>Small Size (&lt;1000)</td>\n",
       "    </tr>\n",
       "    <tr>\n",
       "      <th>Escola K</th>\n",
       "      <td>Particular</td>\n",
       "      <td>1800</td>\n",
       "      <td>$1,049,400.00</td>\n",
       "      <td>$583.00</td>\n",
       "      <td>83.955000</td>\n",
       "      <td>83.682222</td>\n",
       "      <td>96.611111</td>\n",
       "      <td>93.333333</td>\n",
       "      <td>90.333333</td>\n",
       "      <td>&lt;$585</td>\n",
       "      <td>Midsize (1000-2000)</td>\n",
       "    </tr>\n",
       "    <tr>\n",
       "      <th>Escola L</th>\n",
       "      <td>Publica</td>\n",
       "      <td>3999</td>\n",
       "      <td>$2,547,363.00</td>\n",
       "      <td>$637.00</td>\n",
       "      <td>80.744686</td>\n",
       "      <td>76.842711</td>\n",
       "      <td>80.220055</td>\n",
       "      <td>66.366592</td>\n",
       "      <td>52.988247</td>\n",
       "      <td>$630-645</td>\n",
       "      <td>Large (2000-5000)</td>\n",
       "    </tr>\n",
       "    <tr>\n",
       "      <th>Escola M</th>\n",
       "      <td>Publica</td>\n",
       "      <td>4761</td>\n",
       "      <td>$3,094,650.00</td>\n",
       "      <td>$650.00</td>\n",
       "      <td>80.966394</td>\n",
       "      <td>77.072464</td>\n",
       "      <td>81.222432</td>\n",
       "      <td>66.057551</td>\n",
       "      <td>53.539172</td>\n",
       "      <td>$645-680</td>\n",
       "      <td>Large (2000-5000)</td>\n",
       "    </tr>\n",
       "    <tr>\n",
       "      <th>Escola N</th>\n",
       "      <td>Publica</td>\n",
       "      <td>2739</td>\n",
       "      <td>$1,763,916.00</td>\n",
       "      <td>$644.00</td>\n",
       "      <td>80.746258</td>\n",
       "      <td>77.102592</td>\n",
       "      <td>79.299014</td>\n",
       "      <td>68.309602</td>\n",
       "      <td>54.289887</td>\n",
       "      <td>$630-645</td>\n",
       "      <td>Large (2000-5000)</td>\n",
       "    </tr>\n",
       "    <tr>\n",
       "      <th>Escola O</th>\n",
       "      <td>Particular</td>\n",
       "      <td>1625</td>\n",
       "      <td>$1,043,130.00</td>\n",
       "      <td>$641.93</td>\n",
       "      <td>83.810462</td>\n",
       "      <td>83.435077</td>\n",
       "      <td>97.292308</td>\n",
       "      <td>93.230769</td>\n",
       "      <td>90.892308</td>\n",
       "      <td>$630-645</td>\n",
       "      <td>Midsize (1000-2000)</td>\n",
       "    </tr>\n",
       "  </tbody>\n",
       "</table>\n",
       "</div>"
      ],
      "text/plain": [
       "            School Type  Total Students   Total Budget Budget Per Student  \\\n",
       "Nome_Escola                                                                 \n",
       "Escola A        Publica            2917  $1,910,635.00            $655.00   \n",
       "Escola B        Publica            2949  $1,884,411.00            $639.00   \n",
       "Escola C     Particular            1761  $1,056,600.00            $600.00   \n",
       "Escola D        Publica            4635  $3,022,020.00            $652.00   \n",
       "Escola E     Particular            1468    $917,500.00            $625.00   \n",
       "Escola F     Particular            2283  $1,319,574.00            $578.00   \n",
       "Escola G     Particular            1858  $1,081,356.00            $582.00   \n",
       "Escola H        Publica            4976  $3,124,928.00            $628.00   \n",
       "Escola I     Particular             427    $248,087.00            $581.00   \n",
       "Escola J     Particular             962    $585,858.00            $609.00   \n",
       "Escola K     Particular            1800  $1,049,400.00            $583.00   \n",
       "Escola L        Publica            3999  $2,547,363.00            $637.00   \n",
       "Escola M        Publica            4761  $3,094,650.00            $650.00   \n",
       "Escola N        Publica            2739  $1,763,916.00            $644.00   \n",
       "Escola O     Particular            1625  $1,043,130.00            $641.93   \n",
       "\n",
       "             Average Grade Approval Writing  \\\n",
       "Nome_Escola                                   \n",
       "Escola A                          81.182722   \n",
       "Escola B                          81.158020   \n",
       "Escola C                          83.725724   \n",
       "Escola D                          80.934412   \n",
       "Escola E                          83.816757   \n",
       "Escola F                          83.989488   \n",
       "Escola G                          83.975780   \n",
       "Escola H                          81.033963   \n",
       "Escola I                          83.814988   \n",
       "Escola J                          84.044699   \n",
       "Escola K                          83.955000   \n",
       "Escola L                          80.744686   \n",
       "Escola M                          80.966394   \n",
       "Escola N                          80.746258   \n",
       "Escola O                          83.810462   \n",
       "\n",
       "             Average Mathematics Approval Grade  % Approved Writing  \\\n",
       "Nome_Escola                                                           \n",
       "Escola A                              76.629414           81.316421   \n",
       "Escola B                              76.711767           80.739234   \n",
       "Escola C                              83.359455           95.854628   \n",
       "Escola D                              77.289752           80.862999   \n",
       "Escola E                              83.351499           97.138965   \n",
       "Escola F                              83.274201           96.539641   \n",
       "Escola G                              83.061895           97.039828   \n",
       "Escola H                              77.048432           81.933280   \n",
       "Escola I                              83.803279           96.252927   \n",
       "Escola J                              83.839917           95.945946   \n",
       "Escola K                              83.682222           96.611111   \n",
       "Escola L                              76.842711           80.220055   \n",
       "Escola M                              77.072464           81.222432   \n",
       "Escola N                              77.102592           79.299014   \n",
       "Escola O                              83.435077           97.292308   \n",
       "\n",
       "             % Approved Mathematics  % General Approved  \\\n",
       "Nome_Escola                                               \n",
       "Escola A                  65.683922           53.513884   \n",
       "Escola B                  65.988471           53.204476   \n",
       "Escola C                  93.867121           89.892107   \n",
       "Escola D                  66.752967           53.527508   \n",
       "Escola E                  93.392371           90.599455   \n",
       "Escola F                  93.867718           90.582567   \n",
       "Escola G                  94.133477           91.334769   \n",
       "Escola H                  66.680064           54.642283   \n",
       "Escola I                  92.505855           89.227166   \n",
       "Escola J                  94.594595           90.540541   \n",
       "Escola K                  93.333333           90.333333   \n",
       "Escola L                  66.366592           52.988247   \n",
       "Escola M                  66.057551           53.539172   \n",
       "Escola N                  68.309602           54.289887   \n",
       "Escola O                  93.230769           90.892308   \n",
       "\n",
       "            Spending Range Per Student          School Size  \n",
       "Nome_Escola                                                  \n",
       "Escola A                      $645-680    Large (2000-5000)  \n",
       "Escola B                      $630-645    Large (2000-5000)  \n",
       "Escola C                      $585-630  Midsize (1000-2000)  \n",
       "Escola D                      $645-680    Large (2000-5000)  \n",
       "Escola E                      $585-630  Midsize (1000-2000)  \n",
       "Escola F                         <$585    Large (2000-5000)  \n",
       "Escola G                         <$585  Midsize (1000-2000)  \n",
       "Escola H                      $585-630    Large (2000-5000)  \n",
       "Escola I                         <$585   Small Size (<1000)  \n",
       "Escola J                      $585-630   Small Size (<1000)  \n",
       "Escola K                         <$585  Midsize (1000-2000)  \n",
       "Escola L                      $630-645    Large (2000-5000)  \n",
       "Escola M                      $645-680    Large (2000-5000)  \n",
       "Escola N                      $630-645    Large (2000-5000)  \n",
       "Escola O                      $630-645  Midsize (1000-2000)  "
      ]
     },
     "execution_count": 74,
     "metadata": {},
     "output_type": "execute_result"
    }
   ],
   "source": [
    "school_performance_summary_df"
   ]
  },
  {
   "cell_type": "code",
   "execution_count": 75,
   "metadata": {
    "colab": {
     "base_uri": "https://localhost:8080/"
    },
    "id": "pRn9lZ3k4nzk",
    "outputId": "ed73dbe8-6ad6-46eb-fcf5-8f7c97969a07"
   },
   "outputs": [],
   "source": [
    "df_14_1 = school_performance_summary_df.groupby([\"School Size\"])[\"Average Grade Approval Writing\"].agg('mean')\n",
    "df_14_2 = school_performance_summary_df.groupby([\"School Size\"])[\"Average Mathematics Approval Grade\"].agg('mean')\n",
    "df_14_3 = school_performance_summary_df.groupby([\"School Size\"])[\"% Approved Writing\"].agg('mean')\n",
    "df_14_4 = school_performance_summary_df.groupby([\"School Size\"])[\"% Approved Mathematics\"].agg('mean')\n",
    "df_14_5 = school_performance_summary_df.groupby([\"School Size\"])[\"% General Approved\"].agg('mean')"
   ]
  },
  {
   "cell_type": "code",
   "execution_count": 76,
   "metadata": {
    "id": "Zq0Ka_sW4poP"
   },
   "outputs": [],
   "source": [
    "performance_size_df = pd.DataFrame({\"Average Writing\" : df_14_1.round(2),\n",
    "                                      \"Average Mathematics\": df_14_2.round(2),\n",
    "                                      \"% Approved Writing\": df_14_3.round(2),\n",
    "                                      \"% Approved Mathematics\": df_14_4.round(2),\n",
    "                                      \"% General Approved\": df_14_5.round(2)})"
   ]
  },
  {
   "cell_type": "code",
   "execution_count": 77,
   "metadata": {
    "colab": {
     "base_uri": "https://localhost:8080/",
     "height": 175
    },
    "id": "5BVUEP3t4tZL",
    "outputId": "178fa6f3-89a6-4f7c-ab0a-881d00f3c3ea"
   },
   "outputs": [
    {
     "data": {
      "text/html": [
       "<div>\n",
       "<style scoped>\n",
       "    .dataframe tbody tr th:only-of-type {\n",
       "        vertical-align: middle;\n",
       "    }\n",
       "\n",
       "    .dataframe tbody tr th {\n",
       "        vertical-align: top;\n",
       "    }\n",
       "\n",
       "    .dataframe thead th {\n",
       "        text-align: right;\n",
       "    }\n",
       "</style>\n",
       "<table border=\"1\" class=\"dataframe\">\n",
       "  <thead>\n",
       "    <tr style=\"text-align: right;\">\n",
       "      <th></th>\n",
       "      <th>Average Writing</th>\n",
       "      <th>Average Mathematics</th>\n",
       "      <th>% Approved Writing</th>\n",
       "      <th>% Approved Mathematics</th>\n",
       "      <th>% General Approved</th>\n",
       "    </tr>\n",
       "    <tr>\n",
       "      <th>School Size</th>\n",
       "      <th></th>\n",
       "      <th></th>\n",
       "      <th></th>\n",
       "      <th></th>\n",
       "      <th></th>\n",
       "    </tr>\n",
       "  </thead>\n",
       "  <tbody>\n",
       "    <tr>\n",
       "      <th>Small Size (&lt;1000)</th>\n",
       "      <td>83.93</td>\n",
       "      <td>83.82</td>\n",
       "      <td>96.10</td>\n",
       "      <td>93.55</td>\n",
       "      <td>89.88</td>\n",
       "    </tr>\n",
       "    <tr>\n",
       "      <th>Midsize (1000-2000)</th>\n",
       "      <td>83.86</td>\n",
       "      <td>83.38</td>\n",
       "      <td>96.79</td>\n",
       "      <td>93.59</td>\n",
       "      <td>90.61</td>\n",
       "    </tr>\n",
       "    <tr>\n",
       "      <th>Large (2000-5000)</th>\n",
       "      <td>81.34</td>\n",
       "      <td>77.75</td>\n",
       "      <td>82.77</td>\n",
       "      <td>69.96</td>\n",
       "      <td>58.29</td>\n",
       "    </tr>\n",
       "  </tbody>\n",
       "</table>\n",
       "</div>"
      ],
      "text/plain": [
       "                     Average Writing  Average Mathematics  % Approved Writing  \\\n",
       "School Size                                                                     \n",
       "Small Size (<1000)             83.93                83.82               96.10   \n",
       "Midsize (1000-2000)            83.86                83.38               96.79   \n",
       "Large (2000-5000)              81.34                77.75               82.77   \n",
       "\n",
       "                     % Approved Mathematics  % General Approved  \n",
       "School Size                                                      \n",
       "Small Size (<1000)                    93.55               89.88  \n",
       "Midsize (1000-2000)                   93.59               90.61  \n",
       "Large (2000-5000)                     69.96               58.29  "
      ]
     },
     "execution_count": 77,
     "metadata": {},
     "output_type": "execute_result"
    }
   ],
   "source": [
    "performance_size_df"
   ]
  },
  {
   "cell_type": "markdown",
   "metadata": {
    "id": "nhrxLd8f1tKV"
   },
   "source": [
    "> **15- What is the impact of the type of school on student performance?**"
   ]
  },
  {
   "cell_type": "code",
   "execution_count": 78,
   "metadata": {
    "colab": {
     "base_uri": "https://localhost:8080/"
    },
    "id": "5cGTfrfI1xZf",
    "outputId": "9063310e-c255-4582-b28f-32002fa62614"
   },
   "outputs": [
    {
     "data": {
      "text/plain": [
       "Index(['School Type', 'Total Students', 'Total Budget', 'Budget Per Student',\n",
       "       'Average Grade Approval Writing', 'Average Mathematics Approval Grade',\n",
       "       '% Approved Writing', '% Approved Mathematics', '% General Approved',\n",
       "       'Spending Range Per Student', 'School Size'],\n",
       "      dtype='object')"
      ]
     },
     "execution_count": 78,
     "metadata": {},
     "output_type": "execute_result"
    }
   ],
   "source": [
    "school_performance_summary_df.columns"
   ]
  },
  {
   "cell_type": "code",
   "execution_count": 79,
   "metadata": {
    "colab": {
     "base_uri": "https://localhost:8080/"
    },
    "id": "vPhtvjIp1x9s",
    "outputId": "fa226afa-2caf-4ce3-c1f6-20c3b745d805"
   },
   "outputs": [],
   "source": [
    "df_15_1 = school_performance_summary_df.groupby([\"School Type\"])[\"Average Grade Approval Writing\"].agg('mean')\n",
    "df_15_2 = school_performance_summary_df.groupby([\"School Type\"])[\"Average Mathematics Approval Grade\"].agg('mean')\n",
    "df_15_3 = school_performance_summary_df.groupby([\"School Type\"])[\"% Approved Writing\"].agg('mean')\n",
    "df_15_4 = school_performance_summary_df.groupby([\"School Type\"])[\"% Approved Mathematics\"].agg('mean')\n",
    "df_15_5 = school_performance_summary_df.groupby([\"School Type\"])[\"% General Approved\"].agg('mean')"
   ]
  },
  {
   "cell_type": "code",
   "execution_count": 80,
   "metadata": {
    "id": "iHIQHZvx1xiD"
   },
   "outputs": [],
   "source": [
    "school_type_performance = pd.DataFrame({\"Average Writing\" : df_15_1.round(2),\n",
    "                                      \"Average Mathematics\": df_15_2.round(2),\n",
    "                                      \"% Approved Writing\": df_15_3.round(2),\n",
    "                                      \"% Approved Mathematics\": df_15_4.round(2),\n",
    "                                      \"% General Approved\": df_15_5.round(2)})"
   ]
  },
  {
   "cell_type": "code",
   "execution_count": 81,
   "metadata": {
    "colab": {
     "base_uri": "https://localhost:8080/",
     "height": 143
    },
    "id": "JBNQm-Pp13Y2",
    "outputId": "5473f1c2-7c67-4cc4-9fba-4681a61e556b"
   },
   "outputs": [
    {
     "data": {
      "text/html": [
       "<div>\n",
       "<style scoped>\n",
       "    .dataframe tbody tr th:only-of-type {\n",
       "        vertical-align: middle;\n",
       "    }\n",
       "\n",
       "    .dataframe tbody tr th {\n",
       "        vertical-align: top;\n",
       "    }\n",
       "\n",
       "    .dataframe thead th {\n",
       "        text-align: right;\n",
       "    }\n",
       "</style>\n",
       "<table border=\"1\" class=\"dataframe\">\n",
       "  <thead>\n",
       "    <tr style=\"text-align: right;\">\n",
       "      <th></th>\n",
       "      <th>Average Writing</th>\n",
       "      <th>Average Mathematics</th>\n",
       "      <th>% Approved Writing</th>\n",
       "      <th>% Approved Mathematics</th>\n",
       "      <th>% General Approved</th>\n",
       "    </tr>\n",
       "    <tr>\n",
       "      <th>School Type</th>\n",
       "      <th></th>\n",
       "      <th></th>\n",
       "      <th></th>\n",
       "      <th></th>\n",
       "      <th></th>\n",
       "    </tr>\n",
       "  </thead>\n",
       "  <tbody>\n",
       "    <tr>\n",
       "      <th>Particular</th>\n",
       "      <td>83.89</td>\n",
       "      <td>83.48</td>\n",
       "      <td>96.58</td>\n",
       "      <td>93.62</td>\n",
       "      <td>90.43</td>\n",
       "    </tr>\n",
       "    <tr>\n",
       "      <th>Publica</th>\n",
       "      <td>80.97</td>\n",
       "      <td>76.96</td>\n",
       "      <td>80.80</td>\n",
       "      <td>66.55</td>\n",
       "      <td>53.67</td>\n",
       "    </tr>\n",
       "  </tbody>\n",
       "</table>\n",
       "</div>"
      ],
      "text/plain": [
       "             Average Writing  Average Mathematics  % Approved Writing  \\\n",
       "School Type                                                             \n",
       "Particular             83.89                83.48               96.58   \n",
       "Publica                80.97                76.96               80.80   \n",
       "\n",
       "             % Approved Mathematics  % General Approved  \n",
       "School Type                                              \n",
       "Particular                    93.62               90.43  \n",
       "Publica                       66.55               53.67  "
      ]
     },
     "execution_count": 81,
     "metadata": {},
     "output_type": "execute_result"
    }
   ],
   "source": [
    "school_type_performance"
   ]
  },
  {
   "cell_type": "code",
   "execution_count": 82,
   "metadata": {
    "id": "4j4HP5sd13Mi"
   },
   "outputs": [],
   "source": [
    "school_performance_summary_df.to_excel('dataset/df_resumo_performance_escolar.xlsx')"
   ]
  }
 ],
 "metadata": {
  "colab": {
   "provenance": []
  },
  "kernelspec": {
   "display_name": "Python 3 (ipykernel)",
   "language": "python",
   "name": "python3"
  },
  "language_info": {
   "codemirror_mode": {
    "name": "ipython",
    "version": 3
   },
   "file_extension": ".py",
   "mimetype": "text/x-python",
   "name": "python",
   "nbconvert_exporter": "python",
   "pygments_lexer": "ipython3",
   "version": "3.11.5"
  }
 },
 "nbformat": 4,
 "nbformat_minor": 1
}
