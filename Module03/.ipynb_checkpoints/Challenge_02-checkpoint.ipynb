{
 "cells": [
  {
   "cell_type": "markdown",
   "metadata": {
    "id": "e6Yn9grHC_wU"
   },
   "source": [
    "# Big Data Real-Time Analytics with Python and Spark"
   ]
  },
  {
   "cell_type": "markdown",
   "metadata": {
    "id": "gHXVnWJmC_he"
   },
   "source": [
    "## Data Manipulation in Python with Pandas"
   ]
  },
  {
   "cell_type": "markdown",
   "metadata": {
    "id": "GjUwHuOIC_ep"
   },
   "source": [
    "### Case Study Challenge 2"
   ]
  },
  {
   "cell_type": "markdown",
   "metadata": {
    "id": "gV7K1ZeITSfR"
   },
   "source": [
    "**Problem Definition and Data Source**\n",
    "\n",
    "In this Case Study the objective is to carry out a detailed school data analysis process by crossing, comparing and summarizing different types of information.\n",
    "\n",
    "In total, 25 business questions will be answered that will require analyzing the data from different perspectives. Pandas will be the only tool used.\n",
    "\n",
    "For this work we will use fictitious data, but which could represent real data. The data was generated from the Realistic Data Generator, at the address below:\n",
    "\n",
    "https://www.mockaroo.com"
   ]
  },
  {
   "cell_type": "code",
   "execution_count": 15,
   "metadata": {
    "id": "iqDBjDeSXGN7"
   },
   "outputs": [],
   "source": [
    "import pandas as pd"
   ]
  },
  {
   "cell_type": "markdown",
   "metadata": {
    "id": "-EqVQJ_AXOXc"
   },
   "source": [
    "#### Loading the Data"
   ]
  },
  {
   "cell_type": "code",
   "execution_count": 16,
   "metadata": {
    "id": "_nNxLhFwXN7R"
   },
   "outputs": [],
   "source": [
    "schools_data = pd.read_csv(\"dataset/dataset_escolas.csv\")"
   ]
  },
  {
   "cell_type": "code",
   "execution_count": 17,
   "metadata": {
    "colab": {
     "base_uri": "https://localhost:8080/"
    },
    "id": "X4GCJhAoXgQa",
    "outputId": "f6895b95-9cbd-4ecf-95eb-c817a5bf1b1d"
   },
   "outputs": [
    {
     "data": {
      "text/plain": [
       "(15, 5)"
      ]
     },
     "execution_count": 17,
     "metadata": {},
     "output_type": "execute_result"
    }
   ],
   "source": [
    "schools_data.shape"
   ]
  },
  {
   "cell_type": "code",
   "execution_count": 18,
   "metadata": {
    "colab": {
     "base_uri": "https://localhost:8080/",
     "height": 206
    },
    "id": "YfmM6T3jXh_S",
    "outputId": "ced7f733-4c24-4930-ce26-fd65c217dff5"
   },
   "outputs": [
    {
     "data": {
      "text/html": [
       "<div>\n",
       "<style scoped>\n",
       "    .dataframe tbody tr th:only-of-type {\n",
       "        vertical-align: middle;\n",
       "    }\n",
       "\n",
       "    .dataframe tbody tr th {\n",
       "        vertical-align: top;\n",
       "    }\n",
       "\n",
       "    .dataframe thead th {\n",
       "        text-align: right;\n",
       "    }\n",
       "</style>\n",
       "<table border=\"1\" class=\"dataframe\">\n",
       "  <thead>\n",
       "    <tr style=\"text-align: right;\">\n",
       "      <th></th>\n",
       "      <th>ID_Escola</th>\n",
       "      <th>Nome_Escola</th>\n",
       "      <th>Tipo_Escola</th>\n",
       "      <th>Numero_Alunos</th>\n",
       "      <th>Orcamento_Anual</th>\n",
       "    </tr>\n",
       "  </thead>\n",
       "  <tbody>\n",
       "    <tr>\n",
       "      <th>0</th>\n",
       "      <td>0</td>\n",
       "      <td>Escola A</td>\n",
       "      <td>Publica</td>\n",
       "      <td>2917</td>\n",
       "      <td>1910635</td>\n",
       "    </tr>\n",
       "    <tr>\n",
       "      <th>1</th>\n",
       "      <td>1</td>\n",
       "      <td>Escola B</td>\n",
       "      <td>Publica</td>\n",
       "      <td>2949</td>\n",
       "      <td>1884411</td>\n",
       "    </tr>\n",
       "    <tr>\n",
       "      <th>2</th>\n",
       "      <td>2</td>\n",
       "      <td>Escola C</td>\n",
       "      <td>Particular</td>\n",
       "      <td>1761</td>\n",
       "      <td>1056600</td>\n",
       "    </tr>\n",
       "    <tr>\n",
       "      <th>3</th>\n",
       "      <td>3</td>\n",
       "      <td>Escola D</td>\n",
       "      <td>Publica</td>\n",
       "      <td>4635</td>\n",
       "      <td>3022020</td>\n",
       "    </tr>\n",
       "    <tr>\n",
       "      <th>4</th>\n",
       "      <td>4</td>\n",
       "      <td>Escola E</td>\n",
       "      <td>Particular</td>\n",
       "      <td>1468</td>\n",
       "      <td>917500</td>\n",
       "    </tr>\n",
       "  </tbody>\n",
       "</table>\n",
       "</div>"
      ],
      "text/plain": [
       "   ID_Escola Nome_Escola Tipo_Escola  Numero_Alunos  Orcamento_Anual\n",
       "0          0    Escola A     Publica           2917          1910635\n",
       "1          1    Escola B     Publica           2949          1884411\n",
       "2          2    Escola C  Particular           1761          1056600\n",
       "3          3    Escola D     Publica           4635          3022020\n",
       "4          4    Escola E  Particular           1468           917500"
      ]
     },
     "execution_count": 18,
     "metadata": {},
     "output_type": "execute_result"
    }
   ],
   "source": [
    "schools_data.head()"
   ]
  },
  {
   "cell_type": "code",
   "execution_count": 19,
   "metadata": {
    "id": "dbOehgKrXk94"
   },
   "outputs": [],
   "source": [
    "student_data = pd.read_csv(\"dataset/dataset_estudantes.csv\")"
   ]
  },
  {
   "cell_type": "code",
   "execution_count": 20,
   "metadata": {
    "colab": {
     "base_uri": "https://localhost:8080/"
    },
    "id": "c3BTYm1BYjjF",
    "outputId": "38f2ba4e-9323-473b-a333-be85e3fddd91"
   },
   "outputs": [
    {
     "data": {
      "text/plain": [
       "(39160, 7)"
      ]
     },
     "execution_count": 20,
     "metadata": {},
     "output_type": "execute_result"
    }
   ],
   "source": [
    "student_data.shape"
   ]
  },
  {
   "cell_type": "code",
   "execution_count": 21,
   "metadata": {
    "colab": {
     "base_uri": "https://localhost:8080/",
     "height": 206
    },
    "id": "34rcFJ0TYktz",
    "outputId": "c8289d9d-aaab-4df6-c60d-e578df567e29"
   },
   "outputs": [
    {
     "data": {
      "text/html": [
       "<div>\n",
       "<style scoped>\n",
       "    .dataframe tbody tr th:only-of-type {\n",
       "        vertical-align: middle;\n",
       "    }\n",
       "\n",
       "    .dataframe tbody tr th {\n",
       "        vertical-align: top;\n",
       "    }\n",
       "\n",
       "    .dataframe thead th {\n",
       "        text-align: right;\n",
       "    }\n",
       "</style>\n",
       "<table border=\"1\" class=\"dataframe\">\n",
       "  <thead>\n",
       "    <tr style=\"text-align: right;\">\n",
       "      <th></th>\n",
       "      <th>ID_Estudante</th>\n",
       "      <th>Nome_Estudante</th>\n",
       "      <th>Genero</th>\n",
       "      <th>Serie</th>\n",
       "      <th>Nome_Escola</th>\n",
       "      <th>Nota_Redacao</th>\n",
       "      <th>Nota_Matematica</th>\n",
       "    </tr>\n",
       "  </thead>\n",
       "  <tbody>\n",
       "    <tr>\n",
       "      <th>0</th>\n",
       "      <td>0</td>\n",
       "      <td>Kevin Bradley</td>\n",
       "      <td>M</td>\n",
       "      <td>6</td>\n",
       "      <td>Escola A</td>\n",
       "      <td>66</td>\n",
       "      <td>79</td>\n",
       "    </tr>\n",
       "    <tr>\n",
       "      <th>1</th>\n",
       "      <td>1</td>\n",
       "      <td>Paul Smith</td>\n",
       "      <td>M</td>\n",
       "      <td>9</td>\n",
       "      <td>Escola A</td>\n",
       "      <td>94</td>\n",
       "      <td>61</td>\n",
       "    </tr>\n",
       "    <tr>\n",
       "      <th>2</th>\n",
       "      <td>2</td>\n",
       "      <td>John Rodriguez</td>\n",
       "      <td>M</td>\n",
       "      <td>9</td>\n",
       "      <td>Escola A</td>\n",
       "      <td>90</td>\n",
       "      <td>60</td>\n",
       "    </tr>\n",
       "    <tr>\n",
       "      <th>3</th>\n",
       "      <td>3</td>\n",
       "      <td>Oliver Scott</td>\n",
       "      <td>M</td>\n",
       "      <td>9</td>\n",
       "      <td>Escola A</td>\n",
       "      <td>67</td>\n",
       "      <td>58</td>\n",
       "    </tr>\n",
       "    <tr>\n",
       "      <th>4</th>\n",
       "      <td>4</td>\n",
       "      <td>William Ray</td>\n",
       "      <td>F</td>\n",
       "      <td>6</td>\n",
       "      <td>Escola A</td>\n",
       "      <td>97</td>\n",
       "      <td>84</td>\n",
       "    </tr>\n",
       "  </tbody>\n",
       "</table>\n",
       "</div>"
      ],
      "text/plain": [
       "   ID_Estudante  Nome_Estudante Genero  Serie Nome_Escola  Nota_Redacao  \\\n",
       "0             0   Kevin Bradley      M      6    Escola A            66   \n",
       "1             1      Paul Smith      M      9    Escola A            94   \n",
       "2             2  John Rodriguez      M      9    Escola A            90   \n",
       "3             3    Oliver Scott      M      9    Escola A            67   \n",
       "4             4     William Ray      F      6    Escola A            97   \n",
       "\n",
       "   Nota_Matematica  \n",
       "0               79  \n",
       "1               61  \n",
       "2               60  \n",
       "3               58  \n",
       "4               84  "
      ]
     },
     "execution_count": 21,
     "metadata": {},
     "output_type": "execute_result"
    }
   ],
   "source": [
    "student_data.head()"
   ]
  },
  {
   "cell_type": "code",
   "execution_count": 23,
   "metadata": {
    "id": "iNYsRVw6YoDI"
   },
   "outputs": [],
   "source": [
    "full_data = pd.merge(dados_estudantes, dados_escolas, how = \"left\", on = [\"Nome_Escola\", \"Nome_Escola\"])"
   ]
  },
  {
   "cell_type": "code",
   "execution_count": 24,
   "metadata": {
    "colab": {
     "base_uri": "https://localhost:8080/"
    },
    "id": "RnWK7Y9YYp_c",
    "outputId": "8814475e-0059-4b76-d236-7b600594c8aa"
   },
   "outputs": [
    {
     "data": {
      "text/plain": [
       "(39160, 11)"
      ]
     },
     "execution_count": 24,
     "metadata": {},
     "output_type": "execute_result"
    }
   ],
   "source": [
    "full_data.shape"
   ]
  },
  {
   "cell_type": "code",
   "execution_count": 25,
   "metadata": {
    "colab": {
     "base_uri": "https://localhost:8080/",
     "height": 206
    },
    "id": "63potOwcYrTS",
    "outputId": "30658267-a84f-441b-b581-49614ad0e544"
   },
   "outputs": [
    {
     "data": {
      "text/html": [
       "<div>\n",
       "<style scoped>\n",
       "    .dataframe tbody tr th:only-of-type {\n",
       "        vertical-align: middle;\n",
       "    }\n",
       "\n",
       "    .dataframe tbody tr th {\n",
       "        vertical-align: top;\n",
       "    }\n",
       "\n",
       "    .dataframe thead th {\n",
       "        text-align: right;\n",
       "    }\n",
       "</style>\n",
       "<table border=\"1\" class=\"dataframe\">\n",
       "  <thead>\n",
       "    <tr style=\"text-align: right;\">\n",
       "      <th></th>\n",
       "      <th>ID_Estudante</th>\n",
       "      <th>Nome_Estudante</th>\n",
       "      <th>Genero</th>\n",
       "      <th>Serie</th>\n",
       "      <th>Nome_Escola</th>\n",
       "      <th>Nota_Redacao</th>\n",
       "      <th>Nota_Matematica</th>\n",
       "      <th>ID_Escola</th>\n",
       "      <th>Tipo_Escola</th>\n",
       "      <th>Numero_Alunos</th>\n",
       "      <th>Orcamento_Anual</th>\n",
       "    </tr>\n",
       "  </thead>\n",
       "  <tbody>\n",
       "    <tr>\n",
       "      <th>0</th>\n",
       "      <td>0</td>\n",
       "      <td>Kevin Bradley</td>\n",
       "      <td>M</td>\n",
       "      <td>6</td>\n",
       "      <td>Escola A</td>\n",
       "      <td>66</td>\n",
       "      <td>79</td>\n",
       "      <td>0</td>\n",
       "      <td>Publica</td>\n",
       "      <td>2917</td>\n",
       "      <td>1910635</td>\n",
       "    </tr>\n",
       "    <tr>\n",
       "      <th>1</th>\n",
       "      <td>1</td>\n",
       "      <td>Paul Smith</td>\n",
       "      <td>M</td>\n",
       "      <td>9</td>\n",
       "      <td>Escola A</td>\n",
       "      <td>94</td>\n",
       "      <td>61</td>\n",
       "      <td>0</td>\n",
       "      <td>Publica</td>\n",
       "      <td>2917</td>\n",
       "      <td>1910635</td>\n",
       "    </tr>\n",
       "    <tr>\n",
       "      <th>2</th>\n",
       "      <td>2</td>\n",
       "      <td>John Rodriguez</td>\n",
       "      <td>M</td>\n",
       "      <td>9</td>\n",
       "      <td>Escola A</td>\n",
       "      <td>90</td>\n",
       "      <td>60</td>\n",
       "      <td>0</td>\n",
       "      <td>Publica</td>\n",
       "      <td>2917</td>\n",
       "      <td>1910635</td>\n",
       "    </tr>\n",
       "    <tr>\n",
       "      <th>3</th>\n",
       "      <td>3</td>\n",
       "      <td>Oliver Scott</td>\n",
       "      <td>M</td>\n",
       "      <td>9</td>\n",
       "      <td>Escola A</td>\n",
       "      <td>67</td>\n",
       "      <td>58</td>\n",
       "      <td>0</td>\n",
       "      <td>Publica</td>\n",
       "      <td>2917</td>\n",
       "      <td>1910635</td>\n",
       "    </tr>\n",
       "    <tr>\n",
       "      <th>4</th>\n",
       "      <td>4</td>\n",
       "      <td>William Ray</td>\n",
       "      <td>F</td>\n",
       "      <td>6</td>\n",
       "      <td>Escola A</td>\n",
       "      <td>97</td>\n",
       "      <td>84</td>\n",
       "      <td>0</td>\n",
       "      <td>Publica</td>\n",
       "      <td>2917</td>\n",
       "      <td>1910635</td>\n",
       "    </tr>\n",
       "  </tbody>\n",
       "</table>\n",
       "</div>"
      ],
      "text/plain": [
       "   ID_Estudante  Nome_Estudante Genero  Serie Nome_Escola  Nota_Redacao  \\\n",
       "0             0   Kevin Bradley      M      6    Escola A            66   \n",
       "1             1      Paul Smith      M      9    Escola A            94   \n",
       "2             2  John Rodriguez      M      9    Escola A            90   \n",
       "3             3    Oliver Scott      M      9    Escola A            67   \n",
       "4             4     William Ray      F      6    Escola A            97   \n",
       "\n",
       "   Nota_Matematica  ID_Escola Tipo_Escola  Numero_Alunos  Orcamento_Anual  \n",
       "0               79          0     Publica           2917          1910635  \n",
       "1               61          0     Publica           2917          1910635  \n",
       "2               60          0     Publica           2917          1910635  \n",
       "3               58          0     Publica           2917          1910635  \n",
       "4               84          0     Publica           2917          1910635  "
      ]
     },
     "execution_count": 25,
     "metadata": {},
     "output_type": "execute_result"
    }
   ],
   "source": [
    "full_data.head()"
   ]
  },
  {
   "cell_type": "code",
   "execution_count": 26,
   "metadata": {
    "colab": {
     "base_uri": "https://localhost:8080/"
    },
    "id": "u1GakeIGYv2W",
    "outputId": "a4baeee2-5ddf-4358-a2cc-53aa6166499c"
   },
   "outputs": [
    {
     "data": {
      "text/plain": [
       "array([6, 9, 8, 7], dtype=int64)"
      ]
     },
     "execution_count": 26,
     "metadata": {},
     "output_type": "execute_result"
    }
   ],
   "source": [
    "full_data[\"Serie\"].unique()"
   ]
  },
  {
   "cell_type": "code",
   "execution_count": 27,
   "metadata": {
    "colab": {
     "base_uri": "https://localhost:8080/"
    },
    "id": "UjkxXBNKYyci",
    "outputId": "134d37b1-5f95-436a-c651-38c4bfbec3ff"
   },
   "outputs": [
    {
     "data": {
      "text/plain": [
       "array(['M', 'F'], dtype=object)"
      ]
     },
     "execution_count": 27,
     "metadata": {},
     "output_type": "execute_result"
    }
   ],
   "source": [
    "full_data[\"Genero\"].unique()"
   ]
  },
  {
   "cell_type": "markdown",
   "metadata": {
    "id": "DM2OlzLeYzgT"
   },
   "source": [
    "#### Data Analysis Challenge\n"
   ]
  },
  {
   "cell_type": "markdown",
   "metadata": {
    "id": "eZUI4euVY4us"
   },
   "source": [
    "Answer the questions below."
   ]
  },
  {
   "cell_type": "markdown",
   "metadata": {
    "id": "nXc5E08tY9ts"
   },
   "source": [
    "> **1- How many have data schools?**"
   ]
  },
  {
   "cell_type": "code",
   "execution_count": 30,
   "metadata": {
    "id": "nfbCHGgMZ6yd"
   },
   "outputs": [
    {
     "data": {
      "text/plain": [
       "15"
      ]
     },
     "execution_count": 30,
     "metadata": {},
     "output_type": "execute_result"
    }
   ],
   "source": [
    "number_schools = full_data['Nome_Escola'].nunique()\n",
    "number_schools"
   ]
  },
  {
   "cell_type": "markdown",
   "metadata": {
    "id": "zVUIzCn6Y9qc"
   },
   "source": [
    "> **2- What is the total number of student records in the database?**"
   ]
  },
  {
   "cell_type": "code",
   "execution_count": 32,
   "metadata": {
    "colab": {
     "base_uri": "https://localhost:8080/"
    },
    "id": "x8ZVfNo_Z6DK",
    "outputId": "9e3e1e0c-570b-4eaa-b92f-4ee9fbd96cc6"
   },
   "outputs": [
    {
     "data": {
      "text/plain": [
       "39160"
      ]
     },
     "execution_count": 32,
     "metadata": {},
     "output_type": "execute_result"
    }
   ],
   "source": [
    "number_students = full_data['ID_Estudante'].count()\n",
    "number_students"
   ]
  },
  {
   "cell_type": "markdown",
   "metadata": {
    "id": "ZpXKUEI5Y9m7"
   },
   "source": [
    "> **3- What is the total budget considering all schools?**"
   ]
  },
  {
   "cell_type": "code",
   "execution_count": 33,
   "metadata": {
    "colab": {
     "base_uri": "https://localhost:8080/"
    },
    "id": "yM7IHtqcZzlG",
    "outputId": "88c66cfa-07e8-48aa-df21-188a23caa93c"
   },
   "outputs": [
    {
     "data": {
      "text/plain": [
       "24649428"
      ]
     },
     "execution_count": 33,
     "metadata": {},
     "output_type": "execute_result"
    }
   ],
   "source": [
    "sum_annual_budget = schools_data['Orcamento_Anual'].sum()\n",
    "sum_annual_budget"
   ]
  },
  {
   "cell_type": "markdown",
   "metadata": {
    "id": "QFdH5X24Y9iA"
   },
   "source": [
    "> **4- What is the average grade of students in Writing?**"
   ]
  },
  {
   "cell_type": "code",
   "execution_count": 34,
   "metadata": {
    "colab": {
     "base_uri": "https://localhost:8080/"
    },
    "id": "Whrs-AeDZ0jw",
    "outputId": "0b976f64-3207-4866-dca1-09547939cbdb"
   },
   "outputs": [
    {
     "data": {
      "text/plain": [
       "81.87574055158325"
      ]
     },
     "execution_count": 34,
     "metadata": {},
     "output_type": "execute_result"
    }
   ],
   "source": [
    "average_grade_essay = full_data['Nota_Redacao'].mean()\n",
    "average_grade_essay"
   ]
  },
  {
   "cell_type": "markdown",
   "metadata": {
    "id": "mldyEDnkY9FN"
   },
   "source": [
    "> **5- What is the average grade of students in Mathematics?**"
   ]
  },
  {
   "cell_type": "code",
   "execution_count": null,
   "metadata": {
    "colab": {
     "base_uri": "https://localhost:8080/"
    },
    "id": "uX-bS5NmhvLn",
    "outputId": "2f99606e-7fab-4a98-8c5f-e1594e3a5def"
   },
   "outputs": [
    {
     "data": {
      "text/plain": [
       "78.98493360572012"
      ]
     },
     "execution_count": 369,
     "metadata": {},
     "output_type": "execute_result"
    }
   ],
   "source": [
    "media_nota_matematica = dados_full['Nota_Matematica'].mean()\n",
    "media_nota_matematica"
   ]
  },
  {
   "cell_type": "markdown",
   "metadata": {
    "id": "DBPySjlnZLWu"
   },
   "source": [
    "> **6- Considering that the passing grade is 70, how many students passed Writing? (Deliver the result in absolute value and percentage)**"
   ]
  },
  {
   "cell_type": "code",
   "execution_count": null,
   "metadata": {
    "colab": {
     "base_uri": "https://localhost:8080/"
    },
    "id": "DUjU_YhTZ8er",
    "outputId": "d729fe1d-217d-444e-9c2f-571e2b8b9bb9"
   },
   "outputs": [
    {
     "data": {
      "text/plain": [
       "33600"
      ]
     },
     "execution_count": 372,
     "metadata": {},
     "output_type": "execute_result"
    }
   ],
   "source": [
    "alunos_aprovados_redacao = dados_full[dados_full['Nota_Redacao'] >= 70].shape[0]\n",
    "alunos_aprovados_redacao"
   ]
  },
  {
   "cell_type": "code",
   "execution_count": null,
   "metadata": {
    "colab": {
     "base_uri": "https://localhost:8080/"
    },
    "id": "O5q0B3zaZ89p",
    "outputId": "aba67c7b-d395-412a-9602-689abd0733c9"
   },
   "outputs": [
    {
     "data": {
      "text/plain": [
       "85.80183861082737"
      ]
     },
     "execution_count": 373,
     "metadata": {},
     "output_type": "execute_result"
    }
   ],
   "source": [
    "total_alunos = dados_full.shape[0]\n",
    "percentual_aprovados_redacao = (alunos_aprovados_redacao / total_alunos) * 100\n",
    "percentual_aprovados_redacao"
   ]
  },
  {
   "cell_type": "code",
   "execution_count": null,
   "metadata": {
    "colab": {
     "base_uri": "https://localhost:8080/"
    },
    "id": "i4-O2ep2ijaG",
    "outputId": "b8047e1d-59d6-430a-a125-bc57a4910d64"
   },
   "outputs": [
    {
     "name": "stdout",
     "output_type": "stream",
     "text": [
      "Quantidade de alunos aprovados em Redação: 33600\n",
      "Percentual de alunos aprovados em Redação: 85.80%\n"
     ]
    }
   ],
   "source": [
    "print(\"Quantidade de alunos aprovados em Redação:\", alunos_aprovados_redacao)\n",
    "print(\"Percentual de alunos aprovados em Redação: {:.2f}%\".format(percentual_aprovados_redacao))"
   ]
  },
  {
   "cell_type": "markdown",
   "metadata": {
    "id": "Wy6pwVkTZMdq"
   },
   "source": [
    "> **7- Considering that the passing score is 70, how many students passed Mathematics? (Deliver the result in absolute value and percentage)**"
   ]
  },
  {
   "cell_type": "code",
   "execution_count": null,
   "metadata": {
    "colab": {
     "base_uri": "https://localhost:8080/"
    },
    "id": "7uT_qwfvZ-jA",
    "outputId": "e1824fb4-fc1b-4717-cb55-81020e111e88"
   },
   "outputs": [
    {
     "data": {
      "text/plain": [
       "29360"
      ]
     },
     "execution_count": 377,
     "metadata": {},
     "output_type": "execute_result"
    }
   ],
   "source": [
    "alunos_aprovados_matematica = dados_full[dados_full['Nota_Matematica'] >= 70].shape[0]\n",
    "alunos_aprovados_matematica"
   ]
  },
  {
   "cell_type": "code",
   "execution_count": null,
   "metadata": {
    "colab": {
     "base_uri": "https://localhost:8080/"
    },
    "id": "YSGJ-ucGZ-uv",
    "outputId": "b81e88e7-a4c9-4a54-83bd-8fda32c9cbe0"
   },
   "outputs": [
    {
     "data": {
      "text/plain": [
       "74.97446373850867"
      ]
     },
     "execution_count": 378,
     "metadata": {},
     "output_type": "execute_result"
    }
   ],
   "source": [
    "percentual_aprovados_matematica = (alunos_aprovados_matematica / total_alunos) * 100\n",
    "percentual_aprovados_matematica"
   ]
  },
  {
   "cell_type": "code",
   "execution_count": null,
   "metadata": {
    "colab": {
     "base_uri": "https://localhost:8080/"
    },
    "id": "ZtUiWCeujLMo",
    "outputId": "a8245a4a-dade-464e-cb7b-569aa70c6336"
   },
   "outputs": [
    {
     "name": "stdout",
     "output_type": "stream",
     "text": [
      "Quantidade de alunos aprovados em Matemática: 29360\n",
      "Percentual de alunos aprovados em Matemática: 74.97%\n"
     ]
    }
   ],
   "source": [
    "print(\"Quantidade de alunos aprovados em Matemática:\", alunos_aprovados_matematica)\n",
    "print(\"Percentual de alunos aprovados em Matemática: {:.2f}%\".format(percentual_aprovados_matematica))"
   ]
  },
  {
   "cell_type": "markdown",
   "metadata": {
    "id": "8SKxu4lCZPGV"
   },
   "source": [
    "> **8- Considering that the passing score is 70, how many students passed Mathematics and Writing? (Deliver the result in absolute value and percentage)**"
   ]
  },
  {
   "cell_type": "code",
   "execution_count": null,
   "metadata": {
    "colab": {
     "base_uri": "https://localhost:8080/"
    },
    "id": "kSmAgmPaaADn",
    "outputId": "d0131f9e-fc16-4ffe-b563-fafc4ccc6bbd"
   },
   "outputs": [
    {
     "data": {
      "text/plain": [
       "25518"
      ]
     },
     "execution_count": 382,
     "metadata": {},
     "output_type": "execute_result"
    }
   ],
   "source": [
    "alunos_aprovados = dados_full[(dados_full['Nota_Matematica'] >= 70) & (dados_full['Nota_Redacao'] >= 70)].shape[0]\n",
    "alunos_aprovados"
   ]
  },
  {
   "cell_type": "code",
   "execution_count": null,
   "metadata": {
    "colab": {
     "base_uri": "https://localhost:8080/"
    },
    "id": "SBsTyT3BaA6w",
    "outputId": "8e5c7b35-407e-432d-a979-a1d5bbd49676"
   },
   "outputs": [
    {
     "data": {
      "text/plain": [
       "65.16343207354444"
      ]
     },
     "execution_count": 383,
     "metadata": {},
     "output_type": "execute_result"
    }
   ],
   "source": [
    "percentual_aprovados = (alunos_aprovados / total_alunos) * 100\n",
    "percentual_aprovados"
   ]
  },
  {
   "cell_type": "code",
   "execution_count": null,
   "metadata": {
    "colab": {
     "base_uri": "https://localhost:8080/"
    },
    "id": "fXEDgC0gjsOE",
    "outputId": "1fbc004b-de89-49d1-98c7-f8938af8d92a"
   },
   "outputs": [
    {
     "name": "stdout",
     "output_type": "stream",
     "text": [
      "Quantidade de alunos aprovados em Matemática e Redação: 25518\n",
      "Percentual de alunos aprovados em Matemática e Redação: 65.16%\n"
     ]
    }
   ],
   "source": [
    "print(\"Quantidade de alunos aprovados em Matemática e Redação:\", alunos_aprovados)\n",
    "print(\"Percentual de alunos aprovados em Matemática e Redação: {:.2f}%\".format(percentual_aprovados))"
   ]
  },
  {
   "cell_type": "markdown",
   "metadata": {
    "id": "vbfgDg3RZTqS"
   },
   "source": [
    "> **9- Create a dataframe with the results of questions 1 to 8 that you calculated above. (Tip: create a dictionary and then convert it to a Pandas dataframe)**"
   ]
  },
  {
   "cell_type": "code",
   "execution_count": null,
   "metadata": {
    "colab": {
     "base_uri": "https://localhost:8080/",
     "height": 150
    },
    "id": "uhs0x92paCod",
    "outputId": "adb153ad-d185-4e36-e641-641b9cca4c06"
   },
   "outputs": [
    {
     "data": {
      "application/vnd.google.colaboratory.intrinsic+json": {
       "repr_error": "cannot convert float NaN to integer",
       "type": "dataframe",
       "variable_name": "resultados"
      },
      "text/html": [
       "\n",
       "  <div id=\"df-43ab9406-1ec1-42db-8e1f-dc15156e77de\" class=\"colab-df-container\">\n",
       "    <div>\n",
       "<style scoped>\n",
       "    .dataframe tbody tr th:only-of-type {\n",
       "        vertical-align: middle;\n",
       "    }\n",
       "\n",
       "    .dataframe tbody tr th {\n",
       "        vertical-align: top;\n",
       "    }\n",
       "\n",
       "    .dataframe thead th {\n",
       "        text-align: right;\n",
       "    }\n",
       "</style>\n",
       "<table border=\"1\" class=\"dataframe\">\n",
       "  <thead>\n",
       "    <tr style=\"text-align: right;\">\n",
       "      <th></th>\n",
       "      <th>Quantidade de Escolas</th>\n",
       "      <th>Quantidade de Alunos</th>\n",
       "      <th>Orçamento Anual Total das Escolas</th>\n",
       "      <th>Média da Nota em Redação</th>\n",
       "      <th>Média da Nota em Matemática</th>\n",
       "      <th>Quantidade de alunos aprovados em Redação (valor absoluto)</th>\n",
       "      <th>Quantidade de alunos aprovados em Redação (valor percentual)</th>\n",
       "      <th>Quantidade de alunos aprovados em Matemática (valor absoluto)</th>\n",
       "      <th>Quantidade de alunos aprovados em Matemática (valor percentual)</th>\n",
       "      <th>Quantidade de alunos aprovados em Matemática e Redação (valor absoluto)</th>\n",
       "      <th>Quantidade de alunos aprovados em Matemática e Redação (valor percentual)</th>\n",
       "    </tr>\n",
       "  </thead>\n",
       "  <tbody>\n",
       "    <tr>\n",
       "      <th>0</th>\n",
       "      <td>15</td>\n",
       "      <td>39160</td>\n",
       "      <td>24649428</td>\n",
       "      <td>81.88</td>\n",
       "      <td>78.98</td>\n",
       "      <td>33600</td>\n",
       "      <td>85.80</td>\n",
       "      <td>29360</td>\n",
       "      <td>74.97</td>\n",
       "      <td>25518</td>\n",
       "      <td>65.16</td>\n",
       "    </tr>\n",
       "  </tbody>\n",
       "</table>\n",
       "</div>\n",
       "    <div class=\"colab-df-buttons\">\n",
       "\n",
       "  <div class=\"colab-df-container\">\n",
       "    <button class=\"colab-df-convert\" onclick=\"convertToInteractive('df-43ab9406-1ec1-42db-8e1f-dc15156e77de')\"\n",
       "            title=\"Convert this dataframe to an interactive table.\"\n",
       "            style=\"display:none;\">\n",
       "\n",
       "  <svg xmlns=\"http://www.w3.org/2000/svg\" height=\"24px\" viewBox=\"0 -960 960 960\">\n",
       "    <path d=\"M120-120v-720h720v720H120Zm60-500h600v-160H180v160Zm220 220h160v-160H400v160Zm0 220h160v-160H400v160ZM180-400h160v-160H180v160Zm440 0h160v-160H620v160ZM180-180h160v-160H180v160Zm440 0h160v-160H620v160Z\"/>\n",
       "  </svg>\n",
       "    </button>\n",
       "\n",
       "  <style>\n",
       "    .colab-df-container {\n",
       "      display:flex;\n",
       "      gap: 12px;\n",
       "    }\n",
       "\n",
       "    .colab-df-convert {\n",
       "      background-color: #E8F0FE;\n",
       "      border: none;\n",
       "      border-radius: 50%;\n",
       "      cursor: pointer;\n",
       "      display: none;\n",
       "      fill: #1967D2;\n",
       "      height: 32px;\n",
       "      padding: 0 0 0 0;\n",
       "      width: 32px;\n",
       "    }\n",
       "\n",
       "    .colab-df-convert:hover {\n",
       "      background-color: #E2EBFA;\n",
       "      box-shadow: 0px 1px 2px rgba(60, 64, 67, 0.3), 0px 1px 3px 1px rgba(60, 64, 67, 0.15);\n",
       "      fill: #174EA6;\n",
       "    }\n",
       "\n",
       "    .colab-df-buttons div {\n",
       "      margin-bottom: 4px;\n",
       "    }\n",
       "\n",
       "    [theme=dark] .colab-df-convert {\n",
       "      background-color: #3B4455;\n",
       "      fill: #D2E3FC;\n",
       "    }\n",
       "\n",
       "    [theme=dark] .colab-df-convert:hover {\n",
       "      background-color: #434B5C;\n",
       "      box-shadow: 0px 1px 3px 1px rgba(0, 0, 0, 0.15);\n",
       "      filter: drop-shadow(0px 1px 2px rgba(0, 0, 0, 0.3));\n",
       "      fill: #FFFFFF;\n",
       "    }\n",
       "  </style>\n",
       "\n",
       "    <script>\n",
       "      const buttonEl =\n",
       "        document.querySelector('#df-43ab9406-1ec1-42db-8e1f-dc15156e77de button.colab-df-convert');\n",
       "      buttonEl.style.display =\n",
       "        google.colab.kernel.accessAllowed ? 'block' : 'none';\n",
       "\n",
       "      async function convertToInteractive(key) {\n",
       "        const element = document.querySelector('#df-43ab9406-1ec1-42db-8e1f-dc15156e77de');\n",
       "        const dataTable =\n",
       "          await google.colab.kernel.invokeFunction('convertToInteractive',\n",
       "                                                    [key], {});\n",
       "        if (!dataTable) return;\n",
       "\n",
       "        const docLinkHtml = 'Like what you see? Visit the ' +\n",
       "          '<a target=\"_blank\" href=https://colab.research.google.com/notebooks/data_table.ipynb>data table notebook</a>'\n",
       "          + ' to learn more about interactive tables.';\n",
       "        element.innerHTML = '';\n",
       "        dataTable['output_type'] = 'display_data';\n",
       "        await google.colab.output.renderOutput(dataTable, element);\n",
       "        const docLink = document.createElement('div');\n",
       "        docLink.innerHTML = docLinkHtml;\n",
       "        element.appendChild(docLink);\n",
       "      }\n",
       "    </script>\n",
       "  </div>\n",
       "\n",
       "\n",
       "  <div id=\"id_ee7402e4-0cab-4b69-b4ce-fbf9fee7314a\">\n",
       "    <style>\n",
       "      .colab-df-generate {\n",
       "        background-color: #E8F0FE;\n",
       "        border: none;\n",
       "        border-radius: 50%;\n",
       "        cursor: pointer;\n",
       "        display: none;\n",
       "        fill: #1967D2;\n",
       "        height: 32px;\n",
       "        padding: 0 0 0 0;\n",
       "        width: 32px;\n",
       "      }\n",
       "\n",
       "      .colab-df-generate:hover {\n",
       "        background-color: #E2EBFA;\n",
       "        box-shadow: 0px 1px 2px rgba(60, 64, 67, 0.3), 0px 1px 3px 1px rgba(60, 64, 67, 0.15);\n",
       "        fill: #174EA6;\n",
       "      }\n",
       "\n",
       "      [theme=dark] .colab-df-generate {\n",
       "        background-color: #3B4455;\n",
       "        fill: #D2E3FC;\n",
       "      }\n",
       "\n",
       "      [theme=dark] .colab-df-generate:hover {\n",
       "        background-color: #434B5C;\n",
       "        box-shadow: 0px 1px 3px 1px rgba(0, 0, 0, 0.15);\n",
       "        filter: drop-shadow(0px 1px 2px rgba(0, 0, 0, 0.3));\n",
       "        fill: #FFFFFF;\n",
       "      }\n",
       "    </style>\n",
       "    <button class=\"colab-df-generate\" onclick=\"generateWithVariable('resultados')\"\n",
       "            title=\"Generate code using this dataframe.\"\n",
       "            style=\"display:none;\">\n",
       "\n",
       "  <svg xmlns=\"http://www.w3.org/2000/svg\" height=\"24px\"viewBox=\"0 0 24 24\"\n",
       "       width=\"24px\">\n",
       "    <path d=\"M7,19H8.4L18.45,9,17,7.55,7,17.6ZM5,21V16.75L18.45,3.32a2,2,0,0,1,2.83,0l1.4,1.43a1.91,1.91,0,0,1,.58,1.4,1.91,1.91,0,0,1-.58,1.4L9.25,21ZM18.45,9,17,7.55Zm-12,3A5.31,5.31,0,0,0,4.9,8.1,5.31,5.31,0,0,0,1,6.5,5.31,5.31,0,0,0,4.9,4.9,5.31,5.31,0,0,0,6.5,1,5.31,5.31,0,0,0,8.1,4.9,5.31,5.31,0,0,0,12,6.5,5.46,5.46,0,0,0,6.5,12Z\"/>\n",
       "  </svg>\n",
       "    </button>\n",
       "    <script>\n",
       "      (() => {\n",
       "      const buttonEl =\n",
       "        document.querySelector('#id_ee7402e4-0cab-4b69-b4ce-fbf9fee7314a button.colab-df-generate');\n",
       "      buttonEl.style.display =\n",
       "        google.colab.kernel.accessAllowed ? 'block' : 'none';\n",
       "\n",
       "      buttonEl.onclick = () => {\n",
       "        google.colab.notebook.generateWithVariable('resultados');\n",
       "      }\n",
       "      })();\n",
       "    </script>\n",
       "  </div>\n",
       "\n",
       "    </div>\n",
       "  </div>\n"
      ],
      "text/plain": [
       "   Quantidade de Escolas  Quantidade de Alunos  \\\n",
       "0                     15                 39160   \n",
       "\n",
       "   Orçamento Anual Total das Escolas  Média da Nota em Redação  \\\n",
       "0                           24649428                     81.88   \n",
       "\n",
       "   Média da Nota em Matemática  \\\n",
       "0                        78.98   \n",
       "\n",
       "   Quantidade de alunos aprovados em Redação (valor absoluto)  \\\n",
       "0                                              33600            \n",
       "\n",
       "   Quantidade de alunos aprovados em Redação (valor percentual)  \\\n",
       "0                                              85.80              \n",
       "\n",
       "   Quantidade de alunos aprovados em Matemática (valor absoluto)  \\\n",
       "0                                              29360               \n",
       "\n",
       "   Quantidade de alunos aprovados em Matemática (valor percentual)  \\\n",
       "0                                              74.97                 \n",
       "\n",
       "   Quantidade de alunos aprovados em Matemática e Redação (valor absoluto)  \\\n",
       "0                                              25518                         \n",
       "\n",
       "   Quantidade de alunos aprovados em Matemática e Redação (valor percentual)  \n",
       "0                                              65.16                          "
      ]
     },
     "execution_count": 387,
     "metadata": {},
     "output_type": "execute_result"
    }
   ],
   "source": [
    "resultados = pd.DataFrame ({\"Quantidade de Escolas\": [numero_de_escolas],\n",
    "                            \"Quantidade de Alunos\": [numero_de_estudantes],\n",
    "                            \"Orçamento Anual Total das Escolas\":[soma_orcamento_anual],\n",
    "                            \"Média da Nota em Redação\":[media_nota_redacao],\n",
    "                            \"Média da Nota em Matemática\":[media_nota_matematica],\n",
    "                            \"Quantidade de alunos aprovados em Redação (valor absoluto)\":[alunos_aprovados_redacao],\n",
    "                            \"Quantidade de alunos aprovados em Redação (valor percentual)\":[percentual_aprovados_redacao],\n",
    "                            \"Quantidade de alunos aprovados em Matemática (valor absoluto)\":[alunos_aprovados_matematica],\n",
    "                            \"Quantidade de alunos aprovados em Matemática (valor percentual)\":[percentual_aprovados_matematica],\n",
    "                            \"Quantidade de alunos aprovados em Matemática e Redação (valor absoluto)\":[alunos_aprovados],\n",
    "                            \"Quantidade de alunos aprovados em Matemática e Redação (valor percentual)\":[percentual_aprovados],})\n",
    "\n",
    "resultados"
   ]
  },
  {
   "cell_type": "markdown",
   "metadata": {
    "id": "shDUyzuMZWAi"
   },
   "source": [
    "> **10- Format the \"Total Students\" and \"Total Budget\" columns by adjusting the decimal places.**"
   ]
  },
  {
   "cell_type": "code",
   "execution_count": null,
   "metadata": {
    "colab": {
     "base_uri": "https://localhost:8080/",
     "height": 150
    },
    "id": "5UUc-kT1aFRJ",
    "outputId": "ea27eb4a-1753-4ee7-f203-77ad8ac00463"
   },
   "outputs": [
    {
     "data": {
      "application/vnd.google.colaboratory.intrinsic+json": {
       "repr_error": "cannot convert float NaN to integer",
       "type": "dataframe",
       "variable_name": "resultados"
      },
      "text/html": [
       "\n",
       "  <div id=\"df-a33bb457-61e2-40e8-9f09-429523ad1f45\" class=\"colab-df-container\">\n",
       "    <div>\n",
       "<style scoped>\n",
       "    .dataframe tbody tr th:only-of-type {\n",
       "        vertical-align: middle;\n",
       "    }\n",
       "\n",
       "    .dataframe tbody tr th {\n",
       "        vertical-align: top;\n",
       "    }\n",
       "\n",
       "    .dataframe thead th {\n",
       "        text-align: right;\n",
       "    }\n",
       "</style>\n",
       "<table border=\"1\" class=\"dataframe\">\n",
       "  <thead>\n",
       "    <tr style=\"text-align: right;\">\n",
       "      <th></th>\n",
       "      <th>Quantidade de Escolas</th>\n",
       "      <th>Quantidade de Alunos</th>\n",
       "      <th>Orçamento Anual Total das Escolas</th>\n",
       "      <th>Média da Nota em Redação</th>\n",
       "      <th>Média da Nota em Matemática</th>\n",
       "      <th>Quantidade de alunos aprovados em Redação (valor absoluto)</th>\n",
       "      <th>Quantidade de alunos aprovados em Redação (valor percentual)</th>\n",
       "      <th>Quantidade de alunos aprovados em Matemática (valor absoluto)</th>\n",
       "      <th>Quantidade de alunos aprovados em Matemática (valor percentual)</th>\n",
       "      <th>Quantidade de alunos aprovados em Matemática e Redação (valor absoluto)</th>\n",
       "      <th>Quantidade de alunos aprovados em Matemática e Redação (valor percentual)</th>\n",
       "    </tr>\n",
       "  </thead>\n",
       "  <tbody>\n",
       "    <tr>\n",
       "      <th>0</th>\n",
       "      <td>15</td>\n",
       "      <td>39160.00</td>\n",
       "      <td>24649428.00</td>\n",
       "      <td>81.88</td>\n",
       "      <td>78.98</td>\n",
       "      <td>33600</td>\n",
       "      <td>85.80</td>\n",
       "      <td>29360</td>\n",
       "      <td>74.97</td>\n",
       "      <td>25518</td>\n",
       "      <td>65.16</td>\n",
       "    </tr>\n",
       "  </tbody>\n",
       "</table>\n",
       "</div>\n",
       "    <div class=\"colab-df-buttons\">\n",
       "\n",
       "  <div class=\"colab-df-container\">\n",
       "    <button class=\"colab-df-convert\" onclick=\"convertToInteractive('df-a33bb457-61e2-40e8-9f09-429523ad1f45')\"\n",
       "            title=\"Convert this dataframe to an interactive table.\"\n",
       "            style=\"display:none;\">\n",
       "\n",
       "  <svg xmlns=\"http://www.w3.org/2000/svg\" height=\"24px\" viewBox=\"0 -960 960 960\">\n",
       "    <path d=\"M120-120v-720h720v720H120Zm60-500h600v-160H180v160Zm220 220h160v-160H400v160Zm0 220h160v-160H400v160ZM180-400h160v-160H180v160Zm440 0h160v-160H620v160ZM180-180h160v-160H180v160Zm440 0h160v-160H620v160Z\"/>\n",
       "  </svg>\n",
       "    </button>\n",
       "\n",
       "  <style>\n",
       "    .colab-df-container {\n",
       "      display:flex;\n",
       "      gap: 12px;\n",
       "    }\n",
       "\n",
       "    .colab-df-convert {\n",
       "      background-color: #E8F0FE;\n",
       "      border: none;\n",
       "      border-radius: 50%;\n",
       "      cursor: pointer;\n",
       "      display: none;\n",
       "      fill: #1967D2;\n",
       "      height: 32px;\n",
       "      padding: 0 0 0 0;\n",
       "      width: 32px;\n",
       "    }\n",
       "\n",
       "    .colab-df-convert:hover {\n",
       "      background-color: #E2EBFA;\n",
       "      box-shadow: 0px 1px 2px rgba(60, 64, 67, 0.3), 0px 1px 3px 1px rgba(60, 64, 67, 0.15);\n",
       "      fill: #174EA6;\n",
       "    }\n",
       "\n",
       "    .colab-df-buttons div {\n",
       "      margin-bottom: 4px;\n",
       "    }\n",
       "\n",
       "    [theme=dark] .colab-df-convert {\n",
       "      background-color: #3B4455;\n",
       "      fill: #D2E3FC;\n",
       "    }\n",
       "\n",
       "    [theme=dark] .colab-df-convert:hover {\n",
       "      background-color: #434B5C;\n",
       "      box-shadow: 0px 1px 3px 1px rgba(0, 0, 0, 0.15);\n",
       "      filter: drop-shadow(0px 1px 2px rgba(0, 0, 0, 0.3));\n",
       "      fill: #FFFFFF;\n",
       "    }\n",
       "  </style>\n",
       "\n",
       "    <script>\n",
       "      const buttonEl =\n",
       "        document.querySelector('#df-a33bb457-61e2-40e8-9f09-429523ad1f45 button.colab-df-convert');\n",
       "      buttonEl.style.display =\n",
       "        google.colab.kernel.accessAllowed ? 'block' : 'none';\n",
       "\n",
       "      async function convertToInteractive(key) {\n",
       "        const element = document.querySelector('#df-a33bb457-61e2-40e8-9f09-429523ad1f45');\n",
       "        const dataTable =\n",
       "          await google.colab.kernel.invokeFunction('convertToInteractive',\n",
       "                                                    [key], {});\n",
       "        if (!dataTable) return;\n",
       "\n",
       "        const docLinkHtml = 'Like what you see? Visit the ' +\n",
       "          '<a target=\"_blank\" href=https://colab.research.google.com/notebooks/data_table.ipynb>data table notebook</a>'\n",
       "          + ' to learn more about interactive tables.';\n",
       "        element.innerHTML = '';\n",
       "        dataTable['output_type'] = 'display_data';\n",
       "        await google.colab.output.renderOutput(dataTable, element);\n",
       "        const docLink = document.createElement('div');\n",
       "        docLink.innerHTML = docLinkHtml;\n",
       "        element.appendChild(docLink);\n",
       "      }\n",
       "    </script>\n",
       "  </div>\n",
       "\n",
       "\n",
       "  <div id=\"id_6b24cc5a-bcd0-4ddf-b2f1-629d9cc73a41\">\n",
       "    <style>\n",
       "      .colab-df-generate {\n",
       "        background-color: #E8F0FE;\n",
       "        border: none;\n",
       "        border-radius: 50%;\n",
       "        cursor: pointer;\n",
       "        display: none;\n",
       "        fill: #1967D2;\n",
       "        height: 32px;\n",
       "        padding: 0 0 0 0;\n",
       "        width: 32px;\n",
       "      }\n",
       "\n",
       "      .colab-df-generate:hover {\n",
       "        background-color: #E2EBFA;\n",
       "        box-shadow: 0px 1px 2px rgba(60, 64, 67, 0.3), 0px 1px 3px 1px rgba(60, 64, 67, 0.15);\n",
       "        fill: #174EA6;\n",
       "      }\n",
       "\n",
       "      [theme=dark] .colab-df-generate {\n",
       "        background-color: #3B4455;\n",
       "        fill: #D2E3FC;\n",
       "      }\n",
       "\n",
       "      [theme=dark] .colab-df-generate:hover {\n",
       "        background-color: #434B5C;\n",
       "        box-shadow: 0px 1px 3px 1px rgba(0, 0, 0, 0.15);\n",
       "        filter: drop-shadow(0px 1px 2px rgba(0, 0, 0, 0.3));\n",
       "        fill: #FFFFFF;\n",
       "      }\n",
       "    </style>\n",
       "    <button class=\"colab-df-generate\" onclick=\"generateWithVariable('resultados')\"\n",
       "            title=\"Generate code using this dataframe.\"\n",
       "            style=\"display:none;\">\n",
       "\n",
       "  <svg xmlns=\"http://www.w3.org/2000/svg\" height=\"24px\"viewBox=\"0 0 24 24\"\n",
       "       width=\"24px\">\n",
       "    <path d=\"M7,19H8.4L18.45,9,17,7.55,7,17.6ZM5,21V16.75L18.45,3.32a2,2,0,0,1,2.83,0l1.4,1.43a1.91,1.91,0,0,1,.58,1.4,1.91,1.91,0,0,1-.58,1.4L9.25,21ZM18.45,9,17,7.55Zm-12,3A5.31,5.31,0,0,0,4.9,8.1,5.31,5.31,0,0,0,1,6.5,5.31,5.31,0,0,0,4.9,4.9,5.31,5.31,0,0,0,6.5,1,5.31,5.31,0,0,0,8.1,4.9,5.31,5.31,0,0,0,12,6.5,5.46,5.46,0,0,0,6.5,12Z\"/>\n",
       "  </svg>\n",
       "    </button>\n",
       "    <script>\n",
       "      (() => {\n",
       "      const buttonEl =\n",
       "        document.querySelector('#id_6b24cc5a-bcd0-4ddf-b2f1-629d9cc73a41 button.colab-df-generate');\n",
       "      buttonEl.style.display =\n",
       "        google.colab.kernel.accessAllowed ? 'block' : 'none';\n",
       "\n",
       "      buttonEl.onclick = () => {\n",
       "        google.colab.notebook.generateWithVariable('resultados');\n",
       "      }\n",
       "      })();\n",
       "    </script>\n",
       "  </div>\n",
       "\n",
       "    </div>\n",
       "  </div>\n"
      ],
      "text/plain": [
       "   Quantidade de Escolas Quantidade de Alunos  \\\n",
       "0                     15             39160.00   \n",
       "\n",
       "  Orçamento Anual Total das Escolas  Média da Nota em Redação  \\\n",
       "0                       24649428.00                     81.88   \n",
       "\n",
       "   Média da Nota em Matemática  \\\n",
       "0                        78.98   \n",
       "\n",
       "   Quantidade de alunos aprovados em Redação (valor absoluto)  \\\n",
       "0                                              33600            \n",
       "\n",
       "   Quantidade de alunos aprovados em Redação (valor percentual)  \\\n",
       "0                                              85.80              \n",
       "\n",
       "   Quantidade de alunos aprovados em Matemática (valor absoluto)  \\\n",
       "0                                              29360               \n",
       "\n",
       "   Quantidade de alunos aprovados em Matemática (valor percentual)  \\\n",
       "0                                              74.97                 \n",
       "\n",
       "   Quantidade de alunos aprovados em Matemática e Redação (valor absoluto)  \\\n",
       "0                                              25518                         \n",
       "\n",
       "   Quantidade de alunos aprovados em Matemática e Redação (valor percentual)  \n",
       "0                                              65.16                          "
      ]
     },
     "execution_count": 391,
     "metadata": {},
     "output_type": "execute_result"
    }
   ],
   "source": [
    "resultados = pd.DataFrame({\n",
    "    \"Quantidade de Escolas\": [numero_de_escolas],\n",
    "    \"Quantidade de Alunos\": [\"{:.2f}\".format(numero_de_estudantes)],\n",
    "    \"Orçamento Anual Total das Escolas\": [\"{:.2f}\".format(soma_orcamento_anual)],\n",
    "    \"Média da Nota em Redação\": [media_nota_redacao],\n",
    "    \"Média da Nota em Matemática\": [media_nota_matematica],\n",
    "    \"Quantidade de alunos aprovados em Redação (valor absoluto)\": [alunos_aprovados_redacao],\n",
    "    \"Quantidade de alunos aprovados em Redação (valor percentual)\": [percentual_aprovados_redacao],\n",
    "    \"Quantidade de alunos aprovados em Matemática (valor absoluto)\": [alunos_aprovados_matematica],\n",
    "    \"Quantidade de alunos aprovados em Matemática (valor percentual)\": [percentual_aprovados_matematica],\n",
    "    \"Quantidade de alunos aprovados em Matemática e Redação (valor absoluto)\": [alunos_aprovados],\n",
    "    \"Quantidade de alunos aprovados em Matemática e Redação (valor percentual)\": [percentual_aprovados],\n",
    "})\n",
    "\n",
    "resultados"
   ]
  }
 ],
 "metadata": {
  "colab": {
   "provenance": []
  },
  "kernelspec": {
   "display_name": "Python 3 (ipykernel)",
   "language": "python",
   "name": "python3"
  },
  "language_info": {
   "codemirror_mode": {
    "name": "ipython",
    "version": 3
   },
   "file_extension": ".py",
   "mimetype": "text/x-python",
   "name": "python",
   "nbconvert_exporter": "python",
   "pygments_lexer": "ipython3",
   "version": "3.11.5"
  }
 },
 "nbformat": 4,
 "nbformat_minor": 1
}
